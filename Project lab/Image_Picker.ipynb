{
 "cells": [
  {
   "cell_type": "code",
   "execution_count": 6,
   "metadata": {},
   "outputs": [],
   "source": [
    "import csv\n",
    "import os\n",
    "import shutil\n",
    "\n",
    "# Paths to your CSV and image directories\n",
    "csv_path = 'Data/combined_test_New.csv'\n",
    "image_dir = 'Data/Images_Raw'\n",
    "output_dir = 'Data/Raw_Folder'\n",
    "\n",
    "# Ensure the output directory exists\n",
    "if not os.path.exists(output_dir):\n",
    "    os.makedirs(output_dir)\n",
    "\n",
    "# Read the CSV file to get the list of filenames\n",
    "image_filenames = set()\n",
    "with open(csv_path, 'r') as csv_file:\n",
    "    csv_reader = csv.reader(csv_file)\n",
    "    next(csv_reader, None)  # Skip the header\n",
    "    for row in csv_reader:\n",
    "        image_filenames.add(row[0])  #Filenames are in the first column\n",
    "\n",
    "# Go through the image directory\n",
    "for image_name in os.listdir(image_dir):\n",
    "    if image_name in image_filenames:\n",
    "        source_path = os.path.join(image_dir, image_name)\n",
    "        destination_path = os.path.join(output_dir, image_name)\n",
    "        \n",
    "        # Move the image (use shutil.copy instead if you want to copy)\n",
    "        shutil.move(source_path, destination_path)\n"
   ]
  }
 ],
 "metadata": {
  "kernelspec": {
   "display_name": "base",
   "language": "python",
   "name": "python3"
  },
  "language_info": {
   "codemirror_mode": {
    "name": "ipython",
    "version": 3
   },
   "file_extension": ".py",
   "mimetype": "text/x-python",
   "name": "python",
   "nbconvert_exporter": "python",
   "pygments_lexer": "ipython3",
   "version": "3.10.9"
  }
 },
 "nbformat": 4,
 "nbformat_minor": 2
}
