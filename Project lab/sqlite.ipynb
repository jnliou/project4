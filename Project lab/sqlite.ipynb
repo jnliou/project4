{
 "cells": [
  {
   "cell_type": "code",
   "execution_count": null,
   "metadata": {},
   "outputs": [],
   "source": [
    "# Import necessary libraries\n",
    "import csv\n",
    "from sqlalchemy import create_engine, Column, Integer, String, Date\n",
    "from sqlalchemy.orm import sessionmaker\n",
    "from sqlalchemy.ext.declarative import declarative_base\n",
    "from datetime import datetime"
   ]
  },
  {
   "cell_type": "code",
   "execution_count": null,
   "metadata": {},
   "outputs": [],
   "source": [
    "# Define a base class for the SQLAlchemy model\n",
    "Base = declarative_base()"
   ]
  },
  {
   "cell_type": "code",
   "execution_count": null,
   "metadata": {},
   "outputs": [],
   "source": [
    "# Define the structure of the tables\n",
    "class Predictions(Base):\n",
    "    __tablename__ = 'combined_test_New'  \n",
    "\n",
    "    # Define columns for the table\n",
    "    ImageFileName = Column(String, primary_key=True)\n",
    "    Target = Column(Integer)\n",
    "    Predictions = Column(Integer)"
   ]
  },
  {
   "cell_type": "code",
   "execution_count": null,
   "metadata": {},
   "outputs": [],
   "source": [
    "# # Define the structure of the tables\n",
    "# class InfectedData(Base):\n",
    "#     __tablename__ = 'Infected_Test_ML_New'  \n",
    "\n",
    "#     # Define columns for the table\n",
    "#     Id = Column(Integer, primary_key=True)\n",
    "#     ImageFileName = Column(String)\n",
    "#     Target = Column(Integer)\n",
    "#     Predictions = Column(Integer)"
   ]
  },
  {
   "cell_type": "code",
   "execution_count": null,
   "metadata": {},
   "outputs": [],
   "source": [
    "# # Define the structure of the tables\n",
    "# class UninfectedData(Base):\n",
    "#     __tablename__ = 'Uninfected_Test_ML_New'  \n",
    "\n",
    "#     # Define columns for the table\n",
    "#     Id = Column(Integer, primary_key=True)\n",
    "#     ImageFileName = Column(String)\n",
    "#     Target = Column(Integer)\n",
    "#     Predictions = Column(Integer)"
   ]
  },
  {
   "cell_type": "code",
   "execution_count": null,
   "metadata": {},
   "outputs": [],
   "source": [
    "# SQLite database path for the Infected data\n",
    "db_path = 'sqlite:///predictions.db'\n",
    "engine = create_engine(db_path)"
   ]
  },
  {
   "cell_type": "code",
   "execution_count": null,
   "metadata": {},
   "outputs": [],
   "source": [
    "# Create the tables in the Infected database\n",
    "Base.metadata.create_all(engine)"
   ]
  },
  {
   "cell_type": "code",
   "execution_count": null,
   "metadata": {},
   "outputs": [],
   "source": [
    "# Create a session for the database\n",
    "Session = sessionmaker(bind=engine)\n",
    "session = Session()"
   ]
  },
  {
   "cell_type": "code",
   "execution_count": null,
   "metadata": {},
   "outputs": [],
   "source": [
    "# Upload data from 'Combined_test_post_ML_New.csv'\n",
    "with open('Data/combined_test_New.csv', 'r') as file:\n",
    "    csv_reader = csv.DictReader(file)\n",
    "    for row in csv_reader:\n",
    "        data = Predictions(\n",
    "            ImageFileName=row['ImageFileName'],\n",
    "            Target=int(row['Target']),\n",
    "            Predictions=int(row['Predictions'])\n",
    "        )\n",
    "        session.add(data)"
   ]
  },
  {
   "cell_type": "code",
   "execution_count": null,
   "metadata": {},
   "outputs": [],
   "source": [
    "# # Upload data from 'Uninfected_test_post_ML_New.csv'\n",
    "# with open('Data/Uninfected_test_post_ML_New.csv', 'r') as file:\n",
    "#     csv_reader = csv.DictReader(file)\n",
    "#     for row in csv_reader:\n",
    "#         data = UninfectedData(\n",
    "#             ImageFileName=row['ImageFileName'],\n",
    "#             Target=int(row['Target']),\n",
    "#             Predictions=int(row['Predictions'])\n",
    "#         )\n",
    "#         session.add(data)"
   ]
  },
  {
   "cell_type": "code",
   "execution_count": null,
   "metadata": {},
   "outputs": [],
   "source": [
    "# Commit the changes to the database\n",
    "session.commit()"
   ]
  },
  {
   "cell_type": "code",
   "execution_count": null,
   "metadata": {},
   "outputs": [],
   "source": [
    "# Close the session\n",
    "session.close()\n"
   ]
  }
 ],
 "metadata": {
  "kernelspec": {
   "display_name": "dev",
   "language": "python",
   "name": "python3"
  },
  "language_info": {
   "codemirror_mode": {
    "name": "ipython",
    "version": 3
   },
   "file_extension": ".py",
   "mimetype": "text/x-python",
   "name": "python",
   "nbconvert_exporter": "python",
   "pygments_lexer": "ipython3",
   "version": "3.10.9"
  }
 },
 "nbformat": 4,
 "nbformat_minor": 2
}
