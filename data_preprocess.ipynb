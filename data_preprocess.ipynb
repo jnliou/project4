{
 "cells": [
  {
   "cell_type": "markdown",
   "metadata": {},
   "source": [
    "### Reducing the data from 27563 photos to 5000 photos for the uninfected (from malaria) photos and parasitized photos. Each factor should have 2500 photos. Then processing the photos to  25x25 pixels and split into training folder (70%) and test folder (30%)"
   ]
  },
  {
   "cell_type": "markdown",
   "metadata": {},
   "source": [
    "### Uninfected with Malaria Photos - Processed"
   ]
  },
  {
   "cell_type": "code",
   "execution_count": 1,
   "metadata": {},
   "outputs": [
    {
     "name": "stdout",
     "output_type": "stream",
     "text": [
      "Resizing and distribution complete with 1750 images in the training folder and 750 images in the test folder.\n"
     ]
    }
   ],
   "source": [
    "from PIL import Image\n",
    "import os\n",
    "\n",
    "# Input and output folder paths\n",
    "input_folder = \"Dataset\\\\cell_images\\\\Uninfected\"\n",
    "output_folder = \"Dataset\\\\clean\"\n",
    "\n",
    "# Create the output folder if it doesn't exist\n",
    "os.makedirs(output_folder, exist_ok=True)\n",
    "\n",
    "# Create subfolders for training and testing\n",
    "train_folder = os.path.join(output_folder, \"train\", \"uninfected_processed\")\n",
    "test_folder = os.path.join(output_folder, \"test\", \"uninfected_processed\")\n",
    "\n",
    "os.makedirs(train_folder, exist_ok=True)\n",
    "os.makedirs(test_folder, exist_ok=True)\n",
    "\n",
    "# List all files in the input folder\n",
    "files = os.listdir(input_folder)\n",
    "\n",
    "# Calculate the number of images for training and testing\n",
    "num_train = 1750\n",
    "num_test = 750\n",
    "\n",
    "# Initialize counters for processed images in training and testing sets\n",
    "processed_train_images = 0\n",
    "processed_test_images = 0\n",
    "\n",
    "# Loop through each file in the input folder\n",
    "for file in files:\n",
    "    # Check if the file is an image \n",
    "    if file.endswith((\".png\")):\n",
    "        # Open the image\n",
    "        image_path = os.path.join(input_folder, file)\n",
    "        image = Image.open(image_path)\n",
    "\n",
    "        # Resize the image to 25x25 pixels\n",
    "        new_size = (25, 25)\n",
    "        resized_image = image.resize(new_size)\n",
    "\n",
    "        # Determine whether to save in the training or testing folder\n",
    "        if processed_train_images < num_train:\n",
    "            output_path = os.path.join(train_folder, file)\n",
    "            processed_train_images += 1\n",
    "        elif processed_test_images < num_test:\n",
    "            output_path = os.path.join(test_folder, file)\n",
    "            processed_test_images += 1\n",
    "        else:\n",
    "            break\n",
    "\n",
    "        # Save the resulting image in the appropriate folder with the same filename\n",
    "        resized_image.save(output_path)\n",
    "\n",
    "print(\"Resizing and distribution complete with 1750 images in the training folder and 750 images in the test folder.\")"
   ]
  },
  {
   "cell_type": "markdown",
   "metadata": {},
   "source": [
    "### Infected photos processed"
   ]
  },
  {
   "cell_type": "code",
   "execution_count": 3,
   "metadata": {},
   "outputs": [
    {
     "ename": "KeyboardInterrupt",
     "evalue": "",
     "output_type": "error",
     "traceback": [
      "\u001b[1;31m---------------------------------------------------------------------------\u001b[0m",
      "\u001b[1;31mAttributeError\u001b[0m                            Traceback (most recent call last)",
      "File \u001b[1;32mc:\\Users\\sharm\\anaconda3\\envs\\dev\\lib\\site-packages\\PIL\\ImageFile.py:518\u001b[0m, in \u001b[0;36m_save\u001b[1;34m(im, fp, tile, bufsize)\u001b[0m\n\u001b[0;32m    517\u001b[0m \u001b[39mtry\u001b[39;00m:\n\u001b[1;32m--> 518\u001b[0m     fh \u001b[39m=\u001b[39m fp\u001b[39m.\u001b[39;49mfileno()\n\u001b[0;32m    519\u001b[0m     fp\u001b[39m.\u001b[39mflush()\n",
      "\u001b[1;31mAttributeError\u001b[0m: '_idat' object has no attribute 'fileno'",
      "\nDuring handling of the above exception, another exception occurred:\n",
      "\u001b[1;31mKeyboardInterrupt\u001b[0m                         Traceback (most recent call last)",
      "\u001b[1;32mc:\\Users\\sharm\\Desktop\\UofT BootCamp Challenges\\project4-local\\data_preprocess.ipynb Cell 5\u001b[0m line \u001b[0;36m4\n\u001b[0;32m     <a href='vscode-notebook-cell:/c%3A/Users/sharm/Desktop/UofT%20BootCamp%20Challenges/project4-local/data_preprocess.ipynb#W4sZmlsZQ%3D%3D?line=45'>46</a>\u001b[0m             \u001b[39mbreak\u001b[39;00m\n\u001b[0;32m     <a href='vscode-notebook-cell:/c%3A/Users/sharm/Desktop/UofT%20BootCamp%20Challenges/project4-local/data_preprocess.ipynb#W4sZmlsZQ%3D%3D?line=47'>48</a>\u001b[0m         \u001b[39m# Save the resulting image in the appropriate folder with the same filename\u001b[39;00m\n\u001b[1;32m---> <a href='vscode-notebook-cell:/c%3A/Users/sharm/Desktop/UofT%20BootCamp%20Challenges/project4-local/data_preprocess.ipynb#W4sZmlsZQ%3D%3D?line=48'>49</a>\u001b[0m         resized_image\u001b[39m.\u001b[39;49msave(output_path)\n\u001b[0;32m     <a href='vscode-notebook-cell:/c%3A/Users/sharm/Desktop/UofT%20BootCamp%20Challenges/project4-local/data_preprocess.ipynb#W4sZmlsZQ%3D%3D?line=50'>51</a>\u001b[0m \u001b[39mprint\u001b[39m(\u001b[39m\"\u001b[39m\u001b[39mResizing and distribution complete with 1750 images in the training folder and 750 images in the test folder.\u001b[39m\u001b[39m\"\u001b[39m)\n",
      "File \u001b[1;32mc:\\Users\\sharm\\anaconda3\\envs\\dev\\lib\\site-packages\\PIL\\Image.py:2431\u001b[0m, in \u001b[0;36mImage.save\u001b[1;34m(self, fp, format, **params)\u001b[0m\n\u001b[0;32m   2428\u001b[0m         fp \u001b[39m=\u001b[39m builtins\u001b[39m.\u001b[39mopen(filename, \u001b[39m\"\u001b[39m\u001b[39mw+b\u001b[39m\u001b[39m\"\u001b[39m)\n\u001b[0;32m   2430\u001b[0m \u001b[39mtry\u001b[39;00m:\n\u001b[1;32m-> 2431\u001b[0m     save_handler(\u001b[39mself\u001b[39;49m, fp, filename)\n\u001b[0;32m   2432\u001b[0m \u001b[39mexcept\u001b[39;00m \u001b[39mException\u001b[39;00m:\n\u001b[0;32m   2433\u001b[0m     \u001b[39mif\u001b[39;00m open_fp:\n",
      "File \u001b[1;32mc:\\Users\\sharm\\anaconda3\\envs\\dev\\lib\\site-packages\\PIL\\PngImagePlugin.py:1420\u001b[0m, in \u001b[0;36m_save\u001b[1;34m(im, fp, filename, chunk, save_all)\u001b[0m\n\u001b[0;32m   1418\u001b[0m     _write_multiple_frames(im, fp, chunk, rawmode, default_image, append_images)\n\u001b[0;32m   1419\u001b[0m \u001b[39melse\u001b[39;00m:\n\u001b[1;32m-> 1420\u001b[0m     ImageFile\u001b[39m.\u001b[39;49m_save(im, _idat(fp, chunk), [(\u001b[39m\"\u001b[39;49m\u001b[39mzip\u001b[39;49m\u001b[39m\"\u001b[39;49m, (\u001b[39m0\u001b[39;49m, \u001b[39m0\u001b[39;49m) \u001b[39m+\u001b[39;49m im\u001b[39m.\u001b[39;49msize, \u001b[39m0\u001b[39;49m, rawmode)])\n\u001b[0;32m   1422\u001b[0m \u001b[39mif\u001b[39;00m info:\n\u001b[0;32m   1423\u001b[0m     \u001b[39mfor\u001b[39;00m info_chunk \u001b[39min\u001b[39;00m info\u001b[39m.\u001b[39mchunks:\n",
      "File \u001b[1;32mc:\\Users\\sharm\\anaconda3\\envs\\dev\\lib\\site-packages\\PIL\\ImageFile.py:522\u001b[0m, in \u001b[0;36m_save\u001b[1;34m(im, fp, tile, bufsize)\u001b[0m\n\u001b[0;32m    520\u001b[0m     _encode_tile(im, fp, tile, bufsize, fh)\n\u001b[0;32m    521\u001b[0m \u001b[39mexcept\u001b[39;00m (\u001b[39mAttributeError\u001b[39;00m, io\u001b[39m.\u001b[39mUnsupportedOperation) \u001b[39mas\u001b[39;00m exc:\n\u001b[1;32m--> 522\u001b[0m     _encode_tile(im, fp, tile, bufsize, \u001b[39mNone\u001b[39;49;00m, exc)\n\u001b[0;32m    523\u001b[0m \u001b[39mif\u001b[39;00m \u001b[39mhasattr\u001b[39m(fp, \u001b[39m\"\u001b[39m\u001b[39mflush\u001b[39m\u001b[39m\"\u001b[39m):\n\u001b[0;32m    524\u001b[0m     fp\u001b[39m.\u001b[39mflush()\n",
      "File \u001b[1;32mc:\\Users\\sharm\\anaconda3\\envs\\dev\\lib\\site-packages\\PIL\\ImageFile.py:541\u001b[0m, in \u001b[0;36m_encode_tile\u001b[1;34m(im, fp, tile, bufsize, fh, exc)\u001b[0m\n\u001b[0;32m    538\u001b[0m \u001b[39mif\u001b[39;00m exc:\n\u001b[0;32m    539\u001b[0m     \u001b[39m# compress to Python file-compatible object\u001b[39;00m\n\u001b[0;32m    540\u001b[0m     \u001b[39mwhile\u001b[39;00m \u001b[39mTrue\u001b[39;00m:\n\u001b[1;32m--> 541\u001b[0m         l, s, d \u001b[39m=\u001b[39m encoder\u001b[39m.\u001b[39;49mencode(bufsize)\n\u001b[0;32m    542\u001b[0m         fp\u001b[39m.\u001b[39mwrite(d)\n\u001b[0;32m    543\u001b[0m         \u001b[39mif\u001b[39;00m s:\n",
      "\u001b[1;31mKeyboardInterrupt\u001b[0m: "
     ]
    }
   ],
   "source": [
    "\n",
    "# Input and output folder paths\n",
    "input_folder = \"Dataset\\\\cell_images\\\\Parasitized\"\n",
    "output_folder = \"Dataset\\\\clean\"\n",
    "\n",
    "# Create the output folder if it doesn't exist\n",
    "os.makedirs(output_folder, exist_ok=True)\n",
    "\n",
    "# Create subfolders for training and testing\n",
    "train_folder = os.path.join(output_folder, \"train\", \"infected_processed\")\n",
    "test_folder = os.path.join(output_folder, \"test\", \"infected_processed\")\n",
    "\n",
    "os.makedirs(train_folder, exist_ok=True)\n",
    "os.makedirs(test_folder, exist_ok=True)\n",
    "\n",
    "# List all files in the input folder\n",
    "files = os.listdir(input_folder)\n",
    "\n",
    "# Calculate the number of images for training and testing\n",
    "num_train = 1750\n",
    "num_test = 750\n",
    "\n",
    "# Initialize counters for processed images in training and testing sets\n",
    "processed_train_images = 0\n",
    "processed_test_images = 0\n",
    "\n",
    "# Loop through each file in the input folder\n",
    "for file in files:\n",
    "    # Check if the file is an image \n",
    "    if file.endswith((\".png\")):\n",
    "        # Open the image\n",
    "        image_path = os.path.join(input_folder, file)\n",
    "        image = Image.open(image_path)\n",
    "\n",
    "        # Resize the image to 25x25 pixels\n",
    "        new_size = (25, 25)\n",
    "        resized_image = image.resize(new_size)\n",
    "\n",
    "        # Determine whether to save in the training or testing folder\n",
    "        if processed_train_images < num_train:\n",
    "            output_path = os.path.join(train_folder, file)\n",
    "            processed_train_images += 1\n",
    "        elif processed_test_images < num_test:\n",
    "            output_path = os.path.join(test_folder, file)\n",
    "            processed_test_images += 1\n",
    "        else:\n",
    "            break\n",
    "\n",
    "        # Save the resulting image in the appropriate folder with the same filename\n",
    "        resized_image.save(output_path)\n",
    "\n",
    "print(\"Resizing and distribution complete with 1750 images in the training folder and 750 images in the test folder.\")\n"
   ]
  }
 ],
 "metadata": {
  "kernelspec": {
   "display_name": "base",
   "language": "python",
   "name": "python3"
  },
  "language_info": {
   "codemirror_mode": {
    "name": "ipython",
    "version": 3
   },
   "file_extension": ".py",
   "mimetype": "text/x-python",
   "name": "python",
   "nbconvert_exporter": "python",
   "pygments_lexer": "ipython3",
   "version": "3.10.11"
  }
 },
 "nbformat": 4,
 "nbformat_minor": 2
}
