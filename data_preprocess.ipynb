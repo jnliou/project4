{
 "cells": [
  {
   "cell_type": "markdown",
   "metadata": {},
   "source": [
    "### Reducing the data from 27563 photos to 1000 photos for the uninfected (from malaria) photos and parasitized photos. Each factor should have 500 photos. Then processing the photos to be Black and White, and 25x25 pixels"
   ]
  },
  {
   "cell_type": "markdown",
   "metadata": {},
   "source": [
    "### Uninfected with Malaria Photos - Processed"
   ]
  },
  {
   "cell_type": "code",
   "execution_count": 3,
   "metadata": {},
   "outputs": [
    {
     "name": "stdout",
     "output_type": "stream",
     "text": [
      "Conversion complete for the first 500 images.\n"
     ]
    }
   ],
   "source": [
    "from PIL import Image\n",
    "import os\n",
    "\n",
    "# Input and output folder paths\n",
    "input_folder = \"Dataset\\\\cell_images\\\\Uninfected\"\n",
    "output_folder = \"Dataset\\clean\\output_uninfected_process\"  \n",
    "\n",
    "# Create the output folder if it doesn't exist\n",
    "if not os.path.exists(output_folder):\n",
    "    os.makedirs(output_folder)\n",
    "\n",
    "# List all files in the input folder\n",
    "files = os.listdir(input_folder)\n",
    "\n",
    "# Initialize a counter to keep track of processed images\n",
    "processed_images = 0\n",
    "\n",
    "# Loop through each file in the input folder\n",
    "for file in files:\n",
    "    # Check if the file is an image \n",
    "    if file.endswith((\".png\")):\n",
    "        # Open the image\n",
    "        image_path = os.path.join(input_folder, file)\n",
    "        image = Image.open(image_path)\n",
    "\n",
    "        # Resize the image to 25x25 pixels\n",
    "        new_size = (25, 25)\n",
    "        resized_image = image.resize(new_size)\n",
    "\n",
    "        # Convert the image to black and white\n",
    "        bw_image = resized_image.convert(\"L\")\n",
    "\n",
    "        # Save the resulting image in the output folder with the same filename\n",
    "        output_path = os.path.join(output_folder, file)\n",
    "        # bw_image.save(output_path)\n",
    "        bw_image.save(output_path)\n",
    "\n",
    "        # Increment the processed image counter\n",
    "        processed_images += 1\n",
    "\n",
    "        # Check if 500 images have been processed\n",
    "        if processed_images >= 500:\n",
    "            break\n",
    "\n",
    "print(\"Conversion complete for the first 500 images.\")\n"
   ]
  },
  {
   "cell_type": "markdown",
   "metadata": {},
   "source": [
    "### Parasitized with Malaria photos - Processed"
   ]
  },
  {
   "cell_type": "code",
   "execution_count": 4,
   "metadata": {},
   "outputs": [
    {
     "name": "stdout",
     "output_type": "stream",
     "text": [
      "Conversion complete for the first 500 images.\n"
     ]
    }
   ],
   "source": [
    "\n",
    "# Input and output folder paths\n",
    "input_folder = \"Dataset\\\\cell_images\\\\Parasitized\"\n",
    "output_folder = \"Dataset\\clean\\output_parasitized_process\"   \n",
    "\n",
    "# Create the output folder if it doesn't exist\n",
    "if not os.path.exists(output_folder):\n",
    "    os.makedirs(output_folder)\n",
    "\n",
    "# List all files in the input folder\n",
    "files = os.listdir(input_folder)\n",
    "\n",
    "# Initialize a counter to keep track of processed images\n",
    "processed_images = 0\n",
    "\n",
    "# Loop through each file in the input folder\n",
    "for file in files:\n",
    "    # Check if the file is an image \n",
    "    if file.endswith((\".png\")):\n",
    "        # Open the image\n",
    "        image_path = os.path.join(input_folder, file)\n",
    "        image = Image.open(image_path)\n",
    "\n",
    "        # Resize the image to 25x25 pixels\n",
    "        new_size = (25, 25)\n",
    "        resized_image = image.resize(new_size)\n",
    "\n",
    "        # Convert the image to black and white\n",
    "        bw_image = resized_image.convert(\"L\")\n",
    "\n",
    "        # Save the resulting image in the output folder with the same filename\n",
    "        output_path = os.path.join(output_folder, file)\n",
    "        # bw_image.save(output_path)\n",
    "        bw_image.save(output_path)\n",
    "\n",
    "        # Increment the processed image counter\n",
    "        processed_images += 1\n",
    "\n",
    "        # Check if 500 images have been processed\n",
    "        if processed_images >= 500:\n",
    "            break\n",
    "\n",
    "print(\"Conversion complete for the first 500 images.\")\n"
   ]
  }
 ],
 "metadata": {
  "kernelspec": {
   "display_name": "base",
   "language": "python",
   "name": "python3"
  },
  "language_info": {
   "codemirror_mode": {
    "name": "ipython",
    "version": 3
   },
   "file_extension": ".py",
   "mimetype": "text/x-python",
   "name": "python",
   "nbconvert_exporter": "python",
   "pygments_lexer": "ipython3",
   "version": "3.9.13"
  },
  "orig_nbformat": 4
 },
 "nbformat": 4,
 "nbformat_minor": 2
}
