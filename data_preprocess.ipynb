{
 "cells": [
  {
   "cell_type": "markdown",
   "metadata": {},
   "source": [
    "# Randomizing and reducing the data from 27563 photos to 1000 photos for the uninfected (from malaria) photos and parasitized photos. Each factor should have 500 photos."
   ]
  },
  {
   "cell_type": "markdown",
   "metadata": {},
   "source": [
    "### Uninfected with Malaria photos - Randomize"
   ]
  },
  {
   "cell_type": "code",
   "execution_count": 10,
   "metadata": {},
   "outputs": [
    {
     "name": "stdout",
     "output_type": "stream",
     "text": [
      "Random selection complete.\n"
     ]
    }
   ],
   "source": [
    "import os\n",
    "import shutil\n",
    "import random\n",
    "\n",
    "# Input folder with all images\n",
    "input_folder = \"Dataset\\\\cell_images\\\\Uninfected\"\n",
    "\n",
    "# Output folder to store the randomly selected images\n",
    "output_folder = \"Dataset\\clean\\output_uninfected\"  \n",
    "\n",
    "# Create the output folder if it doesn't exist\n",
    "if not os.path.exists(output_folder):\n",
    "    os.makedirs(output_folder)\n",
    "\n",
    "# List all files in the input folder\n",
    "files = os.listdir(input_folder)\n",
    "\n",
    "# Shuffle the list of files randomly\n",
    "random.shuffle(files)\n",
    "\n",
    "# Number of images to select (500 in this case)\n",
    "num_images_to_select = 500\n",
    "\n",
    "# Loop through the first 500 files (randomly shuffled)\n",
    "for i in range(min(num_images_to_select, len(files))):\n",
    "    # Get the file path of the current image\n",
    "    image_path = os.path.join(input_folder, files[i])\n",
    "\n",
    "    # Move the image to the output folder\n",
    "    shutil.move(image_path, os.path.join(output_folder, files[i]))\n",
    "\n",
    "print(\"Random selection complete.\")\n"
   ]
  },
  {
   "cell_type": "markdown",
   "metadata": {},
   "source": [
    "### Parasitized with Malaria photos - Randomize"
   ]
  },
  {
   "cell_type": "code",
   "execution_count": 11,
   "metadata": {},
   "outputs": [
    {
     "name": "stdout",
     "output_type": "stream",
     "text": [
      "Random selection complete.\n"
     ]
    }
   ],
   "source": [
    "# Input folder with all images\n",
    "input_folder = \"Dataset\\\\cell_images\\\\Parasitized\"\n",
    "\n",
    "# Output folder to store the randomly selected images\n",
    "output_folder = \"Dataset\\clean\\output_parasitized\"  \n",
    "\n",
    "# Create the output folder if it doesn't exist\n",
    "if not os.path.exists(output_folder):\n",
    "    os.makedirs(output_folder)\n",
    "\n",
    "# List all files in the input folder\n",
    "files = os.listdir(input_folder)\n",
    "\n",
    "# Shuffle the list of files randomly\n",
    "random.shuffle(files)\n",
    "\n",
    "# Number of images to select (500 in this case)\n",
    "num_images_to_select = 500\n",
    "\n",
    "# Loop through the first 500 files (randomly shuffled)\n",
    "for i in range(min(num_images_to_select, len(files))):\n",
    "    # Get the file path of the current image\n",
    "    image_path = os.path.join(input_folder, files[i])\n",
    "\n",
    "    # Move the image to the output folder\n",
    "    shutil.move(image_path, os.path.join(output_folder, files[i]))\n",
    "\n",
    "print(\"Random selection complete.\")"
   ]
  },
  {
   "cell_type": "markdown",
   "metadata": {},
   "source": [
    "# Reprocessing the images to go from 150x150 to 25x25 and changing them from RGB to Black and White"
   ]
  },
  {
   "cell_type": "markdown",
   "metadata": {},
   "source": [
    "### Uninfected with Malaria Photos - Processed"
   ]
  },
  {
   "cell_type": "code",
   "execution_count": 13,
   "metadata": {},
   "outputs": [
    {
     "name": "stdout",
     "output_type": "stream",
     "text": [
      "Conversion complete.\n"
     ]
    }
   ],
   "source": [
    "from PIL import Image\n",
    "\n",
    "# Input and output folder paths\n",
    "input_folder = \"Dataset\\clean\\output_uninfected\" \n",
    "output_folder = \"Dataset\\clean\\output_uninfected_process\"  \n",
    "\n",
    "# Create the output folder if it doesn't exist\n",
    "if not os.path.exists(output_folder):\n",
    "    os.makedirs(output_folder)\n",
    "\n",
    "# List all files in the input folder\n",
    "files = os.listdir(input_folder)\n",
    "\n",
    "# Loop through each file in the input folder\n",
    "for file in files:\n",
    "    # Check if the file is an image \n",
    "    if file.endswith((\".jpg\", \".jpeg\", \".png\", \".gif\")):\n",
    "        # Open the image\n",
    "        image_path = os.path.join(input_folder, file)\n",
    "        image = Image.open(image_path)\n",
    "\n",
    "        # Resize the image to 25x25 pixels\n",
    "        new_size = (25, 25)\n",
    "        resized_image = image.resize(new_size)\n",
    "\n",
    "        # Convert the image to black and white\n",
    "        bw_image = resized_image.convert(\"L\")\n",
    "\n",
    "        # Save the resulting image in the output folder with the same filename\n",
    "        output_path = os.path.join(output_folder, file)\n",
    "        bw_image.save(output_path)\n",
    "\n",
    "print(\"Conversion complete.\")\n"
   ]
  },
  {
   "cell_type": "markdown",
   "metadata": {},
   "source": [
    "### Parasitized with Malaria photos - Processed"
   ]
  },
  {
   "cell_type": "code",
   "execution_count": 14,
   "metadata": {},
   "outputs": [
    {
     "name": "stdout",
     "output_type": "stream",
     "text": [
      "Conversion complete.\n"
     ]
    }
   ],
   "source": [
    "# Input and output folder paths\n",
    "input_folder = \"Dataset\\clean\\output_parasitized\" \n",
    "output_folder = \"Dataset\\clean\\output_parasitized_process\"  \n",
    "\n",
    "# Create the output folder if it doesn't exist\n",
    "if not os.path.exists(output_folder):\n",
    "    os.makedirs(output_folder)\n",
    "\n",
    "# List all files in the input folder\n",
    "files = os.listdir(input_folder)\n",
    "\n",
    "# Loop through each file in the input folder\n",
    "for file in files:\n",
    "    # Check if the file is an image \n",
    "    if file.endswith((\".jpg\", \".jpeg\", \".png\", \".gif\")):\n",
    "        # Open the image\n",
    "        image_path = os.path.join(input_folder, file)\n",
    "        image = Image.open(image_path)\n",
    "\n",
    "        # Resize the image to 25x25 pixels\n",
    "        new_size = (25, 25)\n",
    "        resized_image = image.resize(new_size)\n",
    "\n",
    "        # Convert the image to black and white\n",
    "        bw_image = resized_image.convert(\"L\")\n",
    "\n",
    "        # Save the resulting image in the output folder with the same filename\n",
    "        output_path = os.path.join(output_folder, file)\n",
    "        bw_image.save(output_path)\n",
    "\n",
    "print(\"Conversion complete.\")"
   ]
  }
 ],
 "metadata": {
  "kernelspec": {
   "display_name": "base",
   "language": "python",
   "name": "python3"
  },
  "language_info": {
   "codemirror_mode": {
    "name": "ipython",
    "version": 3
   },
   "file_extension": ".py",
   "mimetype": "text/x-python",
   "name": "python",
   "nbconvert_exporter": "python",
   "pygments_lexer": "ipython3",
   "version": "3.9.13"
  },
  "orig_nbformat": 4
 },
 "nbformat": 4,
 "nbformat_minor": 2
}
