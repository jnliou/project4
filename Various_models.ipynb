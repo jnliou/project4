





<!DOCTYPE html>
<html lang="en" data-color-mode="auto" data-light-theme="light" data-dark-theme="dark"  data-a11y-animated-images="system" data-a11y-link-underlines="false">

    <style>
  /* for each iteration, uncomment the CSS variable */

  /* light themes */
  [data-color-mode="light"][data-light-theme*="light"],
  [data-color-mode="auto"][data-light-theme*="light"] {
    /* iteration 1 */
    --border-color-iteration-1: #C8CCD0;
    /* iteration 2 */
    --border-color-iteration-2: #BABFC5;
    /* iteration 3 */
    --border-color-iteration-3: #A6ADB4;
    /* iteration final */
    /* --border-color-iteration-4: #868F99; */

    /* the first value is the final step, which falls back to previous iterations */
    --control-borderColor-rest: var(--border-color-iteration-4, var(--border-color-iteration-3, var(--border-color-iteration-2, var(--border-color-iteration-1)))) !important;
  }

  /* dark themes */
  [data-color-mode="dark"][data-dark-theme*="dark"],
  [data-color-mode="auto"][data-light-theme*="dark"] {
    /* iteration 1 */
    --border-color-iteration-1: #363940;
    /* iteration 2 */
    --border-color-iteration-2: #3F434B;
    /* iteration 3 */
    --border-color-iteration-3: #4B5159;
    /* iteration final */
    /* --border-color-iteration-4: #666E79; */

    /* the first value is the final step, which falls back to previous iterations */
    --control-borderColor-rest: var(--border-color-iteration-4, var(--border-color-iteration-3, var(--border-color-iteration-2, var(--border-color-iteration-1)))) !important;
  }

  [data-color-mode="dark"][data-dark-theme="dark_dimmed"],
  [data-color-mode="dark"][data-dark-theme="light_high_contrast"],
  [data-color-mode="dark"][data-dark-theme="dark_high_contrast"],
  [data-color-mode="light"][data-light-theme="dark_dimmed"],
  [data-color-mode="light"][data-light-theme="light_high_contrast"],
  [data-color-mode="light"][data-light-theme="dark_high_contrast"] {
    /* skip these themes, use the fallback */
    --control-borderColor-rest: initial !important;
  }

  @media (prefers-color-scheme: dark) {
    /* dark colors in dark mode */
    [data-color-mode="auto"][data-dark-theme*="dark"] {
      /* iteration 1 */
      --border-color-iteration-1: #363940;
      /* iteration 2 */
      --border-color-iteration-2: #3F434B;
      /* iteration 3 */
      --border-color-iteration-3: #4B5159;
      /* iteration final */
      /* --border-color-iteration-4: #666E79; */

      /* the first value is the final step, which falls back to previous iterations */
      --control-borderColor-rest: var(--border-color-iteration-4, var(--border-color-iteration-3, var(--border-color-iteration-2, var(--border-color-iteration-1)))) !important;
    }

    /* light colors in dark mode */
    [data-color-mode="auto"][data-dark-theme*="light"] {
      /* iteration 1 */
      --border-color-iteration-1: #C8CCD0;
      /* iteration 2 */
      --border-color-iteration-2: #BABFC5;
      /* iteration 3 */
      --border-color-iteration-3: #A6ADB4;
      /* iteration final */
      /* --border-color-iteration-4: #868F99; */

      /* the first value is the final step, which falls back to previous iterations */
      --control-borderColor-rest: var(--border-color-iteration-4, var(--border-color-iteration-3, var(--border-color-iteration-2, var(--border-color-iteration-1)))) !important;
      }

    [data-color-mode="auto"][data-dark-theme="dark_dimmed"],
    [data-color-mode="auto"][data-dark-theme="light_high_contrast"],
    [data-color-mode="auto"][data-dark-theme="dark_high_contrast"] {
      /* skip these themes, use the fallback */
      --control-borderColor-rest: initial !important;
    }
  }

  @media (prefers-color-scheme: light) {
    /* dark colors in light mode */
    [data-color-mode="auto"][data-light-theme*="dark"] {
      /* iteration 1 */
      --border-color-iteration-1: #363940;
      /* iteration 2 */
      --border-color-iteration-2: #3F434B;
      /* iteration 3 */
      --border-color-iteration-3: #4B5159;
      /* iteration final */
      /* --border-color-iteration-4: #666E79; */

      /* the first value is the final step, which falls back to previous iterations */
      --control-borderColor-rest: var(--border-color-iteration-4, var(--border-color-iteration-3, var(--border-color-iteration-2, var(--border-color-iteration-1)))) !important;
    }

    /* light colors in light mode */
    [data-color-mode="auto"][data-light-theme*="light"] {
      /* iteration 1 */
      --border-color-iteration-1: #C8CCD0;
      /* iteration 2 */
      --border-color-iteration-2: #BABFC5;
      /* iteration 3 */
      --border-color-iteration-3: #A6ADB4;
      /* iteration final */
      /* --border-color-iteration-4: #868F99; */

      /* the first value is the final step, which falls back to previous iterations */
      --control-borderColor-rest: var(--border-color-iteration-4, var(--border-color-iteration-3, var(--border-color-iteration-2, var(--border-color-iteration-1)))) !important;
    }

    [data-color-mode="auto"][data-light-theme="dark_dimmed"],
    [data-color-mode="auto"][data-light-theme="light_high_contrast"],
    [data-color-mode="auto"][data-light-theme="dark_high_contrast"] {
      /* skip these themes, use the fallback */
      --control-borderColor-rest: initial !important;
    }
  }
</style>


  <head>
    <meta charset="utf-8">
  <link rel="dns-prefetch" href="https://github.githubassets.com">
  <link rel="dns-prefetch" href="https://avatars.githubusercontent.com">
  <link rel="dns-prefetch" href="https://github-cloud.s3.amazonaws.com">
  <link rel="dns-prefetch" href="https://user-images.githubusercontent.com/">
  <link rel="preconnect" href="https://github.githubassets.com" crossorigin>
  <link rel="preconnect" href="https://avatars.githubusercontent.com">

  


  <link crossorigin="anonymous" media="all" rel="stylesheet" href="https://github.githubassets.com/assets/light-b92e9647318f.css" /><link crossorigin="anonymous" media="all" rel="stylesheet" href="https://github.githubassets.com/assets/dark-5d486a4ede8e.css" /><link data-color-theme="dark_dimmed" crossorigin="anonymous" media="all" rel="stylesheet" data-href="https://github.githubassets.com/assets/dark_dimmed-27c8d635e4e5.css" /><link data-color-theme="dark_high_contrast" crossorigin="anonymous" media="all" rel="stylesheet" data-href="https://github.githubassets.com/assets/dark_high_contrast-8438e75afd36.css" /><link data-color-theme="dark_colorblind" crossorigin="anonymous" media="all" rel="stylesheet" data-href="https://github.githubassets.com/assets/dark_colorblind-bf5665b96628.css" /><link data-color-theme="light_colorblind" crossorigin="anonymous" media="all" rel="stylesheet" data-href="https://github.githubassets.com/assets/light_colorblind-c414b5ba1dce.css" /><link data-color-theme="light_high_contrast" crossorigin="anonymous" media="all" rel="stylesheet" data-href="https://github.githubassets.com/assets/light_high_contrast-e5868b7374db.css" /><link data-color-theme="light_tritanopia" crossorigin="anonymous" media="all" rel="stylesheet" data-href="https://github.githubassets.com/assets/light_tritanopia-299ac9c64ec0.css" /><link data-color-theme="dark_tritanopia" crossorigin="anonymous" media="all" rel="stylesheet" data-href="https://github.githubassets.com/assets/dark_tritanopia-3a26e78ad0ff.css" />
  
    <link crossorigin="anonymous" media="all" rel="stylesheet" href="https://github.githubassets.com/assets/primer-primitives-363ec1831c26.css" />
    <link crossorigin="anonymous" media="all" rel="stylesheet" href="https://github.githubassets.com/assets/primer-d6dcdf72e61d.css" />
    <link crossorigin="anonymous" media="all" rel="stylesheet" href="https://github.githubassets.com/assets/global-faa25eb56e2e.css" />
    <link crossorigin="anonymous" media="all" rel="stylesheet" href="https://github.githubassets.com/assets/github-933ef5369a60.css" />
  <link crossorigin="anonymous" media="all" rel="stylesheet" href="https://github.githubassets.com/assets/code-71ecd5638fbf.css" />

  

  <script type="application/json" id="client-env">{"locale":"en","featureFlags":["failbot_handle_non_errors","geojson_azure_maps","hovercard_show_on_focus","image_metric_tracking","repository_suggester_elastic_search","turbo_experiment_risky","sample_network_conn_type","star_button_focus"]}</script>
<script crossorigin="anonymous" defer="defer" type="application/javascript" src="https://github.githubassets.com/assets/wp-runtime-e49d85e88ee7.js"></script>
<script crossorigin="anonymous" defer="defer" type="application/javascript" src="https://github.githubassets.com/assets/vendors-node_modules_dompurify_dist_purify_js-64d590970fa6.js"></script>
<script crossorigin="anonymous" defer="defer" type="application/javascript" src="https://github.githubassets.com/assets/vendors-node_modules_stacktrace-parser_dist_stack-trace-parser_esm_js-node_modules_github_bro-a4c183-18bf85b8e9f4.js"></script>
<script crossorigin="anonymous" defer="defer" type="application/javascript" src="https://github.githubassets.com/assets/ui_packages_soft-nav_soft-nav_ts-56133143b228.js"></script>
<script crossorigin="anonymous" defer="defer" type="application/javascript" src="https://github.githubassets.com/assets/environment-fc6543d75794.js"></script>
<script crossorigin="anonymous" defer="defer" type="application/javascript" src="https://github.githubassets.com/assets/vendors-node_modules_github_selector-observer_dist_index_esm_js-2646a2c533e3.js"></script>
<script crossorigin="anonymous" defer="defer" type="application/javascript" src="https://github.githubassets.com/assets/vendors-node_modules_primer_behaviors_dist_esm_focus-zone_js-d55308df5023.js"></script>
<script crossorigin="anonymous" defer="defer" type="application/javascript" src="https://github.githubassets.com/assets/vendors-node_modules_github_relative-time-element_dist_index_js-99e288659d4f.js"></script>
<script crossorigin="anonymous" defer="defer" type="application/javascript" src="https://github.githubassets.com/assets/vendors-node_modules_fzy_js_index_js-node_modules_github_combobox-nav_dist_index_js-node_modu-344bff-91b70bb50d68.js"></script>
<script crossorigin="anonymous" defer="defer" type="application/javascript" src="https://github.githubassets.com/assets/vendors-node_modules_delegated-events_dist_index_js-node_modules_github_details-dialog-elemen-29dc30-2a5b7c1aa525.js"></script>
<script crossorigin="anonymous" defer="defer" type="application/javascript" src="https://github.githubassets.com/assets/vendors-node_modules_github_filter-input-element_dist_index_js-node_modules_github_remote-inp-59c459-39506636d610.js"></script>
<script crossorigin="anonymous" defer="defer" type="application/javascript" src="https://github.githubassets.com/assets/vendors-node_modules_github_file-attachment-element_dist_index_js-node_modules_primer_view-co-2c6968-d14fe7eeba42.js"></script>
<script crossorigin="anonymous" defer="defer" type="application/javascript" src="https://github.githubassets.com/assets/github-elements-3485f2997bc6.js"></script>
<script crossorigin="anonymous" defer="defer" type="application/javascript" src="https://github.githubassets.com/assets/element-registry-981cc2eaa259.js"></script>
<script crossorigin="anonymous" defer="defer" type="application/javascript" src="https://github.githubassets.com/assets/vendors-node_modules_github_catalyst_lib_index_js-node_modules_github_hydro-analytics-client_-978abc0-d5b921292620.js"></script>
<script crossorigin="anonymous" defer="defer" type="application/javascript" src="https://github.githubassets.com/assets/vendors-node_modules_lit-html_lit-html_js-4ccebb6ebf7d.js"></script>
<script crossorigin="anonymous" defer="defer" type="application/javascript" src="https://github.githubassets.com/assets/vendors-node_modules_github_mini-throttle_dist_index_js-node_modules_github_alive-client_dist-bf5aa2-504c8d53fb8e.js"></script>
<script crossorigin="anonymous" defer="defer" type="application/javascript" src="https://github.githubassets.com/assets/vendors-node_modules_morphdom_dist_morphdom-esm_js-b1fdd7158cf0.js"></script>
<script crossorigin="anonymous" defer="defer" type="application/javascript" src="https://github.githubassets.com/assets/vendors-node_modules_github_turbo_dist_turbo_es2017-esm_js-9a3541181451.js"></script>
<script crossorigin="anonymous" defer="defer" type="application/javascript" src="https://github.githubassets.com/assets/vendors-node_modules_color-convert_index_js-35b3ae68c408.js"></script>
<script crossorigin="anonymous" defer="defer" type="application/javascript" src="https://github.githubassets.com/assets/vendors-node_modules_primer_behaviors_dist_esm_dimensions_js-node_modules_github_hotkey_dist_-8755d2-f721427ba08d.js"></script>
<script crossorigin="anonymous" defer="defer" type="application/javascript" src="https://github.githubassets.com/assets/vendors-node_modules_github_session-resume_dist_index_js-node_modules_primer_behaviors_dist_e-ac74c6-4e7cf4e77afd.js"></script>
<script crossorigin="anonymous" defer="defer" type="application/javascript" src="https://github.githubassets.com/assets/vendors-node_modules_github_paste-markdown_dist_index_esm_js-node_modules_github_quote-select-854ff4-b4a2793be3fe.js"></script>
<script crossorigin="anonymous" defer="defer" type="application/javascript" src="https://github.githubassets.com/assets/app_assets_modules_github_details-dialog_ts-app_assets_modules_github_fetch_ts-add1ab03ecb3.js"></script>
<script crossorigin="anonymous" defer="defer" type="application/javascript" src="https://github.githubassets.com/assets/app_assets_modules_github_updatable-content_ts-ui_packages_hydro-analytics_hydro-analytics_ts-0a5a30c9b976.js"></script>
<script crossorigin="anonymous" defer="defer" type="application/javascript" src="https://github.githubassets.com/assets/app_assets_modules_github_onfocus_ts-app_assets_modules_github_sticky-scroll-into-view_ts-c56a5dfc8975.js"></script>
<script crossorigin="anonymous" defer="defer" type="application/javascript" src="https://github.githubassets.com/assets/app_assets_modules_github_behaviors_task-list_ts-app_assets_modules_github_sso_ts-ui_packages-7d50ad-9491f2be61ee.js"></script>
<script crossorigin="anonymous" defer="defer" type="application/javascript" src="https://github.githubassets.com/assets/app_assets_modules_github_behaviors_ajax-error_ts-app_assets_modules_github_behaviors_include-2e2258-d77f85c54572.js"></script>
<script crossorigin="anonymous" defer="defer" type="application/javascript" src="https://github.githubassets.com/assets/app_assets_modules_github_behaviors_commenting_edit_ts-app_assets_modules_github_behaviors_ht-83c235-f22ac6b94445.js"></script>
<script crossorigin="anonymous" defer="defer" type="application/javascript" src="https://github.githubassets.com/assets/behaviors-464f50283c96.js"></script>
<script crossorigin="anonymous" defer="defer" type="application/javascript" src="https://github.githubassets.com/assets/vendors-node_modules_delegated-events_dist_index_js-node_modules_github_catalyst_lib_index_js-623425af41e1.js"></script>
<script crossorigin="anonymous" defer="defer" type="application/javascript" src="https://github.githubassets.com/assets/notifications-global-0104a8043aa4.js"></script>
<script crossorigin="anonymous" defer="defer" type="application/javascript" src="https://github.githubassets.com/assets/code-menu-6bd50a0647d6.js"></script>
  
  <script crossorigin="anonymous" defer="defer" type="application/javascript" src="https://github.githubassets.com/assets/react-lib-210c4b5934c3.js"></script>
<script crossorigin="anonymous" defer="defer" type="application/javascript" src="https://github.githubassets.com/assets/vendors-node_modules_primer_octicons-react_dist_index_esm_js-node_modules_primer_react_lib-es-2e8e7c-b8c027e1cfac.js"></script>
<script crossorigin="anonymous" defer="defer" type="application/javascript" src="https://github.githubassets.com/assets/vendors-node_modules_primer_react_lib-esm_Box_Box_js-96a44addc402.js"></script>
<script crossorigin="anonymous" defer="defer" type="application/javascript" src="https://github.githubassets.com/assets/vendors-node_modules_primer_react_lib-esm_Button_Button_js-node_modules_primer_react_lib-esm_-f6da63-1976b80d3486.js"></script>
<script crossorigin="anonymous" defer="defer" type="application/javascript" src="https://github.githubassets.com/assets/vendors-node_modules_primer_react_node_modules_primer_octicons-react_dist_index_esm_js-03b6dd82d40a.js"></script>
<script crossorigin="anonymous" defer="defer" type="application/javascript" src="https://github.githubassets.com/assets/vendors-node_modules_primer_react_lib-esm_Button_index_js-node_modules_primer_react_lib-esm_O-701f13-047a44a18d3a.js"></script>
<script crossorigin="anonymous" defer="defer" type="application/javascript" src="https://github.githubassets.com/assets/vendors-node_modules_primer_react_lib-esm_Text_Text_js-node_modules_primer_react_lib-esm_Text-85a14b-0f28951279b7.js"></script>
<script crossorigin="anonymous" defer="defer" type="application/javascript" src="https://github.githubassets.com/assets/vendors-node_modules_primer_react_lib-esm_ActionList_index_js-535c8ee1ebe8.js"></script>
<script crossorigin="anonymous" defer="defer" type="application/javascript" src="https://github.githubassets.com/assets/vendors-node_modules_primer_react_lib-esm_ActionMenu_ActionMenu_js-2f08ef908241.js"></script>
<script crossorigin="anonymous" defer="defer" type="application/javascript" src="https://github.githubassets.com/assets/vendors-node_modules_primer_behaviors_dist_esm_scroll-into-view_js-node_modules_primer_react_-04bb1b-a6096689d2d5.js"></script>
<script crossorigin="anonymous" defer="defer" type="application/javascript" src="https://github.githubassets.com/assets/vendors-node_modules_primer_react_lib-esm_FormControl_FormControl_js-9b048a5a5ceb.js"></script>
<script crossorigin="anonymous" defer="defer" type="application/javascript" src="https://github.githubassets.com/assets/vendors-node_modules_react-router-dom_dist_index_js-4a785319b497.js"></script>
<script crossorigin="anonymous" defer="defer" type="application/javascript" src="https://github.githubassets.com/assets/vendors-node_modules_primer_react_lib-esm_PageLayout_PageLayout_js-7693f4e3427d.js"></script>
<script crossorigin="anonymous" defer="defer" type="application/javascript" src="https://github.githubassets.com/assets/vendors-node_modules_primer_react_lib-esm_Dialog_js-node_modules_primer_react_lib-esm_Flash_F-ad64b6-f3217651e114.js"></script>
<script crossorigin="anonymous" defer="defer" type="application/javascript" src="https://github.githubassets.com/assets/vendors-node_modules_primer_react_lib-esm_UnderlineNav2_index_js-b739f40cf454.js"></script>
<script crossorigin="anonymous" defer="defer" type="application/javascript" src="https://github.githubassets.com/assets/vendors-node_modules_primer_react_lib-esm_Avatar_Avatar_js-node_modules_primer_react_lib-esm_-9bd36c-c9a87fd5afd0.js"></script>
<script crossorigin="anonymous" defer="defer" type="application/javascript" src="https://github.githubassets.com/assets/vendors-node_modules_primer_react_lib-esm_AvatarStack_AvatarStack_js-node_modules_primer_reac-6d3540-684005f5bdbe.js"></script>
<script crossorigin="anonymous" defer="defer" type="application/javascript" src="https://github.githubassets.com/assets/vendors-node_modules_primer_react_lib-esm_Breadcrumbs_Breadcrumbs_js-node_modules_primer_reac-31943d-f0539d68eb2b.js"></script>
<script crossorigin="anonymous" defer="defer" type="application/javascript" src="https://github.githubassets.com/assets/ui_packages_react-core_create-browser-history_ts-ui_packages_react-core_deferred-registry_ts--ebbb92-1ee1e572fd0e.js"></script>
<script crossorigin="anonymous" defer="defer" type="application/javascript" src="https://github.githubassets.com/assets/ui_packages_react-core_register-app_ts-afd2d748b726.js"></script>
<script crossorigin="anonymous" defer="defer" type="application/javascript" src="https://github.githubassets.com/assets/ui_packages_ref-selector_RefSelector_tsx-bd2f6d26f4a6.js"></script>
<script crossorigin="anonymous" defer="defer" type="application/javascript" src="https://github.githubassets.com/assets/app_assets_modules_github_blob-anchor_ts-app_assets_modules_github_filter-sort_ts-app_assets_-681869-f63e0555b81f.js"></script>
<script crossorigin="anonymous" defer="defer" type="application/javascript" src="https://github.githubassets.com/assets/ui_packages_commit-attribution_index_ts-ui_packages_commit-checks-status_index_ts-ui_packages-cc11d2-6b88e13eb24a.js"></script>
<script crossorigin="anonymous" defer="defer" type="application/javascript" src="https://github.githubassets.com/assets/app_assets_modules_react-code-view_pages_CodeView_tsx-ddbcf4fcf209.js"></script>
<script crossorigin="anonymous" defer="defer" type="application/javascript" src="https://github.githubassets.com/assets/react-code-view-b3d664d404df.js"></script>


  <title>project4/Various_models.ipynb at sri · jnliou/project4</title>



  <meta name="route-pattern" content="/:user_id/:repository/blob/*name(/*path)">

    
  <meta name="current-catalog-service-hash" content="82c569b93da5c18ed649ebd4c2c79437db4611a6a1373e805a3cb001c64130b7">


  <meta name="request-id" content="FD9B:188F:29B7ABD:38D4320:652B6DC3" data-turbo-transient="true" /><meta name="html-safe-nonce" content="3e077a36d5633803ad0fd206aa09d0ef5e872a3ea418325fc4e12026952200ff" data-turbo-transient="true" /><meta name="visitor-payload" content="eyJyZWZlcnJlciI6Imh0dHBzOi8vZ2l0aHViLmNvbS9qbmxpb3UvcHJvamVjdDQvdHJlZS9zcmkiLCJyZXF1ZXN0X2lkIjoiRkQ5QjoxODhGOjI5QjdBQkQ6MzhENDMyMDo2NTJCNkRDMyIsInZpc2l0b3JfaWQiOiI4ODI4ODUwODU5NzMwMDQ2MzA2IiwicmVnaW9uX2VkZ2UiOiJpYWQiLCJyZWdpb25fcmVuZGVyIjoiaWFkIn0=" data-turbo-transient="true" /><meta name="visitor-hmac" content="ddb2c9572579a20cb01926d389972f8e89f8bc4141ff881cbf08839a60b73e95" data-turbo-transient="true" />


    <meta name="hovercard-subject-tag" content="repository:694359579" data-turbo-transient>


  <meta name="github-keyboard-shortcuts" content="repository,source-code,file-tree" data-turbo-transient="true" />
  

  <meta name="selected-link" value="repo_source" data-turbo-transient>
  <link rel="assets" href="https://github.githubassets.com/">

    <meta name="google-site-verification" content="c1kuD-K2HIVF635lypcsWPoD4kilo5-jA_wBFyT4uMY">
  <meta name="google-site-verification" content="KT5gs8h0wvaagLKAVWq8bbeNwnZZK1r1XQysX3xurLU">
  <meta name="google-site-verification" content="ZzhVyEFwb7w3e0-uOTltm8Jsck2F5StVihD0exw2fsA">
  <meta name="google-site-verification" content="GXs5KoUUkNCoaAZn7wPN-t01Pywp9M3sEjnt_3_ZWPc">
  <meta name="google-site-verification" content="Apib7-x98H0j5cPqHWwSMm6dNU4GmODRoqxLiDzdx9I">

<meta name="octolytics-url" content="https://collector.github.com/github/collect" /><meta name="octolytics-actor-id" content="132161799" /><meta name="octolytics-actor-login" content="srinivasj1987" /><meta name="octolytics-actor-hash" content="ec5a9d3dbd1518a66200d4c1c9508d604eb7673db5f0ce9e8f7ad480c7ee0844" />

  <meta name="analytics-location" content="/&lt;user-name&gt;/&lt;repo-name&gt;/blob/show" data-turbo-transient="true" />

  




  

    <meta name="user-login" content="srinivasj1987">

  <link rel="sudo-modal" href="/sessions/sudo_modal">

    <meta name="viewport" content="width=device-width">
    
      <meta name="description" content="Utilizing Machine Learning to Identify Cell Images with Malaria - project4/Various_models.ipynb at sri · jnliou/project4">
      <link rel="search" type="application/opensearchdescription+xml" href="/opensearch.xml" title="GitHub">
    <link rel="fluid-icon" href="https://github.com/fluidicon.png" title="GitHub">
    <meta property="fb:app_id" content="1401488693436528">
    <meta name="apple-itunes-app" content="app-id=1477376905, app-argument=https://github.com/jnliou/project4/blob/sri/Various_models.ipynb" />
      <meta name="twitter:image:src" content="https://opengraph.githubassets.com/81b188a543758cd5d4649920de3f60ed3a53c8786f9ab4eb7d670583378f62ce/jnliou/project4" /><meta name="twitter:site" content="@github" /><meta name="twitter:card" content="summary_large_image" /><meta name="twitter:title" content="project4/Various_models.ipynb at sri · jnliou/project4" /><meta name="twitter:description" content="Utilizing Machine Learning to Identify Cell Images with Malaria - jnliou/project4" />
      <meta property="og:image" content="https://opengraph.githubassets.com/81b188a543758cd5d4649920de3f60ed3a53c8786f9ab4eb7d670583378f62ce/jnliou/project4" /><meta property="og:image:alt" content="Utilizing Machine Learning to Identify Cell Images with Malaria - jnliou/project4" /><meta property="og:image:width" content="1200" /><meta property="og:image:height" content="600" /><meta property="og:site_name" content="GitHub" /><meta property="og:type" content="object" /><meta property="og:title" content="project4/Various_models.ipynb at sri · jnliou/project4" /><meta property="og:url" content="https://github.com/jnliou/project4/blob/sri/Various_models.ipynb" /><meta property="og:description" content="Utilizing Machine Learning to Identify Cell Images with Malaria - jnliou/project4" />
      

      <link rel="shared-web-socket" href="wss://alive.github.com/_sockets/u/132161799/ws?session=eyJ2IjoiVjMiLCJ1IjoxMzIxNjE3OTksInMiOjEyMTQ5MjE0MzksImMiOjIzNTAzOTY0MjQsInQiOjE2OTczNDQ5ODV9--dc2e2103ab8c34f70d0840b8ea4b3ab37ec4a9f5f8a8e47905896aa4033c6d3a" data-refresh-url="/_alive" data-session-id="c728e7cfde916488b5a0e0abc02cefa5d1c11db017cdc8d377a1d5d308c240e4">
      <link rel="shared-web-socket-src" href="/assets-cdn/worker/socket-worker-cee473359cfe.js">


        <meta name="hostname" content="github.com">


      <meta name="keyboard-shortcuts-preference" content="all">

        <meta name="expected-hostname" content="github.com">


  <meta http-equiv="x-pjax-version" content="81d7497fa3c44a391109070edcde051a0dd555035eb44c84c61c1933f0107c2c" data-turbo-track="reload">
  <meta http-equiv="x-pjax-csp-version" content="ee14a7165914197d62e19f664bfb961fcfdfc1ec31939a5c7b137fbab1751c87" data-turbo-track="reload">
  <meta http-equiv="x-pjax-css-version" content="206b919dd058babca1d574c4b804030c6c17c2f6fb9c18590ef364a71ab7f2ee" data-turbo-track="reload">
  <meta http-equiv="x-pjax-js-version" content="74e9ca2095852c5c0f6337a9b1202f8042cf0839769721d01df7d303f965066f" data-turbo-track="reload">

  <meta name="turbo-cache-control" content="no-preview" data-turbo-transient="">

      <meta name="turbo-cache-control" content="no-cache" data-turbo-transient>
    <meta data-hydrostats="publish">

  <meta name="go-import" content="github.com/jnliou/project4 git https://github.com/jnliou/project4.git">

  <meta name="octolytics-dimension-user_id" content="121048381" /><meta name="octolytics-dimension-user_login" content="jnliou" /><meta name="octolytics-dimension-repository_id" content="694359579" /><meta name="octolytics-dimension-repository_nwo" content="jnliou/project4" /><meta name="octolytics-dimension-repository_public" content="true" /><meta name="octolytics-dimension-repository_is_fork" content="false" /><meta name="octolytics-dimension-repository_network_root_id" content="694359579" /><meta name="octolytics-dimension-repository_network_root_nwo" content="jnliou/project4" />



  <meta name="turbo-body-classes" content="logged-in env-production page-responsive">


  <meta name="browser-stats-url" content="https://api.github.com/_private/browser/stats">

  <meta name="browser-errors-url" content="https://api.github.com/_private/browser/errors">

  <meta name="browser-optimizely-client-errors-url" content="https://api.github.com/_private/browser/optimizely_client/errors">

  <link rel="mask-icon" href="https://github.githubassets.com/pinned-octocat.svg" color="#000000">
  <link rel="alternate icon" class="js-site-favicon" type="image/png" href="https://github.githubassets.com/favicons/favicon.png">
  <link rel="icon" class="js-site-favicon" type="image/svg+xml" href="https://github.githubassets.com/favicons/favicon.svg">

<meta name="theme-color" content="#1e2327">
<meta name="color-scheme" content="light dark" />


  <link rel="manifest" href="/manifest.json" crossOrigin="use-credentials">

  </head>

  <body class="logged-in env-production page-responsive" style="word-wrap: break-word;">
    <div data-turbo-body class="logged-in env-production page-responsive" style="word-wrap: break-word;">
      


    <div class="position-relative js-header-wrapper ">
      <a href="#start-of-content" class="p-3 color-bg-accent-emphasis color-fg-on-emphasis show-on-focus js-skip-to-content">Skip to content</a>
      <span data-view-component="true" class="progress-pjax-loader Progress position-fixed width-full">
    <span style="width: 0%;" data-view-component="true" class="Progress-item progress-pjax-loader-bar left-0 top-0 color-bg-accent-emphasis"></span>
</span>      
      


      

        <script crossorigin="anonymous" defer="defer" type="application/javascript" src="https://github.githubassets.com/assets/vendors-node_modules_allex_crc32_lib_crc32_esm_js-node_modules_github_mini-throttle_dist_deco-b38cad-fb30c470f64b.js"></script>
<script crossorigin="anonymous" defer="defer" type="application/javascript" src="https://github.githubassets.com/assets/vendors-node_modules_github_clipboard-copy-element_dist_index_esm_js-node_modules_delegated-e-b37f7d-4db36910a4bc.js"></script>
<script crossorigin="anonymous" defer="defer" type="application/javascript" src="https://github.githubassets.com/assets/app_assets_modules_github_command-palette_items_help-item_ts-app_assets_modules_github_comman-48ad9d-00e5140a09e8.js"></script>
<script crossorigin="anonymous" defer="defer" type="application/javascript" src="https://github.githubassets.com/assets/command-palette-46bb1d1be80b.js"></script>

            <header class="AppHeader">
    

    <div class="AppHeader-globalBar pb-2 js-global-bar">
      <div class="AppHeader-globalBar-start">
          <deferred-side-panel data-url="/_side-panels/global">
  <include-fragment data-target="deferred-side-panel.fragment">
      
  <button aria-label="Open global navigation menu" data-action="click:deferred-side-panel#loadPanel click:deferred-side-panel#panelOpened" data-show-dialog-id="dialog-46e4b6bd-0cb1-4f69-bc51-ade2196a725e" id="dialog-show-dialog-46e4b6bd-0cb1-4f69-bc51-ade2196a725e" type="button" data-view-component="true" class="Button Button--iconOnly Button--secondary Button--medium AppHeader-button color-bg-transparent p-0 color-fg-muted">    <svg aria-hidden="true" height="16" viewBox="0 0 16 16" version="1.1" width="16" data-view-component="true" class="octicon octicon-three-bars Button-visual">
    <path d="M1 2.75A.75.75 0 0 1 1.75 2h12.5a.75.75 0 0 1 0 1.5H1.75A.75.75 0 0 1 1 2.75Zm0 5A.75.75 0 0 1 1.75 7h12.5a.75.75 0 0 1 0 1.5H1.75A.75.75 0 0 1 1 7.75ZM1.75 12h12.5a.75.75 0 0 1 0 1.5H1.75a.75.75 0 0 1 0-1.5Z"></path>
</svg>
</button>  

<div class="Overlay--hidden Overlay-backdrop--side Overlay-backdrop--placement-left" data-modal-dialog-overlay>
  <modal-dialog data-target="deferred-side-panel.panel" role="dialog" id="dialog-46e4b6bd-0cb1-4f69-bc51-ade2196a725e" aria-modal="true" aria-disabled="true" aria-labelledby="dialog-46e4b6bd-0cb1-4f69-bc51-ade2196a725e-title" aria-describedby="dialog-46e4b6bd-0cb1-4f69-bc51-ade2196a725e-description" data-view-component="true" class="Overlay Overlay-whenNarrow Overlay--size-small-portrait Overlay--motion-scaleFade SidePanel">
    <div styles="flex-direction: row;" data-view-component="true" class="Overlay-header">
  <div class="Overlay-headerContentWrap">
    <div class="Overlay-titleWrap">
      <h1 class="Overlay-title sr-only" id="dialog-46e4b6bd-0cb1-4f69-bc51-ade2196a725e-title">
        Global navigation
      </h1>
            <div data-view-component="true" class="d-flex">
      <div data-view-component="true" class="AppHeader-logo position-relative">
        <svg aria-hidden="true" height="24" viewBox="0 0 16 16" version="1.1" width="24" data-view-component="true" class="octicon octicon-mark-github">
    <path d="M8 0c4.42 0 8 3.58 8 8a8.013 8.013 0 0 1-5.45 7.59c-.4.08-.55-.17-.55-.38 0-.27.01-1.13.01-2.2 0-.75-.25-1.23-.54-1.48 1.78-.2 3.65-.88 3.65-3.95 0-.88-.31-1.59-.82-2.15.08-.2.36-1.02-.08-2.12 0 0-.67-.22-2.2.82-.64-.18-1.32-.27-2-.27-.68 0-1.36.09-2 .27-1.53-1.03-2.2-.82-2.2-.82-.44 1.1-.16 1.92-.08 2.12-.51.56-.82 1.28-.82 2.15 0 3.06 1.86 3.75 3.64 3.95-.23.2-.44.55-.51 1.07-.46.21-1.61.55-2.33-.66-.15-.24-.6-.83-1.23-.82-.67.01-.27.38.01.53.34.19.73.9.82 1.13.16.45.68 1.31 2.69.94 0 .67.01 1.3.01 1.49 0 .21-.15.45-.55.38A7.995 7.995 0 0 1 0 8c0-4.42 3.58-8 8-8Z"></path>
</svg>
</div></div>
    </div>
    <div class="Overlay-actionWrap">
      <button data-close-dialog-id="dialog-46e4b6bd-0cb1-4f69-bc51-ade2196a725e" aria-label="Close" type="button" data-view-component="true" class="close-button Overlay-closeButton"><svg aria-hidden="true" height="16" viewBox="0 0 16 16" version="1.1" width="16" data-view-component="true" class="octicon octicon-x">
    <path d="M3.72 3.72a.75.75 0 0 1 1.06 0L8 6.94l3.22-3.22a.749.749 0 0 1 1.275.326.749.749 0 0 1-.215.734L9.06 8l3.22 3.22a.749.749 0 0 1-.326 1.275.749.749 0 0 1-.734-.215L8 9.06l-3.22 3.22a.751.751 0 0 1-1.042-.018.751.751 0 0 1-.018-1.042L6.94 8 3.72 4.78a.75.75 0 0 1 0-1.06Z"></path>
</svg></button>
    </div>
  </div>
</div>
      <div data-view-component="true" class="Overlay-body d-flex flex-column height-full px-2">      <nav aria-label="Site navigation" data-view-component="true" class="ActionList">
  
  <nav-list>
    <ul data-view-component="true" class="ActionListWrap">
        
          
<li data-item-id="" data-targets="nav-list.items" data-view-component="true" class="ActionListItem">
    
    <a data-hotkey="g d" data-analytics-event="{&quot;category&quot;:&quot;Global navigation&quot;,&quot;action&quot;:&quot;HOME&quot;,&quot;label&quot;:null}" id="item-7012eaa5-d428-454b-b2cd-8882d0eb6b85" href="/dashboard" data-view-component="true" class="ActionListContent ActionListContent--visual16">
        <span class="ActionListItem-visual ActionListItem-visual--leading">
          <svg aria-hidden="true" height="16" viewBox="0 0 16 16" version="1.1" width="16" data-view-component="true" class="octicon octicon-home">
    <path d="M6.906.664a1.749 1.749 0 0 1 2.187 0l5.25 4.2c.415.332.657.835.657 1.367v7.019A1.75 1.75 0 0 1 13.25 15h-3.5a.75.75 0 0 1-.75-.75V9H7v5.25a.75.75 0 0 1-.75.75h-3.5A1.75 1.75 0 0 1 1 13.25V6.23c0-.531.242-1.034.657-1.366l5.25-4.2Zm1.25 1.171a.25.25 0 0 0-.312 0l-5.25 4.2a.25.25 0 0 0-.094.196v7.019c0 .138.112.25.25.25H5.5V8.25a.75.75 0 0 1 .75-.75h3.5a.75.75 0 0 1 .75.75v5.25h2.75a.25.25 0 0 0 .25-.25V6.23a.25.25 0 0 0-.094-.195Z"></path>
</svg>
        </span>
      
        <span data-view-component="true" class="ActionListItem-label">
          Home
</span></a>
  
  
</li>

        
          
<li data-item-id="" data-targets="nav-list.items" data-view-component="true" class="ActionListItem">
    
    <a data-hotkey="g i" data-analytics-event="{&quot;category&quot;:&quot;Global navigation&quot;,&quot;action&quot;:&quot;ISSUES&quot;,&quot;label&quot;:null}" id="item-5d7e3751-e5aa-429e-bbd5-c42bb48745a2" href="/issues" data-view-component="true" class="ActionListContent ActionListContent--visual16">
        <span class="ActionListItem-visual ActionListItem-visual--leading">
          <svg aria-hidden="true" height="16" viewBox="0 0 16 16" version="1.1" width="16" data-view-component="true" class="octicon octicon-issue-opened">
    <path d="M8 9.5a1.5 1.5 0 1 0 0-3 1.5 1.5 0 0 0 0 3Z"></path><path d="M8 0a8 8 0 1 1 0 16A8 8 0 0 1 8 0ZM1.5 8a6.5 6.5 0 1 0 13 0 6.5 6.5 0 0 0-13 0Z"></path>
</svg>
        </span>
      
        <span data-view-component="true" class="ActionListItem-label">
          Issues
</span></a>
  
  
</li>

        
          
<li data-item-id="" data-targets="nav-list.items" data-view-component="true" class="ActionListItem">
    
    <a data-hotkey="g p" data-analytics-event="{&quot;category&quot;:&quot;Global navigation&quot;,&quot;action&quot;:&quot;PULL_REQUESTS&quot;,&quot;label&quot;:null}" id="item-737e9a9c-67dc-425b-a7f8-8a100721a4f3" href="/pulls" data-view-component="true" class="ActionListContent ActionListContent--visual16">
        <span class="ActionListItem-visual ActionListItem-visual--leading">
          <svg aria-hidden="true" height="16" viewBox="0 0 16 16" version="1.1" width="16" data-view-component="true" class="octicon octicon-git-pull-request">
    <path d="M1.5 3.25a2.25 2.25 0 1 1 3 2.122v5.256a2.251 2.251 0 1 1-1.5 0V5.372A2.25 2.25 0 0 1 1.5 3.25Zm5.677-.177L9.573.677A.25.25 0 0 1 10 .854V2.5h1A2.5 2.5 0 0 1 13.5 5v5.628a2.251 2.251 0 1 1-1.5 0V5a1 1 0 0 0-1-1h-1v1.646a.25.25 0 0 1-.427.177L7.177 3.427a.25.25 0 0 1 0-.354ZM3.75 2.5a.75.75 0 1 0 0 1.5.75.75 0 0 0 0-1.5Zm0 9.5a.75.75 0 1 0 0 1.5.75.75 0 0 0 0-1.5Zm8.25.75a.75.75 0 1 0 1.5 0 .75.75 0 0 0-1.5 0Z"></path>
</svg>
        </span>
      
        <span data-view-component="true" class="ActionListItem-label">
          Pull requests
</span></a>
  
  
</li>

        
          
<li data-item-id="" data-targets="nav-list.items" data-view-component="true" class="ActionListItem">
    
    <a data-analytics-event="{&quot;category&quot;:&quot;Global navigation&quot;,&quot;action&quot;:&quot;DISCUSSIONS&quot;,&quot;label&quot;:null}" id="item-e91f0b3f-2136-4180-af20-a3ccf82d69f8" href="/discussions" data-view-component="true" class="ActionListContent ActionListContent--visual16">
        <span class="ActionListItem-visual ActionListItem-visual--leading">
          <svg aria-hidden="true" height="16" viewBox="0 0 16 16" version="1.1" width="16" data-view-component="true" class="octicon octicon-comment-discussion">
    <path d="M1.75 1h8.5c.966 0 1.75.784 1.75 1.75v5.5A1.75 1.75 0 0 1 10.25 10H7.061l-2.574 2.573A1.458 1.458 0 0 1 2 11.543V10h-.25A1.75 1.75 0 0 1 0 8.25v-5.5C0 1.784.784 1 1.75 1ZM1.5 2.75v5.5c0 .138.112.25.25.25h1a.75.75 0 0 1 .75.75v2.19l2.72-2.72a.749.749 0 0 1 .53-.22h3.5a.25.25 0 0 0 .25-.25v-5.5a.25.25 0 0 0-.25-.25h-8.5a.25.25 0 0 0-.25.25Zm13 2a.25.25 0 0 0-.25-.25h-.5a.75.75 0 0 1 0-1.5h.5c.966 0 1.75.784 1.75 1.75v5.5A1.75 1.75 0 0 1 14.25 12H14v1.543a1.458 1.458 0 0 1-2.487 1.03L9.22 12.28a.749.749 0 0 1 .326-1.275.749.749 0 0 1 .734.215l2.22 2.22v-2.19a.75.75 0 0 1 .75-.75h1a.25.25 0 0 0 .25-.25Z"></path>
</svg>
        </span>
      
        <span data-view-component="true" class="ActionListItem-label">
          Discussions
</span></a>
  
  
</li>

        
          
<li data-item-id="" data-targets="nav-list.items" data-view-component="true" class="ActionListItem">
    
    <a data-analytics-event="{&quot;category&quot;:&quot;Global navigation&quot;,&quot;action&quot;:&quot;CODESPACES&quot;,&quot;label&quot;:null}" id="item-655d8928-a429-4698-a06b-2225748f791c" href="https://github.com/codespaces" data-view-component="true" class="ActionListContent ActionListContent--visual16">
        <span class="ActionListItem-visual ActionListItem-visual--leading">
          <svg aria-hidden="true" height="16" viewBox="0 0 16 16" version="1.1" width="16" data-view-component="true" class="octicon octicon-codespaces">
    <path d="M0 11.25c0-.966.784-1.75 1.75-1.75h12.5c.966 0 1.75.784 1.75 1.75v3A1.75 1.75 0 0 1 14.25 16H1.75A1.75 1.75 0 0 1 0 14.25Zm2-9.5C2 .784 2.784 0 3.75 0h8.5C13.216 0 14 .784 14 1.75v5a1.75 1.75 0 0 1-1.75 1.75h-8.5A1.75 1.75 0 0 1 2 6.75Zm1.75-.25a.25.25 0 0 0-.25.25v5c0 .138.112.25.25.25h8.5a.25.25 0 0 0 .25-.25v-5a.25.25 0 0 0-.25-.25Zm-2 9.5a.25.25 0 0 0-.25.25v3c0 .138.112.25.25.25h12.5a.25.25 0 0 0 .25-.25v-3a.25.25 0 0 0-.25-.25Z"></path><path d="M7 12.75a.75.75 0 0 1 .75-.75h4.5a.75.75 0 0 1 0 1.5h-4.5a.75.75 0 0 1-.75-.75Zm-4 0a.75.75 0 0 1 .75-.75h.5a.75.75 0 0 1 0 1.5h-.5a.75.75 0 0 1-.75-.75Z"></path>
</svg>
        </span>
      
        <span data-view-component="true" class="ActionListItem-label">
          Codespaces
</span></a>
  
  
</li>

        
          <li role="presentation" aria-hidden="true" data-view-component="true" class="ActionList-sectionDivider"></li>
        
          
<li data-item-id="" data-targets="nav-list.items" data-view-component="true" class="ActionListItem">
    
    <a data-analytics-event="{&quot;category&quot;:&quot;Global navigation&quot;,&quot;action&quot;:&quot;EXPLORE&quot;,&quot;label&quot;:null}" id="item-c7a50493-d657-4f20-8c74-5e2f7a249bf9" href="/explore" data-view-component="true" class="ActionListContent ActionListContent--visual16">
        <span class="ActionListItem-visual ActionListItem-visual--leading">
          <svg aria-hidden="true" height="16" viewBox="0 0 16 16" version="1.1" width="16" data-view-component="true" class="octicon octicon-telescope">
    <path d="M14.184 1.143v-.001l1.422 2.464a1.75 1.75 0 0 1-.757 2.451L3.104 11.713a1.75 1.75 0 0 1-2.275-.702l-.447-.775a1.75 1.75 0 0 1 .53-2.32L11.682.573a1.748 1.748 0 0 1 2.502.57Zm-4.709 9.32h-.001l2.644 3.863a.75.75 0 1 1-1.238.848l-1.881-2.75v2.826a.75.75 0 0 1-1.5 0v-2.826l-1.881 2.75a.75.75 0 1 1-1.238-.848l2.049-2.992a.746.746 0 0 1 .293-.253l1.809-.87a.749.749 0 0 1 .944.252ZM9.436 3.92h-.001l-4.97 3.39.942 1.63 5.42-2.61Zm3.091-2.108h.001l-1.85 1.26 1.505 2.605 2.016-.97a.247.247 0 0 0 .13-.151.247.247 0 0 0-.022-.199l-1.422-2.464a.253.253 0 0 0-.161-.119.254.254 0 0 0-.197.038ZM1.756 9.157a.25.25 0 0 0-.075.33l.447.775a.25.25 0 0 0 .325.1l1.598-.769-.83-1.436-1.465 1Z"></path>
</svg>
        </span>
      
        <span data-view-component="true" class="ActionListItem-label">
          Explore
</span></a>
  
  
</li>

        
          
<li data-item-id="" data-targets="nav-list.items" data-view-component="true" class="ActionListItem">
    
    <a data-analytics-event="{&quot;category&quot;:&quot;Global navigation&quot;,&quot;action&quot;:&quot;MARKETPLACE&quot;,&quot;label&quot;:null}" id="item-896507da-888c-4fbc-ac3d-d2eb163ec6f0" href="/marketplace" data-view-component="true" class="ActionListContent ActionListContent--visual16">
        <span class="ActionListItem-visual ActionListItem-visual--leading">
          <svg aria-hidden="true" height="16" viewBox="0 0 16 16" version="1.1" width="16" data-view-component="true" class="octicon octicon-gift">
    <path d="M2 2.75A2.75 2.75 0 0 1 4.75 0c.983 0 1.873.42 2.57 1.232.268.318.497.668.68 1.042.183-.375.411-.725.68-1.044C9.376.42 10.266 0 11.25 0a2.75 2.75 0 0 1 2.45 4h.55c.966 0 1.75.784 1.75 1.75v2c0 .698-.409 1.301-1 1.582v4.918A1.75 1.75 0 0 1 13.25 16H2.75A1.75 1.75 0 0 1 1 14.25V9.332C.409 9.05 0 8.448 0 7.75v-2C0 4.784.784 4 1.75 4h.55c-.192-.375-.3-.8-.3-1.25ZM7.25 9.5H2.5v4.75c0 .138.112.25.25.25h4.5Zm1.5 0v5h4.5a.25.25 0 0 0 .25-.25V9.5Zm0-4V8h5.5a.25.25 0 0 0 .25-.25v-2a.25.25 0 0 0-.25-.25Zm-7 0a.25.25 0 0 0-.25.25v2c0 .138.112.25.25.25h5.5V5.5h-5.5Zm3-4a1.25 1.25 0 0 0 0 2.5h2.309c-.233-.818-.542-1.401-.878-1.793-.43-.502-.915-.707-1.431-.707ZM8.941 4h2.309a1.25 1.25 0 0 0 0-2.5c-.516 0-1 .205-1.43.707-.337.392-.646.975-.879 1.793Z"></path>
</svg>
        </span>
      
        <span data-view-component="true" class="ActionListItem-label">
          Marketplace
</span></a>
  
  
</li>

</ul>  </nav-list>
</nav>

      <div data-view-component="true" class="my-3 d-flex flex-justify-center height-full">
        <svg style="box-sizing: content-box; color: var(--color-icon-primary);" width="16" height="16" viewBox="0 0 16 16" fill="none" data-view-component="true" class="anim-rotate">
  <circle cx="8" cy="8" r="7" stroke="currentColor" stroke-opacity="0.25" stroke-width="2" vector-effect="non-scaling-stroke" fill="none" />
  <path d="M15 8a7.002 7.002 0 00-7-7" stroke="currentColor" stroke-width="2" stroke-linecap="round" vector-effect="non-scaling-stroke" />
</svg>
</div>
</div>
      <div data-view-component="true" class="Overlay-footer Overlay-footer--alignEnd d-block pt-0">      <li role="presentation" aria-hidden="true" data-view-component="true" class="ActionList-sectionDivider mt-0 mb-1"></li>

        <nav aria-label="Additional navigation" data-view-component="true" class="ActionList px-0 flex-1">
  
  <nav-list>
    <ul data-view-component="true" class="ActionListWrap">
        
          
<li data-item-id="" data-targets="nav-list.items" data-view-component="true" class="ActionListItem">
    
    <a data-analytics-event="{&quot;category&quot;:&quot;Global navigation&quot;,&quot;action&quot;:&quot;FEEDBACK&quot;,&quot;label&quot;:null}" id="item-2e9f4ad9-a2e0-4515-b259-e8f22c3373b0" href="https://gh.io/navigation-update" data-view-component="true" class="ActionListContent ActionListContent--visual16">
        <span class="ActionListItem-visual ActionListItem-visual--leading">
          <svg aria-hidden="true" height="16" viewBox="0 0 16 16" version="1.1" width="16" data-view-component="true" class="octicon octicon-comment-discussion">
    <path d="M1.75 1h8.5c.966 0 1.75.784 1.75 1.75v5.5A1.75 1.75 0 0 1 10.25 10H7.061l-2.574 2.573A1.458 1.458 0 0 1 2 11.543V10h-.25A1.75 1.75 0 0 1 0 8.25v-5.5C0 1.784.784 1 1.75 1ZM1.5 2.75v5.5c0 .138.112.25.25.25h1a.75.75 0 0 1 .75.75v2.19l2.72-2.72a.749.749 0 0 1 .53-.22h3.5a.25.25 0 0 0 .25-.25v-5.5a.25.25 0 0 0-.25-.25h-8.5a.25.25 0 0 0-.25.25Zm13 2a.25.25 0 0 0-.25-.25h-.5a.75.75 0 0 1 0-1.5h.5c.966 0 1.75.784 1.75 1.75v5.5A1.75 1.75 0 0 1 14.25 12H14v1.543a1.458 1.458 0 0 1-2.487 1.03L9.22 12.28a.749.749 0 0 1 .326-1.275.749.749 0 0 1 .734.215l2.22 2.22v-2.19a.75.75 0 0 1 .75-.75h1a.25.25 0 0 0 .25-.25Z"></path>
</svg>
        </span>
      
        <span data-view-component="true" class="ActionListItem-label">
          Give new navigation feedback
</span>        <span class="ActionListItem-visual ActionListItem-visual--trailing">
          <span title="Beta" data-view-component="true" class="Counter color-bg-default color-border-success-emphasis color-fg-success">Beta</span>
        </span>
</a>
  
  
</li>

</ul>  </nav-list>
</nav>

      <div data-view-component="true" class="px-2">      <p class="color-fg-subtle text-small text-light">&copy; 2023 GitHub, Inc.</p>

      <div data-view-component="true" class="d-flex text-small text-light">
          <a target="_blank" href="/about" data-view-component="true" class="Link mr-2">About</a>
          <a target="_blank" href="https://github.blog" data-view-component="true" class="Link mr-2">Blog</a>
          <a target="_blank" href="https://docs.github.com/site-policy/github-terms/github-terms-of-service" data-view-component="true" class="Link mr-2">Terms</a>
          <a target="_blank" href="https://docs.github.com/site-policy/privacy-policies/github-privacy-statement" data-view-component="true" class="Link mr-2">Privacy</a>
          <a target="_blank" href="/security" data-view-component="true" class="Link mr-2">Security</a>
        <a target="_blank" href="https://www.githubstatus.com/" data-view-component="true" class="Link mr-3">Status</a>
</div></div>
</div>
</modal-dialog></div>

  </include-fragment>
</deferred-side-panel>

        <a
          class="AppHeader-logo ml-2"
          href="https://github.com/"
          data-hotkey="g d"
          aria-label="Homepage "
          data-turbo="false"
          data-analytics-event="{&quot;category&quot;:&quot;Header&quot;,&quot;action&quot;:&quot;go to dashboard&quot;,&quot;label&quot;:&quot;icon:logo&quot;}"
        >
          <svg height="32" aria-hidden="true" viewBox="0 0 16 16" version="1.1" width="32" data-view-component="true" class="octicon octicon-mark-github v-align-middle color-fg-default">
    <path d="M8 0c4.42 0 8 3.58 8 8a8.013 8.013 0 0 1-5.45 7.59c-.4.08-.55-.17-.55-.38 0-.27.01-1.13.01-2.2 0-.75-.25-1.23-.54-1.48 1.78-.2 3.65-.88 3.65-3.95 0-.88-.31-1.59-.82-2.15.08-.2.36-1.02-.08-2.12 0 0-.67-.22-2.2.82-.64-.18-1.32-.27-2-.27-.68 0-1.36.09-2 .27-1.53-1.03-2.2-.82-2.2-.82-.44 1.1-.16 1.92-.08 2.12-.51.56-.82 1.28-.82 2.15 0 3.06 1.86 3.75 3.64 3.95-.23.2-.44.55-.51 1.07-.46.21-1.61.55-2.33-.66-.15-.24-.6-.83-1.23-.82-.67.01-.27.38.01.53.34.19.73.9.82 1.13.16.45.68 1.31 2.69.94 0 .67.01 1.3.01 1.49 0 .21-.15.45-.55.38A7.995 7.995 0 0 1 0 8c0-4.42 3.58-8 8-8Z"></path>
</svg>
        </a>

          <div class="AppHeader-context" >
  <div class="AppHeader-context-compact">
        <button aria-expanded="false" aria-haspopup="dialog" aria-label="Page context: jnliou / project4" id="dialog-show-context-region-dialog" data-show-dialog-id="context-region-dialog" type="button" data-view-component="true" class="AppHeader-context-compact-trigger Truncate Button--secondary Button--medium Button box-shadow-none">    <span class="Button-content">
      <span class="Button-label"><span class="AppHeader-context-compact-lead">
                <span class="AppHeader-context-compact-parentItem">jnliou</span>
                <span class="AppHeader-context-compact-separator">&nbsp;/</span>

            </span>

            <strong class="AppHeader-context-compact-mainItem d-flex flex-items-center Truncate" >
  <span class="Truncate-text ">project4</span>

</strong></span>
    </span>
</button>  

<div class="Overlay--hidden Overlay-backdrop--center" data-modal-dialog-overlay>
  <modal-dialog role="dialog" id="context-region-dialog" aria-modal="true" aria-disabled="true" aria-labelledby="context-region-dialog-title" aria-describedby="context-region-dialog-description" data-view-component="true" class="Overlay Overlay-whenNarrow Overlay--size-medium Overlay--motion-scaleFade">
    <div data-view-component="true" class="Overlay-header">
  <div class="Overlay-headerContentWrap">
    <div class="Overlay-titleWrap">
      <h1 class="Overlay-title " id="context-region-dialog-title">
        Navigate back to
      </h1>
    </div>
    <div class="Overlay-actionWrap">
      <button data-close-dialog-id="context-region-dialog" aria-label="Close" type="button" data-view-component="true" class="close-button Overlay-closeButton"><svg aria-hidden="true" height="16" viewBox="0 0 16 16" version="1.1" width="16" data-view-component="true" class="octicon octicon-x">
    <path d="M3.72 3.72a.75.75 0 0 1 1.06 0L8 6.94l3.22-3.22a.749.749 0 0 1 1.275.326.749.749 0 0 1-.215.734L9.06 8l3.22 3.22a.749.749 0 0 1-.326 1.275.749.749 0 0 1-.734-.215L8 9.06l-3.22 3.22a.751.751 0 0 1-1.042-.018.751.751 0 0 1-.018-1.042L6.94 8 3.72 4.78a.75.75 0 0 1 0-1.06Z"></path>
</svg></button>
    </div>
  </div>
</div>
      <div data-view-component="true" class="Overlay-body">          <ul role="list" class="list-style-none" >
    <li>
      <a data-analytics-event="{&quot;category&quot;:&quot;SiteHeaderComponent&quot;,&quot;action&quot;:&quot;context_region_crumb&quot;,&quot;label&quot;:&quot;jnliou&quot;,&quot;screen_size&quot;:&quot;compact&quot;}" href="/jnliou" data-view-component="true" class="Link--primary Truncate d-flex flex-items-center py-1">
        <span class="AppHeader-context-item-label Truncate-text ">
            <svg aria-hidden="true" height="12" viewBox="0 0 16 16" version="1.1" width="12" data-view-component="true" class="octicon octicon-person mr-1">
    <path d="M10.561 8.073a6.005 6.005 0 0 1 3.432 5.142.75.75 0 1 1-1.498.07 4.5 4.5 0 0 0-8.99 0 .75.75 0 0 1-1.498-.07 6.004 6.004 0 0 1 3.431-5.142 3.999 3.999 0 1 1 5.123 0ZM10.5 5a2.5 2.5 0 1 0-5 0 2.5 2.5 0 0 0 5 0Z"></path>
</svg>

          jnliou
        </span>

</a>
    </li>
    <li>
      <a data-analytics-event="{&quot;category&quot;:&quot;SiteHeaderComponent&quot;,&quot;action&quot;:&quot;context_region_crumb&quot;,&quot;label&quot;:&quot;project4&quot;,&quot;screen_size&quot;:&quot;compact&quot;}" href="/jnliou/project4" data-view-component="true" class="Link--primary Truncate d-flex flex-items-center py-1">
        <span class="AppHeader-context-item-label Truncate-text ">
            <svg aria-hidden="true" height="12" viewBox="0 0 16 16" version="1.1" width="12" data-view-component="true" class="octicon octicon-repo mr-1">
    <path d="M2 2.5A2.5 2.5 0 0 1 4.5 0h8.75a.75.75 0 0 1 .75.75v12.5a.75.75 0 0 1-.75.75h-2.5a.75.75 0 0 1 0-1.5h1.75v-2h-8a1 1 0 0 0-.714 1.7.75.75 0 1 1-1.072 1.05A2.495 2.495 0 0 1 2 11.5Zm10.5-1h-8a1 1 0 0 0-1 1v6.708A2.486 2.486 0 0 1 4.5 9h8ZM5 12.25a.25.25 0 0 1 .25-.25h3.5a.25.25 0 0 1 .25.25v3.25a.25.25 0 0 1-.4.2l-1.45-1.087a.249.249 0 0 0-.3 0L5.4 15.7a.25.25 0 0 1-.4-.2Z"></path>
</svg>

          project4
        </span>

</a>
    </li>
</ul>

</div>
      
</modal-dialog></div>
  </div>

  <div class="AppHeader-context-full">
    <nav role="navigation" aria-label="Page context">
      <ul role="list" class="list-style-none" >
    <li>
      <a data-analytics-event="{&quot;category&quot;:&quot;SiteHeaderComponent&quot;,&quot;action&quot;:&quot;context_region_crumb&quot;,&quot;label&quot;:&quot;jnliou&quot;,&quot;screen_size&quot;:&quot;full&quot;}" data-hovercard-type="user" data-hovercard-url="/users/jnliou/hovercard" data-octo-click="hovercard-link-click" data-octo-dimensions="link_type:self" href="/jnliou" data-view-component="true" class="AppHeader-context-item">
        <span class="AppHeader-context-item-label  ">

          jnliou
        </span>

</a>
        <span class="AppHeader-context-item-separator">/</span>
    </li>
    <li>
      <a data-analytics-event="{&quot;category&quot;:&quot;SiteHeaderComponent&quot;,&quot;action&quot;:&quot;context_region_crumb&quot;,&quot;label&quot;:&quot;project4&quot;,&quot;screen_size&quot;:&quot;full&quot;}" href="/jnliou/project4" data-view-component="true" class="AppHeader-context-item">
        <span class="AppHeader-context-item-label  ">

          project4
        </span>

</a>
    </li>
</ul>

    </nav>
  </div>
</div>

      </div>
      <div class="AppHeader-globalBar-end">
          <div class="AppHeader-search" >
              


<qbsearch-input class="search-input" data-scope="repo:jnliou/project4" data-custom-scopes-path="/search/custom_scopes" data-delete-custom-scopes-csrf="c99lG6e4boQVZdFkyjXmfsdMCBrIlrU0Kg72NeOr4BGLdxO_vGaNcwrO7Z89oFwd-9_BOwqBLAdkRoq43FFhTg" data-max-custom-scopes="10" data-header-redesign-enabled="true" data-initial-value="" data-blackbird-suggestions-path="/search/suggestions" data-jump-to-suggestions-path="/_graphql/GetSuggestedNavigationDestinations" data-current-repository="jnliou/project4" data-current-org="" data-current-owner="jnliou" data-logged-in="true">
  <div
    class="search-input-container search-with-dialog position-relative d-flex flex-row flex-items-center height-auto color-bg-transparent border-0 color-fg-subtle mx-0"
    data-action="click:qbsearch-input#searchInputContainerClicked"
  >
      
            <button type="button" data-action="click:qbsearch-input#handleExpand" class="AppHeader-button AppHeader-search-whenNarrow" aria-label="Search or jump to…" aria-expanded="false" aria-haspopup="dialog">
            <svg aria-hidden="true" height="16" viewBox="0 0 16 16" version="1.1" width="16" data-view-component="true" class="octicon octicon-search">
    <path d="M10.68 11.74a6 6 0 0 1-7.922-8.982 6 6 0 0 1 8.982 7.922l3.04 3.04a.749.749 0 0 1-.326 1.275.749.749 0 0 1-.734-.215ZM11.5 7a4.499 4.499 0 1 0-8.997 0A4.499 4.499 0 0 0 11.5 7Z"></path>
</svg>
          </button>


<div class="AppHeader-search-whenRegular">
  <div class="AppHeader-search-wrap AppHeader-search-wrap--hasTrailing">
    <div class="AppHeader-search-control">
      <label
        for="AppHeader-searchInput"
        aria-label="Search or jump to…"
        class="AppHeader-search-visual--leading"
      >
        <svg aria-hidden="true" height="16" viewBox="0 0 16 16" version="1.1" width="16" data-view-component="true" class="octicon octicon-search">
    <path d="M10.68 11.74a6 6 0 0 1-7.922-8.982 6 6 0 0 1 8.982 7.922l3.04 3.04a.749.749 0 0 1-.326 1.275.749.749 0 0 1-.734-.215ZM11.5 7a4.499 4.499 0 1 0-8.997 0A4.499 4.499 0 0 0 11.5 7Z"></path>
</svg>
      </label>

                <button
            type="button"
            data-target="qbsearch-input.inputButton"
            data-action="click:qbsearch-input#handleExpand"
            class="AppHeader-searchButton form-control input-contrast text-left color-fg-subtle no-wrap"
            data-hotkey="s,/"
            data-analytics-event="{&quot;category&quot;:&quot;Global navigation&quot;,&quot;action&quot;:&quot;SEARCH&quot;,&quot;label&quot;:null}"
          >
            <div class="overflow-hidden">
              <span id="qb-input-query" data-target="qbsearch-input.inputButtonText">
                  Type <kbd class="AppHeader-search-kbd">/</kbd> to search
              </span>
            </div>
          </button>

    </div>


      <button type="button" id="AppHeader-commandPalette-button" class="AppHeader-search-action--trailing js-activate-command-palette" data-analytics-event="{&quot;category&quot;:&quot;SiteHeaderComponent&quot;,&quot;action&quot;:&quot;command_palette&quot;,&quot;label&quot;:&quot;open command palette&quot;}">
        <svg aria-hidden="true" height="16" viewBox="0 0 16 16" version="1.1" width="16" data-view-component="true" class="octicon octicon-command-palette">
    <path d="m6.354 8.04-4.773 4.773a.75.75 0 1 0 1.061 1.06L7.945 8.57a.75.75 0 0 0 0-1.06L2.642 2.206a.75.75 0 0 0-1.06 1.061L6.353 8.04ZM8.75 11.5a.75.75 0 0 0 0 1.5h5.5a.75.75 0 0 0 0-1.5h-5.5Z"></path>
</svg>
      </button>

      <tool-tip id="tooltip-4f20e0fe-b023-4888-b44e-637fe95b15b9" for="AppHeader-commandPalette-button" popover="manual" data-direction="s" data-type="label" data-view-component="true" class="sr-only position-absolute">Command palette</tool-tip>
  </div>
</div>

    <input type="hidden" name="type" class="js-site-search-type-field">

    
<div class="Overlay--hidden " data-modal-dialog-overlay>
  <modal-dialog data-action="close:qbsearch-input#handleClose cancel:qbsearch-input#handleClose" data-target="qbsearch-input.searchSuggestionsDialog" role="dialog" id="search-suggestions-dialog" aria-modal="true" aria-labelledby="search-suggestions-dialog-header" data-view-component="true" class="Overlay Overlay--width-medium Overlay--height-auto">
      <h1 id="search-suggestions-dialog-header" class="sr-only">Search code, repositories, users, issues, pull requests...</h1>
    <div class="Overlay-body Overlay-body--paddingNone">
      
          <div data-view-component="true">        <div class="search-suggestions position-absolute width-full color-shadow-large border color-fg-default color-bg-default overflow-hidden d-flex flex-column query-builder-container"
          style="border-radius: 12px;"
          data-target="qbsearch-input.queryBuilderContainer"
          hidden
        >
          <!-- '"` --><!-- </textarea></xmp> --></option></form><form id="query-builder-test-form" action="" accept-charset="UTF-8" method="get">
  <query-builder data-target="qbsearch-input.queryBuilder" id="query-builder-query-builder-test" data-filter-key=":" data-view-component="true" class="QueryBuilder search-query-builder">
    <div class="FormControl FormControl--fullWidth">
      <label id="query-builder-test-label" for="query-builder-test" class="FormControl-label sr-only">
        Search
      </label>
      <div
        class="QueryBuilder-StyledInput width-fit "
        data-target="query-builder.styledInput"
      >
          <span id="query-builder-test-leadingvisual-wrap" class="FormControl-input-leadingVisualWrap QueryBuilder-leadingVisualWrap">
            <svg aria-hidden="true" height="16" viewBox="0 0 16 16" version="1.1" width="16" data-view-component="true" class="octicon octicon-search FormControl-input-leadingVisual">
    <path d="M10.68 11.74a6 6 0 0 1-7.922-8.982 6 6 0 0 1 8.982 7.922l3.04 3.04a.749.749 0 0 1-.326 1.275.749.749 0 0 1-.734-.215ZM11.5 7a4.499 4.499 0 1 0-8.997 0A4.499 4.499 0 0 0 11.5 7Z"></path>
</svg>
          </span>
        <div data-target="query-builder.styledInputContainer" class="QueryBuilder-StyledInputContainer">
          <div
            aria-hidden="true"
            class="QueryBuilder-StyledInputContent"
            data-target="query-builder.styledInputContent"
          ></div>
          <div class="QueryBuilder-InputWrapper">
            <div aria-hidden="true" class="QueryBuilder-Sizer" data-target="query-builder.sizer"></div>
            <input id="query-builder-test" name="query-builder-test" value="" autocomplete="off" type="text" role="combobox" spellcheck="false" aria-expanded="false" aria-describedby="validation-3935bb3b-979d-45da-92c6-d13f1561a7bb" data-target="query-builder.input" data-action="
          input:query-builder#inputChange
          blur:query-builder#inputBlur
          keydown:query-builder#inputKeydown
          focus:query-builder#inputFocus
        " data-view-component="true" class="FormControl-input QueryBuilder-Input FormControl-medium" />
          </div>
        </div>
          <span class="sr-only" id="query-builder-test-clear">Clear</span>
          
  <button role="button" id="query-builder-test-clear-button" aria-labelledby="query-builder-test-clear query-builder-test-label" data-target="query-builder.clearButton" data-action="
                click:query-builder#clear
                focus:query-builder#clearButtonFocus
                blur:query-builder#clearButtonBlur
              " variant="small" hidden="hidden" type="button" data-view-component="true" class="Button Button--iconOnly Button--invisible Button--medium mr-1 px-2 py-0 d-flex flex-items-center rounded-1 color-fg-muted">    <svg aria-hidden="true" height="16" viewBox="0 0 16 16" version="1.1" width="16" data-view-component="true" class="octicon octicon-x-circle-fill Button-visual">
    <path d="M2.343 13.657A8 8 0 1 1 13.658 2.343 8 8 0 0 1 2.343 13.657ZM6.03 4.97a.751.751 0 0 0-1.042.018.751.751 0 0 0-.018 1.042L6.94 8 4.97 9.97a.749.749 0 0 0 .326 1.275.749.749 0 0 0 .734-.215L8 9.06l1.97 1.97a.749.749 0 0 0 1.275-.326.749.749 0 0 0-.215-.734L9.06 8l1.97-1.97a.749.749 0 0 0-.326-1.275.749.749 0 0 0-.734.215L8 6.94Z"></path>
</svg>
</button>  

      </div>
      <template id="search-icon">
  <svg aria-hidden="true" height="16" viewBox="0 0 16 16" version="1.1" width="16" data-view-component="true" class="octicon octicon-search">
    <path d="M10.68 11.74a6 6 0 0 1-7.922-8.982 6 6 0 0 1 8.982 7.922l3.04 3.04a.749.749 0 0 1-.326 1.275.749.749 0 0 1-.734-.215ZM11.5 7a4.499 4.499 0 1 0-8.997 0A4.499 4.499 0 0 0 11.5 7Z"></path>
</svg>
</template>

<template id="code-icon">
  <svg aria-hidden="true" height="16" viewBox="0 0 16 16" version="1.1" width="16" data-view-component="true" class="octicon octicon-code">
    <path d="m11.28 3.22 4.25 4.25a.75.75 0 0 1 0 1.06l-4.25 4.25a.749.749 0 0 1-1.275-.326.749.749 0 0 1 .215-.734L13.94 8l-3.72-3.72a.749.749 0 0 1 .326-1.275.749.749 0 0 1 .734.215Zm-6.56 0a.751.751 0 0 1 1.042.018.751.751 0 0 1 .018 1.042L2.06 8l3.72 3.72a.749.749 0 0 1-.326 1.275.749.749 0 0 1-.734-.215L.47 8.53a.75.75 0 0 1 0-1.06Z"></path>
</svg>
</template>

<template id="file-code-icon">
  <svg aria-hidden="true" height="16" viewBox="0 0 16 16" version="1.1" width="16" data-view-component="true" class="octicon octicon-file-code">
    <path d="M4 1.75C4 .784 4.784 0 5.75 0h5.586c.464 0 .909.184 1.237.513l2.914 2.914c.329.328.513.773.513 1.237v8.586A1.75 1.75 0 0 1 14.25 15h-9a.75.75 0 0 1 0-1.5h9a.25.25 0 0 0 .25-.25V6h-2.75A1.75 1.75 0 0 1 10 4.25V1.5H5.75a.25.25 0 0 0-.25.25v2.5a.75.75 0 0 1-1.5 0Zm1.72 4.97a.75.75 0 0 1 1.06 0l2 2a.75.75 0 0 1 0 1.06l-2 2a.749.749 0 0 1-1.275-.326.749.749 0 0 1 .215-.734l1.47-1.47-1.47-1.47a.75.75 0 0 1 0-1.06ZM3.28 7.78 1.81 9.25l1.47 1.47a.751.751 0 0 1-.018 1.042.751.751 0 0 1-1.042.018l-2-2a.75.75 0 0 1 0-1.06l2-2a.751.751 0 0 1 1.042.018.751.751 0 0 1 .018 1.042Zm8.22-6.218V4.25c0 .138.112.25.25.25h2.688l-.011-.013-2.914-2.914-.013-.011Z"></path>
</svg>
</template>

<template id="history-icon">
  <svg aria-hidden="true" height="16" viewBox="0 0 16 16" version="1.1" width="16" data-view-component="true" class="octicon octicon-history">
    <path d="m.427 1.927 1.215 1.215a8.002 8.002 0 1 1-1.6 5.685.75.75 0 1 1 1.493-.154 6.5 6.5 0 1 0 1.18-4.458l1.358 1.358A.25.25 0 0 1 3.896 6H.25A.25.25 0 0 1 0 5.75V2.104a.25.25 0 0 1 .427-.177ZM7.75 4a.75.75 0 0 1 .75.75v2.992l2.028.812a.75.75 0 0 1-.557 1.392l-2.5-1A.751.751 0 0 1 7 8.25v-3.5A.75.75 0 0 1 7.75 4Z"></path>
</svg>
</template>

<template id="repo-icon">
  <svg aria-hidden="true" height="16" viewBox="0 0 16 16" version="1.1" width="16" data-view-component="true" class="octicon octicon-repo">
    <path d="M2 2.5A2.5 2.5 0 0 1 4.5 0h8.75a.75.75 0 0 1 .75.75v12.5a.75.75 0 0 1-.75.75h-2.5a.75.75 0 0 1 0-1.5h1.75v-2h-8a1 1 0 0 0-.714 1.7.75.75 0 1 1-1.072 1.05A2.495 2.495 0 0 1 2 11.5Zm10.5-1h-8a1 1 0 0 0-1 1v6.708A2.486 2.486 0 0 1 4.5 9h8ZM5 12.25a.25.25 0 0 1 .25-.25h3.5a.25.25 0 0 1 .25.25v3.25a.25.25 0 0 1-.4.2l-1.45-1.087a.249.249 0 0 0-.3 0L5.4 15.7a.25.25 0 0 1-.4-.2Z"></path>
</svg>
</template>

<template id="bookmark-icon">
  <svg aria-hidden="true" height="16" viewBox="0 0 16 16" version="1.1" width="16" data-view-component="true" class="octicon octicon-bookmark">
    <path d="M3 2.75C3 1.784 3.784 1 4.75 1h6.5c.966 0 1.75.784 1.75 1.75v11.5a.75.75 0 0 1-1.227.579L8 11.722l-3.773 3.107A.751.751 0 0 1 3 14.25Zm1.75-.25a.25.25 0 0 0-.25.25v9.91l3.023-2.489a.75.75 0 0 1 .954 0l3.023 2.49V2.75a.25.25 0 0 0-.25-.25Z"></path>
</svg>
</template>

<template id="plus-circle-icon">
  <svg aria-hidden="true" height="16" viewBox="0 0 16 16" version="1.1" width="16" data-view-component="true" class="octicon octicon-plus-circle">
    <path d="M8 0a8 8 0 1 1 0 16A8 8 0 0 1 8 0ZM1.5 8a6.5 6.5 0 1 0 13 0 6.5 6.5 0 0 0-13 0Zm7.25-3.25v2.5h2.5a.75.75 0 0 1 0 1.5h-2.5v2.5a.75.75 0 0 1-1.5 0v-2.5h-2.5a.75.75 0 0 1 0-1.5h2.5v-2.5a.75.75 0 0 1 1.5 0Z"></path>
</svg>
</template>

<template id="circle-icon">
  <svg aria-hidden="true" height="16" viewBox="0 0 16 16" version="1.1" width="16" data-view-component="true" class="octicon octicon-dot-fill">
    <path d="M8 4a4 4 0 1 1 0 8 4 4 0 0 1 0-8Z"></path>
</svg>
</template>

<template id="trash-icon">
  <svg aria-hidden="true" height="16" viewBox="0 0 16 16" version="1.1" width="16" data-view-component="true" class="octicon octicon-trash">
    <path d="M11 1.75V3h2.25a.75.75 0 0 1 0 1.5H2.75a.75.75 0 0 1 0-1.5H5V1.75C5 .784 5.784 0 6.75 0h2.5C10.216 0 11 .784 11 1.75ZM4.496 6.675l.66 6.6a.25.25 0 0 0 .249.225h5.19a.25.25 0 0 0 .249-.225l.66-6.6a.75.75 0 0 1 1.492.149l-.66 6.6A1.748 1.748 0 0 1 10.595 15h-5.19a1.75 1.75 0 0 1-1.741-1.575l-.66-6.6a.75.75 0 1 1 1.492-.15ZM6.5 1.75V3h3V1.75a.25.25 0 0 0-.25-.25h-2.5a.25.25 0 0 0-.25.25Z"></path>
</svg>
</template>

<template id="team-icon">
  <svg aria-hidden="true" height="16" viewBox="0 0 16 16" version="1.1" width="16" data-view-component="true" class="octicon octicon-people">
    <path d="M2 5.5a3.5 3.5 0 1 1 5.898 2.549 5.508 5.508 0 0 1 3.034 4.084.75.75 0 1 1-1.482.235 4 4 0 0 0-7.9 0 .75.75 0 0 1-1.482-.236A5.507 5.507 0 0 1 3.102 8.05 3.493 3.493 0 0 1 2 5.5ZM11 4a3.001 3.001 0 0 1 2.22 5.018 5.01 5.01 0 0 1 2.56 3.012.749.749 0 0 1-.885.954.752.752 0 0 1-.549-.514 3.507 3.507 0 0 0-2.522-2.372.75.75 0 0 1-.574-.73v-.352a.75.75 0 0 1 .416-.672A1.5 1.5 0 0 0 11 5.5.75.75 0 0 1 11 4Zm-5.5-.5a2 2 0 1 0-.001 3.999A2 2 0 0 0 5.5 3.5Z"></path>
</svg>
</template>

<template id="project-icon">
  <svg aria-hidden="true" height="16" viewBox="0 0 16 16" version="1.1" width="16" data-view-component="true" class="octicon octicon-project">
    <path d="M1.75 0h12.5C15.216 0 16 .784 16 1.75v12.5A1.75 1.75 0 0 1 14.25 16H1.75A1.75 1.75 0 0 1 0 14.25V1.75C0 .784.784 0 1.75 0ZM1.5 1.75v12.5c0 .138.112.25.25.25h12.5a.25.25 0 0 0 .25-.25V1.75a.25.25 0 0 0-.25-.25H1.75a.25.25 0 0 0-.25.25ZM11.75 3a.75.75 0 0 1 .75.75v7.5a.75.75 0 0 1-1.5 0v-7.5a.75.75 0 0 1 .75-.75Zm-8.25.75a.75.75 0 0 1 1.5 0v5.5a.75.75 0 0 1-1.5 0ZM8 3a.75.75 0 0 1 .75.75v3.5a.75.75 0 0 1-1.5 0v-3.5A.75.75 0 0 1 8 3Z"></path>
</svg>
</template>

<template id="pencil-icon">
  <svg aria-hidden="true" height="16" viewBox="0 0 16 16" version="1.1" width="16" data-view-component="true" class="octicon octicon-pencil">
    <path d="M11.013 1.427a1.75 1.75 0 0 1 2.474 0l1.086 1.086a1.75 1.75 0 0 1 0 2.474l-8.61 8.61c-.21.21-.47.364-.756.445l-3.251.93a.75.75 0 0 1-.927-.928l.929-3.25c.081-.286.235-.547.445-.758l8.61-8.61Zm.176 4.823L9.75 4.81l-6.286 6.287a.253.253 0 0 0-.064.108l-.558 1.953 1.953-.558a.253.253 0 0 0 .108-.064Zm1.238-3.763a.25.25 0 0 0-.354 0L10.811 3.75l1.439 1.44 1.263-1.263a.25.25 0 0 0 0-.354Z"></path>
</svg>
</template>

        <div class="position-relative">
                <ul
                  role="listbox"
                  class="ActionListWrap QueryBuilder-ListWrap"
                  aria-label="Suggestions"
                  data-action="
                    combobox-commit:query-builder#comboboxCommit
                    mousedown:query-builder#resultsMousedown
                  "
                  data-target="query-builder.resultsList"
                  data-persist-list=false
                  id="query-builder-test-results"
                ></ul>
        </div>
      <div class="FormControl-inlineValidation" id="validation-3935bb3b-979d-45da-92c6-d13f1561a7bb" hidden="hidden">
        <span class="FormControl-inlineValidation--visual">
          <svg aria-hidden="true" height="12" viewBox="0 0 12 12" version="1.1" width="12" data-view-component="true" class="octicon octicon-alert-fill">
    <path d="M4.855.708c.5-.896 1.79-.896 2.29 0l4.675 8.351a1.312 1.312 0 0 1-1.146 1.954H1.33A1.313 1.313 0 0 1 .183 9.058ZM7 7V3H5v4Zm-1 3a1 1 0 1 0 0-2 1 1 0 0 0 0 2Z"></path>
</svg>
        </span>
        <span></span>
</div>    </div>
    <div data-target="query-builder.screenReaderFeedback" aria-live="polite" aria-atomic="true" class="sr-only"></div>
</query-builder></form>
          <div class="d-flex flex-row color-fg-muted px-3 text-small color-bg-default search-feedback-prompt">
            <a target="_blank" href="https://docs.github.com/en/search-github/github-code-search/understanding-github-code-search-syntax" data-view-component="true" class="Link color-fg-accent text-normal ml-2">
              Search syntax tips
</a>            <div class="d-flex flex-1"></div>
                <button data-action="click:qbsearch-input#showFeedbackDialog" type="button" data-view-component="true" class="Button--link Button--medium Button color-fg-accent text-normal ml-2">    <span class="Button-content">
      <span class="Button-label">Give feedback</span>
    </span>
</button>  
          </div>
        </div>
</div>

    </div>
</modal-dialog></div>
  </div>
  <div data-action="click:qbsearch-input#retract" class="dark-backdrop position-fixed" hidden data-target="qbsearch-input.darkBackdrop"></div>
  <div class="color-fg-default">
    
<div class="Overlay--hidden Overlay-backdrop--center" data-modal-dialog-overlay>
  <modal-dialog data-target="qbsearch-input.feedbackDialog" data-action="close:qbsearch-input#handleDialogClose cancel:qbsearch-input#handleDialogClose" role="dialog" id="feedback-dialog" aria-modal="true" aria-disabled="true" aria-labelledby="feedback-dialog-title" aria-describedby="feedback-dialog-description" data-view-component="true" class="Overlay Overlay-whenNarrow Overlay--size-medium Overlay--motion-scaleFade">
    <div data-view-component="true" class="Overlay-header">
  <div class="Overlay-headerContentWrap">
    <div class="Overlay-titleWrap">
      <h1 class="Overlay-title " id="feedback-dialog-title">
        Provide feedback
      </h1>
    </div>
    <div class="Overlay-actionWrap">
      <button data-close-dialog-id="feedback-dialog" aria-label="Close" type="button" data-view-component="true" class="close-button Overlay-closeButton"><svg aria-hidden="true" height="16" viewBox="0 0 16 16" version="1.1" width="16" data-view-component="true" class="octicon octicon-x">
    <path d="M3.72 3.72a.75.75 0 0 1 1.06 0L8 6.94l3.22-3.22a.749.749 0 0 1 1.275.326.749.749 0 0 1-.215.734L9.06 8l3.22 3.22a.749.749 0 0 1-.326 1.275.749.749 0 0 1-.734-.215L8 9.06l-3.22 3.22a.751.751 0 0 1-1.042-.018.751.751 0 0 1-.018-1.042L6.94 8 3.72 4.78a.75.75 0 0 1 0-1.06Z"></path>
</svg></button>
    </div>
  </div>
</div>
      <div data-view-component="true" class="Overlay-body">        <!-- '"` --><!-- </textarea></xmp> --></option></form><form id="code-search-feedback-form" data-turbo="false" action="/search/feedback" accept-charset="UTF-8" method="post"><input type="hidden" name="authenticity_token" value="JTNYny1uQOrzlY1kjQQeg7AxT38dOFF1TqGcuw7zt5Gu716mIudyvvRb9iDm2ZYTO0fTXFfSOHDdX3hGQXADyg" />
          <p>We read every piece of feedback, and take your input very seriously.</p>
          <textarea name="feedback" class="form-control width-full mb-2" style="height: 120px" id="feedback"></textarea>
          <input name="include_email" id="include_email" aria-label="Include my email address so I can be contacted" class="form-control mr-2" type="checkbox">
          <label for="include_email" style="font-weight: normal">Include my email address so I can be contacted</label>
</form></div>
      <div data-view-component="true" class="Overlay-footer Overlay-footer--alignEnd">          <button data-close-dialog-id="feedback-dialog" type="button" data-view-component="true" class="btn">    Cancel
</button>
          <button form="code-search-feedback-form" data-action="click:qbsearch-input#submitFeedback" type="submit" data-view-component="true" class="btn-primary btn">    Submit feedback
</button>
</div>
</modal-dialog></div>

    <custom-scopes data-target="qbsearch-input.customScopesManager">
    
<div class="Overlay--hidden Overlay-backdrop--center" data-modal-dialog-overlay>
  <modal-dialog data-target="custom-scopes.customScopesModalDialog" data-action="close:qbsearch-input#handleDialogClose cancel:qbsearch-input#handleDialogClose" role="dialog" id="custom-scopes-dialog" aria-modal="true" aria-disabled="true" aria-labelledby="custom-scopes-dialog-title" aria-describedby="custom-scopes-dialog-description" data-view-component="true" class="Overlay Overlay-whenNarrow Overlay--size-medium Overlay--motion-scaleFade">
    <div data-view-component="true" class="Overlay-header Overlay-header--divided">
  <div class="Overlay-headerContentWrap">
    <div class="Overlay-titleWrap">
      <h1 class="Overlay-title " id="custom-scopes-dialog-title">
        Saved searches
      </h1>
        <h2 id="custom-scopes-dialog-description" class="Overlay-description">Use saved searches to filter your results more quickly</h2>
    </div>
    <div class="Overlay-actionWrap">
      <button data-close-dialog-id="custom-scopes-dialog" aria-label="Close" type="button" data-view-component="true" class="close-button Overlay-closeButton"><svg aria-hidden="true" height="16" viewBox="0 0 16 16" version="1.1" width="16" data-view-component="true" class="octicon octicon-x">
    <path d="M3.72 3.72a.75.75 0 0 1 1.06 0L8 6.94l3.22-3.22a.749.749 0 0 1 1.275.326.749.749 0 0 1-.215.734L9.06 8l3.22 3.22a.749.749 0 0 1-.326 1.275.749.749 0 0 1-.734-.215L8 9.06l-3.22 3.22a.751.751 0 0 1-1.042-.018.751.751 0 0 1-.018-1.042L6.94 8 3.72 4.78a.75.75 0 0 1 0-1.06Z"></path>
</svg></button>
    </div>
  </div>
</div>
      <div data-view-component="true" class="Overlay-body">        <div data-target="custom-scopes.customScopesModalDialogFlash"></div>

        <div hidden class="create-custom-scope-form" data-target="custom-scopes.createCustomScopeForm">
        <!-- '"` --><!-- </textarea></xmp> --></option></form><form id="custom-scopes-dialog-form" data-turbo="false" action="/search/custom_scopes" accept-charset="UTF-8" method="post"><input type="hidden" name="authenticity_token" value="HertoI33ltDg5f9GicOezQwDP6oR-69VLZJ_aYbbkskA8TdGNsAnhT6QQrXL1w68iVZpg62CgaxI9tOFQEtveQ" />
          <div data-target="custom-scopes.customScopesModalDialogFlash"></div>

          <input type="hidden" id="custom_scope_id" name="custom_scope_id" data-target="custom-scopes.customScopesIdField">

          <div class="form-group">
            <label for="custom_scope_name">Name</label>
            <auto-check src="/search/custom_scopes/check_name" required>
              <input
                type="text"
                name="custom_scope_name"
                id="custom_scope_name"
                data-target="custom-scopes.customScopesNameField"
                class="form-control"
                autocomplete="off"
                placeholder="github-ruby"
                required
                maxlength="50">
              <input type="hidden" value="XRWf4cuICK9cSqjtuSHC3UcP2MH7Nq4mPY7XZZoWDqZGfzgoOWWGnDPOai-pt3iUItIcvUa4QID8JlLY4b8Ppw" data-csrf="true" />
            </auto-check>
          </div>

          <div class="form-group">
            <label for="custom_scope_query">Query</label>
            <input
              type="text"
              name="custom_scope_query"
              id="custom_scope_query"
              data-target="custom-scopes.customScopesQueryField"
              class="form-control"
              autocomplete="off"
              placeholder="(repo:mona/a OR repo:mona/b) AND lang:python"
              required
              maxlength="500">
          </div>

          <p class="text-small color-fg-muted">
            To see all available qualifiers, see our <a class="Link--inTextBlock" href="https://docs.github.com/en/search-github/github-code-search/understanding-github-code-search-syntax">documentation</a>.
          </p>
</form>        </div>

        <div data-target="custom-scopes.manageCustomScopesForm">
          <div data-target="custom-scopes.list"></div>
        </div>

</div>
      <div data-view-component="true" class="Overlay-footer Overlay-footer--alignEnd Overlay-footer--divided">          <button data-action="click:custom-scopes#customScopesCancel" type="button" data-view-component="true" class="btn">    Cancel
</button>
          <button form="custom-scopes-dialog-form" data-action="click:custom-scopes#customScopesSubmit" data-target="custom-scopes.customScopesSubmitButton" type="submit" data-view-component="true" class="btn-primary btn">    Create saved search
</button>
</div>
</modal-dialog></div>
    </custom-scopes>
  </div>
</qbsearch-input><input type="hidden" value="A7fapUFl5LVeqtlEno4yL5_JX_x43uKUGJpW55nFHAd_V4ec-5Z47lqGmanWRGa2XIhK-HqcPYR7m5vbxhG5Jg" data-csrf="true" class="js-data-jump-to-suggestions-path-csrf" />

          </div>

        <div class="AppHeader-actions position-relative">
          <action-menu data-select-variant="none" data-view-component="true">
  <focus-group direction="vertical" mnemonics retain>
    <div data-view-component="true" class="Button-withTooltip">  <button id="global-create-menu-button" popovertarget="global-create-menu-overlay" aria-label="Create something new" aria-controls="global-create-menu-list" aria-haspopup="true" type="button" data-view-component="true" class="AppHeader-button Button--secondary Button--small Button width-auto color-fg-muted">    <span class="Button-content">
        <span class="Button-visual Button-leadingVisual">
          <svg aria-hidden="true" height="16" viewBox="0 0 16 16" version="1.1" width="16" data-view-component="true" class="octicon octicon-plus">
    <path d="M7.75 2a.75.75 0 0 1 .75.75V7h4.25a.75.75 0 0 1 0 1.5H8.5v4.25a.75.75 0 0 1-1.5 0V8.5H2.75a.75.75 0 0 1 0-1.5H7V2.75A.75.75 0 0 1 7.75 2Z"></path>
</svg>
        </span>
      <span class="Button-label"><svg aria-hidden="true" height="16" viewBox="0 0 16 16" version="1.1" width="16" data-view-component="true" class="octicon octicon-triangle-down">
    <path d="m4.427 7.427 3.396 3.396a.25.25 0 0 0 .354 0l3.396-3.396A.25.25 0 0 0 11.396 7H4.604a.25.25 0 0 0-.177.427Z"></path>
</svg></span>
    </span>
</button>  <tool-tip id="tooltip-354a57e2-bf01-48a9-b3c3-55788d64c531" for="global-create-menu-button" popover="manual" data-direction="s" data-type="description" data-view-component="true" class="sr-only position-absolute">Create new...</tool-tip>
</div>

<anchored-position id="global-create-menu-overlay" anchor="global-create-menu-button" align="end" side="outside-bottom" anchor-offset="normal" popover="auto" data-view-component="true">
  <div data-view-component="true" class="Overlay Overlay--size-auto">
    
      
        <div data-view-component="true">
  <ul aria-labelledby="global-create-menu-button" id="global-create-menu-list" role="menu" data-view-component="true" class="ActionListWrap--inset ActionListWrap">
      <li data-analytics-event="{&quot;category&quot;:&quot;SiteHeaderComponent&quot;,&quot;action&quot;:&quot;add_dropdown&quot;,&quot;label&quot;:&quot;new repository&quot;}" data-targets="action-list.items" role="none" data-view-component="true" class="ActionListItem">
    
    <a href="/new" tabindex="-1" id="item-a85e9719-4536-4493-b6d8-d88a782affcc" role="menuitem" data-view-component="true" class="ActionListContent ActionListContent--visual16">
        <span class="ActionListItem-visual ActionListItem-visual--leading">
          <svg aria-hidden="true" height="16" viewBox="0 0 16 16" version="1.1" width="16" data-view-component="true" class="octicon octicon-repo">
    <path d="M2 2.5A2.5 2.5 0 0 1 4.5 0h8.75a.75.75 0 0 1 .75.75v12.5a.75.75 0 0 1-.75.75h-2.5a.75.75 0 0 1 0-1.5h1.75v-2h-8a1 1 0 0 0-.714 1.7.75.75 0 1 1-1.072 1.05A2.495 2.495 0 0 1 2 11.5Zm10.5-1h-8a1 1 0 0 0-1 1v6.708A2.486 2.486 0 0 1 4.5 9h8ZM5 12.25a.25.25 0 0 1 .25-.25h3.5a.25.25 0 0 1 .25.25v3.25a.25.25 0 0 1-.4.2l-1.45-1.087a.249.249 0 0 0-.3 0L5.4 15.7a.25.25 0 0 1-.4-.2Z"></path>
</svg>
        </span>
      
        <span data-view-component="true" class="ActionListItem-label">
              New repository

</span></a>
  
  
</li>
      <li data-analytics-event="{&quot;category&quot;:&quot;SiteHeaderComponent&quot;,&quot;action&quot;:&quot;add_dropdown&quot;,&quot;label&quot;:&quot;import repository&quot;}" data-targets="action-list.items" role="none" data-view-component="true" class="ActionListItem">
    
    <a href="/new/import" tabindex="-1" id="item-8a1e44be-d18d-4c91-9ab7-07743742a692" role="menuitem" data-view-component="true" class="ActionListContent ActionListContent--visual16">
        <span class="ActionListItem-visual ActionListItem-visual--leading">
          <svg aria-hidden="true" height="16" viewBox="0 0 16 16" version="1.1" width="16" data-view-component="true" class="octicon octicon-repo-push">
    <path d="M1 2.5A2.5 2.5 0 0 1 3.5 0h8.75a.75.75 0 0 1 .75.75v3.5a.75.75 0 0 1-1.5 0V1.5h-8a1 1 0 0 0-1 1v6.708A2.493 2.493 0 0 1 3.5 9h3.25a.75.75 0 0 1 0 1.5H3.5a1 1 0 0 0 0 2h5.75a.75.75 0 0 1 0 1.5H3.5A2.5 2.5 0 0 1 1 11.5Zm13.23 7.79h-.001l-1.224-1.224v6.184a.75.75 0 0 1-1.5 0V9.066L10.28 10.29a.75.75 0 0 1-1.06-1.061l2.505-2.504a.75.75 0 0 1 1.06 0L15.29 9.23a.751.751 0 0 1-.018 1.042.751.751 0 0 1-1.042.018Z"></path>
</svg>
        </span>
      
        <span data-view-component="true" class="ActionListItem-label">
                Import repository

</span></a>
  
  
</li>
      <li role="presentation" aria-hidden="true" data-view-component="true" class="ActionList-sectionDivider"></li>
      <li data-analytics-event="{&quot;category&quot;:&quot;SiteHeaderComponent&quot;,&quot;action&quot;:&quot;add_dropdown&quot;,&quot;label&quot;:&quot;new codespace&quot;}" data-targets="action-list.items" role="none" data-view-component="true" class="ActionListItem">
    
    <a href="/codespaces/new" tabindex="-1" id="item-bcab3502-c91b-4a4f-aee9-d5c2827ec80c" role="menuitem" data-view-component="true" class="ActionListContent ActionListContent--visual16">
        <span class="ActionListItem-visual ActionListItem-visual--leading">
          <svg aria-hidden="true" height="16" viewBox="0 0 16 16" version="1.1" width="16" data-view-component="true" class="octicon octicon-codespaces">
    <path d="M0 11.25c0-.966.784-1.75 1.75-1.75h12.5c.966 0 1.75.784 1.75 1.75v3A1.75 1.75 0 0 1 14.25 16H1.75A1.75 1.75 0 0 1 0 14.25Zm2-9.5C2 .784 2.784 0 3.75 0h8.5C13.216 0 14 .784 14 1.75v5a1.75 1.75 0 0 1-1.75 1.75h-8.5A1.75 1.75 0 0 1 2 6.75Zm1.75-.25a.25.25 0 0 0-.25.25v5c0 .138.112.25.25.25h8.5a.25.25 0 0 0 .25-.25v-5a.25.25 0 0 0-.25-.25Zm-2 9.5a.25.25 0 0 0-.25.25v3c0 .138.112.25.25.25h12.5a.25.25 0 0 0 .25-.25v-3a.25.25 0 0 0-.25-.25Z"></path><path d="M7 12.75a.75.75 0 0 1 .75-.75h4.5a.75.75 0 0 1 0 1.5h-4.5a.75.75 0 0 1-.75-.75Zm-4 0a.75.75 0 0 1 .75-.75h.5a.75.75 0 0 1 0 1.5h-.5a.75.75 0 0 1-.75-.75Z"></path>
</svg>
        </span>
      
        <span data-view-component="true" class="ActionListItem-label">
                New codespace

</span></a>
  
  
</li>
      <li data-analytics-event="{&quot;category&quot;:&quot;SiteHeaderComponent&quot;,&quot;action&quot;:&quot;add_dropdown&quot;,&quot;label&quot;:&quot;new gist&quot;}" data-targets="action-list.items" role="none" data-view-component="true" class="ActionListItem">
    
    <a href="https://gist.github.com/" tabindex="-1" id="item-ee9b2b95-dd8b-420c-bdee-5c5b9a19b0da" role="menuitem" data-view-component="true" class="ActionListContent ActionListContent--visual16">
        <span class="ActionListItem-visual ActionListItem-visual--leading">
          <svg aria-hidden="true" height="16" viewBox="0 0 16 16" version="1.1" width="16" data-view-component="true" class="octicon octicon-code">
    <path d="m11.28 3.22 4.25 4.25a.75.75 0 0 1 0 1.06l-4.25 4.25a.749.749 0 0 1-1.275-.326.749.749 0 0 1 .215-.734L13.94 8l-3.72-3.72a.749.749 0 0 1 .326-1.275.749.749 0 0 1 .734.215Zm-6.56 0a.751.751 0 0 1 1.042.018.751.751 0 0 1 .018 1.042L2.06 8l3.72 3.72a.749.749 0 0 1-.326 1.275.749.749 0 0 1-.734-.215L.47 8.53a.75.75 0 0 1 0-1.06Z"></path>
</svg>
        </span>
      
        <span data-view-component="true" class="ActionListItem-label">
                New gist

</span></a>
  
  
</li>
      <li role="presentation" aria-hidden="true" data-view-component="true" class="ActionList-sectionDivider"></li>
      <li data-analytics-event="{&quot;category&quot;:&quot;SiteHeaderComponent&quot;,&quot;action&quot;:&quot;add_dropdown&quot;,&quot;label&quot;:&quot;new organization&quot;}" data-targets="action-list.items" role="none" data-view-component="true" class="ActionListItem">
    
    <a href="/account/organizations/new" tabindex="-1" id="item-51a10b41-554c-41bd-ae94-40856908f8d4" role="menuitem" data-view-component="true" class="ActionListContent ActionListContent--visual16">
        <span class="ActionListItem-visual ActionListItem-visual--leading">
          <svg aria-hidden="true" height="16" viewBox="0 0 16 16" version="1.1" width="16" data-view-component="true" class="octicon octicon-organization">
    <path d="M1.75 16A1.75 1.75 0 0 1 0 14.25V1.75C0 .784.784 0 1.75 0h8.5C11.216 0 12 .784 12 1.75v12.5c0 .085-.006.168-.018.25h2.268a.25.25 0 0 0 .25-.25V8.285a.25.25 0 0 0-.111-.208l-1.055-.703a.749.749 0 1 1 .832-1.248l1.055.703c.487.325.779.871.779 1.456v5.965A1.75 1.75 0 0 1 14.25 16h-3.5a.766.766 0 0 1-.197-.026c-.099.017-.2.026-.303.026h-3a.75.75 0 0 1-.75-.75V14h-1v1.25a.75.75 0 0 1-.75.75Zm-.25-1.75c0 .138.112.25.25.25H4v-1.25a.75.75 0 0 1 .75-.75h2.5a.75.75 0 0 1 .75.75v1.25h2.25a.25.25 0 0 0 .25-.25V1.75a.25.25 0 0 0-.25-.25h-8.5a.25.25 0 0 0-.25.25ZM3.75 6h.5a.75.75 0 0 1 0 1.5h-.5a.75.75 0 0 1 0-1.5ZM3 3.75A.75.75 0 0 1 3.75 3h.5a.75.75 0 0 1 0 1.5h-.5A.75.75 0 0 1 3 3.75Zm4 3A.75.75 0 0 1 7.75 6h.5a.75.75 0 0 1 0 1.5h-.5A.75.75 0 0 1 7 6.75ZM7.75 3h.5a.75.75 0 0 1 0 1.5h-.5a.75.75 0 0 1 0-1.5ZM3 9.75A.75.75 0 0 1 3.75 9h.5a.75.75 0 0 1 0 1.5h-.5A.75.75 0 0 1 3 9.75ZM7.75 9h.5a.75.75 0 0 1 0 1.5h-.5a.75.75 0 0 1 0-1.5Z"></path>
</svg>
        </span>
      
        <span data-view-component="true" class="ActionListItem-label">
                New organization

</span></a>
  
  
</li>
</ul>  
</div>

</div></anchored-position>  </focus-group>
</action-menu>

          <div data-view-component="true" class="Button-withTooltip">
  <a href="/issues" data-analytics-event="{&quot;category&quot;:&quot;Global navigation&quot;,&quot;action&quot;:&quot;ISSUES_HEADER&quot;,&quot;label&quot;:null}" id="icon-button-910b61b9-565d-4627-b076-152d9a6e0ef4" aria-labelledby="tooltip-ce59db72-9d41-444c-ae28-aa99ece7cbb3" data-view-component="true" class="Button Button--iconOnly Button--secondary Button--medium AppHeader-button color-fg-muted">    <svg aria-hidden="true" height="16" viewBox="0 0 16 16" version="1.1" width="16" data-view-component="true" class="octicon octicon-issue-opened Button-visual">
    <path d="M8 9.5a1.5 1.5 0 1 0 0-3 1.5 1.5 0 0 0 0 3Z"></path><path d="M8 0a8 8 0 1 1 0 16A8 8 0 0 1 8 0ZM1.5 8a6.5 6.5 0 1 0 13 0 6.5 6.5 0 0 0-13 0Z"></path>
</svg>
</a>  <tool-tip id="tooltip-ce59db72-9d41-444c-ae28-aa99ece7cbb3" for="icon-button-910b61b9-565d-4627-b076-152d9a6e0ef4" popover="manual" data-direction="s" data-type="label" data-view-component="true" class="sr-only position-absolute">Issues</tool-tip>
</div>
          <div data-view-component="true" class="Button-withTooltip">
  <a href="/pulls" data-analytics-event="{&quot;category&quot;:&quot;Global navigation&quot;,&quot;action&quot;:&quot;PULL_REQUESTS_HEADER&quot;,&quot;label&quot;:null}" id="icon-button-41a9322c-8c88-4184-837c-92c086e096cb" aria-labelledby="tooltip-b03612a5-e7e5-46c7-ab59-a29240f2d982" data-view-component="true" class="Button Button--iconOnly Button--secondary Button--medium AppHeader-button color-fg-muted">    <svg aria-hidden="true" height="16" viewBox="0 0 16 16" version="1.1" width="16" data-view-component="true" class="octicon octicon-git-pull-request Button-visual">
    <path d="M1.5 3.25a2.25 2.25 0 1 1 3 2.122v5.256a2.251 2.251 0 1 1-1.5 0V5.372A2.25 2.25 0 0 1 1.5 3.25Zm5.677-.177L9.573.677A.25.25 0 0 1 10 .854V2.5h1A2.5 2.5 0 0 1 13.5 5v5.628a2.251 2.251 0 1 1-1.5 0V5a1 1 0 0 0-1-1h-1v1.646a.25.25 0 0 1-.427.177L7.177 3.427a.25.25 0 0 1 0-.354ZM3.75 2.5a.75.75 0 1 0 0 1.5.75.75 0 0 0 0-1.5Zm0 9.5a.75.75 0 1 0 0 1.5.75.75 0 0 0 0-1.5Zm8.25.75a.75.75 0 1 0 1.5 0 .75.75 0 0 0-1.5 0Z"></path>
</svg>
</a>  <tool-tip id="tooltip-b03612a5-e7e5-46c7-ab59-a29240f2d982" for="icon-button-41a9322c-8c88-4184-837c-92c086e096cb" popover="manual" data-direction="s" data-type="label" data-view-component="true" class="sr-only position-absolute">Pull requests</tool-tip>
</div>
          
        </div>

        

<notification-indicator data-channel="eyJjIjoibm90aWZpY2F0aW9uLWNoYW5nZWQ6MTMyMTYxNzk5IiwidCI6MTY5NzM0NDk4NX0=--2d15b582150b5a614e3eb5090212b32c7573fb42cc8d78d13ea16a29b8e42c84" data-indicator-mode="none" data-tooltip-global="You have unread notifications" data-tooltip-unavailable="Notifications are unavailable at the moment." data-tooltip-none="You have no unread notifications" data-header-redesign-enabled="true" data-fetch-indicator-src="/notifications/indicator" data-fetch-indicator-enabled="true" data-view-component="true" class="js-socket-channel">
  <a id="AppHeader-notifications-button" href="/notifications"
    class="AppHeader-button Button--secondary"

    style="width:32px;height:32px;"

    data-hotkey="g n"
    data-target="notification-indicator.link"
    aria-label="Notifications"

      data-analytics-event="{&quot;category&quot;:&quot;SiteHeaderComponent&quot;,&quot;action&quot;:&quot;notifications&quot;,&quot;label&quot;:null}"
  >

    <span
      data-target="notification-indicator.badge"
      class="mail-status unread d-none" hidden>
    </span>

      <svg aria-hidden="true" height="16" viewBox="0 0 16 16" version="1.1" width="16" data-view-component="true" class="octicon octicon-inbox color-fg-muted mr-0">
    <path d="M2.8 2.06A1.75 1.75 0 0 1 4.41 1h7.18c.7 0 1.333.417 1.61 1.06l2.74 6.395c.04.093.06.194.06.295v4.5A1.75 1.75 0 0 1 14.25 15H1.75A1.75 1.75 0 0 1 0 13.25v-4.5c0-.101.02-.202.06-.295Zm1.61.44a.25.25 0 0 0-.23.152L1.887 8H4.75a.75.75 0 0 1 .6.3L6.625 10h2.75l1.275-1.7a.75.75 0 0 1 .6-.3h2.863L11.82 2.652a.25.25 0 0 0-.23-.152Zm10.09 7h-2.875l-1.275 1.7a.75.75 0 0 1-.6.3h-3.5a.75.75 0 0 1-.6-.3L4.375 9.5H1.5v3.75c0 .138.112.25.25.25h12.5a.25.25 0 0 0 .25-.25Z"></path>
</svg>
  </a>

    <tool-tip data-target="notification-indicator.tooltip" id="tooltip-bf67e572-218e-4e73-ba61-35674f409303" for="AppHeader-notifications-button" popover="manual" data-direction="s" data-type="description" data-view-component="true" class="sr-only position-absolute">Notifications</tool-tip>
</notification-indicator>

        

        <div class="AppHeader-user">
          <deferred-side-panel data-url="/_side-panels/user?memex_enabled=true&amp;repository=project4&amp;user=srinivasj1987&amp;user_can_create_organizations=true&amp;user_id=132161799">
  <include-fragment data-target="deferred-side-panel.fragment">
      <user-drawer-side-panel>
      <button aria-label="Open user account menu" data-action="click:deferred-side-panel#loadPanel click:deferred-side-panel#panelOpened" data-show-dialog-id="dialog-812449b2-5caf-44e0-a261-e47ea3bf826c" id="dialog-show-dialog-812449b2-5caf-44e0-a261-e47ea3bf826c" type="button" data-view-component="true" class="AppHeader-logo Button--invisible Button--medium Button Button--invisible-noVisuals color-bg-transparent p-0">    <span class="Button-content">
      <span class="Button-label"><img src="https://avatars.githubusercontent.com/u/132161799?v=4" alt="" size="32" height="32" width="32" data-view-component="true" class="avatar circle" /></span>
    </span>
</button>  

<div class="Overlay--hidden Overlay-backdrop--side Overlay-backdrop--placement-right" data-modal-dialog-overlay>
  <modal-dialog data-target="deferred-side-panel.panel" role="dialog" id="dialog-812449b2-5caf-44e0-a261-e47ea3bf826c" aria-modal="true" aria-disabled="true" aria-labelledby="dialog-812449b2-5caf-44e0-a261-e47ea3bf826c-title" aria-describedby="dialog-812449b2-5caf-44e0-a261-e47ea3bf826c-description" data-view-component="true" class="Overlay Overlay-whenNarrow Overlay--size-small-portrait Overlay--motion-scaleFade SidePanel">
    <div styles="flex-direction: row;" data-view-component="true" class="Overlay-header">
  <div class="Overlay-headerContentWrap">
    <div class="Overlay-titleWrap">
      <h1 class="Overlay-title sr-only" id="dialog-812449b2-5caf-44e0-a261-e47ea3bf826c-title">
        Account menu
      </h1>
            <div data-view-component="true" class="d-flex">
      <div data-view-component="true" class="AppHeader-logo position-relative">
        <img src="https://avatars.githubusercontent.com/u/132161799?v=4" alt="" size="32" height="32" width="32" data-view-component="true" class="avatar circle" />
</div>        <div data-view-component="true" class="overflow-hidden d-flex width-full">        <div data-view-component="true" class="lh-condensed overflow-hidden d-flex flex-column flex-justify-center ml-2 f5 mr-auto width-full">
          <span data-view-component="true" class="Truncate text-bold">
    <span data-view-component="true" class="Truncate-text">
            srinivasj1987
</span>
</span>          </div>
</div>
</div>
    </div>
    <div class="Overlay-actionWrap">
      <button data-close-dialog-id="dialog-812449b2-5caf-44e0-a261-e47ea3bf826c" aria-label="Close" type="button" data-view-component="true" class="close-button Overlay-closeButton"><svg aria-hidden="true" height="16" viewBox="0 0 16 16" version="1.1" width="16" data-view-component="true" class="octicon octicon-x">
    <path d="M3.72 3.72a.75.75 0 0 1 1.06 0L8 6.94l3.22-3.22a.749.749 0 0 1 1.275.326.749.749 0 0 1-.215.734L9.06 8l3.22 3.22a.749.749 0 0 1-.326 1.275.749.749 0 0 1-.734-.215L8 9.06l-3.22 3.22a.751.751 0 0 1-1.042-.018.751.751 0 0 1-.018-1.042L6.94 8 3.72 4.78a.75.75 0 0 1 0-1.06Z"></path>
</svg></button>
    </div>
  </div>
</div>
      <div data-view-component="true" class="Overlay-body d-flex flex-column height-full px-2">      <nav aria-label="User navigation" data-view-component="true" class="ActionList">
  
  <nav-list>
    <ul data-view-component="true" class="ActionListWrap">
        
          
<li data-item-id="" data-targets="nav-list.items" data-view-component="true" class="ActionListItem">
    
    <button id="item-096ea07e-811c-4487-a36c-9e67247b54eb" type="button" data-view-component="true" class="ActionListContent ActionListContent--visual16">
        <span class="ActionListItem-visual ActionListItem-visual--leading">
          <span data-view-component="true" class="d-flex flex-items-center">    <svg style="box-sizing: content-box; color: var(--color-icon-primary);" width="16" height="16" viewBox="0 0 16 16" fill="none" data-view-component="true" class="anim-rotate">
  <circle cx="8" cy="8" r="7" stroke="currentColor" stroke-opacity="0.25" stroke-width="2" vector-effect="non-scaling-stroke" fill="none" />
  <path d="M15 8a7.002 7.002 0 00-7-7" stroke="currentColor" stroke-width="2" stroke-linecap="round" vector-effect="non-scaling-stroke" />
</svg>
</span>
        </span>
      
        <span data-view-component="true" class="ActionListItem-label">
          

  <span class="color-fg-muted">
    Loading...
  </span>

</span></button>
  
  
</li>

        
          <li role="presentation" aria-hidden="true" data-view-component="true" class="ActionList-sectionDivider"></li>
        
          
<li data-item-id="" data-targets="nav-list.items" data-view-component="true" class="ActionListItem">
    
    <a data-analytics-event="{&quot;category&quot;:&quot;Global navigation&quot;,&quot;action&quot;:&quot;PROFILE&quot;,&quot;label&quot;:null}" id="item-63f720dd-417b-48d2-8761-b86cfd4a8960" href="https://github.com/srinivasj1987" data-view-component="true" class="ActionListContent ActionListContent--visual16">
        <span class="ActionListItem-visual ActionListItem-visual--leading">
          <svg aria-hidden="true" height="16" viewBox="0 0 16 16" version="1.1" width="16" data-view-component="true" class="octicon octicon-person">
    <path d="M10.561 8.073a6.005 6.005 0 0 1 3.432 5.142.75.75 0 1 1-1.498.07 4.5 4.5 0 0 0-8.99 0 .75.75 0 0 1-1.498-.07 6.004 6.004 0 0 1 3.431-5.142 3.999 3.999 0 1 1 5.123 0ZM10.5 5a2.5 2.5 0 1 0-5 0 2.5 2.5 0 0 0 5 0Z"></path>
</svg>
        </span>
      
        <span data-view-component="true" class="ActionListItem-label">
          Your profile
</span></a>
  
  
</li>

        
          
<li data-item-id="" data-targets="nav-list.items" data-view-component="true" class="ActionListItem">
    
    <button id="item-31076bfc-5d71-4376-b842-71c1c08fefaa" type="button" data-view-component="true" class="ActionListContent ActionListContent--visual16">
        <span class="ActionListItem-visual ActionListItem-visual--leading">
          <span data-view-component="true" class="d-flex flex-items-center">    <svg style="box-sizing: content-box; color: var(--color-icon-primary);" width="16" height="16" viewBox="0 0 16 16" fill="none" data-view-component="true" class="anim-rotate">
  <circle cx="8" cy="8" r="7" stroke="currentColor" stroke-opacity="0.25" stroke-width="2" vector-effect="non-scaling-stroke" fill="none" />
  <path d="M15 8a7.002 7.002 0 00-7-7" stroke="currentColor" stroke-width="2" stroke-linecap="round" vector-effect="non-scaling-stroke" />
</svg>
</span>
        </span>
      
        <span data-view-component="true" class="ActionListItem-label">
          

  <span class="color-fg-muted">
    Loading...
  </span>

</span></button>
  
  
</li>

        
          <li role="presentation" aria-hidden="true" data-view-component="true" class="ActionList-sectionDivider"></li>
        
          
<li data-item-id="" data-targets="nav-list.items" data-view-component="true" class="ActionListItem">
    
    <a data-analytics-event="{&quot;category&quot;:&quot;Global navigation&quot;,&quot;action&quot;:&quot;YOUR_REPOSITORIES&quot;,&quot;label&quot;:null}" id="item-357f3a19-d727-49fd-81a1-509fd899827e" href="/srinivasj1987?tab=repositories" data-view-component="true" class="ActionListContent ActionListContent--visual16">
        <span class="ActionListItem-visual ActionListItem-visual--leading">
          <svg aria-hidden="true" height="16" viewBox="0 0 16 16" version="1.1" width="16" data-view-component="true" class="octicon octicon-repo">
    <path d="M2 2.5A2.5 2.5 0 0 1 4.5 0h8.75a.75.75 0 0 1 .75.75v12.5a.75.75 0 0 1-.75.75h-2.5a.75.75 0 0 1 0-1.5h1.75v-2h-8a1 1 0 0 0-.714 1.7.75.75 0 1 1-1.072 1.05A2.495 2.495 0 0 1 2 11.5Zm10.5-1h-8a1 1 0 0 0-1 1v6.708A2.486 2.486 0 0 1 4.5 9h8ZM5 12.25a.25.25 0 0 1 .25-.25h3.5a.25.25 0 0 1 .25.25v3.25a.25.25 0 0 1-.4.2l-1.45-1.087a.249.249 0 0 0-.3 0L5.4 15.7a.25.25 0 0 1-.4-.2Z"></path>
</svg>
        </span>
      
        <span data-view-component="true" class="ActionListItem-label">
          Your repositories
</span></a>
  
  
</li>

        
          
<li data-item-id="" data-targets="nav-list.items" data-view-component="true" class="ActionListItem">
    
    <a data-analytics-event="{&quot;category&quot;:&quot;Global navigation&quot;,&quot;action&quot;:&quot;YOUR_PROJECTS&quot;,&quot;label&quot;:null}" id="item-c24d97fd-09c6-42bf-b920-64060d8c5607" href="/srinivasj1987?tab=projects" data-view-component="true" class="ActionListContent ActionListContent--visual16">
        <span class="ActionListItem-visual ActionListItem-visual--leading">
          <svg aria-hidden="true" height="16" viewBox="0 0 16 16" version="1.1" width="16" data-view-component="true" class="octicon octicon-project">
    <path d="M1.75 0h12.5C15.216 0 16 .784 16 1.75v12.5A1.75 1.75 0 0 1 14.25 16H1.75A1.75 1.75 0 0 1 0 14.25V1.75C0 .784.784 0 1.75 0ZM1.5 1.75v12.5c0 .138.112.25.25.25h12.5a.25.25 0 0 0 .25-.25V1.75a.25.25 0 0 0-.25-.25H1.75a.25.25 0 0 0-.25.25ZM11.75 3a.75.75 0 0 1 .75.75v7.5a.75.75 0 0 1-1.5 0v-7.5a.75.75 0 0 1 .75-.75Zm-8.25.75a.75.75 0 0 1 1.5 0v5.5a.75.75 0 0 1-1.5 0ZM8 3a.75.75 0 0 1 .75.75v3.5a.75.75 0 0 1-1.5 0v-3.5A.75.75 0 0 1 8 3Z"></path>
</svg>
        </span>
      
        <span data-view-component="true" class="ActionListItem-label">
          Your projects
</span></a>
  
  
</li>

        
          
<li data-item-id="" data-targets="nav-list.items" data-view-component="true" class="ActionListItem">
    
    <button id="item-9149de66-101a-4866-a58b-2b3852886d42" type="button" data-view-component="true" class="ActionListContent ActionListContent--visual16">
        <span class="ActionListItem-visual ActionListItem-visual--leading">
          <span data-view-component="true" class="d-flex flex-items-center">    <svg style="box-sizing: content-box; color: var(--color-icon-primary);" width="16" height="16" viewBox="0 0 16 16" fill="none" data-view-component="true" class="anim-rotate">
  <circle cx="8" cy="8" r="7" stroke="currentColor" stroke-opacity="0.25" stroke-width="2" vector-effect="non-scaling-stroke" fill="none" />
  <path d="M15 8a7.002 7.002 0 00-7-7" stroke="currentColor" stroke-width="2" stroke-linecap="round" vector-effect="non-scaling-stroke" />
</svg>
</span>
        </span>
      
        <span data-view-component="true" class="ActionListItem-label">
          

  <span class="color-fg-muted">
    Loading...
  </span>

</span></button>
  
  
</li>

        
          
<li data-item-id="" data-targets="nav-list.items" data-view-component="true" class="ActionListItem">
    
    <a data-analytics-event="{&quot;category&quot;:&quot;Global navigation&quot;,&quot;action&quot;:&quot;YOUR_STARS&quot;,&quot;label&quot;:null}" id="item-7d0030b7-e23a-408e-b802-cef6220cf35a" href="/srinivasj1987?tab=stars" data-view-component="true" class="ActionListContent ActionListContent--visual16">
        <span class="ActionListItem-visual ActionListItem-visual--leading">
          <svg aria-hidden="true" height="16" viewBox="0 0 16 16" version="1.1" width="16" data-view-component="true" class="octicon octicon-star">
    <path d="M8 .25a.75.75 0 0 1 .673.418l1.882 3.815 4.21.612a.75.75 0 0 1 .416 1.279l-3.046 2.97.719 4.192a.751.751 0 0 1-1.088.791L8 12.347l-3.766 1.98a.75.75 0 0 1-1.088-.79l.72-4.194L.818 6.374a.75.75 0 0 1 .416-1.28l4.21-.611L7.327.668A.75.75 0 0 1 8 .25Zm0 2.445L6.615 5.5a.75.75 0 0 1-.564.41l-3.097.45 2.24 2.184a.75.75 0 0 1 .216.664l-.528 3.084 2.769-1.456a.75.75 0 0 1 .698 0l2.77 1.456-.53-3.084a.75.75 0 0 1 .216-.664l2.24-2.183-3.096-.45a.75.75 0 0 1-.564-.41L8 2.694Z"></path>
</svg>
        </span>
      
        <span data-view-component="true" class="ActionListItem-label">
          Your stars
</span></a>
  
  
</li>

        
          
<li data-item-id="" data-targets="nav-list.items" data-view-component="true" class="ActionListItem">
    
    <a data-analytics-event="{&quot;category&quot;:&quot;Global navigation&quot;,&quot;action&quot;:&quot;SPONSORS&quot;,&quot;label&quot;:null}" id="item-95259529-852a-447f-9ee5-9c09e48c8ac8" href="/sponsors/accounts" data-view-component="true" class="ActionListContent ActionListContent--visual16">
        <span class="ActionListItem-visual ActionListItem-visual--leading">
          <svg aria-hidden="true" height="16" viewBox="0 0 16 16" version="1.1" width="16" data-view-component="true" class="octicon octicon-heart">
    <path d="m8 14.25.345.666a.75.75 0 0 1-.69 0l-.008-.004-.018-.01a7.152 7.152 0 0 1-.31-.17 22.055 22.055 0 0 1-3.434-2.414C2.045 10.731 0 8.35 0 5.5 0 2.836 2.086 1 4.25 1 5.797 1 7.153 1.802 8 3.02 8.847 1.802 10.203 1 11.75 1 13.914 1 16 2.836 16 5.5c0 2.85-2.045 5.231-3.885 6.818a22.066 22.066 0 0 1-3.744 2.584l-.018.01-.006.003h-.002ZM4.25 2.5c-1.336 0-2.75 1.164-2.75 3 0 2.15 1.58 4.144 3.365 5.682A20.58 20.58 0 0 0 8 13.393a20.58 20.58 0 0 0 3.135-2.211C12.92 9.644 14.5 7.65 14.5 5.5c0-1.836-1.414-3-2.75-3-1.373 0-2.609.986-3.029 2.456a.749.749 0 0 1-1.442 0C6.859 3.486 5.623 2.5 4.25 2.5Z"></path>
</svg>
        </span>
      
        <span data-view-component="true" class="ActionListItem-label">
          Your sponsors
</span></a>
  
  
</li>

        
          
<li data-item-id="" data-targets="nav-list.items" data-view-component="true" class="ActionListItem">
    
    <a data-analytics-event="{&quot;category&quot;:&quot;Global navigation&quot;,&quot;action&quot;:&quot;YOUR_GISTS&quot;,&quot;label&quot;:null}" id="item-5ab580df-dd18-4fe1-ac30-6b88d267659c" href="https://gist.github.com/mine" data-view-component="true" class="ActionListContent ActionListContent--visual16">
        <span class="ActionListItem-visual ActionListItem-visual--leading">
          <svg aria-hidden="true" height="16" viewBox="0 0 16 16" version="1.1" width="16" data-view-component="true" class="octicon octicon-code-square">
    <path d="M0 1.75C0 .784.784 0 1.75 0h12.5C15.216 0 16 .784 16 1.75v12.5A1.75 1.75 0 0 1 14.25 16H1.75A1.75 1.75 0 0 1 0 14.25Zm1.75-.25a.25.25 0 0 0-.25.25v12.5c0 .138.112.25.25.25h12.5a.25.25 0 0 0 .25-.25V1.75a.25.25 0 0 0-.25-.25Zm7.47 3.97a.75.75 0 0 1 1.06 0l2 2a.75.75 0 0 1 0 1.06l-2 2a.749.749 0 0 1-1.275-.326.749.749 0 0 1 .215-.734L10.69 8 9.22 6.53a.75.75 0 0 1 0-1.06ZM6.78 6.53 5.31 8l1.47 1.47a.749.749 0 0 1-.326 1.275.749.749 0 0 1-.734-.215l-2-2a.75.75 0 0 1 0-1.06l2-2a.751.751 0 0 1 1.042.018.751.751 0 0 1 .018 1.042Z"></path>
</svg>
        </span>
      
        <span data-view-component="true" class="ActionListItem-label">
          Your gists
</span></a>
  
  
</li>

        
          <li role="presentation" aria-hidden="true" data-view-component="true" class="ActionList-sectionDivider"></li>
        
          
<li data-item-id="" data-targets="nav-list.items" data-view-component="true" class="ActionListItem">
    
    <button id="item-e635c392-77cd-4e1f-9cdd-0f8c5a76db79" type="button" data-view-component="true" class="ActionListContent ActionListContent--visual16">
        <span class="ActionListItem-visual ActionListItem-visual--leading">
          <span data-view-component="true" class="d-flex flex-items-center">    <svg style="box-sizing: content-box; color: var(--color-icon-primary);" width="16" height="16" viewBox="0 0 16 16" fill="none" data-view-component="true" class="anim-rotate">
  <circle cx="8" cy="8" r="7" stroke="currentColor" stroke-opacity="0.25" stroke-width="2" vector-effect="non-scaling-stroke" fill="none" />
  <path d="M15 8a7.002 7.002 0 00-7-7" stroke="currentColor" stroke-width="2" stroke-linecap="round" vector-effect="non-scaling-stroke" />
</svg>
</span>
        </span>
      
        <span data-view-component="true" class="ActionListItem-label">
          

  <span class="color-fg-muted">
    Loading...
  </span>

</span></button>
  
  
</li>

        
          
<li data-item-id="" data-targets="nav-list.items" data-view-component="true" class="ActionListItem">
    
    <button id="item-41389dc7-dabd-49d1-a044-2d65a0639b65" type="button" data-view-component="true" class="ActionListContent ActionListContent--visual16">
        <span class="ActionListItem-visual ActionListItem-visual--leading">
          <span data-view-component="true" class="d-flex flex-items-center">    <svg style="box-sizing: content-box; color: var(--color-icon-primary);" width="16" height="16" viewBox="0 0 16 16" fill="none" data-view-component="true" class="anim-rotate">
  <circle cx="8" cy="8" r="7" stroke="currentColor" stroke-opacity="0.25" stroke-width="2" vector-effect="non-scaling-stroke" fill="none" />
  <path d="M15 8a7.002 7.002 0 00-7-7" stroke="currentColor" stroke-width="2" stroke-linecap="round" vector-effect="non-scaling-stroke" />
</svg>
</span>
        </span>
      
        <span data-view-component="true" class="ActionListItem-label">
          

  <span class="color-fg-muted">
    Loading...
  </span>

</span></button>
  
  
</li>

        
          
<li data-item-id="" data-targets="nav-list.items" data-view-component="true" class="ActionListItem">
    
    <button id="item-6abb2436-5b54-42d1-a06f-ea0131696f5b" type="button" data-view-component="true" class="ActionListContent ActionListContent--visual16">
        <span class="ActionListItem-visual ActionListItem-visual--leading">
          <span data-view-component="true" class="d-flex flex-items-center">    <svg style="box-sizing: content-box; color: var(--color-icon-primary);" width="16" height="16" viewBox="0 0 16 16" fill="none" data-view-component="true" class="anim-rotate">
  <circle cx="8" cy="8" r="7" stroke="currentColor" stroke-opacity="0.25" stroke-width="2" vector-effect="non-scaling-stroke" fill="none" />
  <path d="M15 8a7.002 7.002 0 00-7-7" stroke="currentColor" stroke-width="2" stroke-linecap="round" vector-effect="non-scaling-stroke" />
</svg>
</span>
        </span>
      
        <span data-view-component="true" class="ActionListItem-label">
          

  <span class="color-fg-muted">
    Loading...
  </span>

</span></button>
  
  
</li>

        
          
<li data-item-id="" data-targets="nav-list.items" data-view-component="true" class="ActionListItem">
    
    <a data-analytics-event="{&quot;category&quot;:&quot;Global navigation&quot;,&quot;action&quot;:&quot;SETTINGS&quot;,&quot;label&quot;:null}" id="item-3883292f-8efd-416e-8164-e15ff6fec8f5" href="/settings/profile" data-view-component="true" class="ActionListContent ActionListContent--visual16">
        <span class="ActionListItem-visual ActionListItem-visual--leading">
          <svg aria-hidden="true" height="16" viewBox="0 0 16 16" version="1.1" width="16" data-view-component="true" class="octicon octicon-gear">
    <path d="M8 0a8.2 8.2 0 0 1 .701.031C9.444.095 9.99.645 10.16 1.29l.288 1.107c.018.066.079.158.212.224.231.114.454.243.668.386.123.082.233.09.299.071l1.103-.303c.644-.176 1.392.021 1.82.63.27.385.506.792.704 1.218.315.675.111 1.422-.364 1.891l-.814.806c-.049.048-.098.147-.088.294.016.257.016.515 0 .772-.01.147.038.246.088.294l.814.806c.475.469.679 1.216.364 1.891a7.977 7.977 0 0 1-.704 1.217c-.428.61-1.176.807-1.82.63l-1.102-.302c-.067-.019-.177-.011-.3.071a5.909 5.909 0 0 1-.668.386c-.133.066-.194.158-.211.224l-.29 1.106c-.168.646-.715 1.196-1.458 1.26a8.006 8.006 0 0 1-1.402 0c-.743-.064-1.289-.614-1.458-1.26l-.289-1.106c-.018-.066-.079-.158-.212-.224a5.738 5.738 0 0 1-.668-.386c-.123-.082-.233-.09-.299-.071l-1.103.303c-.644.176-1.392-.021-1.82-.63a8.12 8.12 0 0 1-.704-1.218c-.315-.675-.111-1.422.363-1.891l.815-.806c.05-.048.098-.147.088-.294a6.214 6.214 0 0 1 0-.772c.01-.147-.038-.246-.088-.294l-.815-.806C.635 6.045.431 5.298.746 4.623a7.92 7.92 0 0 1 .704-1.217c.428-.61 1.176-.807 1.82-.63l1.102.302c.067.019.177.011.3-.071.214-.143.437-.272.668-.386.133-.066.194-.158.211-.224l.29-1.106C6.009.645 6.556.095 7.299.03 7.53.01 7.764 0 8 0Zm-.571 1.525c-.036.003-.108.036-.137.146l-.289 1.105c-.147.561-.549.967-.998 1.189-.173.086-.34.183-.5.29-.417.278-.97.423-1.529.27l-1.103-.303c-.109-.03-.175.016-.195.045-.22.312-.412.644-.573.99-.014.031-.021.11.059.19l.815.806c.411.406.562.957.53 1.456a4.709 4.709 0 0 0 0 .582c.032.499-.119 1.05-.53 1.456l-.815.806c-.081.08-.073.159-.059.19.162.346.353.677.573.989.02.03.085.076.195.046l1.102-.303c.56-.153 1.113-.008 1.53.27.161.107.328.204.501.29.447.222.85.629.997 1.189l.289 1.105c.029.109.101.143.137.146a6.6 6.6 0 0 0 1.142 0c.036-.003.108-.036.137-.146l.289-1.105c.147-.561.549-.967.998-1.189.173-.086.34-.183.5-.29.417-.278.97-.423 1.529-.27l1.103.303c.109.029.175-.016.195-.045.22-.313.411-.644.573-.99.014-.031.021-.11-.059-.19l-.815-.806c-.411-.406-.562-.957-.53-1.456a4.709 4.709 0 0 0 0-.582c-.032-.499.119-1.05.53-1.456l.815-.806c.081-.08.073-.159.059-.19a6.464 6.464 0 0 0-.573-.989c-.02-.03-.085-.076-.195-.046l-1.102.303c-.56.153-1.113.008-1.53-.27a4.44 4.44 0 0 0-.501-.29c-.447-.222-.85-.629-.997-1.189l-.289-1.105c-.029-.11-.101-.143-.137-.146a6.6 6.6 0 0 0-1.142 0ZM11 8a3 3 0 1 1-6 0 3 3 0 0 1 6 0ZM9.5 8a1.5 1.5 0 1 0-3.001.001A1.5 1.5 0 0 0 9.5 8Z"></path>
</svg>
        </span>
      
        <span data-view-component="true" class="ActionListItem-label">
          Settings
</span></a>
  
  
</li>

        
          <li role="presentation" aria-hidden="true" data-view-component="true" class="ActionList-sectionDivider"></li>
        
          
<li data-item-id="" data-targets="nav-list.items" data-view-component="true" class="ActionListItem">
    
    <a data-analytics-event="{&quot;category&quot;:&quot;Global navigation&quot;,&quot;action&quot;:&quot;DOCS&quot;,&quot;label&quot;:null}" id="item-81b4d524-90ca-4c9d-aa29-2f91d1bbc9fd" href="https://docs.github.com" data-view-component="true" class="ActionListContent ActionListContent--visual16">
        <span class="ActionListItem-visual ActionListItem-visual--leading">
          <svg aria-hidden="true" height="16" viewBox="0 0 16 16" version="1.1" width="16" data-view-component="true" class="octicon octicon-book">
    <path d="M0 1.75A.75.75 0 0 1 .75 1h4.253c1.227 0 2.317.59 3 1.501A3.743 3.743 0 0 1 11.006 1h4.245a.75.75 0 0 1 .75.75v10.5a.75.75 0 0 1-.75.75h-4.507a2.25 2.25 0 0 0-1.591.659l-.622.621a.75.75 0 0 1-1.06 0l-.622-.621A2.25 2.25 0 0 0 5.258 13H.75a.75.75 0 0 1-.75-.75Zm7.251 10.324.004-5.073-.002-2.253A2.25 2.25 0 0 0 5.003 2.5H1.5v9h3.757a3.75 3.75 0 0 1 1.994.574ZM8.755 4.75l-.004 7.322a3.752 3.752 0 0 1 1.992-.572H14.5v-9h-3.495a2.25 2.25 0 0 0-2.25 2.25Z"></path>
</svg>
        </span>
      
        <span data-view-component="true" class="ActionListItem-label">
          GitHub Docs
</span></a>
  
  
</li>

        
          
<li data-item-id="" data-targets="nav-list.items" data-view-component="true" class="ActionListItem">
    
    <a data-analytics-event="{&quot;category&quot;:&quot;Global navigation&quot;,&quot;action&quot;:&quot;SUPPORT&quot;,&quot;label&quot;:null}" id="item-8e0f6b17-e073-4417-8487-107e577f63f4" href="https://support.github.com" data-view-component="true" class="ActionListContent ActionListContent--visual16">
        <span class="ActionListItem-visual ActionListItem-visual--leading">
          <svg aria-hidden="true" height="16" viewBox="0 0 16 16" version="1.1" width="16" data-view-component="true" class="octicon octicon-people">
    <path d="M2 5.5a3.5 3.5 0 1 1 5.898 2.549 5.508 5.508 0 0 1 3.034 4.084.75.75 0 1 1-1.482.235 4 4 0 0 0-7.9 0 .75.75 0 0 1-1.482-.236A5.507 5.507 0 0 1 3.102 8.05 3.493 3.493 0 0 1 2 5.5ZM11 4a3.001 3.001 0 0 1 2.22 5.018 5.01 5.01 0 0 1 2.56 3.012.749.749 0 0 1-.885.954.752.752 0 0 1-.549-.514 3.507 3.507 0 0 0-2.522-2.372.75.75 0 0 1-.574-.73v-.352a.75.75 0 0 1 .416-.672A1.5 1.5 0 0 0 11 5.5.75.75 0 0 1 11 4Zm-5.5-.5a2 2 0 1 0-.001 3.999A2 2 0 0 0 5.5 3.5Z"></path>
</svg>
        </span>
      
        <span data-view-component="true" class="ActionListItem-label">
          GitHub Support
</span></a>
  
  
</li>

        
          <li role="presentation" aria-hidden="true" data-view-component="true" class="ActionList-sectionDivider"></li>
        
          
<li data-item-id="" data-targets="nav-list.items" data-view-component="true" class="ActionListItem">
    
    <a data-analytics-event="{&quot;category&quot;:&quot;Global navigation&quot;,&quot;action&quot;:&quot;LOGOUT&quot;,&quot;label&quot;:null}" id="item-2bd17a6b-9160-42d4-9c69-e9d5401ab407" href="/logout" data-view-component="true" class="ActionListContent">
      
        <span data-view-component="true" class="ActionListItem-label">
          Sign out
</span></a>
  
  
</li>

</ul>  </nav-list>
</nav>


</div>
      
</modal-dialog></div>
  </user-drawer-side-panel>

  </include-fragment>
</deferred-side-panel>
        </div>

        <div class="position-absolute mt-2">
            
<site-header-logged-in-user-menu>

</site-header-logged-in-user-menu>

        </div>
      </div>
    </div>


      <div class="AppHeader-localBar" >
        <nav data-pjax="#js-repo-pjax-container" aria-label="Repository" data-view-component="true" class="js-repo-nav js-sidenav-container-pjax js-responsive-underlinenav overflow-hidden UnderlineNav">

  <ul data-view-component="true" class="UnderlineNav-body list-style-none">
      <li data-view-component="true" class="d-inline-flex">
  <a id="code-tab" href="/jnliou/project4/tree/sri" data-tab-item="i0code-tab" data-selected-links="repo_source repo_downloads repo_commits repo_releases repo_tags repo_branches repo_packages repo_deployments repo_attestations /jnliou/project4/tree/sri" data-pjax="#repo-content-pjax-container" data-turbo-frame="repo-content-turbo-frame" data-hotkey="g c" data-analytics-event="{&quot;category&quot;:&quot;Underline navbar&quot;,&quot;action&quot;:&quot;Click tab&quot;,&quot;label&quot;:&quot;Code&quot;,&quot;target&quot;:&quot;UNDERLINE_NAV.TAB&quot;}" data-view-component="true" class="UnderlineNav-item no-wrap js-responsive-underlinenav-item js-selected-navigation-item">
    
              <svg aria-hidden="true" height="16" viewBox="0 0 16 16" version="1.1" width="16" data-view-component="true" class="octicon octicon-code UnderlineNav-octicon d-none d-sm-inline">
    <path d="m11.28 3.22 4.25 4.25a.75.75 0 0 1 0 1.06l-4.25 4.25a.749.749 0 0 1-1.275-.326.749.749 0 0 1 .215-.734L13.94 8l-3.72-3.72a.749.749 0 0 1 .326-1.275.749.749 0 0 1 .734.215Zm-6.56 0a.751.751 0 0 1 1.042.018.751.751 0 0 1 .018 1.042L2.06 8l3.72 3.72a.749.749 0 0 1-.326 1.275.749.749 0 0 1-.734-.215L.47 8.53a.75.75 0 0 1 0-1.06Z"></path>
</svg>
        <span data-content="Code">Code</span>
          <span id="code-repo-tab-count" data-pjax-replace="" data-turbo-replace="" title="Not available" data-view-component="true" class="Counter"></span>


    
</a></li>
      <li data-view-component="true" class="d-inline-flex">
  <a id="issues-tab" href="/jnliou/project4/issues" data-tab-item="i1issues-tab" data-selected-links="repo_issues repo_labels repo_milestones /jnliou/project4/issues" data-pjax="#repo-content-pjax-container" data-turbo-frame="repo-content-turbo-frame" data-hotkey="g i" data-analytics-event="{&quot;category&quot;:&quot;Underline navbar&quot;,&quot;action&quot;:&quot;Click tab&quot;,&quot;label&quot;:&quot;Issues&quot;,&quot;target&quot;:&quot;UNDERLINE_NAV.TAB&quot;}" data-view-component="true" class="UnderlineNav-item no-wrap js-responsive-underlinenav-item js-selected-navigation-item">
    
              <svg aria-hidden="true" height="16" viewBox="0 0 16 16" version="1.1" width="16" data-view-component="true" class="octicon octicon-issue-opened UnderlineNav-octicon d-none d-sm-inline">
    <path d="M8 9.5a1.5 1.5 0 1 0 0-3 1.5 1.5 0 0 0 0 3Z"></path><path d="M8 0a8 8 0 1 1 0 16A8 8 0 0 1 8 0ZM1.5 8a6.5 6.5 0 1 0 13 0 6.5 6.5 0 0 0-13 0Z"></path>
</svg>
        <span data-content="Issues">Issues</span>
          <span id="issues-repo-tab-count" data-pjax-replace="" data-turbo-replace="" title="0" hidden="hidden" data-view-component="true" class="Counter">0</span>


    
</a></li>
      <li data-view-component="true" class="d-inline-flex">
  <a id="pull-requests-tab" href="/jnliou/project4/pulls" data-tab-item="i2pull-requests-tab" data-selected-links="repo_pulls checks /jnliou/project4/pulls" data-pjax="#repo-content-pjax-container" data-turbo-frame="repo-content-turbo-frame" data-hotkey="g p" data-analytics-event="{&quot;category&quot;:&quot;Underline navbar&quot;,&quot;action&quot;:&quot;Click tab&quot;,&quot;label&quot;:&quot;Pull requests&quot;,&quot;target&quot;:&quot;UNDERLINE_NAV.TAB&quot;}" data-view-component="true" class="UnderlineNav-item no-wrap js-responsive-underlinenav-item js-selected-navigation-item">
    
              <svg aria-hidden="true" height="16" viewBox="0 0 16 16" version="1.1" width="16" data-view-component="true" class="octicon octicon-git-pull-request UnderlineNav-octicon d-none d-sm-inline">
    <path d="M1.5 3.25a2.25 2.25 0 1 1 3 2.122v5.256a2.251 2.251 0 1 1-1.5 0V5.372A2.25 2.25 0 0 1 1.5 3.25Zm5.677-.177L9.573.677A.25.25 0 0 1 10 .854V2.5h1A2.5 2.5 0 0 1 13.5 5v5.628a2.251 2.251 0 1 1-1.5 0V5a1 1 0 0 0-1-1h-1v1.646a.25.25 0 0 1-.427.177L7.177 3.427a.25.25 0 0 1 0-.354ZM3.75 2.5a.75.75 0 1 0 0 1.5.75.75 0 0 0 0-1.5Zm0 9.5a.75.75 0 1 0 0 1.5.75.75 0 0 0 0-1.5Zm8.25.75a.75.75 0 1 0 1.5 0 .75.75 0 0 0-1.5 0Z"></path>
</svg>
        <span data-content="Pull requests">Pull requests</span>
          <span id="pull-requests-repo-tab-count" data-pjax-replace="" data-turbo-replace="" title="1" data-view-component="true" class="Counter">1</span>


    
</a></li>
      <li data-view-component="true" class="d-inline-flex">
  <a id="actions-tab" href="/jnliou/project4/actions" data-tab-item="i3actions-tab" data-selected-links="repo_actions /jnliou/project4/actions" data-pjax="#repo-content-pjax-container" data-turbo-frame="repo-content-turbo-frame" data-hotkey="g a" data-analytics-event="{&quot;category&quot;:&quot;Underline navbar&quot;,&quot;action&quot;:&quot;Click tab&quot;,&quot;label&quot;:&quot;Actions&quot;,&quot;target&quot;:&quot;UNDERLINE_NAV.TAB&quot;}" data-view-component="true" class="UnderlineNav-item no-wrap js-responsive-underlinenav-item js-selected-navigation-item">
    
              <svg aria-hidden="true" height="16" viewBox="0 0 16 16" version="1.1" width="16" data-view-component="true" class="octicon octicon-play UnderlineNav-octicon d-none d-sm-inline">
    <path d="M8 0a8 8 0 1 1 0 16A8 8 0 0 1 8 0ZM1.5 8a6.5 6.5 0 1 0 13 0 6.5 6.5 0 0 0-13 0Zm4.879-2.773 4.264 2.559a.25.25 0 0 1 0 .428l-4.264 2.559A.25.25 0 0 1 6 10.559V5.442a.25.25 0 0 1 .379-.215Z"></path>
</svg>
        <span data-content="Actions">Actions</span>
          <span id="actions-repo-tab-count" data-pjax-replace="" data-turbo-replace="" title="Not available" data-view-component="true" class="Counter"></span>


    
</a></li>
      <li data-view-component="true" class="d-inline-flex">
  <a id="projects-tab" href="/jnliou/project4/projects" data-tab-item="i4projects-tab" data-selected-links="repo_projects new_repo_project repo_project /jnliou/project4/projects" data-pjax="#repo-content-pjax-container" data-turbo-frame="repo-content-turbo-frame" data-hotkey="g b" data-analytics-event="{&quot;category&quot;:&quot;Underline navbar&quot;,&quot;action&quot;:&quot;Click tab&quot;,&quot;label&quot;:&quot;Projects&quot;,&quot;target&quot;:&quot;UNDERLINE_NAV.TAB&quot;}" data-view-component="true" class="UnderlineNav-item no-wrap js-responsive-underlinenav-item js-selected-navigation-item">
    
              <svg aria-hidden="true" height="16" viewBox="0 0 16 16" version="1.1" width="16" data-view-component="true" class="octicon octicon-table UnderlineNav-octicon d-none d-sm-inline">
    <path d="M0 1.75C0 .784.784 0 1.75 0h12.5C15.216 0 16 .784 16 1.75v12.5A1.75 1.75 0 0 1 14.25 16H1.75A1.75 1.75 0 0 1 0 14.25ZM6.5 6.5v8h7.75a.25.25 0 0 0 .25-.25V6.5Zm8-1.5V1.75a.25.25 0 0 0-.25-.25H6.5V5Zm-13 1.5v7.75c0 .138.112.25.25.25H5v-8ZM5 5V1.5H1.75a.25.25 0 0 0-.25.25V5Z"></path>
</svg>
        <span data-content="Projects">Projects</span>
          <span id="projects-repo-tab-count" data-pjax-replace="" data-turbo-replace="" title="0" hidden="hidden" data-view-component="true" class="Counter">0</span>


    
</a></li>
      <li data-view-component="true" class="d-inline-flex">
  <a id="wiki-tab" href="/jnliou/project4/wiki" data-tab-item="i5wiki-tab" data-selected-links="repo_wiki /jnliou/project4/wiki" data-pjax="#repo-content-pjax-container" data-turbo-frame="repo-content-turbo-frame" data-hotkey="g w" data-analytics-event="{&quot;category&quot;:&quot;Underline navbar&quot;,&quot;action&quot;:&quot;Click tab&quot;,&quot;label&quot;:&quot;Wiki&quot;,&quot;target&quot;:&quot;UNDERLINE_NAV.TAB&quot;}" data-view-component="true" class="UnderlineNav-item no-wrap js-responsive-underlinenav-item js-selected-navigation-item">
    
              <svg aria-hidden="true" height="16" viewBox="0 0 16 16" version="1.1" width="16" data-view-component="true" class="octicon octicon-book UnderlineNav-octicon d-none d-sm-inline">
    <path d="M0 1.75A.75.75 0 0 1 .75 1h4.253c1.227 0 2.317.59 3 1.501A3.743 3.743 0 0 1 11.006 1h4.245a.75.75 0 0 1 .75.75v10.5a.75.75 0 0 1-.75.75h-4.507a2.25 2.25 0 0 0-1.591.659l-.622.621a.75.75 0 0 1-1.06 0l-.622-.621A2.25 2.25 0 0 0 5.258 13H.75a.75.75 0 0 1-.75-.75Zm7.251 10.324.004-5.073-.002-2.253A2.25 2.25 0 0 0 5.003 2.5H1.5v9h3.757a3.75 3.75 0 0 1 1.994.574ZM8.755 4.75l-.004 7.322a3.752 3.752 0 0 1 1.992-.572H14.5v-9h-3.495a2.25 2.25 0 0 0-2.25 2.25Z"></path>
</svg>
        <span data-content="Wiki">Wiki</span>
          <span id="wiki-repo-tab-count" data-pjax-replace="" data-turbo-replace="" title="Not available" data-view-component="true" class="Counter"></span>


    
</a></li>
      <li data-view-component="true" class="d-inline-flex">
  <a id="security-tab" href="/jnliou/project4/security" data-tab-item="i6security-tab" data-selected-links="security overview alerts policy token_scanning code_scanning /jnliou/project4/security" data-pjax="#repo-content-pjax-container" data-turbo-frame="repo-content-turbo-frame" data-hotkey="g s" data-analytics-event="{&quot;category&quot;:&quot;Underline navbar&quot;,&quot;action&quot;:&quot;Click tab&quot;,&quot;label&quot;:&quot;Security&quot;,&quot;target&quot;:&quot;UNDERLINE_NAV.TAB&quot;}" data-view-component="true" class="UnderlineNav-item no-wrap js-responsive-underlinenav-item js-selected-navigation-item">
    
              <svg aria-hidden="true" height="16" viewBox="0 0 16 16" version="1.1" width="16" data-view-component="true" class="octicon octicon-shield UnderlineNav-octicon d-none d-sm-inline">
    <path d="M7.467.133a1.748 1.748 0 0 1 1.066 0l5.25 1.68A1.75 1.75 0 0 1 15 3.48V7c0 1.566-.32 3.182-1.303 4.682-.983 1.498-2.585 2.813-5.032 3.855a1.697 1.697 0 0 1-1.33 0c-2.447-1.042-4.049-2.357-5.032-3.855C1.32 10.182 1 8.566 1 7V3.48a1.75 1.75 0 0 1 1.217-1.667Zm.61 1.429a.25.25 0 0 0-.153 0l-5.25 1.68a.25.25 0 0 0-.174.238V7c0 1.358.275 2.666 1.057 3.86.784 1.194 2.121 2.34 4.366 3.297a.196.196 0 0 0 .154 0c2.245-.956 3.582-2.104 4.366-3.298C13.225 9.666 13.5 8.36 13.5 7V3.48a.251.251 0 0 0-.174-.237l-5.25-1.68ZM8.75 4.75v3a.75.75 0 0 1-1.5 0v-3a.75.75 0 0 1 1.5 0ZM9 10.5a1 1 0 1 1-2 0 1 1 0 0 1 2 0Z"></path>
</svg>
        <span data-content="Security">Security</span>
          <include-fragment src="/jnliou/project4/security/overall-count" accept="text/fragment+html"></include-fragment>

    
</a></li>
      <li data-view-component="true" class="d-inline-flex">
  <a id="insights-tab" href="/jnliou/project4/pulse" data-tab-item="i7insights-tab" data-selected-links="repo_graphs repo_contributors dependency_graph dependabot_updates pulse people community /jnliou/project4/pulse" data-pjax="#repo-content-pjax-container" data-turbo-frame="repo-content-turbo-frame" data-analytics-event="{&quot;category&quot;:&quot;Underline navbar&quot;,&quot;action&quot;:&quot;Click tab&quot;,&quot;label&quot;:&quot;Insights&quot;,&quot;target&quot;:&quot;UNDERLINE_NAV.TAB&quot;}" data-view-component="true" class="UnderlineNav-item no-wrap js-responsive-underlinenav-item js-selected-navigation-item">
    
              <svg aria-hidden="true" height="16" viewBox="0 0 16 16" version="1.1" width="16" data-view-component="true" class="octicon octicon-graph UnderlineNav-octicon d-none d-sm-inline">
    <path d="M1.5 1.75V13.5h13.75a.75.75 0 0 1 0 1.5H.75a.75.75 0 0 1-.75-.75V1.75a.75.75 0 0 1 1.5 0Zm14.28 2.53-5.25 5.25a.75.75 0 0 1-1.06 0L7 7.06 4.28 9.78a.751.751 0 0 1-1.042-.018.751.751 0 0 1-.018-1.042l3.25-3.25a.75.75 0 0 1 1.06 0L10 7.94l4.72-4.72a.751.751 0 0 1 1.042.018.751.751 0 0 1 .018 1.042Z"></path>
</svg>
        <span data-content="Insights">Insights</span>
          <span id="insights-repo-tab-count" data-pjax-replace="" data-turbo-replace="" title="Not available" data-view-component="true" class="Counter"></span>


    
</a></li>
</ul>
    <div style="visibility:hidden;" data-view-component="true" class="UnderlineNav-actions js-responsive-underlinenav-overflow position-absolute pr-3 pr-md-4 pr-lg-5 right-0">        <details data-view-component="true" class="details-overlay details-reset position-relative">
    <summary role="button" data-view-component="true">          <div class="UnderlineNav-item mr-0 border-0">
            <svg aria-hidden="true" height="16" viewBox="0 0 16 16" version="1.1" width="16" data-view-component="true" class="octicon octicon-kebab-horizontal">
    <path d="M8 9a1.5 1.5 0 1 0 0-3 1.5 1.5 0 0 0 0 3ZM1.5 9a1.5 1.5 0 1 0 0-3 1.5 1.5 0 0 0 0 3Zm13 0a1.5 1.5 0 1 0 0-3 1.5 1.5 0 0 0 0 3Z"></path>
</svg>
            <span class="sr-only">More</span>
          </div>
</summary>
    <details-menu role="menu" data-view-component="true" class="dropdown-menu dropdown-menu-sw">
          <ul>
              <li data-menu-item="i0code-tab" hidden>
                <a role="menuitem" class="js-selected-navigation-item dropdown-item" data-selected-links="repo_source repo_downloads repo_commits repo_releases repo_tags repo_branches repo_packages repo_deployments repo_attestations /jnliou/project4/tree/sri" href="/jnliou/project4/tree/sri">
                  Code
</a>              </li>
              <li data-menu-item="i1issues-tab" hidden>
                <a role="menuitem" class="js-selected-navigation-item dropdown-item" data-selected-links="repo_issues repo_labels repo_milestones /jnliou/project4/issues" href="/jnliou/project4/issues">
                  Issues
</a>              </li>
              <li data-menu-item="i2pull-requests-tab" hidden>
                <a role="menuitem" class="js-selected-navigation-item dropdown-item" data-selected-links="repo_pulls checks /jnliou/project4/pulls" href="/jnliou/project4/pulls">
                  Pull requests
</a>              </li>
              <li data-menu-item="i3actions-tab" hidden>
                <a role="menuitem" class="js-selected-navigation-item dropdown-item" data-selected-links="repo_actions /jnliou/project4/actions" href="/jnliou/project4/actions">
                  Actions
</a>              </li>
              <li data-menu-item="i4projects-tab" hidden>
                <a role="menuitem" class="js-selected-navigation-item dropdown-item" data-selected-links="repo_projects new_repo_project repo_project /jnliou/project4/projects" href="/jnliou/project4/projects">
                  Projects
</a>              </li>
              <li data-menu-item="i5wiki-tab" hidden>
                <a role="menuitem" class="js-selected-navigation-item dropdown-item" data-selected-links="repo_wiki /jnliou/project4/wiki" href="/jnliou/project4/wiki">
                  Wiki
</a>              </li>
              <li data-menu-item="i6security-tab" hidden>
                <a role="menuitem" class="js-selected-navigation-item dropdown-item" data-selected-links="security overview alerts policy token_scanning code_scanning /jnliou/project4/security" href="/jnliou/project4/security">
                  Security
</a>              </li>
              <li data-menu-item="i7insights-tab" hidden>
                <a role="menuitem" class="js-selected-navigation-item dropdown-item" data-selected-links="repo_graphs repo_contributors dependency_graph dependabot_updates pulse people community /jnliou/project4/pulse" href="/jnliou/project4/pulse">
                  Insights
</a>              </li>
          </ul>
</details-menu>
</details></div>
</nav>
      </div>
</header>


      <div hidden="hidden" data-view-component="true" class="js-stale-session-flash stale-session-flash flash flash-warn mb-3">
  
        <svg aria-hidden="true" height="16" viewBox="0 0 16 16" version="1.1" width="16" data-view-component="true" class="octicon octicon-alert">
    <path d="M6.457 1.047c.659-1.234 2.427-1.234 3.086 0l6.082 11.378A1.75 1.75 0 0 1 14.082 15H1.918a1.75 1.75 0 0 1-1.543-2.575Zm1.763.707a.25.25 0 0 0-.44 0L1.698 13.132a.25.25 0 0 0 .22.368h12.164a.25.25 0 0 0 .22-.368Zm.53 3.996v2.5a.75.75 0 0 1-1.5 0v-2.5a.75.75 0 0 1 1.5 0ZM9 11a1 1 0 1 1-2 0 1 1 0 0 1 2 0Z"></path>
</svg>
        <span class="js-stale-session-flash-signed-in" hidden>You signed in with another tab or window. <a class="Link--inTextBlock" href="">Reload</a> to refresh your session.</span>
        <span class="js-stale-session-flash-signed-out" hidden>You signed out in another tab or window. <a class="Link--inTextBlock" href="">Reload</a> to refresh your session.</span>
        <span class="js-stale-session-flash-switched" hidden>You switched accounts on another tab or window. <a class="Link--inTextBlock" href="">Reload</a> to refresh your session.</span>

    <div data-view-component="true" class="flash-close">
  <button id="icon-button-65b52a05-86af-4931-8761-6c337f3d58c5" aria-labelledby="tooltip-89c899e5-310f-47d7-8531-96b0cead1683" type="button" data-view-component="true" class="Button Button--iconOnly Button--invisible Button--medium js-flash-close">    <svg aria-hidden="true" height="16" viewBox="0 0 16 16" version="1.1" width="16" data-view-component="true" class="octicon octicon-x Button-visual">
    <path d="M3.72 3.72a.75.75 0 0 1 1.06 0L8 6.94l3.22-3.22a.749.749 0 0 1 1.275.326.749.749 0 0 1-.215.734L9.06 8l3.22 3.22a.749.749 0 0 1-.326 1.275.749.749 0 0 1-.734-.215L8 9.06l-3.22 3.22a.751.751 0 0 1-1.042-.018.751.751 0 0 1-.018-1.042L6.94 8 3.72 4.78a.75.75 0 0 1 0-1.06Z"></path>
</svg>
</button>  <tool-tip id="tooltip-89c899e5-310f-47d7-8531-96b0cead1683" for="icon-button-65b52a05-86af-4931-8761-6c337f3d58c5" popover="manual" data-direction="s" data-type="label" data-view-component="true" class="sr-only position-absolute">Dismiss alert</tool-tip>
</div>

  
</div>
          
    </div>

  <div id="start-of-content" class="show-on-focus"></div>








    <div id="js-flash-container" data-turbo-replace>





  <template class="js-flash-template">
    
<div class="flash flash-full   {{ className }}">
  <div class="px-2" >
    <button autofocus class="flash-close js-flash-close" type="button" aria-label="Dismiss this message">
      <svg aria-hidden="true" height="16" viewBox="0 0 16 16" version="1.1" width="16" data-view-component="true" class="octicon octicon-x">
    <path d="M3.72 3.72a.75.75 0 0 1 1.06 0L8 6.94l3.22-3.22a.749.749 0 0 1 1.275.326.749.749 0 0 1-.215.734L9.06 8l3.22 3.22a.749.749 0 0 1-.326 1.275.749.749 0 0 1-.734-.215L8 9.06l-3.22 3.22a.751.751 0 0 1-1.042-.018.751.751 0 0 1-.018-1.042L6.94 8 3.72 4.78a.75.75 0 0 1 0-1.06Z"></path>
</svg>
    </button>
    <div aria-atomic="true" role="alert" class="js-flash-alert">
      
      <div>{{ message }}</div>

    </div>
  </div>
</div>
  </template>
</div>


    
    <notification-shelf-watcher data-base-url="https://github.com/notifications/beta/shelf" data-channel="eyJjIjoibm90aWZpY2F0aW9uLWNoYW5nZWQ6MTMyMTYxNzk5IiwidCI6MTY5NzM0NDk4NX0=--2d15b582150b5a614e3eb5090212b32c7573fb42cc8d78d13ea16a29b8e42c84" data-view-component="true" class="js-socket-channel"></notification-shelf-watcher>
  <div hidden data-initial data-target="notification-shelf-watcher.placeholder"></div>






      <details
  class="details-reset details-overlay details-overlay-dark js-command-palette-dialog"
  id="command-palette-pjax-container"
  data-turbo-replace
>
  <summary aria-label="Command palette trigger" tabindex="-1"></summary>
  <details-dialog class="command-palette-details-dialog d-flex flex-column flex-justify-center height-fit" aria-label="Command palette">
    <command-palette
      class="command-palette color-bg-default rounded-3 border color-shadow-small"
      return-to=/jnliou/project4/blob/sri/Various_models.ipynb
      user-id="132161799"
      activation-hotkey="Mod+k,Mod+Alt+k"
      command-mode-hotkey="Mod+Shift+k"
      data-action="
        command-palette-input-ready:command-palette#inputReady
        command-palette-page-stack-updated:command-palette#updateInputScope
        itemsUpdated:command-palette#itemsUpdated
        keydown:command-palette#onKeydown
        loadingStateChanged:command-palette#loadingStateChanged
        selectedItemChanged:command-palette#selectedItemChanged
        pageFetchError:command-palette#pageFetchError
      ">

        <command-palette-mode
          data-char="#"
            data-scope-types="[&quot;&quot;]"
            data-placeholder="Search issues and pull requests"
        ></command-palette-mode>
        <command-palette-mode
          data-char="#"
            data-scope-types="[&quot;owner&quot;,&quot;repository&quot;]"
            data-placeholder="Search issues, pull requests, discussions, and projects"
        ></command-palette-mode>
        <command-palette-mode
          data-char="!"
            data-scope-types="[&quot;owner&quot;,&quot;repository&quot;]"
            data-placeholder="Search projects"
        ></command-palette-mode>
        <command-palette-mode
          data-char="@"
            data-scope-types="[&quot;&quot;]"
            data-placeholder="Search or jump to a user, organization, or repository"
        ></command-palette-mode>
        <command-palette-mode
          data-char="@"
            data-scope-types="[&quot;owner&quot;]"
            data-placeholder="Search or jump to a repository"
        ></command-palette-mode>
        <command-palette-mode
          data-char="/"
            data-scope-types="[&quot;repository&quot;]"
            data-placeholder="Search files"
        ></command-palette-mode>
        <command-palette-mode
          data-char="?"
        ></command-palette-mode>
        <command-palette-mode
          data-char="&gt;"
            data-placeholder="Run a command"
        ></command-palette-mode>
        <command-palette-mode
          data-char=""
            data-scope-types="[&quot;&quot;]"
            data-placeholder="Search or jump to..."
        ></command-palette-mode>
        <command-palette-mode
          data-char=""
            data-scope-types="[&quot;owner&quot;]"
            data-placeholder="Search or jump to..."
        ></command-palette-mode>
      <command-palette-mode
        class="js-command-palette-default-mode"
        data-char=""
        data-placeholder="Search or jump to..."
      ></command-palette-mode>

      <command-palette-input placeholder="Search or jump to..."

        data-action="
          command-palette-input:command-palette#onInput
          command-palette-select:command-palette#onSelect
          command-palette-descope:command-palette#onDescope
          command-palette-cleared:command-palette#onInputClear
        "
      >
        <div class="js-search-icon d-flex flex-items-center mr-2" style="height: 26px">
          <svg aria-hidden="true" height="16" viewBox="0 0 16 16" version="1.1" width="16" data-view-component="true" class="octicon octicon-search color-fg-muted">
    <path d="M10.68 11.74a6 6 0 0 1-7.922-8.982 6 6 0 0 1 8.982 7.922l3.04 3.04a.749.749 0 0 1-.326 1.275.749.749 0 0 1-.734-.215ZM11.5 7a4.499 4.499 0 1 0-8.997 0A4.499 4.499 0 0 0 11.5 7Z"></path>
</svg>
        </div>
        <div class="js-spinner d-flex flex-items-center mr-2 color-fg-muted" hidden>
          <svg aria-label="Loading" class="anim-rotate" viewBox="0 0 16 16" fill="none" width="16" height="16">
            <circle
              cx="8"
              cy="8"
              r="7"
              stroke="currentColor"
              stroke-opacity="0.25"
              stroke-width="2"
              vector-effect="non-scaling-stroke"
            ></circle>
            <path
              d="M15 8a7.002 7.002 0 00-7-7"
              stroke="currentColor"
              stroke-width="2"
              stroke-linecap="round"
              vector-effect="non-scaling-stroke"
            ></path>
          </svg>
        </div>
        <command-palette-scope >
          <div data-target="command-palette-scope.placeholder" hidden class="color-fg-subtle">/&nbsp;&nbsp;<span class="text-semibold color-fg-default">...</span>&nbsp;&nbsp;/&nbsp;&nbsp;</div>
              <command-palette-token
                data-text="jnliou"
                data-id="U_kgDOBzcNPQ"
                data-type="owner"
                data-value="jnliou"
                data-targets="command-palette-scope.tokens"
                class="color-fg-default text-semibold"
                style="white-space:nowrap;line-height:20px;"
                >jnliou<span class="color-fg-subtle text-normal">&nbsp;&nbsp;/&nbsp;&nbsp;</span></command-palette-token>
              <command-palette-token
                data-text="project4"
                data-id="R_kgDOKWMWGw"
                data-type="repository"
                data-value="project4"
                data-targets="command-palette-scope.tokens"
                class="color-fg-default text-semibold"
                style="white-space:nowrap;line-height:20px;"
                >project4<span class="color-fg-subtle text-normal">&nbsp;&nbsp;/&nbsp;&nbsp;</span></command-palette-token>
        </command-palette-scope>
        <div class="command-palette-input-group flex-1 form-control border-0 box-shadow-none" style="z-index: 0">
          <div class="command-palette-typeahead position-absolute d-flex flex-items-center Truncate">
            <span class="typeahead-segment input-mirror" data-target="command-palette-input.mirror"></span>
            <span class="Truncate-text" data-target="command-palette-input.typeaheadText"></span>
            <span class="typeahead-segment" data-target="command-palette-input.typeaheadPlaceholder"></span>
          </div>
          <input
            class="js-overlay-input typeahead-input d-none"
            disabled
            tabindex="-1"
            aria-label="Hidden input for typeahead"
          >
          <input
            type="text"
            autocomplete="off"
            autocorrect="off"
            autocapitalize="off"
            spellcheck="false"
            class="js-input typeahead-input form-control border-0 box-shadow-none input-block width-full no-focus-indicator"
            aria-label="Command palette input"
            aria-haspopup="listbox"
            aria-expanded="false"
            aria-autocomplete="list"
            aria-controls="command-palette-page-stack"
            role="combobox"
            data-action="
              input:command-palette-input#onInput
              keydown:command-palette-input#onKeydown
            "
          >
        </div>
          <div data-view-component="true" class="position-relative d-inline-block">
    <button aria-keyshortcuts="Meta+Delete" data-action="click:command-palette-input#onClear keypress:command-palette-input#onClear" data-target="command-palette-input.clearButton" id="command-palette-clear-button" hidden="hidden" type="button" data-view-component="true" class="btn-octicon command-palette-input-clear-button">      <svg aria-hidden="true" height="16" viewBox="0 0 16 16" version="1.1" width="16" data-view-component="true" class="octicon octicon-x-circle-fill">
    <path d="M2.343 13.657A8 8 0 1 1 13.658 2.343 8 8 0 0 1 2.343 13.657ZM6.03 4.97a.751.751 0 0 0-1.042.018.751.751 0 0 0-.018 1.042L6.94 8 4.97 9.97a.749.749 0 0 0 .326 1.275.749.749 0 0 0 .734-.215L8 9.06l1.97 1.97a.749.749 0 0 0 1.275-.326.749.749 0 0 0-.215-.734L9.06 8l1.97-1.97a.749.749 0 0 0-.326-1.275.749.749 0 0 0-.734.215L8 6.94Z"></path>
</svg>
</button>    <tool-tip id="tooltip-823fd5fd-47d2-4ec9-9231-9b8cd0c92edb" for="command-palette-clear-button" popover="manual" data-direction="w" data-type="label" data-view-component="true" class="sr-only position-absolute">Clear Command Palette</tool-tip>
</div>
      </command-palette-input>

      <command-palette-page-stack
        data-default-scope-id="R_kgDOKWMWGw"
        data-default-scope-type="Repository"
        data-action="command-palette-page-octicons-cached:command-palette-page-stack#cacheOcticons"
      >
          <command-palette-tip
            class="color-fg-muted f6 px-3 py-1 my-2"
              data-scope-types="[&quot;&quot;,&quot;owner&quot;,&quot;repository&quot;]"
            data-mode=""
            data-value="">
            <div class="d-flex flex-items-start flex-justify-between">
              <div>
                <span class="text-bold">Tip:</span>
                  Type <kbd class="hx_kbd">#</kbd> to search pull requests
              </div>
              <div class="ml-2 flex-shrink-0">
                Type <kbd class="hx_kbd">?</kbd> for help and tips
              </div>
            </div>
          </command-palette-tip>
          <command-palette-tip
            class="color-fg-muted f6 px-3 py-1 my-2"
              data-scope-types="[&quot;&quot;,&quot;owner&quot;,&quot;repository&quot;]"
            data-mode=""
            data-value="">
            <div class="d-flex flex-items-start flex-justify-between">
              <div>
                <span class="text-bold">Tip:</span>
                  Type <kbd class="hx_kbd">#</kbd> to search issues
              </div>
              <div class="ml-2 flex-shrink-0">
                Type <kbd class="hx_kbd">?</kbd> for help and tips
              </div>
            </div>
          </command-palette-tip>
          <command-palette-tip
            class="color-fg-muted f6 px-3 py-1 my-2"
              data-scope-types="[&quot;owner&quot;,&quot;repository&quot;]"
            data-mode=""
            data-value="">
            <div class="d-flex flex-items-start flex-justify-between">
              <div>
                <span class="text-bold">Tip:</span>
                  Type <kbd class="hx_kbd">#</kbd> to search discussions
              </div>
              <div class="ml-2 flex-shrink-0">
                Type <kbd class="hx_kbd">?</kbd> for help and tips
              </div>
            </div>
          </command-palette-tip>
          <command-palette-tip
            class="color-fg-muted f6 px-3 py-1 my-2"
              data-scope-types="[&quot;owner&quot;,&quot;repository&quot;]"
            data-mode=""
            data-value="">
            <div class="d-flex flex-items-start flex-justify-between">
              <div>
                <span class="text-bold">Tip:</span>
                  Type <kbd class="hx_kbd">!</kbd> to search projects
              </div>
              <div class="ml-2 flex-shrink-0">
                Type <kbd class="hx_kbd">?</kbd> for help and tips
              </div>
            </div>
          </command-palette-tip>
          <command-palette-tip
            class="color-fg-muted f6 px-3 py-1 my-2"
              data-scope-types="[&quot;owner&quot;]"
            data-mode=""
            data-value="">
            <div class="d-flex flex-items-start flex-justify-between">
              <div>
                <span class="text-bold">Tip:</span>
                  Type <kbd class="hx_kbd">@</kbd> to search teams
              </div>
              <div class="ml-2 flex-shrink-0">
                Type <kbd class="hx_kbd">?</kbd> for help and tips
              </div>
            </div>
          </command-palette-tip>
          <command-palette-tip
            class="color-fg-muted f6 px-3 py-1 my-2"
              data-scope-types="[&quot;&quot;]"
            data-mode=""
            data-value="">
            <div class="d-flex flex-items-start flex-justify-between">
              <div>
                <span class="text-bold">Tip:</span>
                  Type <kbd class="hx_kbd">@</kbd> to search people and organizations
              </div>
              <div class="ml-2 flex-shrink-0">
                Type <kbd class="hx_kbd">?</kbd> for help and tips
              </div>
            </div>
          </command-palette-tip>
          <command-palette-tip
            class="color-fg-muted f6 px-3 py-1 my-2"
              data-scope-types="[&quot;&quot;,&quot;owner&quot;,&quot;repository&quot;]"
            data-mode=""
            data-value="">
            <div class="d-flex flex-items-start flex-justify-between">
              <div>
                <span class="text-bold">Tip:</span>
                  Type <kbd class="hx_kbd">&gt;</kbd> to activate command mode
              </div>
              <div class="ml-2 flex-shrink-0">
                Type <kbd class="hx_kbd">?</kbd> for help and tips
              </div>
            </div>
          </command-palette-tip>
          <command-palette-tip
            class="color-fg-muted f6 px-3 py-1 my-2"
              data-scope-types="[&quot;&quot;,&quot;owner&quot;,&quot;repository&quot;]"
            data-mode=""
            data-value="">
            <div class="d-flex flex-items-start flex-justify-between">
              <div>
                <span class="text-bold">Tip:</span>
                  Go to your accessibility settings to change your keyboard shortcuts
              </div>
              <div class="ml-2 flex-shrink-0">
                Type <kbd class="hx_kbd">?</kbd> for help and tips
              </div>
            </div>
          </command-palette-tip>
          <command-palette-tip
            class="color-fg-muted f6 px-3 py-1 my-2"
              data-scope-types="[&quot;&quot;,&quot;owner&quot;,&quot;repository&quot;]"
            data-mode="#"
            data-value="">
            <div class="d-flex flex-items-start flex-justify-between">
              <div>
                <span class="text-bold">Tip:</span>
                  Type author:@me to search your content
              </div>
              <div class="ml-2 flex-shrink-0">
                Type <kbd class="hx_kbd">?</kbd> for help and tips
              </div>
            </div>
          </command-palette-tip>
          <command-palette-tip
            class="color-fg-muted f6 px-3 py-1 my-2"
              data-scope-types="[&quot;&quot;,&quot;owner&quot;,&quot;repository&quot;]"
            data-mode="#"
            data-value="">
            <div class="d-flex flex-items-start flex-justify-between">
              <div>
                <span class="text-bold">Tip:</span>
                  Type is:pr to filter to pull requests
              </div>
              <div class="ml-2 flex-shrink-0">
                Type <kbd class="hx_kbd">?</kbd> for help and tips
              </div>
            </div>
          </command-palette-tip>
          <command-palette-tip
            class="color-fg-muted f6 px-3 py-1 my-2"
              data-scope-types="[&quot;&quot;,&quot;owner&quot;,&quot;repository&quot;]"
            data-mode="#"
            data-value="">
            <div class="d-flex flex-items-start flex-justify-between">
              <div>
                <span class="text-bold">Tip:</span>
                  Type is:issue to filter to issues
              </div>
              <div class="ml-2 flex-shrink-0">
                Type <kbd class="hx_kbd">?</kbd> for help and tips
              </div>
            </div>
          </command-palette-tip>
          <command-palette-tip
            class="color-fg-muted f6 px-3 py-1 my-2"
              data-scope-types="[&quot;owner&quot;,&quot;repository&quot;]"
            data-mode="#"
            data-value="">
            <div class="d-flex flex-items-start flex-justify-between">
              <div>
                <span class="text-bold">Tip:</span>
                  Type is:project to filter to projects
              </div>
              <div class="ml-2 flex-shrink-0">
                Type <kbd class="hx_kbd">?</kbd> for help and tips
              </div>
            </div>
          </command-palette-tip>
          <command-palette-tip
            class="color-fg-muted f6 px-3 py-1 my-2"
              data-scope-types="[&quot;&quot;,&quot;owner&quot;,&quot;repository&quot;]"
            data-mode="#"
            data-value="">
            <div class="d-flex flex-items-start flex-justify-between">
              <div>
                <span class="text-bold">Tip:</span>
                  Type is:open to filter to open content
              </div>
              <div class="ml-2 flex-shrink-0">
                Type <kbd class="hx_kbd">?</kbd> for help and tips
              </div>
            </div>
          </command-palette-tip>
        <command-palette-tip class="mx-3 my-2 flash flash-error d-flex flex-items-center" data-scope-types="*" data-on-error>
          <div>
            <svg aria-hidden="true" height="16" viewBox="0 0 16 16" version="1.1" width="16" data-view-component="true" class="octicon octicon-alert">
    <path d="M6.457 1.047c.659-1.234 2.427-1.234 3.086 0l6.082 11.378A1.75 1.75 0 0 1 14.082 15H1.918a1.75 1.75 0 0 1-1.543-2.575Zm1.763.707a.25.25 0 0 0-.44 0L1.698 13.132a.25.25 0 0 0 .22.368h12.164a.25.25 0 0 0 .22-.368Zm.53 3.996v2.5a.75.75 0 0 1-1.5 0v-2.5a.75.75 0 0 1 1.5 0ZM9 11a1 1 0 1 1-2 0 1 1 0 0 1 2 0Z"></path>
</svg>
          </div>
          <div class="px-2">
            We’ve encountered an error and some results aren't available at this time. Type a new search or try again later.
          </div>
        </command-palette-tip>
        <command-palette-tip class="h4 color-fg-default pl-3 pb-2 pt-3" data-on-empty data-scope-types="*" data-match-mode="[^?]|^$">
          No results matched your search
        </command-palette-tip>

        <div hidden>

            <div data-targets="command-palette-page-stack.localOcticons" data-octicon-id="arrow-right-color-fg-muted">
              <svg height="16" class="octicon octicon-arrow-right color-fg-muted" viewBox="0 0 16 16" version="1.1" width="16" aria-hidden="true"><path d="M8.22 2.97a.75.75 0 0 1 1.06 0l4.25 4.25a.75.75 0 0 1 0 1.06l-4.25 4.25a.751.751 0 0 1-1.042-.018.751.751 0 0 1-.018-1.042l2.97-2.97H3.75a.75.75 0 0 1 0-1.5h7.44L8.22 4.03a.75.75 0 0 1 0-1.06Z"></path></svg>
            </div>
            <div data-targets="command-palette-page-stack.localOcticons" data-octicon-id="arrow-right-color-fg-default">
              <svg height="16" class="octicon octicon-arrow-right color-fg-default" viewBox="0 0 16 16" version="1.1" width="16" aria-hidden="true"><path d="M8.22 2.97a.75.75 0 0 1 1.06 0l4.25 4.25a.75.75 0 0 1 0 1.06l-4.25 4.25a.751.751 0 0 1-1.042-.018.751.751 0 0 1-.018-1.042l2.97-2.97H3.75a.75.75 0 0 1 0-1.5h7.44L8.22 4.03a.75.75 0 0 1 0-1.06Z"></path></svg>
            </div>
            <div data-targets="command-palette-page-stack.localOcticons" data-octicon-id="codespaces-color-fg-muted">
              <svg height="16" class="octicon octicon-codespaces color-fg-muted" viewBox="0 0 16 16" version="1.1" width="16" aria-hidden="true"><path d="M0 11.25c0-.966.784-1.75 1.75-1.75h12.5c.966 0 1.75.784 1.75 1.75v3A1.75 1.75 0 0 1 14.25 16H1.75A1.75 1.75 0 0 1 0 14.25Zm2-9.5C2 .784 2.784 0 3.75 0h8.5C13.216 0 14 .784 14 1.75v5a1.75 1.75 0 0 1-1.75 1.75h-8.5A1.75 1.75 0 0 1 2 6.75Zm1.75-.25a.25.25 0 0 0-.25.25v5c0 .138.112.25.25.25h8.5a.25.25 0 0 0 .25-.25v-5a.25.25 0 0 0-.25-.25Zm-2 9.5a.25.25 0 0 0-.25.25v3c0 .138.112.25.25.25h12.5a.25.25 0 0 0 .25-.25v-3a.25.25 0 0 0-.25-.25Z"></path><path d="M7 12.75a.75.75 0 0 1 .75-.75h4.5a.75.75 0 0 1 0 1.5h-4.5a.75.75 0 0 1-.75-.75Zm-4 0a.75.75 0 0 1 .75-.75h.5a.75.75 0 0 1 0 1.5h-.5a.75.75 0 0 1-.75-.75Z"></path></svg>
            </div>
            <div data-targets="command-palette-page-stack.localOcticons" data-octicon-id="copy-color-fg-muted">
              <svg height="16" class="octicon octicon-copy color-fg-muted" viewBox="0 0 16 16" version="1.1" width="16" aria-hidden="true"><path d="M0 6.75C0 5.784.784 5 1.75 5h1.5a.75.75 0 0 1 0 1.5h-1.5a.25.25 0 0 0-.25.25v7.5c0 .138.112.25.25.25h7.5a.25.25 0 0 0 .25-.25v-1.5a.75.75 0 0 1 1.5 0v1.5A1.75 1.75 0 0 1 9.25 16h-7.5A1.75 1.75 0 0 1 0 14.25Z"></path><path d="M5 1.75C5 .784 5.784 0 6.75 0h7.5C15.216 0 16 .784 16 1.75v7.5A1.75 1.75 0 0 1 14.25 11h-7.5A1.75 1.75 0 0 1 5 9.25Zm1.75-.25a.25.25 0 0 0-.25.25v7.5c0 .138.112.25.25.25h7.5a.25.25 0 0 0 .25-.25v-7.5a.25.25 0 0 0-.25-.25Z"></path></svg>
            </div>
            <div data-targets="command-palette-page-stack.localOcticons" data-octicon-id="dash-color-fg-muted">
              <svg height="16" class="octicon octicon-dash color-fg-muted" viewBox="0 0 16 16" version="1.1" width="16" aria-hidden="true"><path d="M2 7.75A.75.75 0 0 1 2.75 7h10a.75.75 0 0 1 0 1.5h-10A.75.75 0 0 1 2 7.75Z"></path></svg>
            </div>
            <div data-targets="command-palette-page-stack.localOcticons" data-octicon-id="file-color-fg-muted">
              <svg height="16" class="octicon octicon-file color-fg-muted" viewBox="0 0 16 16" version="1.1" width="16" aria-hidden="true"><path d="M2 1.75C2 .784 2.784 0 3.75 0h6.586c.464 0 .909.184 1.237.513l2.914 2.914c.329.328.513.773.513 1.237v9.586A1.75 1.75 0 0 1 13.25 16h-9.5A1.75 1.75 0 0 1 2 14.25Zm1.75-.25a.25.25 0 0 0-.25.25v12.5c0 .138.112.25.25.25h9.5a.25.25 0 0 0 .25-.25V6h-2.75A1.75 1.75 0 0 1 9 4.25V1.5Zm6.75.062V4.25c0 .138.112.25.25.25h2.688l-.011-.013-2.914-2.914-.013-.011Z"></path></svg>
            </div>
            <div data-targets="command-palette-page-stack.localOcticons" data-octicon-id="gear-color-fg-muted">
              <svg height="16" class="octicon octicon-gear color-fg-muted" viewBox="0 0 16 16" version="1.1" width="16" aria-hidden="true"><path d="M8 0a8.2 8.2 0 0 1 .701.031C9.444.095 9.99.645 10.16 1.29l.288 1.107c.018.066.079.158.212.224.231.114.454.243.668.386.123.082.233.09.299.071l1.103-.303c.644-.176 1.392.021 1.82.63.27.385.506.792.704 1.218.315.675.111 1.422-.364 1.891l-.814.806c-.049.048-.098.147-.088.294.016.257.016.515 0 .772-.01.147.038.246.088.294l.814.806c.475.469.679 1.216.364 1.891a7.977 7.977 0 0 1-.704 1.217c-.428.61-1.176.807-1.82.63l-1.102-.302c-.067-.019-.177-.011-.3.071a5.909 5.909 0 0 1-.668.386c-.133.066-.194.158-.211.224l-.29 1.106c-.168.646-.715 1.196-1.458 1.26a8.006 8.006 0 0 1-1.402 0c-.743-.064-1.289-.614-1.458-1.26l-.289-1.106c-.018-.066-.079-.158-.212-.224a5.738 5.738 0 0 1-.668-.386c-.123-.082-.233-.09-.299-.071l-1.103.303c-.644.176-1.392-.021-1.82-.63a8.12 8.12 0 0 1-.704-1.218c-.315-.675-.111-1.422.363-1.891l.815-.806c.05-.048.098-.147.088-.294a6.214 6.214 0 0 1 0-.772c.01-.147-.038-.246-.088-.294l-.815-.806C.635 6.045.431 5.298.746 4.623a7.92 7.92 0 0 1 .704-1.217c.428-.61 1.176-.807 1.82-.63l1.102.302c.067.019.177.011.3-.071.214-.143.437-.272.668-.386.133-.066.194-.158.211-.224l.29-1.106C6.009.645 6.556.095 7.299.03 7.53.01 7.764 0 8 0Zm-.571 1.525c-.036.003-.108.036-.137.146l-.289 1.105c-.147.561-.549.967-.998 1.189-.173.086-.34.183-.5.29-.417.278-.97.423-1.529.27l-1.103-.303c-.109-.03-.175.016-.195.045-.22.312-.412.644-.573.99-.014.031-.021.11.059.19l.815.806c.411.406.562.957.53 1.456a4.709 4.709 0 0 0 0 .582c.032.499-.119 1.05-.53 1.456l-.815.806c-.081.08-.073.159-.059.19.162.346.353.677.573.989.02.03.085.076.195.046l1.102-.303c.56-.153 1.113-.008 1.53.27.161.107.328.204.501.29.447.222.85.629.997 1.189l.289 1.105c.029.109.101.143.137.146a6.6 6.6 0 0 0 1.142 0c.036-.003.108-.036.137-.146l.289-1.105c.147-.561.549-.967.998-1.189.173-.086.34-.183.5-.29.417-.278.97-.423 1.529-.27l1.103.303c.109.029.175-.016.195-.045.22-.313.411-.644.573-.99.014-.031.021-.11-.059-.19l-.815-.806c-.411-.406-.562-.957-.53-1.456a4.709 4.709 0 0 0 0-.582c-.032-.499.119-1.05.53-1.456l.815-.806c.081-.08.073-.159.059-.19a6.464 6.464 0 0 0-.573-.989c-.02-.03-.085-.076-.195-.046l-1.102.303c-.56.153-1.113.008-1.53-.27a4.44 4.44 0 0 0-.501-.29c-.447-.222-.85-.629-.997-1.189l-.289-1.105c-.029-.11-.101-.143-.137-.146a6.6 6.6 0 0 0-1.142 0ZM11 8a3 3 0 1 1-6 0 3 3 0 0 1 6 0ZM9.5 8a1.5 1.5 0 1 0-3.001.001A1.5 1.5 0 0 0 9.5 8Z"></path></svg>
            </div>
            <div data-targets="command-palette-page-stack.localOcticons" data-octicon-id="lock-color-fg-muted">
              <svg height="16" class="octicon octicon-lock color-fg-muted" viewBox="0 0 16 16" version="1.1" width="16" aria-hidden="true"><path d="M4 4a4 4 0 0 1 8 0v2h.25c.966 0 1.75.784 1.75 1.75v5.5A1.75 1.75 0 0 1 12.25 15h-8.5A1.75 1.75 0 0 1 2 13.25v-5.5C2 6.784 2.784 6 3.75 6H4Zm8.25 3.5h-8.5a.25.25 0 0 0-.25.25v5.5c0 .138.112.25.25.25h8.5a.25.25 0 0 0 .25-.25v-5.5a.25.25 0 0 0-.25-.25ZM10.5 6V4a2.5 2.5 0 1 0-5 0v2Z"></path></svg>
            </div>
            <div data-targets="command-palette-page-stack.localOcticons" data-octicon-id="moon-color-fg-muted">
              <svg height="16" class="octicon octicon-moon color-fg-muted" viewBox="0 0 16 16" version="1.1" width="16" aria-hidden="true"><path d="M9.598 1.591a.749.749 0 0 1 .785-.175 7.001 7.001 0 1 1-8.967 8.967.75.75 0 0 1 .961-.96 5.5 5.5 0 0 0 7.046-7.046.75.75 0 0 1 .175-.786Zm1.616 1.945a7 7 0 0 1-7.678 7.678 5.499 5.499 0 1 0 7.678-7.678Z"></path></svg>
            </div>
            <div data-targets="command-palette-page-stack.localOcticons" data-octicon-id="person-color-fg-muted">
              <svg height="16" class="octicon octicon-person color-fg-muted" viewBox="0 0 16 16" version="1.1" width="16" aria-hidden="true"><path d="M10.561 8.073a6.005 6.005 0 0 1 3.432 5.142.75.75 0 1 1-1.498.07 4.5 4.5 0 0 0-8.99 0 .75.75 0 0 1-1.498-.07 6.004 6.004 0 0 1 3.431-5.142 3.999 3.999 0 1 1 5.123 0ZM10.5 5a2.5 2.5 0 1 0-5 0 2.5 2.5 0 0 0 5 0Z"></path></svg>
            </div>
            <div data-targets="command-palette-page-stack.localOcticons" data-octicon-id="pencil-color-fg-muted">
              <svg height="16" class="octicon octicon-pencil color-fg-muted" viewBox="0 0 16 16" version="1.1" width="16" aria-hidden="true"><path d="M11.013 1.427a1.75 1.75 0 0 1 2.474 0l1.086 1.086a1.75 1.75 0 0 1 0 2.474l-8.61 8.61c-.21.21-.47.364-.756.445l-3.251.93a.75.75 0 0 1-.927-.928l.929-3.25c.081-.286.235-.547.445-.758l8.61-8.61Zm.176 4.823L9.75 4.81l-6.286 6.287a.253.253 0 0 0-.064.108l-.558 1.953 1.953-.558a.253.253 0 0 0 .108-.064Zm1.238-3.763a.25.25 0 0 0-.354 0L10.811 3.75l1.439 1.44 1.263-1.263a.25.25 0 0 0 0-.354Z"></path></svg>
            </div>
            <div data-targets="command-palette-page-stack.localOcticons" data-octicon-id="issue-opened-open">
              <svg height="16" class="octicon octicon-issue-opened open" viewBox="0 0 16 16" version="1.1" width="16" aria-hidden="true"><path d="M8 9.5a1.5 1.5 0 1 0 0-3 1.5 1.5 0 0 0 0 3Z"></path><path d="M8 0a8 8 0 1 1 0 16A8 8 0 0 1 8 0ZM1.5 8a6.5 6.5 0 1 0 13 0 6.5 6.5 0 0 0-13 0Z"></path></svg>
            </div>
            <div data-targets="command-palette-page-stack.localOcticons" data-octicon-id="git-pull-request-draft-color-fg-muted">
              <svg height="16" class="octicon octicon-git-pull-request-draft color-fg-muted" viewBox="0 0 16 16" version="1.1" width="16" aria-hidden="true"><path d="M3.25 1A2.25 2.25 0 0 1 4 5.372v5.256a2.251 2.251 0 1 1-1.5 0V5.372A2.251 2.251 0 0 1 3.25 1Zm9.5 14a2.25 2.25 0 1 1 0-4.5 2.25 2.25 0 0 1 0 4.5ZM2.5 3.25a.75.75 0 1 0 1.5 0 .75.75 0 0 0-1.5 0ZM3.25 12a.75.75 0 1 0 0 1.5.75.75 0 0 0 0-1.5Zm9.5 0a.75.75 0 1 0 0 1.5.75.75 0 0 0 0-1.5ZM14 7.5a1.25 1.25 0 1 1-2.5 0 1.25 1.25 0 0 1 2.5 0Zm0-4.25a1.25 1.25 0 1 1-2.5 0 1.25 1.25 0 0 1 2.5 0Z"></path></svg>
            </div>
            <div data-targets="command-palette-page-stack.localOcticons" data-octicon-id="search-color-fg-muted">
              <svg height="16" class="octicon octicon-search color-fg-muted" viewBox="0 0 16 16" version="1.1" width="16" aria-hidden="true"><path d="M10.68 11.74a6 6 0 0 1-7.922-8.982 6 6 0 0 1 8.982 7.922l3.04 3.04a.749.749 0 0 1-.326 1.275.749.749 0 0 1-.734-.215ZM11.5 7a4.499 4.499 0 1 0-8.997 0A4.499 4.499 0 0 0 11.5 7Z"></path></svg>
            </div>
            <div data-targets="command-palette-page-stack.localOcticons" data-octicon-id="sun-color-fg-muted">
              <svg height="16" class="octicon octicon-sun color-fg-muted" viewBox="0 0 16 16" version="1.1" width="16" aria-hidden="true"><path d="M8 12a4 4 0 1 1 0-8 4 4 0 0 1 0 8Zm0-1.5a2.5 2.5 0 1 0 0-5 2.5 2.5 0 0 0 0 5Zm5.657-8.157a.75.75 0 0 1 0 1.061l-1.061 1.06a.749.749 0 0 1-1.275-.326.749.749 0 0 1 .215-.734l1.06-1.06a.75.75 0 0 1 1.06 0Zm-9.193 9.193a.75.75 0 0 1 0 1.06l-1.06 1.061a.75.75 0 1 1-1.061-1.06l1.06-1.061a.75.75 0 0 1 1.061 0ZM8 0a.75.75 0 0 1 .75.75v1.5a.75.75 0 0 1-1.5 0V.75A.75.75 0 0 1 8 0ZM3 8a.75.75 0 0 1-.75.75H.75a.75.75 0 0 1 0-1.5h1.5A.75.75 0 0 1 3 8Zm13 0a.75.75 0 0 1-.75.75h-1.5a.75.75 0 0 1 0-1.5h1.5A.75.75 0 0 1 16 8Zm-8 5a.75.75 0 0 1 .75.75v1.5a.75.75 0 0 1-1.5 0v-1.5A.75.75 0 0 1 8 13Zm3.536-1.464a.75.75 0 0 1 1.06 0l1.061 1.06a.75.75 0 0 1-1.06 1.061l-1.061-1.06a.75.75 0 0 1 0-1.061ZM2.343 2.343a.75.75 0 0 1 1.061 0l1.06 1.061a.751.751 0 0 1-.018 1.042.751.751 0 0 1-1.042.018l-1.06-1.06a.75.75 0 0 1 0-1.06Z"></path></svg>
            </div>
            <div data-targets="command-palette-page-stack.localOcticons" data-octicon-id="sync-color-fg-muted">
              <svg height="16" class="octicon octicon-sync color-fg-muted" viewBox="0 0 16 16" version="1.1" width="16" aria-hidden="true"><path d="M1.705 8.005a.75.75 0 0 1 .834.656 5.5 5.5 0 0 0 9.592 2.97l-1.204-1.204a.25.25 0 0 1 .177-.427h3.646a.25.25 0 0 1 .25.25v3.646a.25.25 0 0 1-.427.177l-1.38-1.38A7.002 7.002 0 0 1 1.05 8.84a.75.75 0 0 1 .656-.834ZM8 2.5a5.487 5.487 0 0 0-4.131 1.869l1.204 1.204A.25.25 0 0 1 4.896 6H1.25A.25.25 0 0 1 1 5.75V2.104a.25.25 0 0 1 .427-.177l1.38 1.38A7.002 7.002 0 0 1 14.95 7.16a.75.75 0 0 1-1.49.178A5.5 5.5 0 0 0 8 2.5Z"></path></svg>
            </div>
            <div data-targets="command-palette-page-stack.localOcticons" data-octicon-id="trash-color-fg-muted">
              <svg height="16" class="octicon octicon-trash color-fg-muted" viewBox="0 0 16 16" version="1.1" width="16" aria-hidden="true"><path d="M11 1.75V3h2.25a.75.75 0 0 1 0 1.5H2.75a.75.75 0 0 1 0-1.5H5V1.75C5 .784 5.784 0 6.75 0h2.5C10.216 0 11 .784 11 1.75ZM4.496 6.675l.66 6.6a.25.25 0 0 0 .249.225h5.19a.25.25 0 0 0 .249-.225l.66-6.6a.75.75 0 0 1 1.492.149l-.66 6.6A1.748 1.748 0 0 1 10.595 15h-5.19a1.75 1.75 0 0 1-1.741-1.575l-.66-6.6a.75.75 0 1 1 1.492-.15ZM6.5 1.75V3h3V1.75a.25.25 0 0 0-.25-.25h-2.5a.25.25 0 0 0-.25.25Z"></path></svg>
            </div>
            <div data-targets="command-palette-page-stack.localOcticons" data-octicon-id="key-color-fg-muted">
              <svg height="16" class="octicon octicon-key color-fg-muted" viewBox="0 0 16 16" version="1.1" width="16" aria-hidden="true"><path d="M10.5 0a5.499 5.499 0 1 1-1.288 10.848l-.932.932a.749.749 0 0 1-.53.22H7v.75a.749.749 0 0 1-.22.53l-.5.5a.749.749 0 0 1-.53.22H5v.75a.749.749 0 0 1-.22.53l-.5.5a.749.749 0 0 1-.53.22h-2A1.75 1.75 0 0 1 0 14.25v-2c0-.199.079-.389.22-.53l4.932-4.932A5.5 5.5 0 0 1 10.5 0Zm-4 5.5c-.001.431.069.86.205 1.269a.75.75 0 0 1-.181.768L1.5 12.56v1.69c0 .138.112.25.25.25h1.69l.06-.06v-1.19a.75.75 0 0 1 .75-.75h1.19l.06-.06v-1.19a.75.75 0 0 1 .75-.75h1.19l1.023-1.025a.75.75 0 0 1 .768-.18A4 4 0 1 0 6.5 5.5ZM11 6a1 1 0 1 1 0-2 1 1 0 0 1 0 2Z"></path></svg>
            </div>
            <div data-targets="command-palette-page-stack.localOcticons" data-octicon-id="comment-discussion-color-fg-muted">
              <svg height="16" class="octicon octicon-comment-discussion color-fg-muted" viewBox="0 0 16 16" version="1.1" width="16" aria-hidden="true"><path d="M1.75 1h8.5c.966 0 1.75.784 1.75 1.75v5.5A1.75 1.75 0 0 1 10.25 10H7.061l-2.574 2.573A1.458 1.458 0 0 1 2 11.543V10h-.25A1.75 1.75 0 0 1 0 8.25v-5.5C0 1.784.784 1 1.75 1ZM1.5 2.75v5.5c0 .138.112.25.25.25h1a.75.75 0 0 1 .75.75v2.19l2.72-2.72a.749.749 0 0 1 .53-.22h3.5a.25.25 0 0 0 .25-.25v-5.5a.25.25 0 0 0-.25-.25h-8.5a.25.25 0 0 0-.25.25Zm13 2a.25.25 0 0 0-.25-.25h-.5a.75.75 0 0 1 0-1.5h.5c.966 0 1.75.784 1.75 1.75v5.5A1.75 1.75 0 0 1 14.25 12H14v1.543a1.458 1.458 0 0 1-2.487 1.03L9.22 12.28a.749.749 0 0 1 .326-1.275.749.749 0 0 1 .734.215l2.22 2.22v-2.19a.75.75 0 0 1 .75-.75h1a.25.25 0 0 0 .25-.25Z"></path></svg>
            </div>
            <div data-targets="command-palette-page-stack.localOcticons" data-octicon-id="bell-color-fg-muted">
              <svg height="16" class="octicon octicon-bell color-fg-muted" viewBox="0 0 16 16" version="1.1" width="16" aria-hidden="true"><path d="M8 16a2 2 0 0 0 1.985-1.75c.017-.137-.097-.25-.235-.25h-3.5c-.138 0-.252.113-.235.25A2 2 0 0 0 8 16ZM3 5a5 5 0 0 1 10 0v2.947c0 .05.015.098.042.139l1.703 2.555A1.519 1.519 0 0 1 13.482 13H2.518a1.516 1.516 0 0 1-1.263-2.36l1.703-2.554A.255.255 0 0 0 3 7.947Zm5-3.5A3.5 3.5 0 0 0 4.5 5v2.947c0 .346-.102.683-.294.97l-1.703 2.556a.017.017 0 0 0-.003.01l.001.006c0 .002.002.004.004.006l.006.004.007.001h10.964l.007-.001.006-.004.004-.006.001-.007a.017.017 0 0 0-.003-.01l-1.703-2.554a1.745 1.745 0 0 1-.294-.97V5A3.5 3.5 0 0 0 8 1.5Z"></path></svg>
            </div>
            <div data-targets="command-palette-page-stack.localOcticons" data-octicon-id="bell-slash-color-fg-muted">
              <svg height="16" class="octicon octicon-bell-slash color-fg-muted" viewBox="0 0 16 16" version="1.1" width="16" aria-hidden="true"><path d="m4.182 4.31.016.011 10.104 7.316.013.01 1.375.996a.75.75 0 1 1-.88 1.214L13.626 13H2.518a1.516 1.516 0 0 1-1.263-2.36l1.703-2.554A.255.255 0 0 0 3 7.947V5.305L.31 3.357a.75.75 0 1 1 .88-1.214Zm7.373 7.19L4.5 6.391v1.556c0 .346-.102.683-.294.97l-1.703 2.556a.017.017 0 0 0-.003.01c0 .005.002.009.005.012l.006.004.007.001ZM8 1.5c-.997 0-1.895.416-2.534 1.086A.75.75 0 1 1 4.38 1.55 5 5 0 0 1 13 5v2.373a.75.75 0 0 1-1.5 0V5A3.5 3.5 0 0 0 8 1.5ZM8 16a2 2 0 0 1-1.985-1.75c-.017-.137.097-.25.235-.25h3.5c.138 0 .252.113.235.25A2 2 0 0 1 8 16Z"></path></svg>
            </div>
            <div data-targets="command-palette-page-stack.localOcticons" data-octicon-id="paintbrush-color-fg-muted">
              <svg height="16" class="octicon octicon-paintbrush color-fg-muted" viewBox="0 0 16 16" version="1.1" width="16" aria-hidden="true"><path d="M11.134 1.535c.7-.509 1.416-.942 2.076-1.155.649-.21 1.463-.267 2.069.34.603.601.568 1.411.368 2.07-.202.668-.624 1.39-1.125 2.096-1.011 1.424-2.496 2.987-3.775 4.249-1.098 1.084-2.132 1.839-3.04 2.3a3.744 3.744 0 0 1-1.055 3.217c-.431.431-1.065.691-1.657.861-.614.177-1.294.287-1.914.357A21.151 21.151 0 0 1 .797 16H.743l.007-.75H.749L.742 16a.75.75 0 0 1-.743-.742l.743-.008-.742.007v-.054a21.25 21.25 0 0 1 .13-2.284c.067-.647.187-1.287.358-1.914.17-.591.43-1.226.86-1.657a3.746 3.746 0 0 1 3.227-1.054c.466-.893 1.225-1.907 2.314-2.982 1.271-1.255 2.833-2.75 4.245-3.777ZM1.62 13.089c-.051.464-.086.929-.104 1.395.466-.018.932-.053 1.396-.104a10.511 10.511 0 0 0 1.668-.309c.526-.151.856-.325 1.011-.48a2.25 2.25 0 1 0-3.182-3.182c-.155.155-.329.485-.48 1.01a10.515 10.515 0 0 0-.309 1.67Zm10.396-10.34c-1.224.89-2.605 2.189-3.822 3.384l1.718 1.718c1.21-1.205 2.51-2.597 3.387-3.833.47-.662.78-1.227.912-1.662.134-.444.032-.551.009-.575h-.001V1.78c-.014-.014-.113-.113-.548.027-.432.14-.995.462-1.655.942Zm-4.832 7.266-.001.001a9.859 9.859 0 0 0 1.63-1.142L7.155 7.216a9.7 9.7 0 0 0-1.161 1.607c.482.302.889.71 1.19 1.192Z"></path></svg>
            </div>

            <command-palette-item-group
              data-group-id="top"
              data-group-title="Top result"
              data-group-hint=""
              data-group-limits="{}"
              data-default-priority="0"
            >
            </command-palette-item-group>
            <command-palette-item-group
              data-group-id="commands"
              data-group-title="Commands"
              data-group-hint="Type &gt; to filter"
              data-group-limits="{&quot;static_items_page&quot;:50,&quot;issue&quot;:50,&quot;pull_request&quot;:50,&quot;discussion&quot;:50}"
              data-default-priority="1"
            >
            </command-palette-item-group>
            <command-palette-item-group
              data-group-id="global_commands"
              data-group-title="Global Commands"
              data-group-hint="Type &gt; to filter"
              data-group-limits="{&quot;issue&quot;:0,&quot;pull_request&quot;:0,&quot;discussion&quot;:0}"
              data-default-priority="2"
            >
            </command-palette-item-group>
            <command-palette-item-group
              data-group-id="this_page"
              data-group-title="This Page"
              data-group-hint=""
              data-group-limits="{}"
              data-default-priority="3"
            >
            </command-palette-item-group>
            <command-palette-item-group
              data-group-id="files"
              data-group-title="Files"
              data-group-hint=""
              data-group-limits="{}"
              data-default-priority="4"
            >
            </command-palette-item-group>
            <command-palette-item-group
              data-group-id="default"
              data-group-title="Default"
              data-group-hint=""
              data-group-limits="{&quot;static_items_page&quot;:50}"
              data-default-priority="5"
            >
            </command-palette-item-group>
            <command-palette-item-group
              data-group-id="pages"
              data-group-title="Pages"
              data-group-hint=""
              data-group-limits="{&quot;repository&quot;:10}"
              data-default-priority="6"
            >
            </command-palette-item-group>
            <command-palette-item-group
              data-group-id="access_policies"
              data-group-title="Access Policies"
              data-group-hint=""
              data-group-limits="{}"
              data-default-priority="7"
            >
            </command-palette-item-group>
            <command-palette-item-group
              data-group-id="organizations"
              data-group-title="Organizations"
              data-group-hint=""
              data-group-limits="{}"
              data-default-priority="8"
            >
            </command-palette-item-group>
            <command-palette-item-group
              data-group-id="repositories"
              data-group-title="Repositories"
              data-group-hint=""
              data-group-limits="{}"
              data-default-priority="9"
            >
            </command-palette-item-group>
            <command-palette-item-group
              data-group-id="references"
              data-group-title="Issues, pull requests, and discussions"
              data-group-hint="Type # to filter"
              data-group-limits="{}"
              data-default-priority="10"
            >
            </command-palette-item-group>
            <command-palette-item-group
              data-group-id="teams"
              data-group-title="Teams"
              data-group-hint=""
              data-group-limits="{}"
              data-default-priority="11"
            >
            </command-palette-item-group>
            <command-palette-item-group
              data-group-id="users"
              data-group-title="Users"
              data-group-hint=""
              data-group-limits="{}"
              data-default-priority="12"
            >
            </command-palette-item-group>
            <command-palette-item-group
              data-group-id="memex_projects"
              data-group-title="Projects"
              data-group-hint=""
              data-group-limits="{}"
              data-default-priority="13"
            >
            </command-palette-item-group>
            <command-palette-item-group
              data-group-id="projects"
              data-group-title="Projects (classic)"
              data-group-hint=""
              data-group-limits="{}"
              data-default-priority="14"
            >
            </command-palette-item-group>
            <command-palette-item-group
              data-group-id="footer"
              data-group-title="Footer"
              data-group-hint=""
              data-group-limits="{}"
              data-default-priority="15"
            >
            </command-palette-item-group>
            <command-palette-item-group
              data-group-id="modes_help"
              data-group-title="Modes"
              data-group-hint=""
              data-group-limits="{}"
              data-default-priority="16"
            >
            </command-palette-item-group>
            <command-palette-item-group
              data-group-id="filters_help"
              data-group-title="Use filters in issues, pull requests, discussions, and projects"
              data-group-hint=""
              data-group-limits="{}"
              data-default-priority="17"
            >
            </command-palette-item-group>

            <command-palette-page
              data-page-title="jnliou"
              data-scope-id="U_kgDOBzcNPQ"
              data-scope-type="owner"
              data-targets="command-palette-page-stack.defaultPages"
              hidden
            >
            </command-palette-page>
            <command-palette-page
              data-page-title="project4"
              data-scope-id="R_kgDOKWMWGw"
              data-scope-type="repository"
              data-targets="command-palette-page-stack.defaultPages"
              hidden
            >
            </command-palette-page>
        </div>

        <command-palette-page data-is-root>
        </command-palette-page>
          <command-palette-page
            data-page-title="jnliou"
            data-scope-id="U_kgDOBzcNPQ"
            data-scope-type="owner"
          >
          </command-palette-page>
          <command-palette-page
            data-page-title="project4"
            data-scope-id="R_kgDOKWMWGw"
            data-scope-type="repository"
          >
          </command-palette-page>
      </command-palette-page-stack>

      <server-defined-provider data-type="search-links" data-targets="command-palette.serverDefinedProviderElements"></server-defined-provider>
      <server-defined-provider data-type="help" data-targets="command-palette.serverDefinedProviderElements">
          <command-palette-help
            data-group="modes_help"
              data-prefix="#"
              data-scope-types="[&quot;&quot;]"
          >
            <span data-target="command-palette-help.titleElement">Search for <strong>issues</strong> and <strong>pull requests</strong></span>
              <span data-target="command-palette-help.hintElement">
                <kbd class="hx_kbd">#</kbd>
              </span>
          </command-palette-help>
          <command-palette-help
            data-group="modes_help"
              data-prefix="#"
              data-scope-types="[&quot;owner&quot;,&quot;repository&quot;]"
          >
            <span data-target="command-palette-help.titleElement">Search for <strong>issues, pull requests, discussions,</strong> and <strong>projects</strong></span>
              <span data-target="command-palette-help.hintElement">
                <kbd class="hx_kbd">#</kbd>
              </span>
          </command-palette-help>
          <command-palette-help
            data-group="modes_help"
              data-prefix="@"
              data-scope-types="[&quot;&quot;]"
          >
            <span data-target="command-palette-help.titleElement">Search for <strong>organizations, repositories,</strong> and <strong>users</strong></span>
              <span data-target="command-palette-help.hintElement">
                <kbd class="hx_kbd">@</kbd>
              </span>
          </command-palette-help>
          <command-palette-help
            data-group="modes_help"
              data-prefix="!"
              data-scope-types="[&quot;owner&quot;,&quot;repository&quot;]"
          >
            <span data-target="command-palette-help.titleElement">Search for <strong>projects</strong></span>
              <span data-target="command-palette-help.hintElement">
                <kbd class="hx_kbd">!</kbd>
              </span>
          </command-palette-help>
          <command-palette-help
            data-group="modes_help"
              data-prefix="/"
              data-scope-types="[&quot;repository&quot;]"
          >
            <span data-target="command-palette-help.titleElement">Search for <strong>files</strong></span>
              <span data-target="command-palette-help.hintElement">
                <kbd class="hx_kbd">/</kbd>
              </span>
          </command-palette-help>
          <command-palette-help
            data-group="modes_help"
              data-prefix="&gt;"
          >
            <span data-target="command-palette-help.titleElement">Activate <strong>command mode</strong></span>
              <span data-target="command-palette-help.hintElement">
                <kbd class="hx_kbd">&gt;</kbd>
              </span>
          </command-palette-help>
          <command-palette-help
            data-group="filters_help"
              data-prefix="# author:@me"
          >
            <span data-target="command-palette-help.titleElement">Search your issues, pull requests, and discussions</span>
              <span data-target="command-palette-help.hintElement">
                <kbd class="hx_kbd"># author:@me</kbd>
              </span>
          </command-palette-help>
          <command-palette-help
            data-group="filters_help"
              data-prefix="# author:@me"
          >
            <span data-target="command-palette-help.titleElement">Search your issues, pull requests, and discussions</span>
              <span data-target="command-palette-help.hintElement">
                <kbd class="hx_kbd"># author:@me</kbd>
              </span>
          </command-palette-help>
          <command-palette-help
            data-group="filters_help"
              data-prefix="# is:pr"
          >
            <span data-target="command-palette-help.titleElement">Filter to pull requests</span>
              <span data-target="command-palette-help.hintElement">
                <kbd class="hx_kbd"># is:pr</kbd>
              </span>
          </command-palette-help>
          <command-palette-help
            data-group="filters_help"
              data-prefix="# is:issue"
          >
            <span data-target="command-palette-help.titleElement">Filter to issues</span>
              <span data-target="command-palette-help.hintElement">
                <kbd class="hx_kbd"># is:issue</kbd>
              </span>
          </command-palette-help>
          <command-palette-help
            data-group="filters_help"
              data-prefix="# is:discussion"
              data-scope-types="[&quot;owner&quot;,&quot;repository&quot;]"
          >
            <span data-target="command-palette-help.titleElement">Filter to discussions</span>
              <span data-target="command-palette-help.hintElement">
                <kbd class="hx_kbd"># is:discussion</kbd>
              </span>
          </command-palette-help>
          <command-palette-help
            data-group="filters_help"
              data-prefix="# is:project"
              data-scope-types="[&quot;owner&quot;,&quot;repository&quot;]"
          >
            <span data-target="command-palette-help.titleElement">Filter to projects</span>
              <span data-target="command-palette-help.hintElement">
                <kbd class="hx_kbd"># is:project</kbd>
              </span>
          </command-palette-help>
          <command-palette-help
            data-group="filters_help"
              data-prefix="# is:open"
          >
            <span data-target="command-palette-help.titleElement">Filter to open issues, pull requests, and discussions</span>
              <span data-target="command-palette-help.hintElement">
                <kbd class="hx_kbd"># is:open</kbd>
              </span>
          </command-palette-help>
      </server-defined-provider>

        <server-defined-provider
          data-type="commands"
          data-fetch-debounce="0"
            data-src="/command_palette/commands"
          data-supported-modes="[]"
            data-supports-commands
          
          data-targets="command-palette.serverDefinedProviderElements"
          ></server-defined-provider>
        <server-defined-provider
          data-type="prefetched"
          data-fetch-debounce="0"
            data-src="/command_palette/jump_to_page_navigation"
          data-supported-modes="[&quot;&quot;]"
            data-supported-scope-types="[&quot;&quot;,&quot;owner&quot;,&quot;repository&quot;]"
          
          data-targets="command-palette.serverDefinedProviderElements"
          ></server-defined-provider>
        <server-defined-provider
          data-type="remote"
          data-fetch-debounce="200"
            data-src="/command_palette/issues"
          data-supported-modes="[&quot;#&quot;,&quot;#&quot;]"
            data-supported-scope-types="[&quot;owner&quot;,&quot;repository&quot;,&quot;&quot;]"
          
          data-targets="command-palette.serverDefinedProviderElements"
          ></server-defined-provider>
        <server-defined-provider
          data-type="remote"
          data-fetch-debounce="200"
            data-src="/command_palette/jump_to"
          data-supported-modes="[&quot;@&quot;,&quot;@&quot;]"
            data-supported-scope-types="[&quot;&quot;,&quot;owner&quot;]"
          
          data-targets="command-palette.serverDefinedProviderElements"
          ></server-defined-provider>
        <server-defined-provider
          data-type="remote"
          data-fetch-debounce="200"
            data-src="/command_palette/jump_to_members_only"
          data-supported-modes="[&quot;@&quot;,&quot;@&quot;,&quot;&quot;,&quot;&quot;]"
            data-supported-scope-types="[&quot;&quot;,&quot;owner&quot;]"
          
          data-targets="command-palette.serverDefinedProviderElements"
          ></server-defined-provider>
        <server-defined-provider
          data-type="prefetched"
          data-fetch-debounce="0"
            data-src="/command_palette/jump_to_members_only_prefetched"
          data-supported-modes="[&quot;@&quot;,&quot;@&quot;,&quot;&quot;,&quot;&quot;]"
            data-supported-scope-types="[&quot;&quot;,&quot;owner&quot;]"
          
          data-targets="command-palette.serverDefinedProviderElements"
          ></server-defined-provider>
        <server-defined-provider
          data-type="files"
          data-fetch-debounce="0"
            data-src="/command_palette/files"
          data-supported-modes="[&quot;/&quot;]"
            data-supported-scope-types="[&quot;repository&quot;]"
          
          data-targets="command-palette.serverDefinedProviderElements"
          ></server-defined-provider>
        <server-defined-provider
          data-type="remote"
          data-fetch-debounce="200"
            data-src="/command_palette/discussions"
          data-supported-modes="[&quot;#&quot;]"
            data-supported-scope-types="[&quot;owner&quot;,&quot;repository&quot;]"
          
          data-targets="command-palette.serverDefinedProviderElements"
          ></server-defined-provider>
        <server-defined-provider
          data-type="remote"
          data-fetch-debounce="200"
            data-src="/command_palette/projects"
          data-supported-modes="[&quot;#&quot;,&quot;!&quot;]"
            data-supported-scope-types="[&quot;owner&quot;,&quot;repository&quot;]"
          
          data-targets="command-palette.serverDefinedProviderElements"
          ></server-defined-provider>
        <server-defined-provider
          data-type="prefetched"
          data-fetch-debounce="0"
            data-src="/command_palette/recent_issues"
          data-supported-modes="[&quot;#&quot;,&quot;#&quot;]"
            data-supported-scope-types="[&quot;owner&quot;,&quot;repository&quot;,&quot;&quot;]"
          
          data-targets="command-palette.serverDefinedProviderElements"
          ></server-defined-provider>
        <server-defined-provider
          data-type="remote"
          data-fetch-debounce="200"
            data-src="/command_palette/teams"
          data-supported-modes="[&quot;@&quot;,&quot;&quot;]"
            data-supported-scope-types="[&quot;owner&quot;]"
          
          data-targets="command-palette.serverDefinedProviderElements"
          ></server-defined-provider>
        <server-defined-provider
          data-type="remote"
          data-fetch-debounce="200"
            data-src="/command_palette/name_with_owner_repository"
          data-supported-modes="[&quot;@&quot;,&quot;@&quot;,&quot;&quot;,&quot;&quot;]"
            data-supported-scope-types="[&quot;&quot;,&quot;owner&quot;]"
          
          data-targets="command-palette.serverDefinedProviderElements"
          ></server-defined-provider>
    </command-palette>
  </details-dialog>
</details>

<div class="position-fixed bottom-0 left-0 ml-5 mb-5 js-command-palette-toasts" style="z-index: 1000">
  <div hidden class="Toast Toast--loading">
    <span class="Toast-icon">
      <svg class="Toast--spinner" viewBox="0 0 32 32" width="18" height="18" aria-hidden="true">
        <path
          fill="#959da5"
          d="M16 0 A16 16 0 0 0 16 32 A16 16 0 0 0 16 0 M16 4 A12 12 0 0 1 16 28 A12 12 0 0 1 16 4"
        />
        <path fill="#ffffff" d="M16 0 A16 16 0 0 1 32 16 L28 16 A12 12 0 0 0 16 4z"></path>
      </svg>
    </span>
    <span class="Toast-content"></span>
  </div>

  <div hidden class="anim-fade-in fast Toast Toast--error">
    <span class="Toast-icon">
      <svg aria-hidden="true" height="16" viewBox="0 0 16 16" version="1.1" width="16" data-view-component="true" class="octicon octicon-stop">
    <path d="M4.47.22A.749.749 0 0 1 5 0h6c.199 0 .389.079.53.22l4.25 4.25c.141.14.22.331.22.53v6a.749.749 0 0 1-.22.53l-4.25 4.25A.749.749 0 0 1 11 16H5a.749.749 0 0 1-.53-.22L.22 11.53A.749.749 0 0 1 0 11V5c0-.199.079-.389.22-.53Zm.84 1.28L1.5 5.31v5.38l3.81 3.81h5.38l3.81-3.81V5.31L10.69 1.5ZM8 4a.75.75 0 0 1 .75.75v3.5a.75.75 0 0 1-1.5 0v-3.5A.75.75 0 0 1 8 4Zm0 8a1 1 0 1 1 0-2 1 1 0 0 1 0 2Z"></path>
</svg>
    </span>
    <span class="Toast-content"></span>
  </div>

  <div hidden class="anim-fade-in fast Toast Toast--warning">
    <span class="Toast-icon">
      <svg aria-hidden="true" height="16" viewBox="0 0 16 16" version="1.1" width="16" data-view-component="true" class="octicon octicon-alert">
    <path d="M6.457 1.047c.659-1.234 2.427-1.234 3.086 0l6.082 11.378A1.75 1.75 0 0 1 14.082 15H1.918a1.75 1.75 0 0 1-1.543-2.575Zm1.763.707a.25.25 0 0 0-.44 0L1.698 13.132a.25.25 0 0 0 .22.368h12.164a.25.25 0 0 0 .22-.368Zm.53 3.996v2.5a.75.75 0 0 1-1.5 0v-2.5a.75.75 0 0 1 1.5 0ZM9 11a1 1 0 1 1-2 0 1 1 0 0 1 2 0Z"></path>
</svg>
    </span>
    <span class="Toast-content"></span>
  </div>


  <div hidden class="anim-fade-in fast Toast Toast--success">
    <span class="Toast-icon">
      <svg aria-hidden="true" height="16" viewBox="0 0 16 16" version="1.1" width="16" data-view-component="true" class="octicon octicon-check">
    <path d="M13.78 4.22a.75.75 0 0 1 0 1.06l-7.25 7.25a.75.75 0 0 1-1.06 0L2.22 9.28a.751.751 0 0 1 .018-1.042.751.751 0 0 1 1.042-.018L6 10.94l6.72-6.72a.75.75 0 0 1 1.06 0Z"></path>
</svg>
    </span>
    <span class="Toast-content"></span>
  </div>

  <div hidden class="anim-fade-in fast Toast">
    <span class="Toast-icon">
      <svg aria-hidden="true" height="16" viewBox="0 0 16 16" version="1.1" width="16" data-view-component="true" class="octicon octicon-info">
    <path d="M0 8a8 8 0 1 1 16 0A8 8 0 0 1 0 8Zm8-6.5a6.5 6.5 0 1 0 0 13 6.5 6.5 0 0 0 0-13ZM6.5 7.75A.75.75 0 0 1 7.25 7h1a.75.75 0 0 1 .75.75v2.75h.25a.75.75 0 0 1 0 1.5h-2a.75.75 0 0 1 0-1.5h.25v-2h-.25a.75.75 0 0 1-.75-.75ZM8 6a1 1 0 1 1 0-2 1 1 0 0 1 0 2Z"></path>
</svg>
    </span>
    <span class="Toast-content"></span>
  </div>
</div>


  <div
    class="application-main "
    data-commit-hovercards-enabled
    data-discussion-hovercards-enabled
    data-issue-and-pr-hovercards-enabled
  >
        <div itemscope itemtype="http://schema.org/SoftwareSourceCode" class="">
    <main id="js-repo-pjax-container" >
      
      
      






    
  <div id="repository-container-header" data-turbo-replace hidden></div>




<turbo-frame id="repo-content-turbo-frame" target="_top" data-turbo-action="advance" class="">
    <div id="repo-content-pjax-container" class="repository-content " >
      <a href="https://github.dev/" class="d-none js-github-dev-shortcut" data-hotkey=".,Alt+Meta+≥,Control+Alt+.">Open in github.dev</a>
  <a href="https://github.dev/" class="d-none js-github-dev-new-tab-shortcut" data-hotkey="Shift+.,Shift+&gt;,&gt;" target="_blank" rel="noopener noreferrer">Open in a new github.dev tab</a>
    <a class="d-none" data-hotkey=",,Alt+Meta+≤,Control+Alt+," target="_blank" href="/codespaces/new/jnliou/project4/tree/sri?resume=1">Open in codespace</a>



    
      
    





<react-app
  app-name="react-code-view"
  initial-path="/jnliou/project4/blob/sri/Various_models.ipynb"
  style="min-height: calc(100vh - 62px)"
  data-ssr="true"
  data-lazy="false"
  data-alternate="false"
>
  
  <script type="application/json" data-target="react-app.embeddedData">{"payload":{"allShortcutsEnabled":true,"fileTree":{"":{"items":[{"name":"CNN_model.h5","path":"CNN_model.h5","contentType":"file"},{"name":"README.md","path":"README.md","contentType":"file"},{"name":"Various_models.ipynb","path":"Various_models.ipynb","contentType":"file"},{"name":"data_preprocess (1).ipynb","path":"data_preprocess (1).ipynb","contentType":"file"},{"name":"random_forest_model.h5","path":"random_forest_model.h5","contentType":"file"},{"name":"sri-ML final.ipynb","path":"sri-ML final.ipynb","contentType":"file"}],"totalCount":6}},"fileTreeProcessingTime":2.623387,"foldersToFetch":[],"reducedMotionEnabled":"system","repo":{"id":694359579,"defaultBranch":"main","name":"project4","ownerLogin":"jnliou","currentUserCanPush":true,"isFork":false,"isEmpty":false,"createdAt":"2023-09-20T16:59:00.000-04:00","ownerAvatar":"https://avatars.githubusercontent.com/u/121048381?v=4","public":true,"private":false,"isOrgOwned":false},"symbolsExpanded":false,"treeExpanded":true,"refInfo":{"name":"sri","listCacheKey":"v0:1697344562.0","canEdit":true,"refType":"branch","currentOid":"8a6cf7f740a15b8cc48fbc281d175954c6169ddf"},"path":"Various_models.ipynb","currentUser":{"id":132161799,"login":"srinivasj1987","userEmail":"srinivasj1987@outlook.com"},"blob":{"rawLines":["{"," \"cells\": [","  {","   \"cell_type\": \"code\",","   \"execution_count\": 3,","   \"metadata\": {},","   \"outputs\": [],","   \"source\": [","    \"import pandas as pd\\n\",","    \"from sklearn.model_selection import train_test_split\\n\",","    \"from sklearn.preprocessing import StandardScaler\\n\",","    \"from sklearn.ensemble import RandomForestClassifier\\n\",","    \"from sklearn.metrics import accuracy_score, classification_report\\n\",","    \"import os\\n\",","    \"\\n\",","    \"# Load datasets\\n\",","    \"eda_train_infect = pd.read_csv(os.path.join('Dataset','eda_train_infect.csv'))\\n\",","    \"eda_test_infect = pd.read_csv(os.path.join('Dataset','eda_test_infect.csv'))\\n\",","    \"eda_train_uninfect = pd.read_csv(os.join.path('Dataset','eda_train_uninfect.csv'))\\n\",","    \"eda_test_uninfect = pd.read_csv(os.join.path('Dataset','eda_test_infect.csv'))\\n\",","    \"\\n\",","    \"# Labeling infected samples as 1 and uninfected samples as 0\\n\",","    \"eda_train_infect[\\\"Target\\\"] = 1\\n\",","    \"eda_test_infect[\\\"Target\\\"] = 1\\n\",","    \"eda_train_uninfect[\\\"Target\\\"] = 0\\n\",","    \"eda_test_uninfect[\\\"Target\\\"] = 0\\n\"","   ]","  },","  {","   \"cell_type\": \"code\",","   \"execution_count\": 4,","   \"metadata\": {},","   \"outputs\": [","    {","     \"data\": {","      \"text/html\": [","       \"\u003cdiv\u003e\\n\",","       \"\u003cstyle scoped\u003e\\n\",","       \"    .dataframe tbody tr th:only-of-type {\\n\",","       \"        vertical-align: middle;\\n\",","       \"    }\\n\",","       \"\\n\",","       \"    .dataframe tbody tr th {\\n\",","       \"        vertical-align: top;\\n\",","       \"    }\\n\",","       \"\\n\",","       \"    .dataframe thead th {\\n\",","       \"        text-align: right;\\n\",","       \"    }\\n\",","       \"\u003c/style\u003e\\n\",","       \"\u003ctable border=\\\"1\\\" class=\\\"dataframe\\\"\u003e\\n\",","       \"  \u003cthead\u003e\\n\",","       \"    \u003ctr style=\\\"text-align: right;\\\"\u003e\\n\",","       \"      \u003cth\u003e\u003c/th\u003e\\n\",","       \"      \u003cth\u003eImageFileName\u003c/th\u003e\\n\",","       \"      \u003cth\u003eRed_Channel_Distribution\u003c/th\u003e\\n\",","       \"      \u003cth\u003eGreen_Channel_Distribution\u003c/th\u003e\\n\",","       \"      \u003cth\u003eBlue_Channel_Distribution\u003c/th\u003e\\n\",","       \"      \u003cth\u003eInfected_Edge_Density\u003c/th\u003e\\n\",","       \"      \u003cth\u003eInfected_MeanBlobSize\u003c/th\u003e\\n\",","       \"      \u003cth\u003eInfected_MaxBlobSize\u003c/th\u003e\\n\",","       \"      \u003cth\u003eTarget\u003c/th\u003e\\n\",","       \"    \u003c/tr\u003e\\n\",","       \"  \u003c/thead\u003e\\n\",","       \"  \u003ctbody\u003e\\n\",","       \"    \u003ctr\u003e\\n\",","       \"      \u003cth\u003e0\u003c/th\u003e\\n\",","       \"      \u003ctd\u003eC100P61ThinF_IMG_20150918_144104_cell_162.png\u003c/td\u003e\\n\",","       \"      \u003ctd\u003e163.5904\u003c/td\u003e\\n\",","       \"      \u003ctd\u003e119.1104\u003c/td\u003e\\n\",","       \"      \u003ctd\u003e119.3664\u003c/td\u003e\\n\",","       \"      \u003ctd\u003e0.1744\u003c/td\u003e\\n\",","       \"      \u003ctd\u003e1.333333\u003c/td\u003e\\n\",","       \"      \u003ctd\u003e2.0\u003c/td\u003e\\n\",","       \"      \u003ctd\u003e1\u003c/td\u003e\\n\",","       \"    \u003c/tr\u003e\\n\",","       \"    \u003ctr\u003e\\n\",","       \"      \u003cth\u003e1\u003c/th\u003e\\n\",","       \"      \u003ctd\u003eC100P61ThinF_IMG_20150918_144104_cell_164.png\u003c/td\u003e\\n\",","       \"      \u003ctd\u003e164.2032\u003c/td\u003e\\n\",","       \"      \u003ctd\u003e119.9104\u003c/td\u003e\\n\",","       \"      \u003ctd\u003e116.0448\u003c/td\u003e\\n\",","       \"      \u003ctd\u003e0.1696\u003c/td\u003e\\n\",","       \"      \u003ctd\u003e0.000000\u003c/td\u003e\\n\",","       \"      \u003ctd\u003e0.0\u003c/td\u003e\\n\",","       \"      \u003ctd\u003e1\u003c/td\u003e\\n\",","       \"    \u003c/tr\u003e\\n\",","       \"    \u003ctr\u003e\\n\",","       \"      \u003cth\u003e2\u003c/th\u003e\\n\",","       \"      \u003ctd\u003eC100P61ThinF_IMG_20150918_144104_cell_165.png\u003c/td\u003e\\n\",","       \"      \u003ctd\u003e137.8736\u003c/td\u003e\\n\",","       \"      \u003ctd\u003e104.5488\u003c/td\u003e\\n\",","       \"      \u003ctd\u003e100.8528\u003c/td\u003e\\n\",","       \"      \u003ctd\u003e0.1680\u003c/td\u003e\\n\",","       \"      \u003ctd\u003e1.500000\u003c/td\u003e\\n\",","       \"      \u003ctd\u003e2.0\u003c/td\u003e\\n\",","       \"      \u003ctd\u003e1\u003c/td\u003e\\n\",","       \"    \u003c/tr\u003e\\n\",","       \"    \u003ctr\u003e\\n\",","       \"      \u003cth\u003e3\u003c/th\u003e\\n\",","       \"      \u003ctd\u003eC100P61ThinF_IMG_20150918_144104_cell_167.png\u003c/td\u003e\\n\",","       \"      \u003ctd\u003e149.5360\u003c/td\u003e\\n\",","       \"      \u003ctd\u003e110.4432\u003c/td\u003e\\n\",","       \"      \u003ctd\u003e105.2560\u003c/td\u003e\\n\",","       \"      \u003ctd\u003e0.1840\u003c/td\u003e\\n\",","       \"      \u003ctd\u003e1.333333\u003c/td\u003e\\n\",","       \"      \u003ctd\u003e2.0\u003c/td\u003e\\n\",","       \"      \u003ctd\u003e1\u003c/td\u003e\\n\",","       \"    \u003c/tr\u003e\\n\",","       \"    \u003ctr\u003e\\n\",","       \"      \u003cth\u003e4\u003c/th\u003e\\n\",","       \"      \u003ctd\u003eC100P61ThinF_IMG_20150918_144104_cell_168.png\u003c/td\u003e\\n\",","       \"      \u003ctd\u003e158.2176\u003c/td\u003e\\n\",","       \"      \u003ctd\u003e113.8064\u003c/td\u003e\\n\",","       \"      \u003ctd\u003e109.9968\u003c/td\u003e\\n\",","       \"      \u003ctd\u003e0.1696\u003c/td\u003e\\n\",","       \"      \u003ctd\u003e1.000000\u003c/td\u003e\\n\",","       \"      \u003ctd\u003e1.0\u003c/td\u003e\\n\",","       \"      \u003ctd\u003e1\u003c/td\u003e\\n\",","       \"    \u003c/tr\u003e\\n\",","       \"  \u003c/tbody\u003e\\n\",","       \"\u003c/table\u003e\\n\",","       \"\u003c/div\u003e\"","      ],","      \"text/plain\": [","       \"                                   ImageFileName  Red_Channel_Distribution   \\n\",","       \"0  C100P61ThinF_IMG_20150918_144104_cell_162.png                  163.5904  \\\\\\n\",","       \"1  C100P61ThinF_IMG_20150918_144104_cell_164.png                  164.2032   \\n\",","       \"2  C100P61ThinF_IMG_20150918_144104_cell_165.png                  137.8736   \\n\",","       \"3  C100P61ThinF_IMG_20150918_144104_cell_167.png                  149.5360   \\n\",","       \"4  C100P61ThinF_IMG_20150918_144104_cell_168.png                  158.2176   \\n\",","       \"\\n\",","       \"   Green_Channel_Distribution  Blue_Channel_Distribution   \\n\",","       \"0                    119.1104                   119.3664  \\\\\\n\",","       \"1                    119.9104                   116.0448   \\n\",","       \"2                    104.5488                   100.8528   \\n\",","       \"3                    110.4432                   105.2560   \\n\",","       \"4                    113.8064                   109.9968   \\n\",","       \"\\n\",","       \"   Infected_Edge_Density  Infected_MeanBlobSize  Infected_MaxBlobSize  Target  \\n\",","       \"0                 0.1744               1.333333                   2.0       1  \\n\",","       \"1                 0.1696               0.000000                   0.0       1  \\n\",","       \"2                 0.1680               1.500000                   2.0       1  \\n\",","       \"3                 0.1840               1.333333                   2.0       1  \\n\",","       \"4                 0.1696               1.000000                   1.0       1  \"","      ]","     },","     \"execution_count\": 4,","     \"metadata\": {},","     \"output_type\": \"execute_result\"","    }","   ],","   \"source\": [","    \"# Display the first few rows of the eda_train_infect dataframe\\n\",","    \"eda_train_infect.head()\"","   ]","  },","  {","   \"cell_type\": \"code\",","   \"execution_count\": 5,","   \"metadata\": {},","   \"outputs\": [],","   \"source\": [","    \"# Removing 'ImageFileName' column from all datasets\\n\",","    \"eda_test_infect.drop(columns='ImageFileName',inplace=True)\\n\",","    \"eda_train_infect.drop(columns='ImageFileName',inplace=True)\\n\",","    \"eda_test_uninfect.drop(columns='ImageFileName',inplace=True)\\n\",","    \"eda_train_uninfect.drop(columns='ImageFileName',inplace=True)\\n\",","    \"\\n\",","    \"# Renaming columns for the infected datasets \\n\",","    \"eda_train_infect.rename(columns={\\n\",","    \"    'ImageFileName': 'ImageFileName',\\n\",","    \"    'Red_Channel_Distribution': 'Red_Channel_Distribution',\\n\",","    \"    'Green_Channel_Distribution': 'Green_Channel_Distribution',\\n\",","    \"    'Blue_Channel_Distribution': 'Blue_Channel_Distribution',\\n\",","    \"    'Infected_Edge_Density': 'Edge_Density',\\n\",","    \"    'Infected_MeanBlobSize': 'MeanBlobSize',\\n\",","    \"    'Infected_MaxBlobSize': 'MaxBlobSize'\\n\",","    \"}, inplace=True)\\n\",","    \"\\n\",","    \"eda_test_infect.rename(columns={\\n\",","    \"    'ImageFileName': 'ImageFileName',\\n\",","    \"    'Red_Channel_Distribution': 'Red_Channel_Distribution',\\n\",","    \"    'Green_Channel_Distribution': 'Green_Channel_Distribution',\\n\",","    \"    'Blue_Channel_Distribution': 'Blue_Channel_Distribution',\\n\",","    \"    'Infected_Edge_Density': 'Edge_Density',\\n\",","    \"    'Infected_MeanBlobSize': 'MeanBlobSize',\\n\",","    \"    'Infected_MaxBlobSize': 'MaxBlobSize'\\n\",","    \"}, inplace=True)\"","   ]","  },","  {","   \"cell_type\": \"code\",","   \"execution_count\": 6,","   \"metadata\": {},","   \"outputs\": [],","   \"source\": [","    \"# Renaming columns for the uninfected datasets \\n\",","    \"eda_train_uninfect.rename(columns={\\n\",","    \"    'ImageFileName': 'ImageFileName',\\n\",","    \"    'Red_Channel_Distribution': 'Red_Channel_Distribution',\\n\",","    \"    'Green_Channel_Distribution': 'Green_Channel_Distribution',\\n\",","    \"    'Blue_Channel_Distribution': 'Blue_Channel_Distribution',\\n\",","    \"    'Uninfected_Edge_Density': 'Edge_Density',\\n\",","    \"    'Uninfected_MeanBlobSize': 'MeanBlobSize',\\n\",","    \"    'Uninfected_MaxBlobSize': 'MaxBlobSize'\\n\",","    \"}, inplace=True)\\n\",","    \"\\n\",","    \"eda_test_uninfect.rename(columns={\\n\",","    \"    'ImageFileName': 'ImageFileName',\\n\",","    \"    'Red_Channel_Distribution': 'Red_Channel_Distribution',\\n\",","    \"    'Green_Channel_Distribution': 'Green_Channel_Distribution',\\n\",","    \"    'Blue_Channel_Distribution': 'Blue_Channel_Distribution',\\n\",","    \"    'Uninfected_Edge_Density': 'Edge_Density',\\n\",","    \"    'Uninfected_MeanBlobSize': 'MeanBlobSize',\\n\",","    \"    'Uninfected_MaxBlobSize': 'MaxBlobSize'\\n\",","    \"}, inplace=True)\"","   ]","  },","  {","   \"cell_type\": \"code\",","   \"execution_count\": 7,","   \"metadata\": {},","   \"outputs\": [","    {","     \"data\": {","      \"text/html\": [","       \"\u003cdiv\u003e\\n\",","       \"\u003cstyle scoped\u003e\\n\",","       \"    .dataframe tbody tr th:only-of-type {\\n\",","       \"        vertical-align: middle;\\n\",","       \"    }\\n\",","       \"\\n\",","       \"    .dataframe tbody tr th {\\n\",","       \"        vertical-align: top;\\n\",","       \"    }\\n\",","       \"\\n\",","       \"    .dataframe thead th {\\n\",","       \"        text-align: right;\\n\",","       \"    }\\n\",","       \"\u003c/style\u003e\\n\",","       \"\u003ctable border=\\\"1\\\" class=\\\"dataframe\\\"\u003e\\n\",","       \"  \u003cthead\u003e\\n\",","       \"    \u003ctr style=\\\"text-align: right;\\\"\u003e\\n\",","       \"      \u003cth\u003e\u003c/th\u003e\\n\",","       \"      \u003cth\u003eRed_Channel_Distribution\u003c/th\u003e\\n\",","       \"      \u003cth\u003eGreen_Channel_Distribution\u003c/th\u003e\\n\",","       \"      \u003cth\u003eBlue_Channel_Distribution\u003c/th\u003e\\n\",","       \"      \u003cth\u003eInfected_Edge_Density\u003c/th\u003e\\n\",","       \"      \u003cth\u003eInfected_MeanBlobSize\u003c/th\u003e\\n\",","       \"      \u003cth\u003eInfected_MaxBlobSize\u003c/th\u003e\\n\",","       \"      \u003cth\u003eTarget\u003c/th\u003e\\n\",","       \"    \u003c/tr\u003e\\n\",","       \"  \u003c/thead\u003e\\n\",","       \"  \u003ctbody\u003e\\n\",","       \"    \u003ctr\u003e\\n\",","       \"      \u003cth\u003e0\u003c/th\u003e\\n\",","       \"      \u003ctd\u003e162.9456\u003c/td\u003e\\n\",","       \"      \u003ctd\u003e121.9120\u003c/td\u003e\\n\",","       \"      \u003ctd\u003e117.5216\u003c/td\u003e\\n\",","       \"      \u003ctd\u003e0.1376\u003c/td\u003e\\n\",","       \"      \u003ctd\u003e1.000000\u003c/td\u003e\\n\",","       \"      \u003ctd\u003e1.0\u003c/td\u003e\\n\",","       \"      \u003ctd\u003e0\u003c/td\u003e\\n\",","       \"    \u003c/tr\u003e\\n\",","       \"    \u003ctr\u003e\\n\",","       \"      \u003cth\u003e1\u003c/th\u003e\\n\",","       \"      \u003ctd\u003e143.6416\u003c/td\u003e\\n\",","       \"      \u003ctd\u003e89.4432\u003c/td\u003e\\n\",","       \"      \u003ctd\u003e96.8192\u003c/td\u003e\\n\",","       \"      \u003ctd\u003e0.2064\u003c/td\u003e\\n\",","       \"      \u003ctd\u003e1.333333\u003c/td\u003e\\n\",","       \"      \u003ctd\u003e2.0\u003c/td\u003e\\n\",","       \"      \u003ctd\u003e0\u003c/td\u003e\\n\",","       \"    \u003c/tr\u003e\\n\",","       \"    \u003ctr\u003e\\n\",","       \"      \u003cth\u003e2\u003c/th\u003e\\n\",","       \"      \u003ctd\u003e138.9328\u003c/td\u003e\\n\",","       \"      \u003ctd\u003e90.3376\u003c/td\u003e\\n\",","       \"      \u003ctd\u003e95.4704\u003c/td\u003e\\n\",","       \"      \u003ctd\u003e0.2560\u003c/td\u003e\\n\",","       \"      \u003ctd\u003e0.000000\u003c/td\u003e\\n\",","       \"      \u003ctd\u003e0.0\u003c/td\u003e\\n\",","       \"      \u003ctd\u003e0\u003c/td\u003e\\n\",","       \"    \u003c/tr\u003e\\n\",","       \"    \u003ctr\u003e\\n\",","       \"      \u003cth\u003e3\u003c/th\u003e\\n\",","       \"      \u003ctd\u003e156.3904\u003c/td\u003e\\n\",","       \"      \u003ctd\u003e107.8592\u003c/td\u003e\\n\",","       \"      \u003ctd\u003e104.9968\u003c/td\u003e\\n\",","       \"      \u003ctd\u003e0.1824\u003c/td\u003e\\n\",","       \"      \u003ctd\u003e1.000000\u003c/td\u003e\\n\",","       \"      \u003ctd\u003e1.0\u003c/td\u003e\\n\",","       \"      \u003ctd\u003e0\u003c/td\u003e\\n\",","       \"    \u003c/tr\u003e\\n\",","       \"    \u003ctr\u003e\\n\",","       \"      \u003cth\u003e4\u003c/th\u003e\\n\",","       \"      \u003ctd\u003e126.0768\u003c/td\u003e\\n\",","       \"      \u003ctd\u003e72.1520\u003c/td\u003e\\n\",","       \"      \u003ctd\u003e87.3760\u003c/td\u003e\\n\",","       \"      \u003ctd\u003e0.2512\u003c/td\u003e\\n\",","       \"      \u003ctd\u003e2.000000\u003c/td\u003e\\n\",","       \"      \u003ctd\u003e2.0\u003c/td\u003e\\n\",","       \"      \u003ctd\u003e0\u003c/td\u003e\\n\",","       \"    \u003c/tr\u003e\\n\",","       \"    \u003ctr\u003e\\n\",","       \"      \u003cth\u003e...\u003c/th\u003e\\n\",","       \"      \u003ctd\u003e...\u003c/td\u003e\\n\",","       \"      \u003ctd\u003e...\u003c/td\u003e\\n\",","       \"      \u003ctd\u003e...\u003c/td\u003e\\n\",","       \"      \u003ctd\u003e...\u003c/td\u003e\\n\",","       \"      \u003ctd\u003e...\u003c/td\u003e\\n\",","       \"      \u003ctd\u003e...\u003c/td\u003e\\n\",","       \"      \u003ctd\u003e...\u003c/td\u003e\\n\",","       \"    \u003c/tr\u003e\\n\",","       \"    \u003ctr\u003e\\n\",","       \"      \u003cth\u003e745\u003c/th\u003e\\n\",","       \"      \u003ctd\u003e151.2352\u003c/td\u003e\\n\",","       \"      \u003ctd\u003e109.8304\u003c/td\u003e\\n\",","       \"      \u003ctd\u003e111.5184\u003c/td\u003e\\n\",","       \"      \u003ctd\u003e0.1232\u003c/td\u003e\\n\",","       \"      \u003ctd\u003e1.333333\u003c/td\u003e\\n\",","       \"      \u003ctd\u003e2.0\u003c/td\u003e\\n\",","       \"      \u003ctd\u003e0\u003c/td\u003e\\n\",","       \"    \u003c/tr\u003e\\n\",","       \"    \u003ctr\u003e\\n\",","       \"      \u003cth\u003e746\u003c/th\u003e\\n\",","       \"      \u003ctd\u003e120.3968\u003c/td\u003e\\n\",","       \"      \u003ctd\u003e76.0768\u003c/td\u003e\\n\",","       \"      \u003ctd\u003e88.9936\u003c/td\u003e\\n\",","       \"      \u003ctd\u003e0.1600\u003c/td\u003e\\n\",","       \"      \u003ctd\u003e1.714286\u003c/td\u003e\\n\",","       \"      \u003ctd\u003e2.0\u003c/td\u003e\\n\",","       \"      \u003ctd\u003e0\u003c/td\u003e\\n\",","       \"    \u003c/tr\u003e\\n\",","       \"    \u003ctr\u003e\\n\",","       \"      \u003cth\u003e747\u003c/th\u003e\\n\",","       \"      \u003ctd\u003e128.5920\u003c/td\u003e\\n\",","       \"      \u003ctd\u003e82.7344\u003c/td\u003e\\n\",","       \"      \u003ctd\u003e95.1584\u003c/td\u003e\\n\",","       \"      \u003ctd\u003e0.2128\u003c/td\u003e\\n\",","       \"      \u003ctd\u003e2.000000\u003c/td\u003e\\n\",","       \"      \u003ctd\u003e2.0\u003c/td\u003e\\n\",","       \"      \u003ctd\u003e0\u003c/td\u003e\\n\",","       \"    \u003c/tr\u003e\\n\",","       \"    \u003ctr\u003e\\n\",","       \"      \u003cth\u003e748\u003c/th\u003e\\n\",","       \"      \u003ctd\u003e141.0784\u003c/td\u003e\\n\",","       \"      \u003ctd\u003e88.2256\u003c/td\u003e\\n\",","       \"      \u003ctd\u003e100.7808\u003c/td\u003e\\n\",","       \"      \u003ctd\u003e0.1984\u003c/td\u003e\\n\",","       \"      \u003ctd\u003e1.000000\u003c/td\u003e\\n\",","       \"      \u003ctd\u003e1.0\u003c/td\u003e\\n\",","       \"      \u003ctd\u003e0\u003c/td\u003e\\n\",","       \"    \u003c/tr\u003e\\n\",","       \"    \u003ctr\u003e\\n\",","       \"      \u003cth\u003e749\u003c/th\u003e\\n\",","       \"      \u003ctd\u003e154.5360\u003c/td\u003e\\n\",","       \"      \u003ctd\u003e111.6416\u003c/td\u003e\\n\",","       \"      \u003ctd\u003e114.7440\u003c/td\u003e\\n\",","       \"      \u003ctd\u003e0.1472\u003c/td\u003e\\n\",","       \"      \u003ctd\u003e1.000000\u003c/td\u003e\\n\",","       \"      \u003ctd\u003e2.0\u003c/td\u003e\\n\",","       \"      \u003ctd\u003e0\u003c/td\u003e\\n\",","       \"    \u003c/tr\u003e\\n\",","       \"  \u003c/tbody\u003e\\n\",","       \"\u003c/table\u003e\\n\",","       \"\u003cp\u003e750 rows × 7 columns\u003c/p\u003e\\n\",","       \"\u003c/div\u003e\"","      ],","      \"text/plain\": [","       \"     Red_Channel_Distribution  Green_Channel_Distribution   \\n\",","       \"0                    162.9456                    121.9120  \\\\\\n\",","       \"1                    143.6416                     89.4432   \\n\",","       \"2                    138.9328                     90.3376   \\n\",","       \"3                    156.3904                    107.8592   \\n\",","       \"4                    126.0768                     72.1520   \\n\",","       \"..                        ...                         ...   \\n\",","       \"745                  151.2352                    109.8304   \\n\",","       \"746                  120.3968                     76.0768   \\n\",","       \"747                  128.5920                     82.7344   \\n\",","       \"748                  141.0784                     88.2256   \\n\",","       \"749                  154.5360                    111.6416   \\n\",","       \"\\n\",","       \"     Blue_Channel_Distribution  Infected_Edge_Density  Infected_MeanBlobSize   \\n\",","       \"0                     117.5216                 0.1376               1.000000  \\\\\\n\",","       \"1                      96.8192                 0.2064               1.333333   \\n\",","       \"2                      95.4704                 0.2560               0.000000   \\n\",","       \"3                     104.9968                 0.1824               1.000000   \\n\",","       \"4                      87.3760                 0.2512               2.000000   \\n\",","       \"..                         ...                    ...                    ...   \\n\",","       \"745                   111.5184                 0.1232               1.333333   \\n\",","       \"746                    88.9936                 0.1600               1.714286   \\n\",","       \"747                    95.1584                 0.2128               2.000000   \\n\",","       \"748                   100.7808                 0.1984               1.000000   \\n\",","       \"749                   114.7440                 0.1472               1.000000   \\n\",","       \"\\n\",","       \"     Infected_MaxBlobSize  Target  \\n\",","       \"0                     1.0       0  \\n\",","       \"1                     2.0       0  \\n\",","       \"2                     0.0       0  \\n\",","       \"3                     1.0       0  \\n\",","       \"4                     2.0       0  \\n\",","       \"..                    ...     ...  \\n\",","       \"745                   2.0       0  \\n\",","       \"746                   2.0       0  \\n\",","       \"747                   2.0       0  \\n\",","       \"748                   1.0       0  \\n\",","       \"749                   2.0       0  \\n\",","       \"\\n\",","       \"[750 rows x 7 columns]\"","      ]","     },","     \"execution_count\": 7,","     \"metadata\": {},","     \"output_type\": \"execute_result\"","    }","   ],","   \"source\": [","    \"# Display the few rows of the eda_train_uninfect dataframe\\n\",","    \"eda_test_uninfect\"","   ]","  },","  {","   \"cell_type\": \"code\",","   \"execution_count\": 8,","   \"metadata\": {},","   \"outputs\": [","    {","     \"data\": {","      \"text/html\": [","       \"\u003cdiv\u003e\\n\",","       \"\u003cstyle scoped\u003e\\n\",","       \"    .dataframe tbody tr th:only-of-type {\\n\",","       \"        vertical-align: middle;\\n\",","       \"    }\\n\",","       \"\\n\",","       \"    .dataframe tbody tr th {\\n\",","       \"        vertical-align: top;\\n\",","       \"    }\\n\",","       \"\\n\",","       \"    .dataframe thead th {\\n\",","       \"        text-align: right;\\n\",","       \"    }\\n\",","       \"\u003c/style\u003e\\n\",","       \"\u003ctable border=\\\"1\\\" class=\\\"dataframe\\\"\u003e\\n\",","       \"  \u003cthead\u003e\\n\",","       \"    \u003ctr style=\\\"text-align: right;\\\"\u003e\\n\",","       \"      \u003cth\u003e\u003c/th\u003e\\n\",","       \"      \u003cth\u003eRed_Channel_Distribution\u003c/th\u003e\\n\",","       \"      \u003cth\u003eGreen_Channel_Distribution\u003c/th\u003e\\n\",","       \"      \u003cth\u003eBlue_Channel_Distribution\u003c/th\u003e\\n\",","       \"      \u003cth\u003eEdge_Density\u003c/th\u003e\\n\",","       \"      \u003cth\u003eMeanBlobSize\u003c/th\u003e\\n\",","       \"      \u003cth\u003eMaxBlobSize\u003c/th\u003e\\n\",","       \"      \u003cth\u003eTarget\u003c/th\u003e\\n\",","       \"    \u003c/tr\u003e\\n\",","       \"  \u003c/thead\u003e\\n\",","       \"  \u003ctbody\u003e\\n\",","       \"    \u003ctr\u003e\\n\",","       \"      \u003cth\u003e0\u003c/th\u003e\\n\",","       \"      \u003ctd\u003e162.9456\u003c/td\u003e\\n\",","       \"      \u003ctd\u003e121.9120\u003c/td\u003e\\n\",","       \"      \u003ctd\u003e117.5216\u003c/td\u003e\\n\",","       \"      \u003ctd\u003e0.1376\u003c/td\u003e\\n\",","       \"      \u003ctd\u003e1.000000\u003c/td\u003e\\n\",","       \"      \u003ctd\u003e1.0\u003c/td\u003e\\n\",","       \"      \u003ctd\u003e1\u003c/td\u003e\\n\",","       \"    \u003c/tr\u003e\\n\",","       \"    \u003ctr\u003e\\n\",","       \"      \u003cth\u003e1\u003c/th\u003e\\n\",","       \"      \u003ctd\u003e143.6416\u003c/td\u003e\\n\",","       \"      \u003ctd\u003e89.4432\u003c/td\u003e\\n\",","       \"      \u003ctd\u003e96.8192\u003c/td\u003e\\n\",","       \"      \u003ctd\u003e0.2064\u003c/td\u003e\\n\",","       \"      \u003ctd\u003e1.333333\u003c/td\u003e\\n\",","       \"      \u003ctd\u003e2.0\u003c/td\u003e\\n\",","       \"      \u003ctd\u003e1\u003c/td\u003e\\n\",","       \"    \u003c/tr\u003e\\n\",","       \"    \u003ctr\u003e\\n\",","       \"      \u003cth\u003e2\u003c/th\u003e\\n\",","       \"      \u003ctd\u003e138.9328\u003c/td\u003e\\n\",","       \"      \u003ctd\u003e90.3376\u003c/td\u003e\\n\",","       \"      \u003ctd\u003e95.4704\u003c/td\u003e\\n\",","       \"      \u003ctd\u003e0.2560\u003c/td\u003e\\n\",","       \"      \u003ctd\u003e0.000000\u003c/td\u003e\\n\",","       \"      \u003ctd\u003e0.0\u003c/td\u003e\\n\",","       \"      \u003ctd\u003e1\u003c/td\u003e\\n\",","       \"    \u003c/tr\u003e\\n\",","       \"    \u003ctr\u003e\\n\",","       \"      \u003cth\u003e3\u003c/th\u003e\\n\",","       \"      \u003ctd\u003e156.3904\u003c/td\u003e\\n\",","       \"      \u003ctd\u003e107.8592\u003c/td\u003e\\n\",","       \"      \u003ctd\u003e104.9968\u003c/td\u003e\\n\",","       \"      \u003ctd\u003e0.1824\u003c/td\u003e\\n\",","       \"      \u003ctd\u003e1.000000\u003c/td\u003e\\n\",","       \"      \u003ctd\u003e1.0\u003c/td\u003e\\n\",","       \"      \u003ctd\u003e1\u003c/td\u003e\\n\",","       \"    \u003c/tr\u003e\\n\",","       \"    \u003ctr\u003e\\n\",","       \"      \u003cth\u003e4\u003c/th\u003e\\n\",","       \"      \u003ctd\u003e126.0768\u003c/td\u003e\\n\",","       \"      \u003ctd\u003e72.1520\u003c/td\u003e\\n\",","       \"      \u003ctd\u003e87.3760\u003c/td\u003e\\n\",","       \"      \u003ctd\u003e0.2512\u003c/td\u003e\\n\",","       \"      \u003ctd\u003e2.000000\u003c/td\u003e\\n\",","       \"      \u003ctd\u003e2.0\u003c/td\u003e\\n\",","       \"      \u003ctd\u003e1\u003c/td\u003e\\n\",","       \"    \u003c/tr\u003e\\n\",","       \"    \u003ctr\u003e\\n\",","       \"      \u003cth\u003e...\u003c/th\u003e\\n\",","       \"      \u003ctd\u003e...\u003c/td\u003e\\n\",","       \"      \u003ctd\u003e...\u003c/td\u003e\\n\",","       \"      \u003ctd\u003e...\u003c/td\u003e\\n\",","       \"      \u003ctd\u003e...\u003c/td\u003e\\n\",","       \"      \u003ctd\u003e...\u003c/td\u003e\\n\",","       \"      \u003ctd\u003e...\u003c/td\u003e\\n\",","       \"      \u003ctd\u003e...\u003c/td\u003e\\n\",","       \"    \u003c/tr\u003e\\n\",","       \"    \u003ctr\u003e\\n\",","       \"      \u003cth\u003e745\u003c/th\u003e\\n\",","       \"      \u003ctd\u003e151.2352\u003c/td\u003e\\n\",","       \"      \u003ctd\u003e109.8304\u003c/td\u003e\\n\",","       \"      \u003ctd\u003e111.5184\u003c/td\u003e\\n\",","       \"      \u003ctd\u003e0.1232\u003c/td\u003e\\n\",","       \"      \u003ctd\u003e1.333333\u003c/td\u003e\\n\",","       \"      \u003ctd\u003e2.0\u003c/td\u003e\\n\",","       \"      \u003ctd\u003e1\u003c/td\u003e\\n\",","       \"    \u003c/tr\u003e\\n\",","       \"    \u003ctr\u003e\\n\",","       \"      \u003cth\u003e746\u003c/th\u003e\\n\",","       \"      \u003ctd\u003e120.3968\u003c/td\u003e\\n\",","       \"      \u003ctd\u003e76.0768\u003c/td\u003e\\n\",","       \"      \u003ctd\u003e88.9936\u003c/td\u003e\\n\",","       \"      \u003ctd\u003e0.1600\u003c/td\u003e\\n\",","       \"      \u003ctd\u003e1.714286\u003c/td\u003e\\n\",","       \"      \u003ctd\u003e2.0\u003c/td\u003e\\n\",","       \"      \u003ctd\u003e1\u003c/td\u003e\\n\",","       \"    \u003c/tr\u003e\\n\",","       \"    \u003ctr\u003e\\n\",","       \"      \u003cth\u003e747\u003c/th\u003e\\n\",","       \"      \u003ctd\u003e128.5920\u003c/td\u003e\\n\",","       \"      \u003ctd\u003e82.7344\u003c/td\u003e\\n\",","       \"      \u003ctd\u003e95.1584\u003c/td\u003e\\n\",","       \"      \u003ctd\u003e0.2128\u003c/td\u003e\\n\",","       \"      \u003ctd\u003e2.000000\u003c/td\u003e\\n\",","       \"      \u003ctd\u003e2.0\u003c/td\u003e\\n\",","       \"      \u003ctd\u003e1\u003c/td\u003e\\n\",","       \"    \u003c/tr\u003e\\n\",","       \"    \u003ctr\u003e\\n\",","       \"      \u003cth\u003e748\u003c/th\u003e\\n\",","       \"      \u003ctd\u003e141.0784\u003c/td\u003e\\n\",","       \"      \u003ctd\u003e88.2256\u003c/td\u003e\\n\",","       \"      \u003ctd\u003e100.7808\u003c/td\u003e\\n\",","       \"      \u003ctd\u003e0.1984\u003c/td\u003e\\n\",","       \"      \u003ctd\u003e1.000000\u003c/td\u003e\\n\",","       \"      \u003ctd\u003e1.0\u003c/td\u003e\\n\",","       \"      \u003ctd\u003e1\u003c/td\u003e\\n\",","       \"    \u003c/tr\u003e\\n\",","       \"    \u003ctr\u003e\\n\",","       \"      \u003cth\u003e749\u003c/th\u003e\\n\",","       \"      \u003ctd\u003e154.5360\u003c/td\u003e\\n\",","       \"      \u003ctd\u003e111.6416\u003c/td\u003e\\n\",","       \"      \u003ctd\u003e114.7440\u003c/td\u003e\\n\",","       \"      \u003ctd\u003e0.1472\u003c/td\u003e\\n\",","       \"      \u003ctd\u003e1.000000\u003c/td\u003e\\n\",","       \"      \u003ctd\u003e2.0\u003c/td\u003e\\n\",","       \"      \u003ctd\u003e1\u003c/td\u003e\\n\",","       \"    \u003c/tr\u003e\\n\",","       \"  \u003c/tbody\u003e\\n\",","       \"\u003c/table\u003e\\n\",","       \"\u003cp\u003e750 rows × 7 columns\u003c/p\u003e\\n\",","       \"\u003c/div\u003e\"","      ],","      \"text/plain\": [","       \"     Red_Channel_Distribution  Green_Channel_Distribution   \\n\",","       \"0                    162.9456                    121.9120  \\\\\\n\",","       \"1                    143.6416                     89.4432   \\n\",","       \"2                    138.9328                     90.3376   \\n\",","       \"3                    156.3904                    107.8592   \\n\",","       \"4                    126.0768                     72.1520   \\n\",","       \"..                        ...                         ...   \\n\",","       \"745                  151.2352                    109.8304   \\n\",","       \"746                  120.3968                     76.0768   \\n\",","       \"747                  128.5920                     82.7344   \\n\",","       \"748                  141.0784                     88.2256   \\n\",","       \"749                  154.5360                    111.6416   \\n\",","       \"\\n\",","       \"     Blue_Channel_Distribution  Edge_Density  MeanBlobSize  MaxBlobSize   \\n\",","       \"0                     117.5216        0.1376      1.000000          1.0  \\\\\\n\",","       \"1                      96.8192        0.2064      1.333333          2.0   \\n\",","       \"2                      95.4704        0.2560      0.000000          0.0   \\n\",","       \"3                     104.9968        0.1824      1.000000          1.0   \\n\",","       \"4                      87.3760        0.2512      2.000000          2.0   \\n\",","       \"..                         ...           ...           ...          ...   \\n\",","       \"745                   111.5184        0.1232      1.333333          2.0   \\n\",","       \"746                    88.9936        0.1600      1.714286          2.0   \\n\",","       \"747                    95.1584        0.2128      2.000000          2.0   \\n\",","       \"748                   100.7808        0.1984      1.000000          1.0   \\n\",","       \"749                   114.7440        0.1472      1.000000          2.0   \\n\",","       \"\\n\",","       \"     Target  \\n\",","       \"0         1  \\n\",","       \"1         1  \\n\",","       \"2         1  \\n\",","       \"3         1  \\n\",","       \"4         1  \\n\",","       \"..      ...  \\n\",","       \"745       1  \\n\",","       \"746       1  \\n\",","       \"747       1  \\n\",","       \"748       1  \\n\",","       \"749       1  \\n\",","       \"\\n\",","       \"[750 rows x 7 columns]\"","      ]","     },","     \"execution_count\": 8,","     \"metadata\": {},","     \"output_type\": \"execute_result\"","    }","   ],","   \"source\": [","    \"# Display the few rows of the eda_train_uninfect dataframe\\n\",","    \"eda_test_infect\"","   ]","  },","  {","   \"cell_type\": \"code\",","   \"execution_count\": 9,","   \"metadata\": {},","   \"outputs\": [],","   \"source\": [","    \"# Concatenating infected datasets into 1 dataframe\\n\",","    \"final_df = pd.concat([eda_train_infect,eda_train_uninfect],axis = 0)\"","   ]","  },","  {","   \"cell_type\": \"code\",","   \"execution_count\": 10,","   \"metadata\": {},","   \"outputs\": [],","   \"source\": [","    \"# Split the dataset into features (X) and the target variable (y)\\n\",","    \"X = final_df.drop('Target',axis=1).values \\n\",","    \"y = final_df['Target'].values\"","   ]","  },","  {","   \"cell_type\": \"code\",","   \"execution_count\": 11,","   \"metadata\": {},","   \"outputs\": [],","   \"source\": [","    \"X_train, X_test, y_train, y_test = train_test_split(X, y, test_size=0.2, random_state=42)\"","   ]","  },","  {","   \"cell_type\": \"code\",","   \"execution_count\": 12,","   \"metadata\": {},","   \"outputs\": [],","   \"source\": [","    \"scaler = StandardScaler()\\n\",","    \"X_train = scaler.fit_transform(X_train)\\n\",","    \"X_test = scaler.transform(X_test)\\n\"","   ]","  },","  {","   \"cell_type\": \"code\",","   \"execution_count\": 13,","   \"metadata\": {},","   \"outputs\": [","    {","     \"data\": {","      \"text/html\": [","       \"\u003cstyle\u003e#sk-container-id-1 {color: black;background-color: white;}#sk-container-id-1 pre{padding: 0;}#sk-container-id-1 div.sk-toggleable {background-color: white;}#sk-container-id-1 label.sk-toggleable__label {cursor: pointer;display: block;width: 100%;margin-bottom: 0;padding: 0.3em;box-sizing: border-box;text-align: center;}#sk-container-id-1 label.sk-toggleable__label-arrow:before {content: \\\"▸\\\";float: left;margin-right: 0.25em;color: #696969;}#sk-container-id-1 label.sk-toggleable__label-arrow:hover:before {color: black;}#sk-container-id-1 div.sk-estimator:hover label.sk-toggleable__label-arrow:before {color: black;}#sk-container-id-1 div.sk-toggleable__content {max-height: 0;max-width: 0;overflow: hidden;text-align: left;background-color: #f0f8ff;}#sk-container-id-1 div.sk-toggleable__content pre {margin: 0.2em;color: black;border-radius: 0.25em;background-color: #f0f8ff;}#sk-container-id-1 input.sk-toggleable__control:checked~div.sk-toggleable__content {max-height: 200px;max-width: 100%;overflow: auto;}#sk-container-id-1 input.sk-toggleable__control:checked~label.sk-toggleable__label-arrow:before {content: \\\"▾\\\";}#sk-container-id-1 div.sk-estimator input.sk-toggleable__control:checked~label.sk-toggleable__label {background-color: #d4ebff;}#sk-container-id-1 div.sk-label input.sk-toggleable__control:checked~label.sk-toggleable__label {background-color: #d4ebff;}#sk-container-id-1 input.sk-hidden--visually {border: 0;clip: rect(1px 1px 1px 1px);clip: rect(1px, 1px, 1px, 1px);height: 1px;margin: -1px;overflow: hidden;padding: 0;position: absolute;width: 1px;}#sk-container-id-1 div.sk-estimator {font-family: monospace;background-color: #f0f8ff;border: 1px dotted black;border-radius: 0.25em;box-sizing: border-box;margin-bottom: 0.5em;}#sk-container-id-1 div.sk-estimator:hover {background-color: #d4ebff;}#sk-container-id-1 div.sk-parallel-item::after {content: \\\"\\\";width: 100%;border-bottom: 1px solid gray;flex-grow: 1;}#sk-container-id-1 div.sk-label:hover label.sk-toggleable__label {background-color: #d4ebff;}#sk-container-id-1 div.sk-serial::before {content: \\\"\\\";position: absolute;border-left: 1px solid gray;box-sizing: border-box;top: 0;bottom: 0;left: 50%;z-index: 0;}#sk-container-id-1 div.sk-serial {display: flex;flex-direction: column;align-items: center;background-color: white;padding-right: 0.2em;padding-left: 0.2em;position: relative;}#sk-container-id-1 div.sk-item {position: relative;z-index: 1;}#sk-container-id-1 div.sk-parallel {display: flex;align-items: stretch;justify-content: center;background-color: white;position: relative;}#sk-container-id-1 div.sk-item::before, #sk-container-id-1 div.sk-parallel-item::before {content: \\\"\\\";position: absolute;border-left: 1px solid gray;box-sizing: border-box;top: 0;bottom: 0;left: 50%;z-index: -1;}#sk-container-id-1 div.sk-parallel-item {display: flex;flex-direction: column;z-index: 1;position: relative;background-color: white;}#sk-container-id-1 div.sk-parallel-item:first-child::after {align-self: flex-end;width: 50%;}#sk-container-id-1 div.sk-parallel-item:last-child::after {align-self: flex-start;width: 50%;}#sk-container-id-1 div.sk-parallel-item:only-child::after {width: 0;}#sk-container-id-1 div.sk-dashed-wrapped {border: 1px dashed gray;margin: 0 0.4em 0.5em 0.4em;box-sizing: border-box;padding-bottom: 0.4em;background-color: white;}#sk-container-id-1 div.sk-label label {font-family: monospace;font-weight: bold;display: inline-block;line-height: 1.2em;}#sk-container-id-1 div.sk-label-container {text-align: center;}#sk-container-id-1 div.sk-container {/* jupyter's `normalize.less` sets `[hidden] { display: none; }` but bootstrap.min.css set `[hidden] { display: none !important; }` so we also need the `!important` here to be able to override the default hidden behavior on the sphinx rendered scikit-learn.org. See: https://github.com/scikit-learn/scikit-learn/issues/21755 */display: inline-block !important;position: relative;}#sk-container-id-1 div.sk-text-repr-fallback {display: none;}\u003c/style\u003e\u003cdiv id=\\\"sk-container-id-1\\\" class=\\\"sk-top-container\\\"\u003e\u003cdiv class=\\\"sk-text-repr-fallback\\\"\u003e\u003cpre\u003eRandomForestClassifier(random_state=42)\u003c/pre\u003e\u003cb\u003eIn a Jupyter environment, please rerun this cell to show the HTML representation or trust the notebook. \u003cbr /\u003eOn GitHub, the HTML representation is unable to render, please try loading this page with nbviewer.org.\u003c/b\u003e\u003c/div\u003e\u003cdiv class=\\\"sk-container\\\" hidden\u003e\u003cdiv class=\\\"sk-item\\\"\u003e\u003cdiv class=\\\"sk-estimator sk-toggleable\\\"\u003e\u003cinput class=\\\"sk-toggleable__control sk-hidden--visually\\\" id=\\\"sk-estimator-id-1\\\" type=\\\"checkbox\\\" checked\u003e\u003clabel for=\\\"sk-estimator-id-1\\\" class=\\\"sk-toggleable__label sk-toggleable__label-arrow\\\"\u003eRandomForestClassifier\u003c/label\u003e\u003cdiv class=\\\"sk-toggleable__content\\\"\u003e\u003cpre\u003eRandomForestClassifier(random_state=42)\u003c/pre\u003e\u003c/div\u003e\u003c/div\u003e\u003c/div\u003e\u003c/div\u003e\u003c/div\u003e\"","      ],","      \"text/plain\": [","       \"RandomForestClassifier(random_state=42)\"","      ]","     },","     \"execution_count\": 13,","     \"metadata\": {},","     \"output_type\": \"execute_result\"","    }","   ],","   \"source\": [","    \"classifier = RandomForestClassifier(random_state=42)\\n\",","    \"classifier.fit(X_train, y_train)\\n\"","   ]","  },","  {","   \"cell_type\": \"code\",","   \"execution_count\": 14,","   \"metadata\": {},","   \"outputs\": [],","   \"source\": [","    \"y_pred = classifier.predict(X_test)\\n\"","   ]","  },","  {","   \"cell_type\": \"code\",","   \"execution_count\": 15,","   \"metadata\": {},","   \"outputs\": [","    {","     \"name\": \"stdout\",","     \"output_type\": \"stream\",","     \"text\": [","      \"Accuracy: 0.83\\n\",","      \"              precision    recall  f1-score   support\\n\",","      \"\\n\",","      \"           0       0.81      0.83      0.82       324\\n\",","      \"           1       0.85      0.83      0.84       376\\n\",","      \"\\n\",","      \"    accuracy                           0.83       700\\n\",","      \"   macro avg       0.83      0.83      0.83       700\\n\",","      \"weighted avg       0.83      0.83      0.83       700\\n\",","      \"\\n\"","     ]","    }","   ],","   \"source\": [","    \"accuracy = accuracy_score(y_test, y_pred)\\n\",","    \"print(f'Accuracy: {accuracy:.2f}')\\n\",","    \"\\n\",","    \"# You can also print a classification report for more detailed metrics\\n\",","    \"report = classification_report(y_test, y_pred)\\n\",","    \"print(report)\\n\"","   ]","  },","  {","   \"cell_type\": \"markdown\",","   \"metadata\": {},","   \"source\": [","    \"#### Analysis: The RF model predicts accuracy at 83%. \"","   ]","  },","  {","   \"cell_type\": \"code\",","   \"execution_count\": 16,","   \"metadata\": {},","   \"outputs\": [","    {","     \"data\": {","      \"text/plain\": [","       \"(0.16996057165680944, 0.3163852762030748)\"","      ]","     },","     \"execution_count\": 16,","     \"metadata\": {},","     \"output_type\": \"execute_result\"","    }","   ],","   \"source\": [","    \"from sklearn.model_selection import train_test_split\\n\",","    \"from sklearn.preprocessing import StandardScaler\\n\",","    \"from sklearn.linear_model import LinearRegression\\n\",","    \"from sklearn.metrics import mean_squared_error, r2_score\\n\",","    \"\\n\",","    \"# Assuming final_df is your dataset; if it's not available, this code won't run as is.\\n\",","    \"# For the sake of demonstration, let's create a dummy dataset.\\n\",","    \"import pandas as pd\\n\",","    \"import numpy as np\\n\",","    \"\\n\",","    \"\\n\",","    \"# Standardize the feature data\\n\",","    \"scaler = StandardScaler()\\n\",","    \"X_train = scaler.fit_transform(X_train)\\n\",","    \"X_test = scaler.transform(X_test)\\n\",","    \"\\n\",","    \"# Create and train the Linear Regression model\\n\",","    \"lr_model = LinearRegression()\\n\",","    \"lr_model.fit(X_train, y_train)\\n\",","    \"\\n\",","    \"# Make predictions on the test data\\n\",","    \"y_pred = lr_model.predict(X_test)\\n\",","    \"\\n\",","    \"# Evaluate the regression model's performance\\n\",","    \"mse = mean_squared_error(y_test, y_pred)\\n\",","    \"r2 = r2_score(y_test, y_pred)\\n\",","    \"\\n\",","    \"mse, r2\\n\"","   ]","  },","  {","   \"cell_type\": \"markdown\",","   \"metadata\": {},","   \"source\": [","    \"#### Analysis: \\n\",","    \"\\n\",","    \"The MSE value suggests the average squared error your model makes in its predictions. Lower is better.\\n\",","    \"The R2 value of  0.3164 suggests that the model explains approximately 31.64% of the variance in the dependent variable that is predictable from the independent variables. This means that there's still a significant portion of the variance in the target variable that the model isn't capturing. Ideally, you'd want this value to be higher.\\n\",","    \"\\n\",","    \"Hence more models need to be explored.\"","   ]","  },","  {","   \"cell_type\": \"code\",","   \"execution_count\": 17,","   \"metadata\": {},","   \"outputs\": [","    {","     \"name\": \"stdout\",","     \"output_type\": \"stream\",","     \"text\": [","      \"Accuracy: 0.80\\n\",","      \"              precision    recall  f1-score   support\\n\",","      \"\\n\",","      \"           0       0.74      0.88      0.80       324\\n\",","      \"           1       0.87      0.73      0.79       376\\n\",","      \"\\n\",","      \"    accuracy                           0.80       700\\n\",","      \"   macro avg       0.80      0.80      0.80       700\\n\",","      \"weighted avg       0.81      0.80      0.80       700\\n\",","      \"\\n\"","     ]","    }","   ],","   \"source\": [","    \"#SVC Model\\n\",","    \"from sklearn.svm import SVC\\n\",","    \"from sklearn.metrics import accuracy_score, classification_report\\n\",","    \"\\n\",","    \"\\n\",","    \"\\n\",","    \"# Split the dataset into features (X) and the target variable (y)\\n\",","    \"X = final_df.drop('Target', axis=1)\\n\",","    \"y = final_df['Target']\\n\",","    \"\\n\",","    \"# Split the data into training and testing sets\\n\",","    \"X_train, X_test, y_train, y_test = train_test_split(X, y, test_size=0.2, random_state=42)\\n\",","    \"\\n\",","    \"# Standardize the feature data\\n\",","    \"scaler = StandardScaler()\\n\",","    \"X_train = scaler.fit_transform(X_train)\\n\",","    \"X_test = scaler.transform(X_test)\\n\",","    \"\\n\",","    \"# Create and train the SVM model\\n\",","    \"svm_classifier = SVC(kernel='linear', random_state=42)\\n\",","    \"svm_classifier.fit(X_train, y_train)\\n\",","    \"\\n\",","    \"# Make predictions on the test data\\n\",","    \"y_pred = svm_classifier.predict(X_test)\\n\",","    \"\\n\",","    \"# Evaluate the classifier's performance\\n\",","    \"accuracy = accuracy_score(y_test, y_pred)\\n\",","    \"print(f'Accuracy: {accuracy:.2f}')\\n\",","    \"\\n\",","    \"# Print a classification report for more detailed metrics\\n\",","    \"report = classification_report(y_test, y_pred)\\n\",","    \"print(report)\\n\"","   ]","  },","  {","   \"cell_type\": \"markdown\",","   \"metadata\": {},","   \"source\": [","    \"### Analysis = \\n\",","    \"\\n\",","    \"The model performs reasonably well with an accuracy of 80%. Both classes have similar precision, recall, and F1-score values, indicating that the model doesn't have a strong bias toward one class over the other. The slightly higher precision for class 1 suggests that when the model predicts class 1, it's more often correct compared to when it predicts class 0. However, the recall for class 0 is higher, indicating the model is better at capturing all the actual instances of class 0 compared to class 1.\"","   ]","  },","  {","   \"cell_type\": \"code\",","   \"execution_count\": 16,","   \"metadata\": {},","   \"outputs\": [","    {","     \"name\": \"stdout\",","     \"output_type\": \"stream\",","     \"text\": [","      \"Fitting 5 folds for each of 72 candidates, totalling 360 fits\\n\",","      \"[CV] END ..................C=0.1, gamma=scale, kernel=linear; total time=   0.1s\\n\",","      \"[CV] END ..................C=0.1, gamma=scale, kernel=linear; total time=   0.1s\\n\",","      \"[CV] END ..................C=0.1, gamma=scale, kernel=linear; total time=   0.1s\\n\",","      \"[CV] END ..................C=0.1, gamma=scale, kernel=linear; total time=   0.1s\\n\",","      \"[CV] END ..................C=0.1, gamma=scale, kernel=linear; total time=   0.1s\\n\",","      \"[CV] END .....................C=0.1, gamma=scale, kernel=rbf; total time=   0.2s\\n\",","      \"[CV] END .....................C=0.1, gamma=scale, kernel=rbf; total time=   0.1s\\n\",","      \"[CV] END .....................C=0.1, gamma=scale, kernel=rbf; total time=   0.1s\\n\",","      \"[CV] END .....................C=0.1, gamma=scale, kernel=rbf; total time=   0.1s\\n\",","      \"[CV] END ....................C=0.1, gamma=scale, kernel=poly; total time=   0.1s\\n\",","      \"[CV] END ....................C=0.1, gamma=scale, kernel=poly; total time=   0.1s\\n\",","      \"[CV] END ....................C=0.1, gamma=scale, kernel=poly; total time=   0.1s\\n\",","      \"[CV] END ...................C=0.1, gamma=auto, kernel=linear; total time=   0.1s\\n\",","      \"[CV] END .....................C=0.1, gamma=scale, kernel=rbf; total time=   0.2s\\n\",","      \"[CV] END ....................C=0.1, gamma=scale, kernel=poly; total time=   0.1s\\n\",","      \"[CV] END ...................C=0.1, gamma=auto, kernel=linear; total time=   0.1s\\n\",","      \"[CV] END ...................C=0.1, gamma=auto, kernel=linear; total time=   0.1s\\n\",","      \"[CV] END ....................C=0.1, gamma=scale, kernel=poly; total time=   0.1s\\n\",","      \"[CV] END ...................C=0.1, gamma=auto, kernel=linear; total time=   0.1s\\n\",","      \"[CV] END ...................C=0.1, gamma=auto, kernel=linear; total time=   0.1s\\n\",","      \"[CV] END .....................C=0.1, gamma=auto, kernel=poly; total time=   0.1s\\n\",","      \"[CV] END .....................C=0.1, gamma=auto, kernel=poly; total time=   0.1s\\n\",","      \"[CV] END ......................C=0.1, gamma=auto, kernel=rbf; total time=   0.2s\\n\",","      \"[CV] END ......................C=0.1, gamma=auto, kernel=rbf; total time=   0.2s\\n\",","      \"[CV] END .....................C=0.1, gamma=auto, kernel=poly; total time=   0.1s\\n\",","      \"[CV] END ......................C=0.1, gamma=auto, kernel=rbf; total time=   0.2s\\n\",","      \"[CV] END ......................C=0.1, gamma=auto, kernel=rbf; total time=   0.2s\\n\",","      \"[CV] END ......................C=0.1, gamma=auto, kernel=rbf; total time=   0.2s\\n\",","      \"[CV] END ..................C=0.1, gamma=0.001, kernel=linear; total time=   0.1s\\n\",","      \"[CV] END .....................C=0.1, gamma=auto, kernel=poly; total time=   0.2s\\n\",","      \"[CV] END ..................C=0.1, gamma=0.001, kernel=linear; total time=   0.1s[CV] END ..................C=0.1, gamma=0.001, kernel=linear; total time=   0.1s\\n\",","      \"\\n\",","      \"[CV] END ..................C=0.1, gamma=0.001, kernel=linear; total time=   0.1s\\n\",","      \"[CV] END ..................C=0.1, gamma=0.001, kernel=linear; total time=   0.1s\\n\",","      \"[CV] END .....................C=0.1, gamma=auto, kernel=poly; total time=   0.2s\\n\",","      \"[CV] END ....................C=0.1, gamma=0.001, kernel=poly; total time=   0.3s\\n\",","      \"[CV] END ....................C=0.1, gamma=0.001, kernel=poly; total time=   0.3s\\n\",","      \"[CV] END ....................C=0.1, gamma=0.001, kernel=poly; total time=   0.3s\\n\",","      \"[CV] END .....................C=0.1, gamma=0.001, kernel=rbf; total time=   0.4s\\n\",","      \"[CV] END .....................C=0.1, gamma=0.001, kernel=rbf; total time=   0.4s\\n\",","      \"[CV] END .....................C=0.1, gamma=0.001, kernel=rbf; total time=   0.4s\\n\",","      \"[CV] END .....................C=0.1, gamma=0.001, kernel=rbf; total time=   0.5s\\n\",","      \"[CV] END .....................C=0.1, gamma=0.001, kernel=rbf; total time=   0.5s\\n\",","      \"[CV] END ...................C=0.1, gamma=0.01, kernel=linear; total time=   0.2s\\n\",","      \"[CV] END ...................C=0.1, gamma=0.01, kernel=linear; total time=   0.2s\\n\",","      \"[CV] END ...................C=0.1, gamma=0.01, kernel=linear; total time=   0.2s\\n\",","      \"[CV] END ...................C=0.1, gamma=0.01, kernel=linear; total time=   0.2s\\n\",","      \"[CV] END ....................C=0.1, gamma=0.001, kernel=poly; total time=   0.4s\\n\",","      \"[CV] END ...................C=0.1, gamma=0.01, kernel=linear; total time=   0.2s\\n\",","      \"[CV] END ....................C=0.1, gamma=0.001, kernel=poly; total time=   0.4s\\n\",","      \"[CV] END ......................C=0.1, gamma=0.01, kernel=rbf; total time=   0.5s\\n\",","      \"[CV] END ......................C=0.1, gamma=0.01, kernel=rbf; total time=   0.4s\\n\",","      \"[CV] END .....................C=0.1, gamma=0.01, kernel=poly; total time=   0.3s\\n\",","      \"[CV] END ......................C=0.1, gamma=0.01, kernel=rbf; total time=   0.4s\\n\",","      \"[CV] END .....................C=0.1, gamma=0.01, kernel=poly; total time=   0.3s\\n\",","      \"[CV] END .....................C=0.1, gamma=0.01, kernel=poly; total time=   0.3s\\n\",","      \"[CV] END ......................C=0.1, gamma=0.01, kernel=rbf; total time=   0.4s\\n\",","      \"[CV] END ....................C=0.1, gamma=0.1, kernel=linear; total time=   0.1s\\n\",","      \"[CV] END ....................C=0.1, gamma=0.1, kernel=linear; total time=   0.1s\\n\",","      \"[CV] END ......................C=0.1, gamma=0.01, kernel=rbf; total time=   0.5s\\n\",","      \"[CV] END ....................C=0.1, gamma=0.1, kernel=linear; total time=   0.2s\\n\",","      \"[CV] END ....................C=0.1, gamma=0.1, kernel=linear; total time=   0.2s\\n\",","      \"[CV] END ....................C=0.1, gamma=0.1, kernel=linear; total time=   0.1s\\n\",","      \"[CV] END .....................C=0.1, gamma=0.01, kernel=poly; total time=   0.3s\\n\",","      \"[CV] END .....................C=0.1, gamma=0.01, kernel=poly; total time=   0.3s\\n\",","      \"[CV] END .......................C=0.1, gamma=0.1, kernel=rbf; total time=   0.2s\\n\",","      \"[CV] END .......................C=0.1, gamma=0.1, kernel=rbf; total time=   0.3s\\n\",","      \"[CV] END .......................C=0.1, gamma=0.1, kernel=rbf; total time=   0.3s\\n\",","      \"[CV] END ......................C=0.1, gamma=0.1, kernel=poly; total time=   0.2s\\n\",","      \"[CV] END .......................C=0.1, gamma=0.1, kernel=rbf; total time=   0.3s\\n\",","      \"[CV] END .......................C=0.1, gamma=0.1, kernel=rbf; total time=   0.3s\\n\",","      \"[CV] END ......................C=0.1, gamma=0.1, kernel=poly; total time=   0.2s\\n\",","      \"[CV] END ......................C=0.1, gamma=0.1, kernel=poly; total time=   0.2s\\n\",","      \"[CV] END ......................C=0.1, gamma=0.1, kernel=poly; total time=   0.2s\\n\",","      \"[CV] END ......................C=0.1, gamma=1, kernel=linear; total time=   0.1s\\n\",","      \"[CV] END ......................C=0.1, gamma=1, kernel=linear; total time=   0.1s\\n\",","      \"[CV] END ......................C=0.1, gamma=1, kernel=linear; total time=   0.2s\\n\",","      \"[CV] END ......................C=0.1, gamma=0.1, kernel=poly; total time=   0.2s\\n\",","      \"[CV] END ......................C=0.1, gamma=1, kernel=linear; total time=   0.1s\\n\",","      \"[CV] END ......................C=0.1, gamma=1, kernel=linear; total time=   0.2s\\n\",","      \"[CV] END .........................C=0.1, gamma=1, kernel=rbf; total time=   0.3s\\n\",","      \"[CV] END .........................C=0.1, gamma=1, kernel=rbf; total time=   0.3s\\n\",","      \"[CV] END .........................C=0.1, gamma=1, kernel=rbf; total time=   0.4s\\n\",","      \"[CV] END .........................C=0.1, gamma=1, kernel=rbf; total time=   0.3s\\n\",","      \"[CV] END .........................C=0.1, gamma=1, kernel=rbf; total time=   0.3s\\n\",","      \"[CV] END ....................C=1, gamma=scale, kernel=linear; total time=   0.2s\\n\",","      \"[CV] END ....................C=1, gamma=scale, kernel=linear; total time=   0.2s\\n\",","      \"[CV] END ....................C=1, gamma=scale, kernel=linear; total time=   0.2s\\n\",","      \"[CV] END ........................C=0.1, gamma=1, kernel=poly; total time=   0.6s\\n\",","      \"[CV] END ........................C=0.1, gamma=1, kernel=poly; total time=   0.6s\\n\",","      \"[CV] END ........................C=0.1, gamma=1, kernel=poly; total time=   0.7s\\n\",","      \"[CV] END ....................C=1, gamma=scale, kernel=linear; total time=   0.2s\\n\",","      \"[CV] END ....................C=1, gamma=scale, kernel=linear; total time=   0.2s\\n\",","      \"[CV] END .......................C=1, gamma=scale, kernel=rbf; total time=   0.2s\\n\",","      \"[CV] END ........................C=0.1, gamma=1, kernel=poly; total time=   0.6s\\n\",","      \"[CV] END .......................C=1, gamma=scale, kernel=rbf; total time=   0.2s\\n\",","      \"[CV] END .......................C=1, gamma=scale, kernel=rbf; total time=   0.3s\\n\",","      \"[CV] END .......................C=1, gamma=scale, kernel=rbf; total time=   0.2s\\n\",","      \"[CV] END ......................C=1, gamma=scale, kernel=poly; total time=   0.2s\\n\",","      \"[CV] END .......................C=1, gamma=scale, kernel=rbf; total time=   0.3s\\n\",","      \"[CV] END ......................C=1, gamma=scale, kernel=poly; total time=   0.3s\\n\",","      \"[CV] END ........................C=0.1, gamma=1, kernel=poly; total time=   0.8s\\n\",","      \"[CV] END ......................C=1, gamma=scale, kernel=poly; total time=   0.3s\\n\",","      \"[CV] END ......................C=1, gamma=scale, kernel=poly; total time=   0.3s\\n\",","      \"[CV] END ......................C=1, gamma=scale, kernel=poly; total time=   0.3s\\n\",","      \"[CV] END .....................C=1, gamma=auto, kernel=linear; total time=   0.2s\\n\",","      \"[CV] END .....................C=1, gamma=auto, kernel=linear; total time=   0.2s\\n\",","      \"[CV] END .....................C=1, gamma=auto, kernel=linear; total time=   0.2s\\n\",","      \"[CV] END .....................C=1, gamma=auto, kernel=linear; total time=   0.2s\\n\",","      \"[CV] END .....................C=1, gamma=auto, kernel=linear; total time=   0.2s\\n\",","      \"[CV] END ........................C=1, gamma=auto, kernel=rbf; total time=   0.2s\\n\",","      \"[CV] END ........................C=1, gamma=auto, kernel=rbf; total time=   0.3s\\n\",","      \"[CV] END ........................C=1, gamma=auto, kernel=rbf; total time=   0.2s\\n\",","      \"[CV] END ........................C=1, gamma=auto, kernel=rbf; total time=   0.3s\\n\",","      \"[CV] END ........................C=1, gamma=auto, kernel=rbf; total time=   0.3s\\n\",","      \"[CV] END .......................C=1, gamma=auto, kernel=poly; total time=   0.2s\\n\",","      \"[CV] END .......................C=1, gamma=auto, kernel=poly; total time=   0.2s\\n\",","      \"[CV] END ....................C=1, gamma=0.001, kernel=linear; total time=   0.2s\\n\",","      \"[CV] END .......................C=1, gamma=auto, kernel=poly; total time=   0.3s\\n\",","      \"[CV] END .......................C=1, gamma=auto, kernel=poly; total time=   0.2s\\n\",","      \"[CV] END .......................C=1, gamma=auto, kernel=poly; total time=   0.2s\\n\",","      \"[CV] END ....................C=1, gamma=0.001, kernel=linear; total time=   0.2s\\n\",","      \"[CV] END ....................C=1, gamma=0.001, kernel=linear; total time=   0.2s\\n\",","      \"[CV] END ....................C=1, gamma=0.001, kernel=linear; total time=   0.2s\\n\",","      \"[CV] END ....................C=1, gamma=0.001, kernel=linear; total time=   0.2s\\n\",","      \"[CV] END .......................C=1, gamma=0.001, kernel=rbf; total time=   0.3s\\n\",","      \"[CV] END ......................C=1, gamma=0.001, kernel=poly; total time=   0.3s\\n\",","      \"[CV] END .......................C=1, gamma=0.001, kernel=rbf; total time=   0.4s\\n\",","      \"[CV] END ......................C=1, gamma=0.001, kernel=poly; total time=   0.3s\\n\",","      \"[CV] END .......................C=1, gamma=0.001, kernel=rbf; total time=   0.4s\\n\",","      \"[CV] END ......................C=1, gamma=0.001, kernel=poly; total time=   0.3s\\n\",","      \"[CV] END .......................C=1, gamma=0.001, kernel=rbf; total time=   0.4s\\n\",","      \"[CV] END .......................C=1, gamma=0.001, kernel=rbf; total time=   0.5s\\n\",","      \"[CV] END ......................C=1, gamma=0.001, kernel=poly; total time=   0.3s\\n\",","      \"[CV] END .....................C=1, gamma=0.01, kernel=linear; total time=   0.2s\\n\",","      \"[CV] END .....................C=1, gamma=0.01, kernel=linear; total time=   0.2s\\n\",","      \"[CV] END .....................C=1, gamma=0.01, kernel=linear; total time=   0.2s\\n\",","      \"[CV] END .....................C=1, gamma=0.01, kernel=linear; total time=   0.2s\\n\",","      \"[CV] END .....................C=1, gamma=0.01, kernel=linear; total time=   0.2s\\n\",","      \"[CV] END ......................C=1, gamma=0.001, kernel=poly; total time=   0.3s\\n\",","      \"[CV] END ........................C=1, gamma=0.01, kernel=rbf; total time=   0.2s\\n\",","      \"[CV] END ........................C=1, gamma=0.01, kernel=rbf; total time=   0.2s\\n\",","      \"[CV] END ........................C=1, gamma=0.01, kernel=rbf; total time=   0.3s\\n\",","      \"[CV] END ........................C=1, gamma=0.01, kernel=rbf; total time=   0.3s\\n\",","      \"[CV] END .......................C=1, gamma=0.01, kernel=poly; total time=   0.3s\\n\",","      \"[CV] END .......................C=1, gamma=0.01, kernel=poly; total time=   0.2s\\n\",","      \"[CV] END ........................C=1, gamma=0.01, kernel=rbf; total time=   0.4s\\n\",","      \"[CV] END ......................C=1, gamma=0.1, kernel=linear; total time=   0.2s\\n\",","      \"[CV] END ......................C=1, gamma=0.1, kernel=linear; total time=   0.2s\\n\",","      \"[CV] END ......................C=1, gamma=0.1, kernel=linear; total time=   0.2s\\n\",","      \"[CV] END .......................C=1, gamma=0.01, kernel=poly; total time=   0.3s\\n\",","      \"[CV] END ......................C=1, gamma=0.1, kernel=linear; total time=   0.2s\\n\",","      \"[CV] END .......................C=1, gamma=0.01, kernel=poly; total time=   0.3s\\n\",","      \"[CV] END .......................C=1, gamma=0.01, kernel=poly; total time=   0.5s\\n\",","      \"[CV] END ......................C=1, gamma=0.1, kernel=linear; total time=   0.2s\\n\",","      \"[CV] END .........................C=1, gamma=0.1, kernel=rbf; total time=   0.2s\\n\",","      \"[CV] END .........................C=1, gamma=0.1, kernel=rbf; total time=   0.2s\\n\",","      \"[CV] END .........................C=1, gamma=0.1, kernel=rbf; total time=   0.2s\\n\",","      \"[CV] END .........................C=1, gamma=0.1, kernel=rbf; total time=   0.3s\\n\",","      \"[CV] END ........................C=1, gamma=0.1, kernel=poly; total time=   0.2s\\n\",","      \"[CV] END ........................C=1, gamma=0.1, kernel=poly; total time=   0.2s\\n\",","      \"[CV] END ........................C=1, gamma=0.1, kernel=poly; total time=   0.2s\\n\",","      \"[CV] END .........................C=1, gamma=0.1, kernel=rbf; total time=   0.2s\\n\",","      \"[CV] END ........................C=1, gamma=0.1, kernel=poly; total time=   0.2s\\n\",","      \"[CV] END ........................C=1, gamma=0.1, kernel=poly; total time=   0.2s\\n\",","      \"[CV] END ........................C=1, gamma=1, kernel=linear; total time=   0.2s\\n\",","      \"[CV] END ........................C=1, gamma=1, kernel=linear; total time=   0.2s\\n\",","      \"[CV] END ........................C=1, gamma=1, kernel=linear; total time=   0.2s\\n\",","      \"[CV] END ........................C=1, gamma=1, kernel=linear; total time=   0.2s\\n\",","      \"[CV] END ........................C=1, gamma=1, kernel=linear; total time=   0.2s\\n\",","      \"[CV] END ...........................C=1, gamma=1, kernel=rbf; total time=   0.3s\\n\",","      \"[CV] END ...........................C=1, gamma=1, kernel=rbf; total time=   0.2s\\n\",","      \"[CV] END ...........................C=1, gamma=1, kernel=rbf; total time=   0.3s\\n\",","      \"[CV] END ...........................C=1, gamma=1, kernel=rbf; total time=   0.3s\\n\",","      \"[CV] END ...........................C=1, gamma=1, kernel=rbf; total time=   0.3s\\n\",","      \"[CV] END ...................C=10, gamma=scale, kernel=linear; total time=   0.5s\\n\",","      \"[CV] END ...................C=10, gamma=scale, kernel=linear; total time=   0.5s\\n\",","      \"[CV] END ...................C=10, gamma=scale, kernel=linear; total time=   0.6s\\n\",","      \"[CV] END ......................C=10, gamma=scale, kernel=rbf; total time=   0.2s\\n\",","      \"[CV] END ...................C=10, gamma=scale, kernel=linear; total time=   0.5s\\n\",","      \"[CV] END ...................C=10, gamma=scale, kernel=linear; total time=   0.5s\\n\",","      \"[CV] END ......................C=10, gamma=scale, kernel=rbf; total time=   0.4s\\n\",","      \"[CV] END ......................C=10, gamma=scale, kernel=rbf; total time=   0.2s\\n\",","      \"[CV] END ......................C=10, gamma=scale, kernel=rbf; total time=   0.3s\\n\",","      \"[CV] END ......................C=10, gamma=scale, kernel=rbf; total time=   0.3s\\n\",","      \"[CV] END .....................C=10, gamma=scale, kernel=poly; total time=   0.4s\\n\",","      \"[CV] END .....................C=10, gamma=scale, kernel=poly; total time=   0.5s\\n\",","      \"[CV] END .....................C=10, gamma=scale, kernel=poly; total time=   0.5s\\n\",","      \"[CV] END .....................C=10, gamma=scale, kernel=poly; total time=   0.6s\\n\",","      \"[CV] END .....................C=10, gamma=scale, kernel=poly; total time=   0.6s\\n\",","      \"[CV] END ....................C=10, gamma=auto, kernel=linear; total time=   0.6s\\n\",","      \"[CV] END ....................C=10, gamma=auto, kernel=linear; total time=   0.6s\\n\",","      \"[CV] END ....................C=10, gamma=auto, kernel=linear; total time=   0.7s\\n\",","      \"[CV] END ....................C=10, gamma=auto, kernel=linear; total time=   0.5s\\n\",","      \"[CV] END .......................C=10, gamma=auto, kernel=rbf; total time=   0.2s\\n\",","      \"[CV] END .......................C=10, gamma=auto, kernel=rbf; total time=   0.3s\\n\",","      \"[CV] END ....................C=10, gamma=auto, kernel=linear; total time=   0.5s\\n\",","      \"[CV] END .......................C=10, gamma=auto, kernel=rbf; total time=   0.2s\\n\",","      \"[CV] END .......................C=10, gamma=auto, kernel=rbf; total time=   0.3s\\n\",","      \"[CV] END .......................C=10, gamma=auto, kernel=rbf; total time=   0.2s\\n\",","      \"[CV] END ......................C=10, gamma=auto, kernel=poly; total time=   0.4s\\n\",","      \"[CV] END ..........................C=1, gamma=1, kernel=poly; total time=   4.3s\\n\",","      \"[CV] END ......................C=10, gamma=auto, kernel=poly; total time=   0.5s\\n\",","      \"[CV] END ......................C=10, gamma=auto, kernel=poly; total time=   0.6s\\n\",","      \"[CV] END ......................C=10, gamma=auto, kernel=poly; total time=   0.5s\\n\",","      \"[CV] END ......................C=10, gamma=auto, kernel=poly; total time=   0.6s\\n\",","      \"[CV] END ..........................C=1, gamma=1, kernel=poly; total time=   5.0s\\n\",","      \"[CV] END ...................C=10, gamma=0.001, kernel=linear; total time=   0.6s\\n\",","      \"[CV] END ..........................C=1, gamma=1, kernel=poly; total time=   5.1s\\n\",","      \"[CV] END ...................C=10, gamma=0.001, kernel=linear; total time=   0.6s\\n\",","      \"[CV] END ......................C=10, gamma=0.001, kernel=rbf; total time=   0.3s\\n\",","      \"[CV] END ...................C=10, gamma=0.001, kernel=linear; total time=   0.6s\\n\",","      \"[CV] END ......................C=10, gamma=0.001, kernel=rbf; total time=   0.3s\\n\",","      \"[CV] END ...................C=10, gamma=0.001, kernel=linear; total time=   0.6s\\n\",","      \"[CV] END ......................C=10, gamma=0.001, kernel=rbf; total time=   0.3s\\n\",","      \"[CV] END ...................C=10, gamma=0.001, kernel=linear; total time=   0.6s\\n\",","      \"[CV] END ......................C=10, gamma=0.001, kernel=rbf; total time=   0.3s\\n\",","      \"[CV] END ......................C=10, gamma=0.001, kernel=rbf; total time=   0.3s\\n\",","      \"[CV] END .....................C=10, gamma=0.001, kernel=poly; total time=   0.4s\\n\",","      \"[CV] END .....................C=10, gamma=0.001, kernel=poly; total time=   0.4s\\n\",","      \"[CV] END .....................C=10, gamma=0.001, kernel=poly; total time=   0.4s\\n\",","      \"[CV] END ..........................C=1, gamma=1, kernel=poly; total time=   5.7s\\n\",","      \"[CV] END .....................C=10, gamma=0.001, kernel=poly; total time=   0.4s\\n\",","      \"[CV] END .....................C=10, gamma=0.001, kernel=poly; total time=   0.3s\\n\",","      \"[CV] END .......................C=10, gamma=0.01, kernel=rbf; total time=   0.3s\\n\",","      \"[CV] END .......................C=10, gamma=0.01, kernel=rbf; total time=   0.3s\\n\",","      \"[CV] END ....................C=10, gamma=0.01, kernel=linear; total time=   0.6s\\n\",","      \"[CV] END ....................C=10, gamma=0.01, kernel=linear; total time=   0.6s\\n\",","      \"[CV] END ....................C=10, gamma=0.01, kernel=linear; total time=   0.7s\\n\",","      \"[CV] END ....................C=10, gamma=0.01, kernel=linear; total time=   0.6s\\n\",","      \"[CV] END ....................C=10, gamma=0.01, kernel=linear; total time=   0.7s\\n\",","      \"[CV] END .......................C=10, gamma=0.01, kernel=rbf; total time=   0.5s[CV] END .......................C=10, gamma=0.01, kernel=rbf; total time=   0.4s\\n\",","      \"\\n\",","      \"[CV] END .......................C=10, gamma=0.01, kernel=rbf; total time=   0.4s\\n\",","      \"[CV] END ......................C=10, gamma=0.01, kernel=poly; total time=   0.3s\\n\",","      \"[CV] END ......................C=10, gamma=0.01, kernel=poly; total time=   0.4s\\n\",","      \"[CV] END ......................C=10, gamma=0.01, kernel=poly; total time=   0.4s\\n\",","      \"[CV] END ......................C=10, gamma=0.01, kernel=poly; total time=   0.3s\\n\",","      \"[CV] END ......................C=10, gamma=0.01, kernel=poly; total time=   0.3s\\n\",","      \"[CV] END .....................C=10, gamma=0.1, kernel=linear; total time=   0.5s\\n\",","      \"[CV] END ........................C=10, gamma=0.1, kernel=rbf; total time=   0.2s\\n\",","      \"[CV] END ........................C=10, gamma=0.1, kernel=rbf; total time=   0.3s\\n\",","      \"[CV] END .....................C=10, gamma=0.1, kernel=linear; total time=   0.5s\\n\",","      \"[CV] END .....................C=10, gamma=0.1, kernel=linear; total time=   0.7s\\n\",","      \"[CV] END .....................C=10, gamma=0.1, kernel=linear; total time=   0.6s\\n\",","      \"[CV] END ........................C=10, gamma=0.1, kernel=rbf; total time=   0.3s\\n\",","      \"[CV] END ........................C=10, gamma=0.1, kernel=rbf; total time=   0.3s\\n\",","      \"[CV] END ........................C=10, gamma=0.1, kernel=rbf; total time=   0.3s\\n\",","      \"[CV] END .....................C=10, gamma=0.1, kernel=linear; total time=   0.7s\\n\",","      \"[CV] END .......................C=10, gamma=0.1, kernel=poly; total time=   0.2s\\n\",","      \"[CV] END .......................C=10, gamma=0.1, kernel=poly; total time=   0.2s\\n\",","      \"[CV] END .......................C=10, gamma=0.1, kernel=poly; total time=   0.3s\\n\",","      \"[CV] END .......................C=10, gamma=0.1, kernel=poly; total time=   0.3s\\n\",","      \"[CV] END .......................C=10, gamma=0.1, kernel=poly; total time=   0.3s\\n\",","      \"[CV] END .......................C=10, gamma=1, kernel=linear; total time=   0.5s\\n\",","      \"[CV] END ..........................C=10, gamma=1, kernel=rbf; total time=   0.3s\\n\",","      \"[CV] END .......................C=10, gamma=1, kernel=linear; total time=   0.4s\\n\",","      \"[CV] END ..........................C=10, gamma=1, kernel=rbf; total time=   0.3s\\n\",","      \"[CV] END ..........................C=1, gamma=1, kernel=poly; total time=   8.1s\\n\",","      \"[CV] END .......................C=10, gamma=1, kernel=linear; total time=   0.6s\\n\",","      \"[CV] END .......................C=10, gamma=1, kernel=linear; total time=   0.6s\\n\",","      \"[CV] END .......................C=10, gamma=1, kernel=linear; total time=   0.7s\\n\",","      \"[CV] END ..........................C=10, gamma=1, kernel=rbf; total time=   0.4s\\n\",","      \"[CV] END ..........................C=10, gamma=1, kernel=rbf; total time=   0.3s\\n\",","      \"[CV] END ..........................C=10, gamma=1, kernel=rbf; total time=   0.4s\\n\",","      \"[CV] END ..................C=100, gamma=scale, kernel=linear; total time=   2.8s\\n\",","      \"[CV] END ..................C=100, gamma=scale, kernel=linear; total time=   2.8s\\n\",","      \"[CV] END ..................C=100, gamma=scale, kernel=linear; total time=   3.0s\\n\",","      \"[CV] END .....................C=100, gamma=scale, kernel=rbf; total time=   0.6s\\n\",","      \"[CV] END .....................C=100, gamma=scale, kernel=rbf; total time=   0.5s\\n\",","      \"[CV] END .....................C=100, gamma=scale, kernel=rbf; total time=   0.4s\\n\",","      \"[CV] END .....................C=100, gamma=scale, kernel=rbf; total time=   0.5s\\n\",","      \"[CV] END ..................C=100, gamma=scale, kernel=linear; total time=   2.7s\\n\",","      \"[CV] END ..................C=100, gamma=scale, kernel=linear; total time=   2.7s\\n\",","      \"[CV] END .....................C=100, gamma=scale, kernel=rbf; total time=   0.6s\\n\",","      \"[CV] END ....................C=100, gamma=scale, kernel=poly; total time=   2.0s\\n\",","      \"[CV] END ....................C=100, gamma=scale, kernel=poly; total time=   2.5s\\n\",","      \"[CV] END ....................C=100, gamma=scale, kernel=poly; total time=   2.7s\\n\",","      \"[CV] END ....................C=100, gamma=scale, kernel=poly; total time=   2.4s\\n\",","      \"[CV] END ....................C=100, gamma=scale, kernel=poly; total time=   3.2s\\n\",","      \"[CV] END ...................C=100, gamma=auto, kernel=linear; total time=   2.9s\\n\",","      \"[CV] END ...................C=100, gamma=auto, kernel=linear; total time=   2.6s\\n\",","      \"[CV] END ...................C=100, gamma=auto, kernel=linear; total time=   2.5s\\n\",","      \"[CV] END ...................C=100, gamma=auto, kernel=linear; total time=   2.3s\\n\",","      \"[CV] END ......................C=100, gamma=auto, kernel=rbf; total time=   0.4s\\n\",","      \"[CV] END ......................C=100, gamma=auto, kernel=rbf; total time=   0.4s\\n\",","      \"[CV] END ......................C=100, gamma=auto, kernel=rbf; total time=   0.4s\\n\",","      \"[CV] END ......................C=100, gamma=auto, kernel=rbf; total time=   0.4s\\n\",","      \"[CV] END ......................C=100, gamma=auto, kernel=rbf; total time=   0.4s\\n\",","      \"[CV] END ...................C=100, gamma=auto, kernel=linear; total time=   2.4s\\n\",","      \"[CV] END .....................C=100, gamma=auto, kernel=poly; total time=   1.6s\\n\",","      \"[CV] END .....................C=100, gamma=auto, kernel=poly; total time=   2.0s\\n\",","      \"[CV] END .....................C=100, gamma=auto, kernel=poly; total time=   1.6s\\n\",","      \"[CV] END .....................C=100, gamma=auto, kernel=poly; total time=   2.7s\\n\",","      \"[CV] END .....................C=100, gamma=auto, kernel=poly; total time=   2.8s\\n\",","      \"[CV] END ..................C=100, gamma=0.001, kernel=linear; total time=   2.5s\\n\",","      \"[CV] END ..................C=100, gamma=0.001, kernel=linear; total time=   2.7s\\n\",","      \"[CV] END ..................C=100, gamma=0.001, kernel=linear; total time=   2.5s\\n\",","      \"[CV] END ..................C=100, gamma=0.001, kernel=linear; total time=   2.6s\\n\",","      \"[CV] END .....................C=100, gamma=0.001, kernel=rbf; total time=   0.3s\\n\",","      \"[CV] END .....................C=100, gamma=0.001, kernel=rbf; total time=   0.3s\\n\",","      \"[CV] END .....................C=100, gamma=0.001, kernel=rbf; total time=   0.3s\\n\",","      \"[CV] END .....................C=100, gamma=0.001, kernel=rbf; total time=   0.3s\\n\",","      \"[CV] END .....................C=100, gamma=0.001, kernel=rbf; total time=   0.3s\\n\",","      \"[CV] END ....................C=100, gamma=0.001, kernel=poly; total time=   0.3s\\n\",","      \"[CV] END ....................C=100, gamma=0.001, kernel=poly; total time=   0.4s\\n\",","      \"[CV] END ....................C=100, gamma=0.001, kernel=poly; total time=   0.4s\\n\",","      \"[CV] END ....................C=100, gamma=0.001, kernel=poly; total time=   0.4s\\n\",","      \"[CV] END ....................C=100, gamma=0.001, kernel=poly; total time=   0.3s\\n\",","      \"[CV] END ..................C=100, gamma=0.001, kernel=linear; total time=   2.6s\\n\",","      \"[CV] END ...................C=100, gamma=0.01, kernel=linear; total time=   2.6s\\n\",","      \"[CV] END ...................C=100, gamma=0.01, kernel=linear; total time=   2.6s\\n\",","      \"[CV] END ...................C=100, gamma=0.01, kernel=linear; total time=   2.6s\\n\",","      \"[CV] END ......................C=100, gamma=0.01, kernel=rbf; total time=   0.4s\\n\",","      \"[CV] END ......................C=100, gamma=0.01, kernel=rbf; total time=   0.4s\\n\",","      \"[CV] END ......................C=100, gamma=0.01, kernel=rbf; total time=   0.3s\\n\",","      \"[CV] END ......................C=100, gamma=0.01, kernel=rbf; total time=   0.4s\\n\",","      \"[CV] END ......................C=100, gamma=0.01, kernel=rbf; total time=   0.4s\\n\",","      \"[CV] END .....................C=100, gamma=0.01, kernel=poly; total time=   0.3s\\n\",","      \"[CV] END .....................C=100, gamma=0.01, kernel=poly; total time=   0.3s\\n\",","      \"[CV] END ...................C=100, gamma=0.01, kernel=linear; total time=   3.0s\\n\",","      \"[CV] END .....................C=100, gamma=0.01, kernel=poly; total time=   0.4s\\n\",","      \"[CV] END ...................C=100, gamma=0.01, kernel=linear; total time=   3.3s\\n\",","      \"[CV] END .....................C=100, gamma=0.01, kernel=poly; total time=   0.4s\\n\",","      \"[CV] END .....................C=100, gamma=0.01, kernel=poly; total time=   0.3s\\n\",","      \"[CV] END ....................C=100, gamma=0.1, kernel=linear; total time=   2.6s\\n\",","      \"[CV] END ....................C=100, gamma=0.1, kernel=linear; total time=   2.5s\\n\",","      \"[CV] END ....................C=100, gamma=0.1, kernel=linear; total time=   2.5s\\n\",","      \"[CV] END .......................C=100, gamma=0.1, kernel=rbf; total time=   0.4s\\n\",","      \"[CV] END .......................C=100, gamma=0.1, kernel=rbf; total time=   0.4s\\n\",","      \"[CV] END .......................C=100, gamma=0.1, kernel=rbf; total time=   0.4s\\n\",","      \"[CV] END .......................C=100, gamma=0.1, kernel=rbf; total time=   0.3s\\n\",","      \"[CV] END .......................C=100, gamma=0.1, kernel=rbf; total time=   0.5s\\n\",","      \"[CV] END ....................C=100, gamma=0.1, kernel=linear; total time=   2.3s\\n\",","      \"[CV] END ....................C=100, gamma=0.1, kernel=linear; total time=   2.5s\\n\",","      \"[CV] END ......................C=100, gamma=0.1, kernel=poly; total time=   0.6s\\n\",","      \"[CV] END ......................C=100, gamma=0.1, kernel=poly; total time=   0.6s\\n\",","      \"[CV] END ......................C=100, gamma=0.1, kernel=poly; total time=   0.8s\\n\",","      \"[CV] END ......................C=100, gamma=0.1, kernel=poly; total time=   0.8s\\n\",","      \"[CV] END ......................C=100, gamma=0.1, kernel=poly; total time=   0.6s\\n\",","      \"[CV] END ......................C=100, gamma=1, kernel=linear; total time=   2.5s\\n\",","      \"[CV] END ......................C=100, gamma=1, kernel=linear; total time=   2.4s\\n\",","      \"[CV] END ......................C=100, gamma=1, kernel=linear; total time=   2.3s\\n\",","      \"[CV] END .........................C=10, gamma=1, kernel=poly; total time=  38.9s\\n\",","      \"[CV] END .........................C=100, gamma=1, kernel=rbf; total time=   0.6s\\n\",","      \"[CV] END .........................C=100, gamma=1, kernel=rbf; total time=   0.7s\\n\",","      \"[CV] END .........................C=100, gamma=1, kernel=rbf; total time=   0.7s\\n\",","      \"[CV] END .........................C=100, gamma=1, kernel=rbf; total time=   0.6s\\n\",","      \"[CV] END .........................C=100, gamma=1, kernel=rbf; total time=   0.7s\\n\",","      \"[CV] END ......................C=100, gamma=1, kernel=linear; total time=   2.6s\\n\",","      \"[CV] END ......................C=100, gamma=1, kernel=linear; total time=   2.6s\\n\",","      \"[CV] END .........................C=10, gamma=1, kernel=poly; total time=  42.9s\\n\",","      \"[CV] END .........................C=10, gamma=1, kernel=poly; total time=  51.3s\\n\",","      \"[CV] END .........................C=10, gamma=1, kernel=poly; total time= 1.5min\\n\",","      \"[CV] END .........................C=10, gamma=1, kernel=poly; total time= 1.8min\\n\",","      \"[CV] END ........................C=100, gamma=1, kernel=poly; total time= 3.2min\\n\",","      \"[CV] END ........................C=100, gamma=1, kernel=poly; total time= 3.4min\\n\",","      \"[CV] END ........................C=100, gamma=1, kernel=poly; total time= 4.7min\\n\",","      \"[CV] END ........................C=100, gamma=1, kernel=poly; total time= 5.0min\\n\",","      \"[CV] END ........................C=100, gamma=1, kernel=poly; total time= 7.4min\\n\",","      \"Best Hyperparameters: {'C': 100, 'gamma': 0.1, 'kernel': 'rbf'}\\n\",","      \"Accuracy: 0.85\\n\",","      \"              precision    recall  f1-score   support\\n\",","      \"\\n\",","      \"           0       0.83      0.83      0.83       324\\n\",","      \"           1       0.86      0.86      0.86       376\\n\",","      \"\\n\",","      \"    accuracy                           0.85       700\\n\",","      \"   macro avg       0.84      0.84      0.84       700\\n\",","      \"weighted avg       0.85      0.85      0.85       700\\n\",","      \"\\n\"","     ]","    }","   ],","   \"source\": [","    \"#SVC model with hyperparamter\\n\",","    \"\\n\",","    \"import pandas as pd\\n\",","    \"from sklearn.model_selection import train_test_split, GridSearchCV\\n\",","    \"from sklearn.preprocessing import StandardScaler\\n\",","    \"from sklearn.svm import SVC\\n\",","    \"from sklearn.metrics import accuracy_score, classification_report\\n\",","    \"\\n\",","    \"# Split the dataset into features (X) and the target variable (y)\\n\",","    \"X = final_df.drop('Target', axis=1)\\n\",","    \"y = final_df['Target']\\n\",","    \"\\n\",","    \"# Split the data into training and testing sets\\n\",","    \"X_train, X_test, y_train, y_test = train_test_split(X, y, test_size=0.2, random_state=42)\\n\",","    \"\\n\",","    \"# Standardize the feature data\\n\",","    \"scaler = StandardScaler()\\n\",","    \"X_train = scaler.fit_transform(X_train)\\n\",","    \"X_test = scaler.transform(X_test)\\n\",","    \"\\n\",","    \"# Define a parameter grid to search over\\n\",","    \"param_grid = {\\n\",","    \"    'C': [0.1, 1, 10, 100],  # Regularization parameter\\n\",","    \"    'kernel': ['linear', 'rbf', 'poly'],  # Kernel type\\n\",","    \"    'gamma': ['scale', 'auto'] + [0.001, 0.01, 0.1, 1]  # Kernel coefficient\\n\",","    \"}\\n\",","    \"\\n\",","    \"# Create an SVM classifier\\n\",","    \"svm_classifier = SVC(random_state=42)\\n\",","    \"\\n\",","    \"# Create a GridSearchCV object to find the best combination of hyperparameters\\n\",","    \"grid_search = GridSearchCV(estimator=svm_classifier, param_grid=param_grid, cv=5, n_jobs=-1, verbose=2)\\n\",","    \"\\n\",","    \"# Perform the grid search on the training data\\n\",","    \"grid_search.fit(X_train, y_train)\\n\",","    \"\\n\",","    \"# Get the best parameters from the grid search\\n\",","    \"best_params = grid_search.best_params_\\n\",","    \"print(\\\"Best Hyperparameters:\\\", best_params)\\n\",","    \"\\n\",","    \"# Use the best estimator found by GridSearchCV for predictions\\n\",","    \"best_svm_classifier = grid_search.best_estimator_\\n\",","    \"y_pred = best_svm_classifier.predict(X_test)\\n\",","    \"\\n\",","    \"# Evaluate the classifier's performance\\n\",","    \"accuracy = accuracy_score(y_test, y_pred)\\n\",","    \"print(f'Accuracy: {accuracy:.2f}')\\n\",","    \"\\n\",","    \"# Print a classification report for more detailed metrics\\n\",","    \"report = classification_report(y_test, y_pred)\\n\",","    \"print(report)\\n\"","   ]","  },","  {","   \"cell_type\": \"markdown\",","   \"metadata\": {},","   \"source\": [","    \"### Analysis: \\n\",","    \"\\n\",","    \"The SVM model with hyperparameters C=10, gamma=0.1, and kernel='rbf' performs well on the test data, achieving an accuracy of 85%. The model has good precision and recall for both classes, suggesting a balanced performance. The results of the grid search highlight the importance of hyperparameter tuning in achieving optimal model performance.\\n\",","    \"\\n\",","    \"### Precision:\\n\",","    \"For class 0: 84% of the instances predicted as class 0 were actually class 0.\\n\",","    \"\\n\",","    \"For class 1: 86% of the instances predicted as class 1 were actually class 1.\\n\",","    \"\\n\",","    \"### Recall:\\n\",","    \"For class 0: 85% of actual instances of class 0 were correctly identified by the model.\\n\",","    \"\\n\",","    \"For class 1: 84% of actual instances of class 1 were correctly identified.\"","   ]","  },","  {","   \"cell_type\": \"code\",","   \"execution_count\": 18,","   \"metadata\": {},","   \"outputs\": [","    {","     \"name\": \"stdout\",","     \"output_type\": \"stream\",","     \"text\": [","      \"Accuracy with PCA: 0.79\\n\",","      \"              precision    recall  f1-score   support\\n\",","      \"\\n\",","      \"           0       0.72      0.88      0.79       324\\n\",","      \"           1       0.87      0.71      0.78       376\\n\",","      \"\\n\",","      \"    accuracy                           0.79       700\\n\",","      \"   macro avg       0.80      0.79      0.79       700\\n\",","      \"weighted avg       0.80      0.79      0.79       700\\n\",","      \"\\n\"","     ]","    }","   ],","   \"source\": [","    \"# SVC + PCA \\n\",","    \"from sklearn.decomposition import PCA\\n\",","    \"from sklearn.metrics import accuracy_score, classification_report\\n\",","    \"\\n\",","    \"# Split the dataset into features (X) and the target variable (y)\\n\",","    \"X = final_df.drop('Target', axis=1)\\n\",","    \"y = final_df['Target']\\n\",","    \"\\n\",","    \"# Split the data into training and testing sets\\n\",","    \"X_train, X_test, y_train, y_test = train_test_split(X, y, test_size=0.2, random_state=42)\\n\",","    \"\\n\",","    \"# Standardize the feature data\\n\",","    \"scaler = StandardScaler()\\n\",","    \"X_train_scaled = scaler.fit_transform(X_train)\\n\",","    \"X_test_scaled = scaler.transform(X_test)\\n\",","    \"\\n\",","    \"# Apply PCA for dimensionality reduction\\n\",","    \"pca = PCA(n_components=0.95)  # Choose the number of components to capture 95% of variance\\n\",","    \"X_train_pca = pca.fit_transform(X_train_scaled)\\n\",","    \"X_test_pca = pca.transform(X_test_scaled)\\n\",","    \"\\n\",","    \"# Create an SVM classifier\\n\",","    \"svm_classifier = SVC(kernel='linear', random_state=42)\\n\",","    \"\\n\",","    \"# Train the SVM model on the reduced dimensionality data\\n\",","    \"svm_classifier.fit(X_train_pca, y_train)\\n\",","    \"\\n\",","    \"# Make predictions on the test data\\n\",","    \"y_pred = svm_classifier.predict(X_test_pca)\\n\",","    \"\\n\",","    \"# Evaluate the classifier's performance\\n\",","    \"accuracy = accuracy_score(y_test, y_pred)\\n\",","    \"print(f'Accuracy with PCA: {accuracy:.2f}')\\n\",","    \"\\n\",","    \"# Print a classification report for more detailed metrics\\n\",","    \"report = classification_report(y_test, y_pred)\\n\",","    \"print(report)\\n\"","   ]","  },","  {","   \"cell_type\": \"markdown\",","   \"metadata\": {},","   \"source\": [","    \"### Analysis:\\n\",","    \"\\n\",","    \"1. Accuracy:\\n\",","    \"\\n\",","    \"The model achieves an accuracy of 79% on the test set. This means it correctly predicts the class for 79% of the test samples.\\n\",","    \"\\n\",","    \"2. Precision:\\n\",","    \"\\n\",","    \"Class 0: Of all the instances predicted as class 0, 72% were actually class 0. This means that when the model predicts an instance to be of class 0, it is correct 72% of the time.\\n\",","    \"Class 1: Of all the instances predicted as class 1, 87% were actually class 1. This suggests that the model is more reliable when it predicts an instance as class 1 compared to class 0.\\n\",","    \"\\n\",","    \"The use of PCA with SVC has yielded an accuracy of 79%. While this is decent, there's room for improvement. The model is more precise in predicting class 1, but its recall is lower for the same class, meaning it misses out on a significant number of true class 1 instances. Conversely, the model has a higher recall for class 0, indicating it is good at identifying true class 0 instances, but its precision for class 0 is lower, suggesting there are false positives.\\n\",","    \"\\n\",","    \"In the context of PCA, it's worth noting that PCA reduces the dimensionality of the data by capturing the most significant variance in fewer components. Depending on how much of the variance is retained after PCA, some information might be lost, which can affect the model's performance.\"","   ]","  },","  {","   \"cell_type\": \"code\",","   \"execution_count\": 18,","   \"metadata\": {},","   \"outputs\": [","    {","     \"name\": \"stdout\",","     \"output_type\": \"stream\",","     \"text\": [","      \"Accuracy: 0.74\\n\",","      \"              precision    recall  f1-score   support\\n\",","      \"\\n\",","      \"           0       0.72      0.70      0.71       324\\n\",","      \"           1       0.75      0.77      0.76       376\\n\",","      \"\\n\",","      \"    accuracy                           0.74       700\\n\",","      \"   macro avg       0.74      0.73      0.74       700\\n\",","      \"weighted avg       0.74      0.74      0.74       700\\n\",","      \"\\n\"","     ]","    }","   ],","   \"source\": [","    \"#Decision Tree \\n\",","    \"from sklearn.tree import DecisionTreeClassifier\\n\",","    \"from sklearn.metrics import accuracy_score, classification_report\\n\",","    \"\\n\",","    \"# Split the dataset into features (X) and the target variable (y)\\n\",","    \"X = final_df.drop('Target', axis=1)\\n\",","    \"y = final_df['Target']\\n\",","    \"\\n\",","    \"# Split the data into training and testing sets\\n\",","    \"X_train, X_test, y_train, y_test = train_test_split(X, y, test_size=0.2, random_state=42)\\n\",","    \"\\n\",","    \"# Create and train the Decision Tree model\\n\",","    \"tree_classifier = DecisionTreeClassifier(random_state=42)\\n\",","    \"tree_classifier.fit(X_train, y_train)\\n\",","    \"\\n\",","    \"# Make predictions on the test data\\n\",","    \"y_pred = tree_classifier.predict(X_test)\\n\",","    \"\\n\",","    \"# Evaluate the classifier's performance\\n\",","    \"accuracy = accuracy_score(y_test, y_pred)\\n\",","    \"print(f'Accuracy: {accuracy:.2f}')\\n\",","    \"\\n\",","    \"# Print a classification report for more detailed metrics\\n\",","    \"report = classification_report(y_test, y_pred)\\n\",","    \"print(report)\\n\"","   ]","  },","  {","   \"cell_type\": \"markdown\",","   \"metadata\": {},","   \"source\": [","    \"### Analysis : \\n\",","    \"\\n\",","    \"1. Accuracy:\\n\",","    \"\\n\",","    \"The Decision Tree model correctly predicts the outcome 74% of the time on the test set.\\n\",","    \"2. Precision:\\n\",","    \"\\n\",","    \"Class 0: Of all the instances predicted as class 0, 72% were actually class 0. This means that when the model predicts an instance to be of class 0, it is correct 72% of the time.\\n\",","    \"Class 1: Of all the instances predicted as class 1, 75% were actually class 1. This suggests the model is slightly more reliable when predicting class 1 compared to class 0.\\n\",","    \"\\n\",","    \"The Decision Tree model has an overall accuracy of 74%. While the precision and recall for both classes are relatively balanced, the model performs slightly better in predicting class 1 over class 0, as evidenced by the higher F1-score for class 1. But the overall accuracy is much lower.\"","   ]","  },","  {","   \"cell_type\": \"code\",","   \"execution_count\": 19,","   \"metadata\": {},","   \"outputs\": [","    {","     \"name\": \"stdout\",","     \"output_type\": \"stream\",","     \"text\": [","      \"Accuracy: 0.83\\n\",","      \"              precision    recall  f1-score   support\\n\",","      \"\\n\",","      \"           0       0.80      0.86      0.83       324\\n\",","      \"           1       0.87      0.81      0.84       376\\n\",","      \"\\n\",","      \"    accuracy                           0.83       700\\n\",","      \"   macro avg       0.83      0.84      0.83       700\\n\",","      \"weighted avg       0.84      0.83      0.83       700\\n\",","      \"\\n\"","     ]","    }","   ],","   \"source\": [","    \"# Random Forest With Gradient boosting\\n\",","    \"from sklearn.ensemble import RandomForestClassifier, GradientBoostingClassifier, VotingClassifier\\n\",","    \"from sklearn.metrics import accuracy_score, classification_report\\n\",","    \"\\n\",","    \"\\n\",","    \"# Assuming you have 'target' column containing labels (0 for not infected, 1 for infected)\\n\",","    \"X = final_df.drop('Target', axis=1)\\n\",","    \"y = final_df['Target']\\n\",","    \"\\n\",","    \"# Split the data into training and testing sets\\n\",","    \"X_train, X_test, y_train, y_test = train_test_split(X, y, test_size=0.2, random_state=42)\\n\",","    \"\\n\",","    \"# Create individual classifiers\\n\",","    \"random_forest = RandomForestClassifier(n_estimators=100, random_state=42)\\n\",","    \"gradient_boosting = GradientBoostingClassifier(n_estimators=100, random_state=42)\\n\",","    \"\\n\",","    \"# Create a Voting Classifier (Ensemble of classifiers)\\n\",","    \"ensemble_classifier = VotingClassifier(estimators=[\\n\",","    \"    ('rf', random_forest),\\n\",","    \"    ('gradient_boosting', gradient_boosting)\\n\",","    \"], voting='hard')  # Use 'hard' for majority voting\\n\",","    \"\\n\",","    \"# Fit the ensemble model on the training data\\n\",","    \"ensemble_classifier.fit(X_train, y_train)\\n\",","    \"\\n\",","    \"# Make predictions on the test data\\n\",","    \"y_pred = ensemble_classifier.predict(X_test)\\n\",","    \"\\n\",","    \"# Evaluate the ensemble classifier's performance\\n\",","    \"accuracy = accuracy_score(y_test, y_pred)\\n\",","    \"print(f'Accuracy: {accuracy:.2f}')\\n\",","    \"\\n\",","    \"# Print a classification report for more detailed metrics\\n\",","    \"report = classification_report(y_test, y_pred)\\n\",","    \"print(report)\\n\"","   ]","  },","  {","   \"cell_type\": \"markdown\",","   \"metadata\": {},","   \"source\": [","    \"### Analysis:\\n\",","    \"\\n\",","    \"1. Accuracy:\\n\",","    \"\\n\",","    \"The model correctly predicts the outcome 83% of the time on the test set.\\n\",","    \"\\n\",","    \"2. Precision:\\n\",","    \"\\n\",","    \"Class 0: Of all the instances predicted as class 0, 80% were actually class 0. This means the model is correct 80% of the time when it predicts an instance to belong to class 0.\\n\",","    \"\\n\",","    \"Class 1: The model is slightly more reliable when predicting class 1, with 87% of the instances predicted as class 1 being actual class 1 instances.\\n\",","    \"\\n\",","    \"The Random Forest with Gradient Boosting model demonstrates a commendable accuracy of 83%. The precision and recall values are relatively balanced for both classes, signifying that the model doesn't show a strong bias towards any particular class. The slightly higher precision for class 1 indicates that when the model predicts an instance to be of class 1, it's more often correct compared to when it predicts class 0. On the other hand, the recall for class 0 is higher, suggesting the model is more adept at capturing all the actual instances of class 0 compared to class 1.\"","   ]","  },","  {","   \"cell_type\": \"code\",","   \"execution_count\": 20,","   \"metadata\": {},","   \"outputs\": [","    {","     \"name\": \"stdout\",","     \"output_type\": \"stream\",","     \"text\": [","      \"Accuracy: 0.81\\n\",","      \"              precision    recall  f1-score   support\\n\",","      \"\\n\",","      \"           0       0.77      0.84      0.80       324\\n\",","      \"           1       0.85      0.78      0.81       376\\n\",","      \"\\n\",","      \"    accuracy                           0.81       700\\n\",","      \"   macro avg       0.81      0.81      0.81       700\\n\",","      \"weighted avg       0.81      0.81      0.81       700\\n\",","      \"\\n\"","     ]","    }","   ],","   \"source\": [","    \"#SVC+RF+neural network\\n\",","    \"\\n\",","    \"import numpy as np\\n\",","    \"import pandas as pd\\n\",","    \"from sklearn.model_selection import train_test_split\\n\",","    \"from sklearn.svm import SVC\\n\",","    \"from sklearn.ensemble import RandomForestClassifier, VotingClassifier\\n\",","    \"from sklearn.neural_network import MLPClassifier\\n\",","    \"from sklearn.metrics import accuracy_score, classification_report\\n\",","    \"\\n\",","    \"\\n\",","    \"# Assuming you have 'target' column containing labels (0 for not infected, 1 for infected)\\n\",","    \"X = final_df.drop('Target', axis=1)\\n\",","    \"y = final_df['Target']\\n\",","    \"\\n\",","    \"# Split the data into training and testing sets\\n\",","    \"X_train, X_test, y_train, y_test = train_test_split(X, y, test_size=0.2, random_state=42)\\n\",","    \"\\n\",","    \"# Create individual classifiers\\n\",","    \"svc_classifier = SVC(kernel='linear', random_state=42, probability=True)\\n\",","    \"random_forest = RandomForestClassifier(n_estimators=100, random_state=42)\\n\",","    \"neural_network = MLPClassifier(hidden_layer_sizes=(100, 50), max_iter=1000, random_state=42)\\n\",","    \"\\n\",","    \"# Create a Voting Classifier (Ensemble of classifiers)\\n\",","    \"ensemble_classifier = VotingClassifier(estimators=[\\n\",","    \"    ('svc', svc_classifier),\\n\",","    \"    ('rf', random_forest),\\n\",","    \"    ('nn', neural_network)\\n\",","    \"], voting='soft')  # Use 'soft' for weighted voting based on probabilities\\n\",","    \"\\n\",","    \"# Fit the ensemble model on the training data\\n\",","    \"ensemble_classifier.fit(X_train, y_train)\\n\",","    \"\\n\",","    \"# Make predictions on the test data\\n\",","    \"y_pred = ensemble_classifier.predict(X_test)\\n\",","    \"\\n\",","    \"# Evaluate the ensemble classifier's performance\\n\",","    \"accuracy = accuracy_score(y_test, y_pred)\\n\",","    \"print(f'Accuracy: {accuracy:.2f}')\\n\",","    \"\\n\",","    \"# Print a classification report for more detailed metrics\\n\",","    \"report = classification_report(y_test, y_pred)\\n\",","    \"print(report)\\n\"","   ]","  },","  {","   \"cell_type\": \"markdown\",","   \"metadata\": {},","   \"source\": [","    \"### Analysis:\\n\",","    \"\\n\",","    \"1. Accuracy:\\n\",","    \"\\n\",","    \"The combined model correctly predicts the outcome 81% of the time on the test set.\\n\",","    \"\\n\",","    \"2. Precision:\\n\",","    \"\\n\",","    \"Class 0: Of all the instances predicted as class 0, 77% were actually class 0. This means when the ensemble predicts an instance to be of class 0, it's correct 77% of the time.\\n\",","    \"\\n\",","    \"Class 1: The ensemble is more precise in its predictions for class 1, with 85% of the instances predicted as class 1 being actual class 1 instances.\\n\",","    \"\\n\",","    \"This ensemble approach, combining predictions from an SVC, RF, and a neural network, has resulted in an accuracy of 81%. The precision and recall values are relatively balanced for both classes, suggesting that the model has a balanced performance across the two classes.\"","   ]","  },","  {","   \"cell_type\": \"markdown\",","   \"metadata\": {},","   \"source\": [","    \"### IMAGE PIXEL - ML MODEL TRIAL , apart from CNN\"","   ]","  },","  {","   \"cell_type\": \"markdown\",","   \"metadata\": {},","   \"source\": [","    \"K-NN\"","   ]","  },","  {","   \"cell_type\": \"code\",","   \"execution_count\": 33,","   \"metadata\": {},","   \"outputs\": [],","   \"source\": [","    \"from PIL import Image\\n\",","    \"# load training data from csv\\n\",","    \"train_path = os.path.join('Dataset','eda_train_uninfect.csv')\\n\",","    \"train_eda_uninf_df = pd.read_csv(train_path)\"","   ]","  },","  {","   \"cell_type\": \"code\",","   \"execution_count\": 21,","   \"metadata\": {},","   \"outputs\": [","    {","     \"data\": {","      \"text/html\": [","       \"\u003cdiv\u003e\\n\",","       \"\u003cstyle scoped\u003e\\n\",","       \"    .dataframe tbody tr th:only-of-type {\\n\",","       \"        vertical-align: middle;\\n\",","       \"    }\\n\",","       \"\\n\",","       \"    .dataframe tbody tr th {\\n\",","       \"        vertical-align: top;\\n\",","       \"    }\\n\",","       \"\\n\",","       \"    .dataframe thead th {\\n\",","       \"        text-align: right;\\n\",","       \"    }\\n\",","       \"\u003c/style\u003e\\n\",","       \"\u003ctable border=\\\"1\\\" class=\\\"dataframe\\\"\u003e\\n\",","       \"  \u003cthead\u003e\\n\",","       \"    \u003ctr style=\\\"text-align: right;\\\"\u003e\\n\",","       \"      \u003cth\u003e\u003c/th\u003e\\n\",","       \"      \u003cth\u003eImageFileName\u003c/th\u003e\\n\",","       \"      \u003cth\u003eRed_Channel_Distribution\u003c/th\u003e\\n\",","       \"      \u003cth\u003eGreen_Channel_Distribution\u003c/th\u003e\\n\",","       \"      \u003cth\u003eBlue_Channel_Distribution\u003c/th\u003e\\n\",","       \"      \u003cth\u003eUninfected_Edge_Density\u003c/th\u003e\\n\",","       \"      \u003cth\u003eUninfected_MeanBlobSize\u003c/th\u003e\\n\",","       \"      \u003cth\u003eUninfected_MaxBlobSize\u003c/th\u003e\\n\",","       \"    \u003c/tr\u003e\\n\",","       \"  \u003c/thead\u003e\\n\",","       \"  \u003ctbody\u003e\\n\",","       \"    \u003ctr\u003e\\n\",","       \"      \u003cth\u003e0\u003c/th\u003e\\n\",","       \"      \u003ctd\u003eC100P61ThinF_IMG_20150918_144104_cell_128.png\u003c/td\u003e\\n\",","       \"      \u003ctd\u003e146.5920\u003c/td\u003e\\n\",","       \"      \u003ctd\u003e108.2592\u003c/td\u003e\\n\",","       \"      \u003ctd\u003e102.9936\u003c/td\u003e\\n\",","       \"      \u003ctd\u003e0.1408\u003c/td\u003e\\n\",","       \"      \u003ctd\u003e1.0\u003c/td\u003e\\n\",","       \"      \u003ctd\u003e1.0\u003c/td\u003e\\n\",","       \"    \u003c/tr\u003e\\n\",","       \"    \u003ctr\u003e\\n\",","       \"      \u003cth\u003e1\u003c/th\u003e\\n\",","       \"      \u003ctd\u003eC100P61ThinF_IMG_20150918_144104_cell_131.png\u003c/td\u003e\\n\",","       \"      \u003ctd\u003e155.7472\u003c/td\u003e\\n\",","       \"      \u003ctd\u003e115.0592\u003c/td\u003e\\n\",","       \"      \u003ctd\u003e110.2320\u003c/td\u003e\\n\",","       \"      \u003ctd\u003e0.1328\u003c/td\u003e\\n\",","       \"      \u003ctd\u003e1.0\u003c/td\u003e\\n\",","       \"      \u003ctd\u003e1.0\u003c/td\u003e\\n\",","       \"    \u003c/tr\u003e\\n\",","       \"    \u003ctr\u003e\\n\",","       \"      \u003cth\u003e2\u003c/th\u003e\\n\",","       \"      \u003ctd\u003eC100P61ThinF_IMG_20150918_144104_cell_144.png\u003c/td\u003e\\n\",","       \"      \u003ctd\u003e158.4128\u003c/td\u003e\\n\",","       \"      \u003ctd\u003e117.5648\u003c/td\u003e\\n\",","       \"      \u003ctd\u003e112.1712\u003c/td\u003e\\n\",","       \"      \u003ctd\u003e0.1344\u003c/td\u003e\\n\",","       \"      \u003ctd\u003e0.0\u003c/td\u003e\\n\",","       \"      \u003ctd\u003e0.0\u003c/td\u003e\\n\",","       \"    \u003c/tr\u003e\\n\",","       \"    \u003ctr\u003e\\n\",","       \"      \u003cth\u003e3\u003c/th\u003e\\n\",","       \"      \u003ctd\u003eC100P61ThinF_IMG_20150918_144104_cell_21.png\u003c/td\u003e\\n\",","       \"      \u003ctd\u003e158.5968\u003c/td\u003e\\n\",","       \"      \u003ctd\u003e118.3712\u003c/td\u003e\\n\",","       \"      \u003ctd\u003e114.6064\u003c/td\u003e\\n\",","       \"      \u003ctd\u003e0.1280\u003c/td\u003e\\n\",","       \"      \u003ctd\u003e0.0\u003c/td\u003e\\n\",","       \"      \u003ctd\u003e0.0\u003c/td\u003e\\n\",","       \"    \u003c/tr\u003e\\n\",","       \"    \u003ctr\u003e\\n\",","       \"      \u003cth\u003e4\u003c/th\u003e\\n\",","       \"      \u003ctd\u003eC100P61ThinF_IMG_20150918_144104_cell_34.png\u003c/td\u003e\\n\",","       \"      \u003ctd\u003e156.4768\u003c/td\u003e\\n\",","       \"      \u003ctd\u003e116.3568\u003c/td\u003e\\n\",","       \"      \u003ctd\u003e113.4704\u003c/td\u003e\\n\",","       \"      \u003ctd\u003e0.1376\u003c/td\u003e\\n\",","       \"      \u003ctd\u003e1.0\u003c/td\u003e\\n\",","       \"      \u003ctd\u003e2.0\u003c/td\u003e\\n\",","       \"    \u003c/tr\u003e\\n\",","       \"  \u003c/tbody\u003e\\n\",","       \"\u003c/table\u003e\\n\",","       \"\u003c/div\u003e\"","      ],","      \"text/plain\": [","       \"                                   ImageFileName  Red_Channel_Distribution   \\n\",","       \"0  C100P61ThinF_IMG_20150918_144104_cell_128.png                  146.5920  \\\\\\n\",","       \"1  C100P61ThinF_IMG_20150918_144104_cell_131.png                  155.7472   \\n\",","       \"2  C100P61ThinF_IMG_20150918_144104_cell_144.png                  158.4128   \\n\",","       \"3   C100P61ThinF_IMG_20150918_144104_cell_21.png                  158.5968   \\n\",","       \"4   C100P61ThinF_IMG_20150918_144104_cell_34.png                  156.4768   \\n\",","       \"\\n\",","       \"   Green_Channel_Distribution  Blue_Channel_Distribution   \\n\",","       \"0                    108.2592                   102.9936  \\\\\\n\",","       \"1                    115.0592                   110.2320   \\n\",","       \"2                    117.5648                   112.1712   \\n\",","       \"3                    118.3712                   114.6064   \\n\",","       \"4                    116.3568                   113.4704   \\n\",","       \"\\n\",","       \"   Uninfected_Edge_Density  Uninfected_MeanBlobSize  Uninfected_MaxBlobSize  \\n\",","       \"0                   0.1408                      1.0                     1.0  \\n\",","       \"1                   0.1328                      1.0                     1.0  \\n\",","       \"2                   0.1344                      0.0                     0.0  \\n\",","       \"3                   0.1280                      0.0                     0.0  \\n\",","       \"4                   0.1376                      1.0                     2.0  \"","      ]","     },","     \"execution_count\": 21,","     \"metadata\": {},","     \"output_type\": \"execute_result\"","    }","   ],","   \"source\": [","    \"# Show the first 5 rows of the dataset\\n\",","    \"train_eda_uninf_df.head()\"","   ]","  },","  {","   \"cell_type\": \"code\",","   \"execution_count\": 22,","   \"metadata\": {},","   \"outputs\": [],","   \"source\": [","    \"# creating a column in the dataframe for a column target of value 0 to uninfected dataset, uninfected = 0 \\n\",","    \"train_eda_uninf_df[\\\"Target\\\"]= 0 \"","   ]","  },","  {","   \"cell_type\": \"code\",","   \"execution_count\": 23,","   \"metadata\": {},","   \"outputs\": [],","   \"source\": [","    \"#Rename the column names to be universal\\n\",","    \"train_eda_uninf_df.rename(columns={\\n\",","    \"    'ImageFileName': 'ImageFileName',\\n\",","    \"    'Uninfected_Edge_Density': 'Edge_Density',\\n\",","    \"    'Uninfected_MeanBlobSize': 'MeanBlobSize',\\n\",","    \"    'Uninfected_MaxBlobSize': 'MaxBlobSize',\\n\",","    \"    'Red_Channel_Distribution': 'Red_Channel_Distribution',\\n\",","    \"    'Green_Channel_Distribution': 'Green_Channel_Distribution',\\n\",","    \"    'Blue_Channel_Distribution': 'Blue_Channel_Distribution',\\n\",","    \"    'Target': 'Target'\\n\",","    \"}, inplace=True)\"","   ]","  },","  {","   \"cell_type\": \"code\",","   \"execution_count\": 24,","   \"metadata\": {},","   \"outputs\": [","    {","     \"data\": {","      \"text/html\": [","       \"\u003cdiv\u003e\\n\",","       \"\u003cstyle scoped\u003e\\n\",","       \"    .dataframe tbody tr th:only-of-type {\\n\",","       \"        vertical-align: middle;\\n\",","       \"    }\\n\",","       \"\\n\",","       \"    .dataframe tbody tr th {\\n\",","       \"        vertical-align: top;\\n\",","       \"    }\\n\",","       \"\\n\",","       \"    .dataframe thead th {\\n\",","       \"        text-align: right;\\n\",","       \"    }\\n\",","       \"\u003c/style\u003e\\n\",","       \"\u003ctable border=\\\"1\\\" class=\\\"dataframe\\\"\u003e\\n\",","       \"  \u003cthead\u003e\\n\",","       \"    \u003ctr style=\\\"text-align: right;\\\"\u003e\\n\",","       \"      \u003cth\u003e\u003c/th\u003e\\n\",","       \"      \u003cth\u003eImageFileName\u003c/th\u003e\\n\",","       \"      \u003cth\u003eRed_Channel_Distribution\u003c/th\u003e\\n\",","       \"      \u003cth\u003eGreen_Channel_Distribution\u003c/th\u003e\\n\",","       \"      \u003cth\u003eBlue_Channel_Distribution\u003c/th\u003e\\n\",","       \"      \u003cth\u003eEdge_Density\u003c/th\u003e\\n\",","       \"      \u003cth\u003eMeanBlobSize\u003c/th\u003e\\n\",","       \"      \u003cth\u003eMaxBlobSize\u003c/th\u003e\\n\",","       \"      \u003cth\u003eTarget\u003c/th\u003e\\n\",","       \"    \u003c/tr\u003e\\n\",","       \"  \u003c/thead\u003e\\n\",","       \"  \u003ctbody\u003e\\n\",","       \"    \u003ctr\u003e\\n\",","       \"      \u003cth\u003e0\u003c/th\u003e\\n\",","       \"      \u003ctd\u003eC100P61ThinF_IMG_20150918_144104_cell_128.png\u003c/td\u003e\\n\",","       \"      \u003ctd\u003e146.5920\u003c/td\u003e\\n\",","       \"      \u003ctd\u003e108.2592\u003c/td\u003e\\n\",","       \"      \u003ctd\u003e102.9936\u003c/td\u003e\\n\",","       \"      \u003ctd\u003e0.1408\u003c/td\u003e\\n\",","       \"      \u003ctd\u003e1.0\u003c/td\u003e\\n\",","       \"      \u003ctd\u003e1.0\u003c/td\u003e\\n\",","       \"      \u003ctd\u003e0\u003c/td\u003e\\n\",","       \"    \u003c/tr\u003e\\n\",","       \"    \u003ctr\u003e\\n\",","       \"      \u003cth\u003e1\u003c/th\u003e\\n\",","       \"      \u003ctd\u003eC100P61ThinF_IMG_20150918_144104_cell_131.png\u003c/td\u003e\\n\",","       \"      \u003ctd\u003e155.7472\u003c/td\u003e\\n\",","       \"      \u003ctd\u003e115.0592\u003c/td\u003e\\n\",","       \"      \u003ctd\u003e110.2320\u003c/td\u003e\\n\",","       \"      \u003ctd\u003e0.1328\u003c/td\u003e\\n\",","       \"      \u003ctd\u003e1.0\u003c/td\u003e\\n\",","       \"      \u003ctd\u003e1.0\u003c/td\u003e\\n\",","       \"      \u003ctd\u003e0\u003c/td\u003e\\n\",","       \"    \u003c/tr\u003e\\n\",","       \"    \u003ctr\u003e\\n\",","       \"      \u003cth\u003e2\u003c/th\u003e\\n\",","       \"      \u003ctd\u003eC100P61ThinF_IMG_20150918_144104_cell_144.png\u003c/td\u003e\\n\",","       \"      \u003ctd\u003e158.4128\u003c/td\u003e\\n\",","       \"      \u003ctd\u003e117.5648\u003c/td\u003e\\n\",","       \"      \u003ctd\u003e112.1712\u003c/td\u003e\\n\",","       \"      \u003ctd\u003e0.1344\u003c/td\u003e\\n\",","       \"      \u003ctd\u003e0.0\u003c/td\u003e\\n\",","       \"      \u003ctd\u003e0.0\u003c/td\u003e\\n\",","       \"      \u003ctd\u003e0\u003c/td\u003e\\n\",","       \"    \u003c/tr\u003e\\n\",","       \"    \u003ctr\u003e\\n\",","       \"      \u003cth\u003e3\u003c/th\u003e\\n\",","       \"      \u003ctd\u003eC100P61ThinF_IMG_20150918_144104_cell_21.png\u003c/td\u003e\\n\",","       \"      \u003ctd\u003e158.5968\u003c/td\u003e\\n\",","       \"      \u003ctd\u003e118.3712\u003c/td\u003e\\n\",","       \"      \u003ctd\u003e114.6064\u003c/td\u003e\\n\",","       \"      \u003ctd\u003e0.1280\u003c/td\u003e\\n\",","       \"      \u003ctd\u003e0.0\u003c/td\u003e\\n\",","       \"      \u003ctd\u003e0.0\u003c/td\u003e\\n\",","       \"      \u003ctd\u003e0\u003c/td\u003e\\n\",","       \"    \u003c/tr\u003e\\n\",","       \"    \u003ctr\u003e\\n\",","       \"      \u003cth\u003e4\u003c/th\u003e\\n\",","       \"      \u003ctd\u003eC100P61ThinF_IMG_20150918_144104_cell_34.png\u003c/td\u003e\\n\",","       \"      \u003ctd\u003e156.4768\u003c/td\u003e\\n\",","       \"      \u003ctd\u003e116.3568\u003c/td\u003e\\n\",","       \"      \u003ctd\u003e113.4704\u003c/td\u003e\\n\",","       \"      \u003ctd\u003e0.1376\u003c/td\u003e\\n\",","       \"      \u003ctd\u003e1.0\u003c/td\u003e\\n\",","       \"      \u003ctd\u003e2.0\u003c/td\u003e\\n\",","       \"      \u003ctd\u003e0\u003c/td\u003e\\n\",","       \"    \u003c/tr\u003e\\n\",","       \"  \u003c/tbody\u003e\\n\",","       \"\u003c/table\u003e\\n\",","       \"\u003c/div\u003e\"","      ],","      \"text/plain\": [","       \"                                   ImageFileName  Red_Channel_Distribution   \\n\",","       \"0  C100P61ThinF_IMG_20150918_144104_cell_128.png                  146.5920  \\\\\\n\",","       \"1  C100P61ThinF_IMG_20150918_144104_cell_131.png                  155.7472   \\n\",","       \"2  C100P61ThinF_IMG_20150918_144104_cell_144.png                  158.4128   \\n\",","       \"3   C100P61ThinF_IMG_20150918_144104_cell_21.png                  158.5968   \\n\",","       \"4   C100P61ThinF_IMG_20150918_144104_cell_34.png                  156.4768   \\n\",","       \"\\n\",","       \"   Green_Channel_Distribution  Blue_Channel_Distribution  Edge_Density   \\n\",","       \"0                    108.2592                   102.9936        0.1408  \\\\\\n\",","       \"1                    115.0592                   110.2320        0.1328   \\n\",","       \"2                    117.5648                   112.1712        0.1344   \\n\",","       \"3                    118.3712                   114.6064        0.1280   \\n\",","       \"4                    116.3568                   113.4704        0.1376   \\n\",","       \"\\n\",","       \"   MeanBlobSize  MaxBlobSize  Target  \\n\",","       \"0           1.0          1.0       0  \\n\",","       \"1           1.0          1.0       0  \\n\",","       \"2           0.0          0.0       0  \\n\",","       \"3           0.0          0.0       0  \\n\",","       \"4           1.0          2.0       0  \"","      ]","     },","     \"execution_count\": 24,","     \"metadata\": {},","     \"output_type\": \"execute_result\"","    }","   ],","   \"source\": [","    \"#Check if the column names were renamed\\n\",","    \"train_eda_uninf_df.head()\"","   ]","  },","  {","   \"cell_type\": \"code\",","   \"execution_count\": 25,","   \"metadata\": {},","   \"outputs\": [","    {","     \"data\": {","      \"text/plain\": [","       \"1750\"","      ]","     },","     \"execution_count\": 25,","     \"metadata\": {},","     \"output_type\": \"execute_result\"","    }","   ],","   \"source\": [","    \"#checking length of the dataset\\n\",","    \"len(train_eda_uninf_df)\"","   ]","  },","  {","   \"cell_type\": \"code\",","   \"execution_count\": 26,","   \"metadata\": {},","   \"outputs\": [],","   \"source\": [","    \"# reading the training EDA data from the csv \\n\",","    \"train_eda_inf_df = pd.read_csv('Dataset','eda_train_infect.csv')\"","   ]","  },","  {","   \"cell_type\": \"code\",","   \"execution_count\": 27,","   \"metadata\": {},","   \"outputs\": [],","   \"source\": [","    \"# creating a column target of value 1 to uninfected dataset, infected = 1\\n\",","    \"train_eda_inf_df[\\\"Target\\\"]= 1\"","   ]","  },","  {","   \"cell_type\": \"code\",","   \"execution_count\": 28,","   \"metadata\": {},","   \"outputs\": [","    {","     \"data\": {","      \"text/html\": [","       \"\u003cdiv\u003e\\n\",","       \"\u003cstyle scoped\u003e\\n\",","       \"    .dataframe tbody tr th:only-of-type {\\n\",","       \"        vertical-align: middle;\\n\",","       \"    }\\n\",","       \"\\n\",","       \"    .dataframe tbody tr th {\\n\",","       \"        vertical-align: top;\\n\",","       \"    }\\n\",","       \"\\n\",","       \"    .dataframe thead th {\\n\",","       \"        text-align: right;\\n\",","       \"    }\\n\",","       \"\u003c/style\u003e\\n\",","       \"\u003ctable border=\\\"1\\\" class=\\\"dataframe\\\"\u003e\\n\",","       \"  \u003cthead\u003e\\n\",","       \"    \u003ctr style=\\\"text-align: right;\\\"\u003e\\n\",","       \"      \u003cth\u003e\u003c/th\u003e\\n\",","       \"      \u003cth\u003eImageFileName\u003c/th\u003e\\n\",","       \"      \u003cth\u003eRed_Channel_Distribution\u003c/th\u003e\\n\",","       \"      \u003cth\u003eGreen_Channel_Distribution\u003c/th\u003e\\n\",","       \"      \u003cth\u003eBlue_Channel_Distribution\u003c/th\u003e\\n\",","       \"      \u003cth\u003eInfected_Edge_Density\u003c/th\u003e\\n\",","       \"      \u003cth\u003eInfected_MeanBlobSize\u003c/th\u003e\\n\",","       \"      \u003cth\u003eInfected_MaxBlobSize\u003c/th\u003e\\n\",","       \"      \u003cth\u003eTarget\u003c/th\u003e\\n\",","       \"    \u003c/tr\u003e\\n\",","       \"  \u003c/thead\u003e\\n\",","       \"  \u003ctbody\u003e\\n\",","       \"    \u003ctr\u003e\\n\",","       \"      \u003cth\u003e0\u003c/th\u003e\\n\",","       \"      \u003ctd\u003eC100P61ThinF_IMG_20150918_144104_cell_162.png\u003c/td\u003e\\n\",","       \"      \u003ctd\u003e163.5904\u003c/td\u003e\\n\",","       \"      \u003ctd\u003e119.1104\u003c/td\u003e\\n\",","       \"      \u003ctd\u003e119.3664\u003c/td\u003e\\n\",","       \"      \u003ctd\u003e0.1744\u003c/td\u003e\\n\",","       \"      \u003ctd\u003e1.333333\u003c/td\u003e\\n\",","       \"      \u003ctd\u003e2.0\u003c/td\u003e\\n\",","       \"      \u003ctd\u003e1\u003c/td\u003e\\n\",","       \"    \u003c/tr\u003e\\n\",","       \"    \u003ctr\u003e\\n\",","       \"      \u003cth\u003e1\u003c/th\u003e\\n\",","       \"      \u003ctd\u003eC100P61ThinF_IMG_20150918_144104_cell_164.png\u003c/td\u003e\\n\",","       \"      \u003ctd\u003e164.2032\u003c/td\u003e\\n\",","       \"      \u003ctd\u003e119.9104\u003c/td\u003e\\n\",","       \"      \u003ctd\u003e116.0448\u003c/td\u003e\\n\",","       \"      \u003ctd\u003e0.1696\u003c/td\u003e\\n\",","       \"      \u003ctd\u003e0.000000\u003c/td\u003e\\n\",","       \"      \u003ctd\u003e0.0\u003c/td\u003e\\n\",","       \"      \u003ctd\u003e1\u003c/td\u003e\\n\",","       \"    \u003c/tr\u003e\\n\",","       \"    \u003ctr\u003e\\n\",","       \"      \u003cth\u003e2\u003c/th\u003e\\n\",","       \"      \u003ctd\u003eC100P61ThinF_IMG_20150918_144104_cell_165.png\u003c/td\u003e\\n\",","       \"      \u003ctd\u003e137.8736\u003c/td\u003e\\n\",","       \"      \u003ctd\u003e104.5488\u003c/td\u003e\\n\",","       \"      \u003ctd\u003e100.8528\u003c/td\u003e\\n\",","       \"      \u003ctd\u003e0.1680\u003c/td\u003e\\n\",","       \"      \u003ctd\u003e1.500000\u003c/td\u003e\\n\",","       \"      \u003ctd\u003e2.0\u003c/td\u003e\\n\",","       \"      \u003ctd\u003e1\u003c/td\u003e\\n\",","       \"    \u003c/tr\u003e\\n\",","       \"    \u003ctr\u003e\\n\",","       \"      \u003cth\u003e3\u003c/th\u003e\\n\",","       \"      \u003ctd\u003eC100P61ThinF_IMG_20150918_144104_cell_167.png\u003c/td\u003e\\n\",","       \"      \u003ctd\u003e149.5360\u003c/td\u003e\\n\",","       \"      \u003ctd\u003e110.4432\u003c/td\u003e\\n\",","       \"      \u003ctd\u003e105.2560\u003c/td\u003e\\n\",","       \"      \u003ctd\u003e0.1840\u003c/td\u003e\\n\",","       \"      \u003ctd\u003e1.333333\u003c/td\u003e\\n\",","       \"      \u003ctd\u003e2.0\u003c/td\u003e\\n\",","       \"      \u003ctd\u003e1\u003c/td\u003e\\n\",","       \"    \u003c/tr\u003e\\n\",","       \"    \u003ctr\u003e\\n\",","       \"      \u003cth\u003e4\u003c/th\u003e\\n\",","       \"      \u003ctd\u003eC100P61ThinF_IMG_20150918_144104_cell_168.png\u003c/td\u003e\\n\",","       \"      \u003ctd\u003e158.2176\u003c/td\u003e\\n\",","       \"      \u003ctd\u003e113.8064\u003c/td\u003e\\n\",","       \"      \u003ctd\u003e109.9968\u003c/td\u003e\\n\",","       \"      \u003ctd\u003e0.1696\u003c/td\u003e\\n\",","       \"      \u003ctd\u003e1.000000\u003c/td\u003e\\n\",","       \"      \u003ctd\u003e1.0\u003c/td\u003e\\n\",","       \"      \u003ctd\u003e1\u003c/td\u003e\\n\",","       \"    \u003c/tr\u003e\\n\",","       \"  \u003c/tbody\u003e\\n\",","       \"\u003c/table\u003e\\n\",","       \"\u003c/div\u003e\"","      ],","      \"text/plain\": [","       \"                                   ImageFileName  Red_Channel_Distribution   \\n\",","       \"0  C100P61ThinF_IMG_20150918_144104_cell_162.png                  163.5904  \\\\\\n\",","       \"1  C100P61ThinF_IMG_20150918_144104_cell_164.png                  164.2032   \\n\",","       \"2  C100P61ThinF_IMG_20150918_144104_cell_165.png                  137.8736   \\n\",","       \"3  C100P61ThinF_IMG_20150918_144104_cell_167.png                  149.5360   \\n\",","       \"4  C100P61ThinF_IMG_20150918_144104_cell_168.png                  158.2176   \\n\",","       \"\\n\",","       \"   Green_Channel_Distribution  Blue_Channel_Distribution   \\n\",","       \"0                    119.1104                   119.3664  \\\\\\n\",","       \"1                    119.9104                   116.0448   \\n\",","       \"2                    104.5488                   100.8528   \\n\",","       \"3                    110.4432                   105.2560   \\n\",","       \"4                    113.8064                   109.9968   \\n\",","       \"\\n\",","       \"   Infected_Edge_Density  Infected_MeanBlobSize  Infected_MaxBlobSize  Target  \\n\",","       \"0                 0.1744               1.333333                   2.0       1  \\n\",","       \"1                 0.1696               0.000000                   0.0       1  \\n\",","       \"2                 0.1680               1.500000                   2.0       1  \\n\",","       \"3                 0.1840               1.333333                   2.0       1  \\n\",","       \"4                 0.1696               1.000000                   1.0       1  \"","      ]","     },","     \"execution_count\": 28,","     \"metadata\": {},","     \"output_type\": \"execute_result\"","    }","   ],","   \"source\": [","    \"#Check the infected training dataset with the added column\\n\",","    \"train_eda_inf_df.head()\"","   ]","  },","  {","   \"cell_type\": \"code\",","   \"execution_count\": 29,","   \"metadata\": {},","   \"outputs\": [],","   \"source\": [","    \"#Rename the column names to be universal\\n\",","    \"train_eda_inf_df.rename(columns={\\n\",","    \"    'ImageFileName': 'ImageFileName',\\n\",","    \"    'Infected_Edge_Density': 'Edge_Density',\\n\",","    \"    'Infected_MeanBlobSize': 'MeanBlobSize',\\n\",","    \"    'Infected_MaxBlobSize': 'MaxBlobSize',\\n\",","    \"    'Red_Channel_Distribution': 'Red_Channel_Distribution',\\n\",","    \"    'Green_Channel_Distribution': 'Green_Channel_Distribution',\\n\",","    \"    'Blue_Channel_Distribution': 'Blue_Channel_Distribution',\\n\",","    \"    'Target': 'Target'\\n\",","    \"}, inplace=True)\"","   ]","  },","  {","   \"cell_type\": \"code\",","   \"execution_count\": 34,","   \"metadata\": {},","   \"outputs\": [],","   \"source\": [","    \"# Define the path to the folder containing your images\\n\",","    \"folder_path = os.path.join('Dataset', 'clean', 'train', 'infected_processed')\\n\",","    \"\\n\",","    \"# List all image files in the folder\\n\",","    \"image_files = [f for f in os.listdir(folder_path) if f.endswith('.png')]  # Adjust the file extension as needed\\n\",","    \"\\n\",","    \"# Initialize empty lists to store image pixel data for different rotations and unrotated images\\n\",","    \"left_rotated_pixels_list = []\\n\",","    \"right_rotated_pixels_list = []\\n\",","    \"rotated_180_pixels_list = []\\n\",","    \"original_pixels_list = []\\n\",","    \"\\n\",","    \"# Iterate through each image file\\n\",","    \"for image_file in image_files:\\n\",","    \"    # Open the image using PIL\\n\",","    \"    image = Image.open(os.path.join(folder_path, image_file))\\n\",","    \"\\n\",","    \"    # Rotate the image 90 degrees to the left (counter-clockwise)\\n\",","    \"    left_rotated_image = image.rotate(90, expand=True)\\n\",","    \"\\n\",","    \"    # Rotate the image 90 degrees to the right (clockwise)\\n\",","    \"    right_rotated_image = image.rotate(-90, expand=True)\\n\",","    \"\\n\",","    \"    # Rotate the image 180 degrees\\n\",","    \"    rotated_180_image = image.rotate(180, expand=True)\\n\",","    \"\\n\",","    \"    # Convert the rotated images to NumPy arrays\\n\",","    \"    left_rotated_array = np.array(left_rotated_image)\\n\",","    \"    right_rotated_array = np.array(right_rotated_image)\\n\",","    \"    rotated_180_array = np.array(rotated_180_image)\\n\",","    \"\\n\",","    \"    # Flatten the arrays to 1D arrays (lists of pixel values)\\n\",","    \"    left_rotated_pixels = left_rotated_array.flatten()\\n\",","    \"    right_rotated_pixels = right_rotated_array.flatten()\\n\",","    \"    rotated_180_pixels = rotated_180_array.flatten()\\n\",","    \"\\n\",","    \"    # Convert the original image to a NumPy array and flatten it\\n\",","    \"    original_array = np.array(image)\\n\",","    \"    original_pixels = original_array.flatten()\\n\",","    \"\\n\",","    \"    # Append the pixel values to the respective lists\\n\",","    \"    left_rotated_pixels_list.append(left_rotated_pixels)\\n\",","    \"    right_rotated_pixels_list.append(right_rotated_pixels)\\n\",","    \"    rotated_180_pixels_list.append(rotated_180_pixels)\\n\",","    \"    original_pixels_list.append(original_pixels)\\n\",","    \"\\n\",","    \"# Create DataFrames for left, right, 180-degree rotated, and original images\\n\",","    \"left_rotated_df = pd.DataFrame(left_rotated_pixels_list)\\n\",","    \"right_rotated_df = pd.DataFrame(right_rotated_pixels_list)\\n\",","    \"rotated_180_df = pd.DataFrame(rotated_180_pixels_list)\\n\",","    \"original_df = pd.DataFrame(original_pixels_list)\\n\",","    \"\\n\",","    \"# merging the various dataframes \\n\",","    \"train_inf_pixel = pd.concat([original_df,left_rotated_df,right_rotated_df,rotated_180_df],axis=0)\"","   ]","  },","  {","   \"cell_type\": \"code\",","   \"execution_count\": 35,","   \"metadata\": {},","   \"outputs\": [","    {","     \"data\": {","      \"text/html\": [","       \"\u003cdiv\u003e\\n\",","       \"\u003cstyle scoped\u003e\\n\",","       \"    .dataframe tbody tr th:only-of-type {\\n\",","       \"        vertical-align: middle;\\n\",","       \"    }\\n\",","       \"\\n\",","       \"    .dataframe tbody tr th {\\n\",","       \"        vertical-align: top;\\n\",","       \"    }\\n\",","       \"\\n\",","       \"    .dataframe thead th {\\n\",","       \"        text-align: right;\\n\",","       \"    }\\n\",","       \"\u003c/style\u003e\\n\",","       \"\u003ctable border=\\\"1\\\" class=\\\"dataframe\\\"\u003e\\n\",","       \"  \u003cthead\u003e\\n\",","       \"    \u003ctr style=\\\"text-align: right;\\\"\u003e\\n\",","       \"      \u003cth\u003e\u003c/th\u003e\\n\",","       \"      \u003cth\u003e0\u003c/th\u003e\\n\",","       \"      \u003cth\u003e1\u003c/th\u003e\\n\",","       \"      \u003cth\u003e2\u003c/th\u003e\\n\",","       \"      \u003cth\u003e3\u003c/th\u003e\\n\",","       \"      \u003cth\u003e4\u003c/th\u003e\\n\",","       \"      \u003cth\u003e5\u003c/th\u003e\\n\",","       \"      \u003cth\u003e6\u003c/th\u003e\\n\",","       \"      \u003cth\u003e7\u003c/th\u003e\\n\",","       \"      \u003cth\u003e8\u003c/th\u003e\\n\",","       \"      \u003cth\u003e9\u003c/th\u003e\\n\",","       \"      \u003cth\u003e...\u003c/th\u003e\\n\",","       \"      \u003cth\u003e1865\u003c/th\u003e\\n\",","       \"      \u003cth\u003e1866\u003c/th\u003e\\n\",","       \"      \u003cth\u003e1867\u003c/th\u003e\\n\",","       \"      \u003cth\u003e1868\u003c/th\u003e\\n\",","       \"      \u003cth\u003e1869\u003c/th\u003e\\n\",","       \"      \u003cth\u003e1870\u003c/th\u003e\\n\",","       \"      \u003cth\u003e1871\u003c/th\u003e\\n\",","       \"      \u003cth\u003e1872\u003c/th\u003e\\n\",","       \"      \u003cth\u003e1873\u003c/th\u003e\\n\",","       \"      \u003cth\u003e1874\u003c/th\u003e\\n\",","       \"    \u003c/tr\u003e\\n\",","       \"  \u003c/thead\u003e\\n\",","       \"  \u003ctbody\u003e\\n\",","       \"    \u003ctr\u003e\\n\",","       \"      \u003cth\u003e0\u003c/th\u003e\\n\",","       \"      \u003ctd\u003e0\u003c/td\u003e\\n\",","       \"      \u003ctd\u003e0\u003c/td\u003e\\n\",","       \"      \u003ctd\u003e0\u003c/td\u003e\\n\",","       \"      \u003ctd\u003e0\u003c/td\u003e\\n\",","       \"      \u003ctd\u003e0\u003c/td\u003e\\n\",","       \"      \u003ctd\u003e0\u003c/td\u003e\\n\",","       \"      \u003ctd\u003e0\u003c/td\u003e\\n\",","       \"      \u003ctd\u003e0\u003c/td\u003e\\n\",","       \"      \u003ctd\u003e0\u003c/td\u003e\\n\",","       \"      \u003ctd\u003e0\u003c/td\u003e\\n\",","       \"      \u003ctd\u003e...\u003c/td\u003e\\n\",","       \"      \u003ctd\u003e0\u003c/td\u003e\\n\",","       \"      \u003ctd\u003e0\u003c/td\u003e\\n\",","       \"      \u003ctd\u003e0\u003c/td\u003e\\n\",","       \"      \u003ctd\u003e0\u003c/td\u003e\\n\",","       \"      \u003ctd\u003e0\u003c/td\u003e\\n\",","       \"      \u003ctd\u003e0\u003c/td\u003e\\n\",","       \"      \u003ctd\u003e0\u003c/td\u003e\\n\",","       \"      \u003ctd\u003e0\u003c/td\u003e\\n\",","       \"      \u003ctd\u003e0\u003c/td\u003e\\n\",","       \"      \u003ctd\u003e0\u003c/td\u003e\\n\",","       \"    \u003c/tr\u003e\\n\",","       \"    \u003ctr\u003e\\n\",","       \"      \u003cth\u003e1\u003c/th\u003e\\n\",","       \"      \u003ctd\u003e0\u003c/td\u003e\\n\",","       \"      \u003ctd\u003e0\u003c/td\u003e\\n\",","       \"      \u003ctd\u003e0\u003c/td\u003e\\n\",","       \"      \u003ctd\u003e0\u003c/td\u003e\\n\",","       \"      \u003ctd\u003e0\u003c/td\u003e\\n\",","       \"      \u003ctd\u003e0\u003c/td\u003e\\n\",","       \"      \u003ctd\u003e0\u003c/td\u003e\\n\",","       \"      \u003ctd\u003e0\u003c/td\u003e\\n\",","       \"      \u003ctd\u003e0\u003c/td\u003e\\n\",","       \"      \u003ctd\u003e0\u003c/td\u003e\\n\",","       \"      \u003ctd\u003e...\u003c/td\u003e\\n\",","       \"      \u003ctd\u003e0\u003c/td\u003e\\n\",","       \"      \u003ctd\u003e0\u003c/td\u003e\\n\",","       \"      \u003ctd\u003e0\u003c/td\u003e\\n\",","       \"      \u003ctd\u003e0\u003c/td\u003e\\n\",","       \"      \u003ctd\u003e0\u003c/td\u003e\\n\",","       \"      \u003ctd\u003e0\u003c/td\u003e\\n\",","       \"      \u003ctd\u003e0\u003c/td\u003e\\n\",","       \"      \u003ctd\u003e0\u003c/td\u003e\\n\",","       \"      \u003ctd\u003e0\u003c/td\u003e\\n\",","       \"      \u003ctd\u003e0\u003c/td\u003e\\n\",","       \"    \u003c/tr\u003e\\n\",","       \"    \u003ctr\u003e\\n\",","       \"      \u003cth\u003e2\u003c/th\u003e\\n\",","       \"      \u003ctd\u003e0\u003c/td\u003e\\n\",","       \"      \u003ctd\u003e0\u003c/td\u003e\\n\",","       \"      \u003ctd\u003e0\u003c/td\u003e\\n\",","       \"      \u003ctd\u003e0\u003c/td\u003e\\n\",","       \"      \u003ctd\u003e0\u003c/td\u003e\\n\",","       \"      \u003ctd\u003e0\u003c/td\u003e\\n\",","       \"      \u003ctd\u003e0\u003c/td\u003e\\n\",","       \"      \u003ctd\u003e0\u003c/td\u003e\\n\",","       \"      \u003ctd\u003e0\u003c/td\u003e\\n\",","       \"      \u003ctd\u003e0\u003c/td\u003e\\n\",","       \"      \u003ctd\u003e...\u003c/td\u003e\\n\",","       \"      \u003ctd\u003e0\u003c/td\u003e\\n\",","       \"      \u003ctd\u003e0\u003c/td\u003e\\n\",","       \"      \u003ctd\u003e0\u003c/td\u003e\\n\",","       \"      \u003ctd\u003e0\u003c/td\u003e\\n\",","       \"      \u003ctd\u003e0\u003c/td\u003e\\n\",","       \"      \u003ctd\u003e0\u003c/td\u003e\\n\",","       \"      \u003ctd\u003e0\u003c/td\u003e\\n\",","       \"      \u003ctd\u003e0\u003c/td\u003e\\n\",","       \"      \u003ctd\u003e0\u003c/td\u003e\\n\",","       \"      \u003ctd\u003e0\u003c/td\u003e\\n\",","       \"    \u003c/tr\u003e\\n\",","       \"    \u003ctr\u003e\\n\",","       \"      \u003cth\u003e3\u003c/th\u003e\\n\",","       \"      \u003ctd\u003e0\u003c/td\u003e\\n\",","       \"      \u003ctd\u003e0\u003c/td\u003e\\n\",","       \"      \u003ctd\u003e0\u003c/td\u003e\\n\",","       \"      \u003ctd\u003e0\u003c/td\u003e\\n\",","       \"      \u003ctd\u003e0\u003c/td\u003e\\n\",","       \"      \u003ctd\u003e0\u003c/td\u003e\\n\",","       \"      \u003ctd\u003e0\u003c/td\u003e\\n\",","       \"      \u003ctd\u003e0\u003c/td\u003e\\n\",","       \"      \u003ctd\u003e0\u003c/td\u003e\\n\",","       \"      \u003ctd\u003e0\u003c/td\u003e\\n\",","       \"      \u003ctd\u003e...\u003c/td\u003e\\n\",","       \"      \u003ctd\u003e0\u003c/td\u003e\\n\",","       \"      \u003ctd\u003e0\u003c/td\u003e\\n\",","       \"      \u003ctd\u003e0\u003c/td\u003e\\n\",","       \"      \u003ctd\u003e0\u003c/td\u003e\\n\",","       \"      \u003ctd\u003e0\u003c/td\u003e\\n\",","       \"      \u003ctd\u003e0\u003c/td\u003e\\n\",","       \"      \u003ctd\u003e0\u003c/td\u003e\\n\",","       \"      \u003ctd\u003e0\u003c/td\u003e\\n\",","       \"      \u003ctd\u003e0\u003c/td\u003e\\n\",","       \"      \u003ctd\u003e0\u003c/td\u003e\\n\",","       \"    \u003c/tr\u003e\\n\",","       \"    \u003ctr\u003e\\n\",","       \"      \u003cth\u003e4\u003c/th\u003e\\n\",","       \"      \u003ctd\u003e0\u003c/td\u003e\\n\",","       \"      \u003ctd\u003e0\u003c/td\u003e\\n\",","       \"      \u003ctd\u003e0\u003c/td\u003e\\n\",","       \"      \u003ctd\u003e0\u003c/td\u003e\\n\",","       \"      \u003ctd\u003e0\u003c/td\u003e\\n\",","       \"      \u003ctd\u003e0\u003c/td\u003e\\n\",","       \"      \u003ctd\u003e0\u003c/td\u003e\\n\",","       \"      \u003ctd\u003e0\u003c/td\u003e\\n\",","       \"      \u003ctd\u003e0\u003c/td\u003e\\n\",","       \"      \u003ctd\u003e0\u003c/td\u003e\\n\",","       \"      \u003ctd\u003e...\u003c/td\u003e\\n\",","       \"      \u003ctd\u003e0\u003c/td\u003e\\n\",","       \"      \u003ctd\u003e0\u003c/td\u003e\\n\",","       \"      \u003ctd\u003e0\u003c/td\u003e\\n\",","       \"      \u003ctd\u003e0\u003c/td\u003e\\n\",","       \"      \u003ctd\u003e0\u003c/td\u003e\\n\",","       \"      \u003ctd\u003e0\u003c/td\u003e\\n\",","       \"      \u003ctd\u003e0\u003c/td\u003e\\n\",","       \"      \u003ctd\u003e0\u003c/td\u003e\\n\",","       \"      \u003ctd\u003e0\u003c/td\u003e\\n\",","       \"      \u003ctd\u003e0\u003c/td\u003e\\n\",","       \"    \u003c/tr\u003e\\n\",","       \"  \u003c/tbody\u003e\\n\",","       \"\u003c/table\u003e\\n\",","       \"\u003cp\u003e5 rows × 1875 columns\u003c/p\u003e\\n\",","       \"\u003c/div\u003e\"","      ],","      \"text/plain\": [","       \"   0     1     2     3     4     5     6     7     8     9     ...  1865   \\n\",","       \"0     0     0     0     0     0     0     0     0     0     0  ...     0  \\\\\\n\",","       \"1     0     0     0     0     0     0     0     0     0     0  ...     0   \\n\",","       \"2     0     0     0     0     0     0     0     0     0     0  ...     0   \\n\",","       \"3     0     0     0     0     0     0     0     0     0     0  ...     0   \\n\",","       \"4     0     0     0     0     0     0     0     0     0     0  ...     0   \\n\",","       \"\\n\",","       \"   1866  1867  1868  1869  1870  1871  1872  1873  1874  \\n\",","       \"0     0     0     0     0     0     0     0     0     0  \\n\",","       \"1     0     0     0     0     0     0     0     0     0  \\n\",","       \"2     0     0     0     0     0     0     0     0     0  \\n\",","       \"3     0     0     0     0     0     0     0     0     0  \\n\",","       \"4     0     0     0     0     0     0     0     0     0  \\n\",","       \"\\n\",","       \"[5 rows x 1875 columns]\"","      ]","     },","     \"execution_count\": 35,","     \"metadata\": {},","     \"output_type\": \"execute_result\"","    }","   ],","   \"source\": [","    \"#Check the dataframe of the merged rotated images dataframes\\n\",","    \"train_inf_pixel.head()\"","   ]","  },","  {","   \"cell_type\": \"code\",","   \"execution_count\": 36,","   \"metadata\": {},","   \"outputs\": [","    {","     \"data\": {","      \"text/plain\": [","       \"7000\"","      ]","     },","     \"execution_count\": 36,","     \"metadata\": {},","     \"output_type\": \"execute_result\"","    }","   ],","   \"source\": [","    \"#Check the length of trained dataframe\\n\",","    \"len(train_inf_pixel)\"","   ]","  },","  {","   \"cell_type\": \"code\",","   \"execution_count\": 37,","   \"metadata\": {},","   \"outputs\": [],","   \"source\": [","    \"# Normalize the data in the training infected pixel database \\n\",","    \"train_inf_pixel = train_inf_pixel/255\\n\",","    \"\\n\",","    \"# Engineering a column named 'Target' in the infected training dataframe and assigning the value 1\\n\",","    \"train_inf_pixel['Target']= 1\"","   ]","  },","  {","   \"cell_type\": \"code\",","   \"execution_count\": 38,","   \"metadata\": {},","   \"outputs\": [","    {","     \"data\": {","      \"text/html\": [","       \"\u003cdiv\u003e\\n\",","       \"\u003cstyle scoped\u003e\\n\",","       \"    .dataframe tbody tr th:only-of-type {\\n\",","       \"        vertical-align: middle;\\n\",","       \"    }\\n\",","       \"\\n\",","       \"    .dataframe tbody tr th {\\n\",","       \"        vertical-align: top;\\n\",","       \"    }\\n\",","       \"\\n\",","       \"    .dataframe thead th {\\n\",","       \"        text-align: right;\\n\",","       \"    }\\n\",","       \"\u003c/style\u003e\\n\",","       \"\u003ctable border=\\\"1\\\" class=\\\"dataframe\\\"\u003e\\n\",","       \"  \u003cthead\u003e\\n\",","       \"    \u003ctr style=\\\"text-align: right;\\\"\u003e\\n\",","       \"      \u003cth\u003e\u003c/th\u003e\\n\",","       \"      \u003cth\u003e0\u003c/th\u003e\\n\",","       \"      \u003cth\u003e1\u003c/th\u003e\\n\",","       \"      \u003cth\u003e2\u003c/th\u003e\\n\",","       \"      \u003cth\u003e3\u003c/th\u003e\\n\",","       \"      \u003cth\u003e4\u003c/th\u003e\\n\",","       \"      \u003cth\u003e5\u003c/th\u003e\\n\",","       \"      \u003cth\u003e6\u003c/th\u003e\\n\",","       \"      \u003cth\u003e7\u003c/th\u003e\\n\",","       \"      \u003cth\u003e8\u003c/th\u003e\\n\",","       \"      \u003cth\u003e9\u003c/th\u003e\\n\",","       \"      \u003cth\u003e...\u003c/th\u003e\\n\",","       \"      \u003cth\u003e1866\u003c/th\u003e\\n\",","       \"      \u003cth\u003e1867\u003c/th\u003e\\n\",","       \"      \u003cth\u003e1868\u003c/th\u003e\\n\",","       \"      \u003cth\u003e1869\u003c/th\u003e\\n\",","       \"      \u003cth\u003e1870\u003c/th\u003e\\n\",","       \"      \u003cth\u003e1871\u003c/th\u003e\\n\",","       \"      \u003cth\u003e1872\u003c/th\u003e\\n\",","       \"      \u003cth\u003e1873\u003c/th\u003e\\n\",","       \"      \u003cth\u003e1874\u003c/th\u003e\\n\",","       \"      \u003cth\u003eTarget\u003c/th\u003e\\n\",","       \"    \u003c/tr\u003e\\n\",","       \"  \u003c/thead\u003e\\n\",","       \"  \u003ctbody\u003e\\n\",","       \"    \u003ctr\u003e\\n\",","       \"      \u003cth\u003e0\u003c/th\u003e\\n\",","       \"      \u003ctd\u003e0.0\u003c/td\u003e\\n\",","       \"      \u003ctd\u003e0.0\u003c/td\u003e\\n\",","       \"      \u003ctd\u003e0.0\u003c/td\u003e\\n\",","       \"      \u003ctd\u003e0.0\u003c/td\u003e\\n\",","       \"      \u003ctd\u003e0.0\u003c/td\u003e\\n\",","       \"      \u003ctd\u003e0.0\u003c/td\u003e\\n\",","       \"      \u003ctd\u003e0.0\u003c/td\u003e\\n\",","       \"      \u003ctd\u003e0.0\u003c/td\u003e\\n\",","       \"      \u003ctd\u003e0.0\u003c/td\u003e\\n\",","       \"      \u003ctd\u003e0.0\u003c/td\u003e\\n\",","       \"      \u003ctd\u003e...\u003c/td\u003e\\n\",","       \"      \u003ctd\u003e0.0\u003c/td\u003e\\n\",","       \"      \u003ctd\u003e0.0\u003c/td\u003e\\n\",","       \"      \u003ctd\u003e0.0\u003c/td\u003e\\n\",","       \"      \u003ctd\u003e0.0\u003c/td\u003e\\n\",","       \"      \u003ctd\u003e0.0\u003c/td\u003e\\n\",","       \"      \u003ctd\u003e0.0\u003c/td\u003e\\n\",","       \"      \u003ctd\u003e0.0\u003c/td\u003e\\n\",","       \"      \u003ctd\u003e0.0\u003c/td\u003e\\n\",","       \"      \u003ctd\u003e0.0\u003c/td\u003e\\n\",","       \"      \u003ctd\u003e1\u003c/td\u003e\\n\",","       \"    \u003c/tr\u003e\\n\",","       \"    \u003ctr\u003e\\n\",","       \"      \u003cth\u003e1\u003c/th\u003e\\n\",","       \"      \u003ctd\u003e0.0\u003c/td\u003e\\n\",","       \"      \u003ctd\u003e0.0\u003c/td\u003e\\n\",","       \"      \u003ctd\u003e0.0\u003c/td\u003e\\n\",","       \"      \u003ctd\u003e0.0\u003c/td\u003e\\n\",","       \"      \u003ctd\u003e0.0\u003c/td\u003e\\n\",","       \"      \u003ctd\u003e0.0\u003c/td\u003e\\n\",","       \"      \u003ctd\u003e0.0\u003c/td\u003e\\n\",","       \"      \u003ctd\u003e0.0\u003c/td\u003e\\n\",","       \"      \u003ctd\u003e0.0\u003c/td\u003e\\n\",","       \"      \u003ctd\u003e0.0\u003c/td\u003e\\n\",","       \"      \u003ctd\u003e...\u003c/td\u003e\\n\",","       \"      \u003ctd\u003e0.0\u003c/td\u003e\\n\",","       \"      \u003ctd\u003e0.0\u003c/td\u003e\\n\",","       \"      \u003ctd\u003e0.0\u003c/td\u003e\\n\",","       \"      \u003ctd\u003e0.0\u003c/td\u003e\\n\",","       \"      \u003ctd\u003e0.0\u003c/td\u003e\\n\",","       \"      \u003ctd\u003e0.0\u003c/td\u003e\\n\",","       \"      \u003ctd\u003e0.0\u003c/td\u003e\\n\",","       \"      \u003ctd\u003e0.0\u003c/td\u003e\\n\",","       \"      \u003ctd\u003e0.0\u003c/td\u003e\\n\",","       \"      \u003ctd\u003e1\u003c/td\u003e\\n\",","       \"    \u003c/tr\u003e\\n\",","       \"    \u003ctr\u003e\\n\",","       \"      \u003cth\u003e2\u003c/th\u003e\\n\",","       \"      \u003ctd\u003e0.0\u003c/td\u003e\\n\",","       \"      \u003ctd\u003e0.0\u003c/td\u003e\\n\",","       \"      \u003ctd\u003e0.0\u003c/td\u003e\\n\",","       \"      \u003ctd\u003e0.0\u003c/td\u003e\\n\",","       \"      \u003ctd\u003e0.0\u003c/td\u003e\\n\",","       \"      \u003ctd\u003e0.0\u003c/td\u003e\\n\",","       \"      \u003ctd\u003e0.0\u003c/td\u003e\\n\",","       \"      \u003ctd\u003e0.0\u003c/td\u003e\\n\",","       \"      \u003ctd\u003e0.0\u003c/td\u003e\\n\",","       \"      \u003ctd\u003e0.0\u003c/td\u003e\\n\",","       \"      \u003ctd\u003e...\u003c/td\u003e\\n\",","       \"      \u003ctd\u003e0.0\u003c/td\u003e\\n\",","       \"      \u003ctd\u003e0.0\u003c/td\u003e\\n\",","       \"      \u003ctd\u003e0.0\u003c/td\u003e\\n\",","       \"      \u003ctd\u003e0.0\u003c/td\u003e\\n\",","       \"      \u003ctd\u003e0.0\u003c/td\u003e\\n\",","       \"      \u003ctd\u003e0.0\u003c/td\u003e\\n\",","       \"      \u003ctd\u003e0.0\u003c/td\u003e\\n\",","       \"      \u003ctd\u003e0.0\u003c/td\u003e\\n\",","       \"      \u003ctd\u003e0.0\u003c/td\u003e\\n\",","       \"      \u003ctd\u003e1\u003c/td\u003e\\n\",","       \"    \u003c/tr\u003e\\n\",","       \"    \u003ctr\u003e\\n\",","       \"      \u003cth\u003e3\u003c/th\u003e\\n\",","       \"      \u003ctd\u003e0.0\u003c/td\u003e\\n\",","       \"      \u003ctd\u003e0.0\u003c/td\u003e\\n\",","       \"      \u003ctd\u003e0.0\u003c/td\u003e\\n\",","       \"      \u003ctd\u003e0.0\u003c/td\u003e\\n\",","       \"      \u003ctd\u003e0.0\u003c/td\u003e\\n\",","       \"      \u003ctd\u003e0.0\u003c/td\u003e\\n\",","       \"      \u003ctd\u003e0.0\u003c/td\u003e\\n\",","       \"      \u003ctd\u003e0.0\u003c/td\u003e\\n\",","       \"      \u003ctd\u003e0.0\u003c/td\u003e\\n\",","       \"      \u003ctd\u003e0.0\u003c/td\u003e\\n\",","       \"      \u003ctd\u003e...\u003c/td\u003e\\n\",","       \"      \u003ctd\u003e0.0\u003c/td\u003e\\n\",","       \"      \u003ctd\u003e0.0\u003c/td\u003e\\n\",","       \"      \u003ctd\u003e0.0\u003c/td\u003e\\n\",","       \"      \u003ctd\u003e0.0\u003c/td\u003e\\n\",","       \"      \u003ctd\u003e0.0\u003c/td\u003e\\n\",","       \"      \u003ctd\u003e0.0\u003c/td\u003e\\n\",","       \"      \u003ctd\u003e0.0\u003c/td\u003e\\n\",","       \"      \u003ctd\u003e0.0\u003c/td\u003e\\n\",","       \"      \u003ctd\u003e0.0\u003c/td\u003e\\n\",","       \"      \u003ctd\u003e1\u003c/td\u003e\\n\",","       \"    \u003c/tr\u003e\\n\",","       \"    \u003ctr\u003e\\n\",","       \"      \u003cth\u003e4\u003c/th\u003e\\n\",","       \"      \u003ctd\u003e0.0\u003c/td\u003e\\n\",","       \"      \u003ctd\u003e0.0\u003c/td\u003e\\n\",","       \"      \u003ctd\u003e0.0\u003c/td\u003e\\n\",","       \"      \u003ctd\u003e0.0\u003c/td\u003e\\n\",","       \"      \u003ctd\u003e0.0\u003c/td\u003e\\n\",","       \"      \u003ctd\u003e0.0\u003c/td\u003e\\n\",","       \"      \u003ctd\u003e0.0\u003c/td\u003e\\n\",","       \"      \u003ctd\u003e0.0\u003c/td\u003e\\n\",","       \"      \u003ctd\u003e0.0\u003c/td\u003e\\n\",","       \"      \u003ctd\u003e0.0\u003c/td\u003e\\n\",","       \"      \u003ctd\u003e...\u003c/td\u003e\\n\",","       \"      \u003ctd\u003e0.0\u003c/td\u003e\\n\",","       \"      \u003ctd\u003e0.0\u003c/td\u003e\\n\",","       \"      \u003ctd\u003e0.0\u003c/td\u003e\\n\",","       \"      \u003ctd\u003e0.0\u003c/td\u003e\\n\",","       \"      \u003ctd\u003e0.0\u003c/td\u003e\\n\",","       \"      \u003ctd\u003e0.0\u003c/td\u003e\\n\",","       \"      \u003ctd\u003e0.0\u003c/td\u003e\\n\",","       \"      \u003ctd\u003e0.0\u003c/td\u003e\\n\",","       \"      \u003ctd\u003e0.0\u003c/td\u003e\\n\",","       \"      \u003ctd\u003e1\u003c/td\u003e\\n\",","       \"    \u003c/tr\u003e\\n\",","       \"  \u003c/tbody\u003e\\n\",","       \"\u003c/table\u003e\\n\",","       \"\u003cp\u003e5 rows × 1876 columns\u003c/p\u003e\\n\",","       \"\u003c/div\u003e\"","      ],","      \"text/plain\": [","       \"     0    1    2    3    4    5    6    7    8    9  ...  1866  1867  1868   \\n\",","       \"0  0.0  0.0  0.0  0.0  0.0  0.0  0.0  0.0  0.0  0.0  ...   0.0   0.0   0.0  \\\\\\n\",","       \"1  0.0  0.0  0.0  0.0  0.0  0.0  0.0  0.0  0.0  0.0  ...   0.0   0.0   0.0   \\n\",","       \"2  0.0  0.0  0.0  0.0  0.0  0.0  0.0  0.0  0.0  0.0  ...   0.0   0.0   0.0   \\n\",","       \"3  0.0  0.0  0.0  0.0  0.0  0.0  0.0  0.0  0.0  0.0  ...   0.0   0.0   0.0   \\n\",","       \"4  0.0  0.0  0.0  0.0  0.0  0.0  0.0  0.0  0.0  0.0  ...   0.0   0.0   0.0   \\n\",","       \"\\n\",","       \"   1869  1870  1871  1872  1873  1874  Target  \\n\",","       \"0   0.0   0.0   0.0   0.0   0.0   0.0       1  \\n\",","       \"1   0.0   0.0   0.0   0.0   0.0   0.0       1  \\n\",","       \"2   0.0   0.0   0.0   0.0   0.0   0.0       1  \\n\",","       \"3   0.0   0.0   0.0   0.0   0.0   0.0       1  \\n\",","       \"4   0.0   0.0   0.0   0.0   0.0   0.0       1  \\n\",","       \"\\n\",","       \"[5 rows x 1876 columns]\"","      ]","     },","     \"execution_count\": 38,","     \"metadata\": {},","     \"output_type\": \"execute_result\"","    }","   ],","   \"source\": [","    \"#Check the dataframe \\n\",","    \"train_inf_pixel.head()\"","   ]","  },","  {","   \"cell_type\": \"code\",","   \"execution_count\": 39,","   \"metadata\": {},","   \"outputs\": [],","   \"source\": [","    \"# Define the path to the folder containing your images\\n\",","    \"folder_path = os.path.join('Dataset', 'clean', 'train', 'uninfected_processed')\\n\",","    \"\\n\",","    \"# List all image files in the folder\\n\",","    \"image_files = [f for f in os.listdir(folder_path) if f.endswith('.png')]  # Adjust the file extension as needed\\n\",","    \"\\n\",","    \"# Initialize empty lists to store image pixel data for different rotations and unrotated images\\n\",","    \"left_rotated_pixels_list = []\\n\",","    \"right_rotated_pixels_list = []\\n\",","    \"rotated_180_pixels_list = []\\n\",","    \"original_pixels_list = []\\n\",","    \"\\n\",","    \"# Iterate through each image file\\n\",","    \"for image_file in image_files:\\n\",","    \"    # Open the image using PIL\\n\",","    \"    image = Image.open(os.path.join(folder_path, image_file))\\n\",","    \"\\n\",","    \"    # Rotate the image 90 degrees to the left (counter-clockwise)\\n\",","    \"    left_rotated_image = image.rotate(90, expand=True)\\n\",","    \"\\n\",","    \"    # Rotate the image 90 degrees to the right (clockwise)\\n\",","    \"    right_rotated_image = image.rotate(-90, expand=True)\\n\",","    \"\\n\",","    \"    # Rotate the image 180 degrees\\n\",","    \"    rotated_180_image = image.rotate(180, expand=True)\\n\",","    \"\\n\",","    \"    # Convert the rotated images to NumPy arrays\\n\",","    \"    left_rotated_array = np.array(left_rotated_image)\\n\",","    \"    right_rotated_array = np.array(right_rotated_image)\\n\",","    \"    rotated_180_array = np.array(rotated_180_image)\\n\",","    \"\\n\",","    \"    # Flatten the arrays to 1D arrays (lists of pixel values)\\n\",","    \"    left_rotated_pixels = left_rotated_array.flatten()\\n\",","    \"    right_rotated_pixels = right_rotated_array.flatten()\\n\",","    \"    rotated_180_pixels = rotated_180_array.flatten()\\n\",","    \"\\n\",","    \"    # Convert the original image to a NumPy array and flatten it\\n\",","    \"    original_array = np.array(image)\\n\",","    \"    original_pixels = original_array.flatten()\\n\",","    \"\\n\",","    \"    # Append the pixel values to the respective lists\\n\",","    \"    left_rotated_pixels_list.append(left_rotated_pixels)\\n\",","    \"    right_rotated_pixels_list.append(right_rotated_pixels)\\n\",","    \"    rotated_180_pixels_list.append(rotated_180_pixels)\\n\",","    \"    original_pixels_list.append(original_pixels)\\n\",","    \"\\n\",","    \"# Create DataFrames for left, right, 180-degree rotated, and original images\\n\",","    \"left_rotated_df = pd.DataFrame(left_rotated_pixels_list)\\n\",","    \"right_rotated_df = pd.DataFrame(right_rotated_pixels_list)\\n\",","    \"rotated_180_df = pd.DataFrame(rotated_180_pixels_list)\\n\",","    \"original_df = pd.DataFrame(original_pixels_list)\\n\"","   ]","  },","  {","   \"cell_type\": \"code\",","   \"execution_count\": 40,","   \"metadata\": {},","   \"outputs\": [],","   \"source\": [","    \"# merging the various dataframes \\n\",","    \"train_uninf_pixel = pd.concat([original_df,left_rotated_df,right_rotated_df,rotated_180_df],axis=0)\"","   ]","  },","  {","   \"cell_type\": \"code\",","   \"execution_count\": 41,","   \"metadata\": {},","   \"outputs\": [","    {","     \"data\": {","      \"text/html\": [","       \"\u003cdiv\u003e\\n\",","       \"\u003cstyle scoped\u003e\\n\",","       \"    .dataframe tbody tr th:only-of-type {\\n\",","       \"        vertical-align: middle;\\n\",","       \"    }\\n\",","       \"\\n\",","       \"    .dataframe tbody tr th {\\n\",","       \"        vertical-align: top;\\n\",","       \"    }\\n\",","       \"\\n\",","       \"    .dataframe thead th {\\n\",","       \"        text-align: right;\\n\",","       \"    }\\n\",","       \"\u003c/style\u003e\\n\",","       \"\u003ctable border=\\\"1\\\" class=\\\"dataframe\\\"\u003e\\n\",","       \"  \u003cthead\u003e\\n\",","       \"    \u003ctr style=\\\"text-align: right;\\\"\u003e\\n\",","       \"      \u003cth\u003e\u003c/th\u003e\\n\",","       \"      \u003cth\u003e0\u003c/th\u003e\\n\",","       \"      \u003cth\u003e1\u003c/th\u003e\\n\",","       \"      \u003cth\u003e2\u003c/th\u003e\\n\",","       \"      \u003cth\u003e3\u003c/th\u003e\\n\",","       \"      \u003cth\u003e4\u003c/th\u003e\\n\",","       \"      \u003cth\u003e5\u003c/th\u003e\\n\",","       \"      \u003cth\u003e6\u003c/th\u003e\\n\",","       \"      \u003cth\u003e7\u003c/th\u003e\\n\",","       \"      \u003cth\u003e8\u003c/th\u003e\\n\",","       \"      \u003cth\u003e9\u003c/th\u003e\\n\",","       \"      \u003cth\u003e...\u003c/th\u003e\\n\",","       \"      \u003cth\u003e1865\u003c/th\u003e\\n\",","       \"      \u003cth\u003e1866\u003c/th\u003e\\n\",","       \"      \u003cth\u003e1867\u003c/th\u003e\\n\",","       \"      \u003cth\u003e1868\u003c/th\u003e\\n\",","       \"      \u003cth\u003e1869\u003c/th\u003e\\n\",","       \"      \u003cth\u003e1870\u003c/th\u003e\\n\",","       \"      \u003cth\u003e1871\u003c/th\u003e\\n\",","       \"      \u003cth\u003e1872\u003c/th\u003e\\n\",","       \"      \u003cth\u003e1873\u003c/th\u003e\\n\",","       \"      \u003cth\u003e1874\u003c/th\u003e\\n\",","       \"    \u003c/tr\u003e\\n\",","       \"  \u003c/thead\u003e\\n\",","       \"  \u003ctbody\u003e\\n\",","       \"    \u003ctr\u003e\\n\",","       \"      \u003cth\u003e0\u003c/th\u003e\\n\",","       \"      \u003ctd\u003e0\u003c/td\u003e\\n\",","       \"      \u003ctd\u003e0\u003c/td\u003e\\n\",","       \"      \u003ctd\u003e0\u003c/td\u003e\\n\",","       \"      \u003ctd\u003e0\u003c/td\u003e\\n\",","       \"      \u003ctd\u003e0\u003c/td\u003e\\n\",","       \"      \u003ctd\u003e0\u003c/td\u003e\\n\",","       \"      \u003ctd\u003e0\u003c/td\u003e\\n\",","       \"      \u003ctd\u003e0\u003c/td\u003e\\n\",","       \"      \u003ctd\u003e0\u003c/td\u003e\\n\",","       \"      \u003ctd\u003e0\u003c/td\u003e\\n\",","       \"      \u003ctd\u003e...\u003c/td\u003e\\n\",","       \"      \u003ctd\u003e0\u003c/td\u003e\\n\",","       \"      \u003ctd\u003e0\u003c/td\u003e\\n\",","       \"      \u003ctd\u003e0\u003c/td\u003e\\n\",","       \"      \u003ctd\u003e0\u003c/td\u003e\\n\",","       \"      \u003ctd\u003e0\u003c/td\u003e\\n\",","       \"      \u003ctd\u003e0\u003c/td\u003e\\n\",","       \"      \u003ctd\u003e0\u003c/td\u003e\\n\",","       \"      \u003ctd\u003e0\u003c/td\u003e\\n\",","       \"      \u003ctd\u003e0\u003c/td\u003e\\n\",","       \"      \u003ctd\u003e0\u003c/td\u003e\\n\",","       \"    \u003c/tr\u003e\\n\",","       \"    \u003ctr\u003e\\n\",","       \"      \u003cth\u003e1\u003c/th\u003e\\n\",","       \"      \u003ctd\u003e0\u003c/td\u003e\\n\",","       \"      \u003ctd\u003e0\u003c/td\u003e\\n\",","       \"      \u003ctd\u003e0\u003c/td\u003e\\n\",","       \"      \u003ctd\u003e0\u003c/td\u003e\\n\",","       \"      \u003ctd\u003e0\u003c/td\u003e\\n\",","       \"      \u003ctd\u003e0\u003c/td\u003e\\n\",","       \"      \u003ctd\u003e0\u003c/td\u003e\\n\",","       \"      \u003ctd\u003e0\u003c/td\u003e\\n\",","       \"      \u003ctd\u003e0\u003c/td\u003e\\n\",","       \"      \u003ctd\u003e0\u003c/td\u003e\\n\",","       \"      \u003ctd\u003e...\u003c/td\u003e\\n\",","       \"      \u003ctd\u003e0\u003c/td\u003e\\n\",","       \"      \u003ctd\u003e0\u003c/td\u003e\\n\",","       \"      \u003ctd\u003e0\u003c/td\u003e\\n\",","       \"      \u003ctd\u003e0\u003c/td\u003e\\n\",","       \"      \u003ctd\u003e0\u003c/td\u003e\\n\",","       \"      \u003ctd\u003e0\u003c/td\u003e\\n\",","       \"      \u003ctd\u003e0\u003c/td\u003e\\n\",","       \"      \u003ctd\u003e0\u003c/td\u003e\\n\",","       \"      \u003ctd\u003e0\u003c/td\u003e\\n\",","       \"      \u003ctd\u003e0\u003c/td\u003e\\n\",","       \"    \u003c/tr\u003e\\n\",","       \"    \u003ctr\u003e\\n\",","       \"      \u003cth\u003e2\u003c/th\u003e\\n\",","       \"      \u003ctd\u003e0\u003c/td\u003e\\n\",","       \"      \u003ctd\u003e0\u003c/td\u003e\\n\",","       \"      \u003ctd\u003e0\u003c/td\u003e\\n\",","       \"      \u003ctd\u003e0\u003c/td\u003e\\n\",","       \"      \u003ctd\u003e0\u003c/td\u003e\\n\",","       \"      \u003ctd\u003e0\u003c/td\u003e\\n\",","       \"      \u003ctd\u003e0\u003c/td\u003e\\n\",","       \"      \u003ctd\u003e0\u003c/td\u003e\\n\",","       \"      \u003ctd\u003e0\u003c/td\u003e\\n\",","       \"      \u003ctd\u003e0\u003c/td\u003e\\n\",","       \"      \u003ctd\u003e...\u003c/td\u003e\\n\",","       \"      \u003ctd\u003e0\u003c/td\u003e\\n\",","       \"      \u003ctd\u003e0\u003c/td\u003e\\n\",","       \"      \u003ctd\u003e0\u003c/td\u003e\\n\",","       \"      \u003ctd\u003e0\u003c/td\u003e\\n\",","       \"      \u003ctd\u003e0\u003c/td\u003e\\n\",","       \"      \u003ctd\u003e0\u003c/td\u003e\\n\",","       \"      \u003ctd\u003e0\u003c/td\u003e\\n\",","       \"      \u003ctd\u003e0\u003c/td\u003e\\n\",","       \"      \u003ctd\u003e0\u003c/td\u003e\\n\",","       \"      \u003ctd\u003e0\u003c/td\u003e\\n\",","       \"    \u003c/tr\u003e\\n\",","       \"    \u003ctr\u003e\\n\",","       \"      \u003cth\u003e3\u003c/th\u003e\\n\",","       \"      \u003ctd\u003e0\u003c/td\u003e\\n\",","       \"      \u003ctd\u003e0\u003c/td\u003e\\n\",","       \"      \u003ctd\u003e0\u003c/td\u003e\\n\",","       \"      \u003ctd\u003e0\u003c/td\u003e\\n\",","       \"      \u003ctd\u003e0\u003c/td\u003e\\n\",","       \"      \u003ctd\u003e0\u003c/td\u003e\\n\",","       \"      \u003ctd\u003e0\u003c/td\u003e\\n\",","       \"      \u003ctd\u003e0\u003c/td\u003e\\n\",","       \"      \u003ctd\u003e0\u003c/td\u003e\\n\",","       \"      \u003ctd\u003e0\u003c/td\u003e\\n\",","       \"      \u003ctd\u003e...\u003c/td\u003e\\n\",","       \"      \u003ctd\u003e0\u003c/td\u003e\\n\",","       \"      \u003ctd\u003e0\u003c/td\u003e\\n\",","       \"      \u003ctd\u003e0\u003c/td\u003e\\n\",","       \"      \u003ctd\u003e0\u003c/td\u003e\\n\",","       \"      \u003ctd\u003e0\u003c/td\u003e\\n\",","       \"      \u003ctd\u003e0\u003c/td\u003e\\n\",","       \"      \u003ctd\u003e0\u003c/td\u003e\\n\",","       \"      \u003ctd\u003e0\u003c/td\u003e\\n\",","       \"      \u003ctd\u003e0\u003c/td\u003e\\n\",","       \"      \u003ctd\u003e0\u003c/td\u003e\\n\",","       \"    \u003c/tr\u003e\\n\",","       \"    \u003ctr\u003e\\n\",","       \"      \u003cth\u003e4\u003c/th\u003e\\n\",","       \"      \u003ctd\u003e0\u003c/td\u003e\\n\",","       \"      \u003ctd\u003e0\u003c/td\u003e\\n\",","       \"      \u003ctd\u003e0\u003c/td\u003e\\n\",","       \"      \u003ctd\u003e0\u003c/td\u003e\\n\",","       \"      \u003ctd\u003e0\u003c/td\u003e\\n\",","       \"      \u003ctd\u003e0\u003c/td\u003e\\n\",","       \"      \u003ctd\u003e0\u003c/td\u003e\\n\",","       \"      \u003ctd\u003e0\u003c/td\u003e\\n\",","       \"      \u003ctd\u003e0\u003c/td\u003e\\n\",","       \"      \u003ctd\u003e0\u003c/td\u003e\\n\",","       \"      \u003ctd\u003e...\u003c/td\u003e\\n\",","       \"      \u003ctd\u003e0\u003c/td\u003e\\n\",","       \"      \u003ctd\u003e0\u003c/td\u003e\\n\",","       \"      \u003ctd\u003e0\u003c/td\u003e\\n\",","       \"      \u003ctd\u003e0\u003c/td\u003e\\n\",","       \"      \u003ctd\u003e0\u003c/td\u003e\\n\",","       \"      \u003ctd\u003e0\u003c/td\u003e\\n\",","       \"      \u003ctd\u003e0\u003c/td\u003e\\n\",","       \"      \u003ctd\u003e0\u003c/td\u003e\\n\",","       \"      \u003ctd\u003e0\u003c/td\u003e\\n\",","       \"      \u003ctd\u003e0\u003c/td\u003e\\n\",","       \"    \u003c/tr\u003e\\n\",","       \"  \u003c/tbody\u003e\\n\",","       \"\u003c/table\u003e\\n\",","       \"\u003cp\u003e5 rows × 1875 columns\u003c/p\u003e\\n\",","       \"\u003c/div\u003e\"","      ],","      \"text/plain\": [","       \"   0     1     2     3     4     5     6     7     8     9     ...  1865   \\n\",","       \"0     0     0     0     0     0     0     0     0     0     0  ...     0  \\\\\\n\",","       \"1     0     0     0     0     0     0     0     0     0     0  ...     0   \\n\",","       \"2     0     0     0     0     0     0     0     0     0     0  ...     0   \\n\",","       \"3     0     0     0     0     0     0     0     0     0     0  ...     0   \\n\",","       \"4     0     0     0     0     0     0     0     0     0     0  ...     0   \\n\",","       \"\\n\",","       \"   1866  1867  1868  1869  1870  1871  1872  1873  1874  \\n\",","       \"0     0     0     0     0     0     0     0     0     0  \\n\",","       \"1     0     0     0     0     0     0     0     0     0  \\n\",","       \"2     0     0     0     0     0     0     0     0     0  \\n\",","       \"3     0     0     0     0     0     0     0     0     0  \\n\",","       \"4     0     0     0     0     0     0     0     0     0  \\n\",","       \"\\n\",","       \"[5 rows x 1875 columns]\"","      ]","     },","     \"execution_count\": 41,","     \"metadata\": {},","     \"output_type\": \"execute_result\"","    }","   ],","   \"source\": [","    \"#Check the dataframe \\n\",","    \"train_uninf_pixel.head()\"","   ]","  },","  {","   \"cell_type\": \"code\",","   \"execution_count\": 42,","   \"metadata\": {},","   \"outputs\": [","    {","     \"data\": {","      \"text/plain\": [","       \"7000\"","      ]","     },","     \"execution_count\": 42,","     \"metadata\": {},","     \"output_type\": \"execute_result\"","    }","   ],","   \"source\": [","    \"#Check the length of the Dataframe\\n\",","    \"len(train_uninf_pixel)\"","   ]","  },","  {","   \"cell_type\": \"code\",","   \"execution_count\": 43,","   \"metadata\": {},","   \"outputs\": [],","   \"source\": [","    \"# Normalize the data in the training uninfected pixel database \\n\",","    \"train_uninf_pixel = train_uninf_pixel/255\\n\",","    \"\\n\",","    \"## Engineering a column named 'Target' in the infected training dataframe and assigning the value 0\\n\",","    \"train_uninf_pixel[\\\"Target\\\"]= 0\"","   ]","  },","  {","   \"cell_type\": \"code\",","   \"execution_count\": 44,","   \"metadata\": {},","   \"outputs\": [],","   \"source\": [","    \"# concatenating the 2 infected and uninfeacted trained data frame containing pixel data done for ML\\n\",","    \"train_df = pd.concat([train_inf_pixel,train_uninf_pixel],axis = 0)\"","   ]","  },","  {","   \"cell_type\": \"code\",","   \"execution_count\": 45,","   \"metadata\": {},","   \"outputs\": [","    {","     \"data\": {","      \"text/html\": [","       \"\u003cdiv\u003e\\n\",","       \"\u003cstyle scoped\u003e\\n\",","       \"    .dataframe tbody tr th:only-of-type {\\n\",","       \"        vertical-align: middle;\\n\",","       \"    }\\n\",","       \"\\n\",","       \"    .dataframe tbody tr th {\\n\",","       \"        vertical-align: top;\\n\",","       \"    }\\n\",","       \"\\n\",","       \"    .dataframe thead th {\\n\",","       \"        text-align: right;\\n\",","       \"    }\\n\",","       \"\u003c/style\u003e\\n\",","       \"\u003ctable border=\\\"1\\\" class=\\\"dataframe\\\"\u003e\\n\",","       \"  \u003cthead\u003e\\n\",","       \"    \u003ctr style=\\\"text-align: right;\\\"\u003e\\n\",","       \"      \u003cth\u003e\u003c/th\u003e\\n\",","       \"      \u003cth\u003e0\u003c/th\u003e\\n\",","       \"      \u003cth\u003e1\u003c/th\u003e\\n\",","       \"      \u003cth\u003e2\u003c/th\u003e\\n\",","       \"      \u003cth\u003e3\u003c/th\u003e\\n\",","       \"      \u003cth\u003e4\u003c/th\u003e\\n\",","       \"      \u003cth\u003e5\u003c/th\u003e\\n\",","       \"      \u003cth\u003e6\u003c/th\u003e\\n\",","       \"      \u003cth\u003e7\u003c/th\u003e\\n\",","       \"      \u003cth\u003e8\u003c/th\u003e\\n\",","       \"      \u003cth\u003e9\u003c/th\u003e\\n\",","       \"      \u003cth\u003e...\u003c/th\u003e\\n\",","       \"      \u003cth\u003e1866\u003c/th\u003e\\n\",","       \"      \u003cth\u003e1867\u003c/th\u003e\\n\",","       \"      \u003cth\u003e1868\u003c/th\u003e\\n\",","       \"      \u003cth\u003e1869\u003c/th\u003e\\n\",","       \"      \u003cth\u003e1870\u003c/th\u003e\\n\",","       \"      \u003cth\u003e1871\u003c/th\u003e\\n\",","       \"      \u003cth\u003e1872\u003c/th\u003e\\n\",","       \"      \u003cth\u003e1873\u003c/th\u003e\\n\",","       \"      \u003cth\u003e1874\u003c/th\u003e\\n\",","       \"      \u003cth\u003eTarget\u003c/th\u003e\\n\",","       \"    \u003c/tr\u003e\\n\",","       \"  \u003c/thead\u003e\\n\",","       \"  \u003ctbody\u003e\\n\",","       \"    \u003ctr\u003e\\n\",","       \"      \u003cth\u003e0\u003c/th\u003e\\n\",","       \"      \u003ctd\u003e0.0\u003c/td\u003e\\n\",","       \"      \u003ctd\u003e0.0\u003c/td\u003e\\n\",","       \"      \u003ctd\u003e0.0\u003c/td\u003e\\n\",","       \"      \u003ctd\u003e0.0\u003c/td\u003e\\n\",","       \"      \u003ctd\u003e0.0\u003c/td\u003e\\n\",","       \"      \u003ctd\u003e0.0\u003c/td\u003e\\n\",","       \"      \u003ctd\u003e0.0\u003c/td\u003e\\n\",","       \"      \u003ctd\u003e0.0\u003c/td\u003e\\n\",","       \"      \u003ctd\u003e0.0\u003c/td\u003e\\n\",","       \"      \u003ctd\u003e0.00000\u003c/td\u003e\\n\",","       \"      \u003ctd\u003e...\u003c/td\u003e\\n\",","       \"      \u003ctd\u003e0.0\u003c/td\u003e\\n\",","       \"      \u003ctd\u003e0.0\u003c/td\u003e\\n\",","       \"      \u003ctd\u003e0.0\u003c/td\u003e\\n\",","       \"      \u003ctd\u003e0.0\u003c/td\u003e\\n\",","       \"      \u003ctd\u003e0.0\u003c/td\u003e\\n\",","       \"      \u003ctd\u003e0.0\u003c/td\u003e\\n\",","       \"      \u003ctd\u003e0.0\u003c/td\u003e\\n\",","       \"      \u003ctd\u003e0.0\u003c/td\u003e\\n\",","       \"      \u003ctd\u003e0.0\u003c/td\u003e\\n\",","       \"      \u003ctd\u003e1\u003c/td\u003e\\n\",","       \"    \u003c/tr\u003e\\n\",","       \"    \u003ctr\u003e\\n\",","       \"      \u003cth\u003e1\u003c/th\u003e\\n\",","       \"      \u003ctd\u003e0.0\u003c/td\u003e\\n\",","       \"      \u003ctd\u003e0.0\u003c/td\u003e\\n\",","       \"      \u003ctd\u003e0.0\u003c/td\u003e\\n\",","       \"      \u003ctd\u003e0.0\u003c/td\u003e\\n\",","       \"      \u003ctd\u003e0.0\u003c/td\u003e\\n\",","       \"      \u003ctd\u003e0.0\u003c/td\u003e\\n\",","       \"      \u003ctd\u003e0.0\u003c/td\u003e\\n\",","       \"      \u003ctd\u003e0.0\u003c/td\u003e\\n\",","       \"      \u003ctd\u003e0.0\u003c/td\u003e\\n\",","       \"      \u003ctd\u003e0.00000\u003c/td\u003e\\n\",","       \"      \u003ctd\u003e...\u003c/td\u003e\\n\",","       \"      \u003ctd\u003e0.0\u003c/td\u003e\\n\",","       \"      \u003ctd\u003e0.0\u003c/td\u003e\\n\",","       \"      \u003ctd\u003e0.0\u003c/td\u003e\\n\",","       \"      \u003ctd\u003e0.0\u003c/td\u003e\\n\",","       \"      \u003ctd\u003e0.0\u003c/td\u003e\\n\",","       \"      \u003ctd\u003e0.0\u003c/td\u003e\\n\",","       \"      \u003ctd\u003e0.0\u003c/td\u003e\\n\",","       \"      \u003ctd\u003e0.0\u003c/td\u003e\\n\",","       \"      \u003ctd\u003e0.0\u003c/td\u003e\\n\",","       \"      \u003ctd\u003e1\u003c/td\u003e\\n\",","       \"    \u003c/tr\u003e\\n\",","       \"    \u003ctr\u003e\\n\",","       \"      \u003cth\u003e2\u003c/th\u003e\\n\",","       \"      \u003ctd\u003e0.0\u003c/td\u003e\\n\",","       \"      \u003ctd\u003e0.0\u003c/td\u003e\\n\",","       \"      \u003ctd\u003e0.0\u003c/td\u003e\\n\",","       \"      \u003ctd\u003e0.0\u003c/td\u003e\\n\",","       \"      \u003ctd\u003e0.0\u003c/td\u003e\\n\",","       \"      \u003ctd\u003e0.0\u003c/td\u003e\\n\",","       \"      \u003ctd\u003e0.0\u003c/td\u003e\\n\",","       \"      \u003ctd\u003e0.0\u003c/td\u003e\\n\",","       \"      \u003ctd\u003e0.0\u003c/td\u003e\\n\",","       \"      \u003ctd\u003e0.00000\u003c/td\u003e\\n\",","       \"      \u003ctd\u003e...\u003c/td\u003e\\n\",","       \"      \u003ctd\u003e0.0\u003c/td\u003e\\n\",","       \"      \u003ctd\u003e0.0\u003c/td\u003e\\n\",","       \"      \u003ctd\u003e0.0\u003c/td\u003e\\n\",","       \"      \u003ctd\u003e0.0\u003c/td\u003e\\n\",","       \"      \u003ctd\u003e0.0\u003c/td\u003e\\n\",","       \"      \u003ctd\u003e0.0\u003c/td\u003e\\n\",","       \"      \u003ctd\u003e0.0\u003c/td\u003e\\n\",","       \"      \u003ctd\u003e0.0\u003c/td\u003e\\n\",","       \"      \u003ctd\u003e0.0\u003c/td\u003e\\n\",","       \"      \u003ctd\u003e1\u003c/td\u003e\\n\",","       \"    \u003c/tr\u003e\\n\",","       \"    \u003ctr\u003e\\n\",","       \"      \u003cth\u003e3\u003c/th\u003e\\n\",","       \"      \u003ctd\u003e0.0\u003c/td\u003e\\n\",","       \"      \u003ctd\u003e0.0\u003c/td\u003e\\n\",","       \"      \u003ctd\u003e0.0\u003c/td\u003e\\n\",","       \"      \u003ctd\u003e0.0\u003c/td\u003e\\n\",","       \"      \u003ctd\u003e0.0\u003c/td\u003e\\n\",","       \"      \u003ctd\u003e0.0\u003c/td\u003e\\n\",","       \"      \u003ctd\u003e0.0\u003c/td\u003e\\n\",","       \"      \u003ctd\u003e0.0\u003c/td\u003e\\n\",","       \"      \u003ctd\u003e0.0\u003c/td\u003e\\n\",","       \"      \u003ctd\u003e0.00000\u003c/td\u003e\\n\",","       \"      \u003ctd\u003e...\u003c/td\u003e\\n\",","       \"      \u003ctd\u003e0.0\u003c/td\u003e\\n\",","       \"      \u003ctd\u003e0.0\u003c/td\u003e\\n\",","       \"      \u003ctd\u003e0.0\u003c/td\u003e\\n\",","       \"      \u003ctd\u003e0.0\u003c/td\u003e\\n\",","       \"      \u003ctd\u003e0.0\u003c/td\u003e\\n\",","       \"      \u003ctd\u003e0.0\u003c/td\u003e\\n\",","       \"      \u003ctd\u003e0.0\u003c/td\u003e\\n\",","       \"      \u003ctd\u003e0.0\u003c/td\u003e\\n\",","       \"      \u003ctd\u003e0.0\u003c/td\u003e\\n\",","       \"      \u003ctd\u003e1\u003c/td\u003e\\n\",","       \"    \u003c/tr\u003e\\n\",","       \"    \u003ctr\u003e\\n\",","       \"      \u003cth\u003e4\u003c/th\u003e\\n\",","       \"      \u003ctd\u003e0.0\u003c/td\u003e\\n\",","       \"      \u003ctd\u003e0.0\u003c/td\u003e\\n\",","       \"      \u003ctd\u003e0.0\u003c/td\u003e\\n\",","       \"      \u003ctd\u003e0.0\u003c/td\u003e\\n\",","       \"      \u003ctd\u003e0.0\u003c/td\u003e\\n\",","       \"      \u003ctd\u003e0.0\u003c/td\u003e\\n\",","       \"      \u003ctd\u003e0.0\u003c/td\u003e\\n\",","       \"      \u003ctd\u003e0.0\u003c/td\u003e\\n\",","       \"      \u003ctd\u003e0.0\u003c/td\u003e\\n\",","       \"      \u003ctd\u003e0.00000\u003c/td\u003e\\n\",","       \"      \u003ctd\u003e...\u003c/td\u003e\\n\",","       \"      \u003ctd\u003e0.0\u003c/td\u003e\\n\",","       \"      \u003ctd\u003e0.0\u003c/td\u003e\\n\",","       \"      \u003ctd\u003e0.0\u003c/td\u003e\\n\",","       \"      \u003ctd\u003e0.0\u003c/td\u003e\\n\",","       \"      \u003ctd\u003e0.0\u003c/td\u003e\\n\",","       \"      \u003ctd\u003e0.0\u003c/td\u003e\\n\",","       \"      \u003ctd\u003e0.0\u003c/td\u003e\\n\",","       \"      \u003ctd\u003e0.0\u003c/td\u003e\\n\",","       \"      \u003ctd\u003e0.0\u003c/td\u003e\\n\",","       \"      \u003ctd\u003e1\u003c/td\u003e\\n\",","       \"    \u003c/tr\u003e\\n\",","       \"    \u003ctr\u003e\\n\",","       \"      \u003cth\u003e...\u003c/th\u003e\\n\",","       \"      \u003ctd\u003e...\u003c/td\u003e\\n\",","       \"      \u003ctd\u003e...\u003c/td\u003e\\n\",","       \"      \u003ctd\u003e...\u003c/td\u003e\\n\",","       \"      \u003ctd\u003e...\u003c/td\u003e\\n\",","       \"      \u003ctd\u003e...\u003c/td\u003e\\n\",","       \"      \u003ctd\u003e...\u003c/td\u003e\\n\",","       \"      \u003ctd\u003e...\u003c/td\u003e\\n\",","       \"      \u003ctd\u003e...\u003c/td\u003e\\n\",","       \"      \u003ctd\u003e...\u003c/td\u003e\\n\",","       \"      \u003ctd\u003e...\u003c/td\u003e\\n\",","       \"      \u003ctd\u003e...\u003c/td\u003e\\n\",","       \"      \u003ctd\u003e...\u003c/td\u003e\\n\",","       \"      \u003ctd\u003e...\u003c/td\u003e\\n\",","       \"      \u003ctd\u003e...\u003c/td\u003e\\n\",","       \"      \u003ctd\u003e...\u003c/td\u003e\\n\",","       \"      \u003ctd\u003e...\u003c/td\u003e\\n\",","       \"      \u003ctd\u003e...\u003c/td\u003e\\n\",","       \"      \u003ctd\u003e...\u003c/td\u003e\\n\",","       \"      \u003ctd\u003e...\u003c/td\u003e\\n\",","       \"      \u003ctd\u003e...\u003c/td\u003e\\n\",","       \"      \u003ctd\u003e...\u003c/td\u003e\\n\",","       \"    \u003c/tr\u003e\\n\",","       \"    \u003ctr\u003e\\n\",","       \"      \u003cth\u003e1745\u003c/th\u003e\\n\",","       \"      \u003ctd\u003e0.0\u003c/td\u003e\\n\",","       \"      \u003ctd\u003e0.0\u003c/td\u003e\\n\",","       \"      \u003ctd\u003e0.0\u003c/td\u003e\\n\",","       \"      \u003ctd\u003e0.0\u003c/td\u003e\\n\",","       \"      \u003ctd\u003e0.0\u003c/td\u003e\\n\",","       \"      \u003ctd\u003e0.0\u003c/td\u003e\\n\",","       \"      \u003ctd\u003e0.0\u003c/td\u003e\\n\",","       \"      \u003ctd\u003e0.0\u003c/td\u003e\\n\",","       \"      \u003ctd\u003e0.0\u003c/td\u003e\\n\",","       \"      \u003ctd\u003e0.00000\u003c/td\u003e\\n\",","       \"      \u003ctd\u003e...\u003c/td\u003e\\n\",","       \"      \u003ctd\u003e0.0\u003c/td\u003e\\n\",","       \"      \u003ctd\u003e0.0\u003c/td\u003e\\n\",","       \"      \u003ctd\u003e0.0\u003c/td\u003e\\n\",","       \"      \u003ctd\u003e0.0\u003c/td\u003e\\n\",","       \"      \u003ctd\u003e0.0\u003c/td\u003e\\n\",","       \"      \u003ctd\u003e0.0\u003c/td\u003e\\n\",","       \"      \u003ctd\u003e0.0\u003c/td\u003e\\n\",","       \"      \u003ctd\u003e0.0\u003c/td\u003e\\n\",","       \"      \u003ctd\u003e0.0\u003c/td\u003e\\n\",","       \"      \u003ctd\u003e0\u003c/td\u003e\\n\",","       \"    \u003c/tr\u003e\\n\",","       \"    \u003ctr\u003e\\n\",","       \"      \u003cth\u003e1746\u003c/th\u003e\\n\",","       \"      \u003ctd\u003e0.0\u003c/td\u003e\\n\",","       \"      \u003ctd\u003e0.0\u003c/td\u003e\\n\",","       \"      \u003ctd\u003e0.0\u003c/td\u003e\\n\",","       \"      \u003ctd\u003e0.0\u003c/td\u003e\\n\",","       \"      \u003ctd\u003e0.0\u003c/td\u003e\\n\",","       \"      \u003ctd\u003e0.0\u003c/td\u003e\\n\",","       \"      \u003ctd\u003e0.0\u003c/td\u003e\\n\",","       \"      \u003ctd\u003e0.0\u003c/td\u003e\\n\",","       \"      \u003ctd\u003e0.0\u003c/td\u003e\\n\",","       \"      \u003ctd\u003e0.00000\u003c/td\u003e\\n\",","       \"      \u003ctd\u003e...\u003c/td\u003e\\n\",","       \"      \u003ctd\u003e0.0\u003c/td\u003e\\n\",","       \"      \u003ctd\u003e0.0\u003c/td\u003e\\n\",","       \"      \u003ctd\u003e0.0\u003c/td\u003e\\n\",","       \"      \u003ctd\u003e0.0\u003c/td\u003e\\n\",","       \"      \u003ctd\u003e0.0\u003c/td\u003e\\n\",","       \"      \u003ctd\u003e0.0\u003c/td\u003e\\n\",","       \"      \u003ctd\u003e0.0\u003c/td\u003e\\n\",","       \"      \u003ctd\u003e0.0\u003c/td\u003e\\n\",","       \"      \u003ctd\u003e0.0\u003c/td\u003e\\n\",","       \"      \u003ctd\u003e0\u003c/td\u003e\\n\",","       \"    \u003c/tr\u003e\\n\",","       \"    \u003ctr\u003e\\n\",","       \"      \u003cth\u003e1747\u003c/th\u003e\\n\",","       \"      \u003ctd\u003e0.0\u003c/td\u003e\\n\",","       \"      \u003ctd\u003e0.0\u003c/td\u003e\\n\",","       \"      \u003ctd\u003e0.0\u003c/td\u003e\\n\",","       \"      \u003ctd\u003e0.0\u003c/td\u003e\\n\",","       \"      \u003ctd\u003e0.0\u003c/td\u003e\\n\",","       \"      \u003ctd\u003e0.0\u003c/td\u003e\\n\",","       \"      \u003ctd\u003e0.0\u003c/td\u003e\\n\",","       \"      \u003ctd\u003e0.0\u003c/td\u003e\\n\",","       \"      \u003ctd\u003e0.0\u003c/td\u003e\\n\",","       \"      \u003ctd\u003e0.00000\u003c/td\u003e\\n\",","       \"      \u003ctd\u003e...\u003c/td\u003e\\n\",","       \"      \u003ctd\u003e0.0\u003c/td\u003e\\n\",","       \"      \u003ctd\u003e0.0\u003c/td\u003e\\n\",","       \"      \u003ctd\u003e0.0\u003c/td\u003e\\n\",","       \"      \u003ctd\u003e0.0\u003c/td\u003e\\n\",","       \"      \u003ctd\u003e0.0\u003c/td\u003e\\n\",","       \"      \u003ctd\u003e0.0\u003c/td\u003e\\n\",","       \"      \u003ctd\u003e0.0\u003c/td\u003e\\n\",","       \"      \u003ctd\u003e0.0\u003c/td\u003e\\n\",","       \"      \u003ctd\u003e0.0\u003c/td\u003e\\n\",","       \"      \u003ctd\u003e0\u003c/td\u003e\\n\",","       \"    \u003c/tr\u003e\\n\",","       \"    \u003ctr\u003e\\n\",","       \"      \u003cth\u003e1748\u003c/th\u003e\\n\",","       \"      \u003ctd\u003e0.0\u003c/td\u003e\\n\",","       \"      \u003ctd\u003e0.0\u003c/td\u003e\\n\",","       \"      \u003ctd\u003e0.0\u003c/td\u003e\\n\",","       \"      \u003ctd\u003e0.0\u003c/td\u003e\\n\",","       \"      \u003ctd\u003e0.0\u003c/td\u003e\\n\",","       \"      \u003ctd\u003e0.0\u003c/td\u003e\\n\",","       \"      \u003ctd\u003e0.0\u003c/td\u003e\\n\",","       \"      \u003ctd\u003e0.0\u003c/td\u003e\\n\",","       \"      \u003ctd\u003e0.0\u003c/td\u003e\\n\",","       \"      \u003ctd\u003e0.12549\u003c/td\u003e\\n\",","       \"      \u003ctd\u003e...\u003c/td\u003e\\n\",","       \"      \u003ctd\u003e0.0\u003c/td\u003e\\n\",","       \"      \u003ctd\u003e0.0\u003c/td\u003e\\n\",","       \"      \u003ctd\u003e0.0\u003c/td\u003e\\n\",","       \"      \u003ctd\u003e0.0\u003c/td\u003e\\n\",","       \"      \u003ctd\u003e0.0\u003c/td\u003e\\n\",","       \"      \u003ctd\u003e0.0\u003c/td\u003e\\n\",","       \"      \u003ctd\u003e0.0\u003c/td\u003e\\n\",","       \"      \u003ctd\u003e0.0\u003c/td\u003e\\n\",","       \"      \u003ctd\u003e0.0\u003c/td\u003e\\n\",","       \"      \u003ctd\u003e0\u003c/td\u003e\\n\",","       \"    \u003c/tr\u003e\\n\",","       \"    \u003ctr\u003e\\n\",","       \"      \u003cth\u003e1749\u003c/th\u003e\\n\",","       \"      \u003ctd\u003e0.0\u003c/td\u003e\\n\",","       \"      \u003ctd\u003e0.0\u003c/td\u003e\\n\",","       \"      \u003ctd\u003e0.0\u003c/td\u003e\\n\",","       \"      \u003ctd\u003e0.0\u003c/td\u003e\\n\",","       \"      \u003ctd\u003e0.0\u003c/td\u003e\\n\",","       \"      \u003ctd\u003e0.0\u003c/td\u003e\\n\",","       \"      \u003ctd\u003e0.0\u003c/td\u003e\\n\",","       \"      \u003ctd\u003e0.0\u003c/td\u003e\\n\",","       \"      \u003ctd\u003e0.0\u003c/td\u003e\\n\",","       \"      \u003ctd\u003e0.00000\u003c/td\u003e\\n\",","       \"      \u003ctd\u003e...\u003c/td\u003e\\n\",","       \"      \u003ctd\u003e0.0\u003c/td\u003e\\n\",","       \"      \u003ctd\u003e0.0\u003c/td\u003e\\n\",","       \"      \u003ctd\u003e0.0\u003c/td\u003e\\n\",","       \"      \u003ctd\u003e0.0\u003c/td\u003e\\n\",","       \"      \u003ctd\u003e0.0\u003c/td\u003e\\n\",","       \"      \u003ctd\u003e0.0\u003c/td\u003e\\n\",","       \"      \u003ctd\u003e0.0\u003c/td\u003e\\n\",","       \"      \u003ctd\u003e0.0\u003c/td\u003e\\n\",","       \"      \u003ctd\u003e0.0\u003c/td\u003e\\n\",","       \"      \u003ctd\u003e0\u003c/td\u003e\\n\",","       \"    \u003c/tr\u003e\\n\",","       \"  \u003c/tbody\u003e\\n\",","       \"\u003c/table\u003e\\n\",","       \"\u003cp\u003e14000 rows × 1876 columns\u003c/p\u003e\\n\",","       \"\u003c/div\u003e\"","      ],","      \"text/plain\": [","       \"        0    1    2    3    4    5    6    7    8        9  ...  1866  1867   \\n\",","       \"0     0.0  0.0  0.0  0.0  0.0  0.0  0.0  0.0  0.0  0.00000  ...   0.0   0.0  \\\\\\n\",","       \"1     0.0  0.0  0.0  0.0  0.0  0.0  0.0  0.0  0.0  0.00000  ...   0.0   0.0   \\n\",","       \"2     0.0  0.0  0.0  0.0  0.0  0.0  0.0  0.0  0.0  0.00000  ...   0.0   0.0   \\n\",","       \"3     0.0  0.0  0.0  0.0  0.0  0.0  0.0  0.0  0.0  0.00000  ...   0.0   0.0   \\n\",","       \"4     0.0  0.0  0.0  0.0  0.0  0.0  0.0  0.0  0.0  0.00000  ...   0.0   0.0   \\n\",","       \"...   ...  ...  ...  ...  ...  ...  ...  ...  ...      ...  ...   ...   ...   \\n\",","       \"1745  0.0  0.0  0.0  0.0  0.0  0.0  0.0  0.0  0.0  0.00000  ...   0.0   0.0   \\n\",","       \"1746  0.0  0.0  0.0  0.0  0.0  0.0  0.0  0.0  0.0  0.00000  ...   0.0   0.0   \\n\",","       \"1747  0.0  0.0  0.0  0.0  0.0  0.0  0.0  0.0  0.0  0.00000  ...   0.0   0.0   \\n\",","       \"1748  0.0  0.0  0.0  0.0  0.0  0.0  0.0  0.0  0.0  0.12549  ...   0.0   0.0   \\n\",","       \"1749  0.0  0.0  0.0  0.0  0.0  0.0  0.0  0.0  0.0  0.00000  ...   0.0   0.0   \\n\",","       \"\\n\",","       \"      1868  1869  1870  1871  1872  1873  1874  Target  \\n\",","       \"0      0.0   0.0   0.0   0.0   0.0   0.0   0.0       1  \\n\",","       \"1      0.0   0.0   0.0   0.0   0.0   0.0   0.0       1  \\n\",","       \"2      0.0   0.0   0.0   0.0   0.0   0.0   0.0       1  \\n\",","       \"3      0.0   0.0   0.0   0.0   0.0   0.0   0.0       1  \\n\",","       \"4      0.0   0.0   0.0   0.0   0.0   0.0   0.0       1  \\n\",","       \"...    ...   ...   ...   ...   ...   ...   ...     ...  \\n\",","       \"1745   0.0   0.0   0.0   0.0   0.0   0.0   0.0       0  \\n\",","       \"1746   0.0   0.0   0.0   0.0   0.0   0.0   0.0       0  \\n\",","       \"1747   0.0   0.0   0.0   0.0   0.0   0.0   0.0       0  \\n\",","       \"1748   0.0   0.0   0.0   0.0   0.0   0.0   0.0       0  \\n\",","       \"1749   0.0   0.0   0.0   0.0   0.0   0.0   0.0       0  \\n\",","       \"\\n\",","       \"[14000 rows x 1876 columns]\"","      ]","     },","     \"execution_count\": 45,","     \"metadata\": {},","     \"output_type\": \"execute_result\"","    }","   ],","   \"source\": [","    \"#Check the dataframe \\n\",","    \"train_df\"","   ]","  },","  {","   \"cell_type\": \"code\",","   \"execution_count\": 46,","   \"metadata\": {},","   \"outputs\": [],","   \"source\": [","    \"# Splitting the training data, data to X_train and y_train \\n\",","    \"X = train_df.drop(columns = \\\"Target\\\").values\\n\",","    \"y = train_df['Target'].values\\n\"","   ]","  },","  {","   \"cell_type\": \"code\",","   \"execution_count\": 47,","   \"metadata\": {},","   \"outputs\": [],","   \"source\": [","    \"# reshaping the X_train data into shape (-1,25,25,3)\\n\",","    \"X = X.reshape(-1,25,25,3)\"","   ]","  },","  {","   \"cell_type\": \"code\",","   \"execution_count\": 48,","   \"metadata\": {},","   \"outputs\": [","    {","     \"data\": {","      \"text/plain\": [","       \"(14000, 25, 25, 3)\"","      ]","     },","     \"execution_count\": 48,","     \"metadata\": {},","     \"output_type\": \"execute_result\"","    }","   ],","   \"source\": [","    \"# reshaping the array to fit into a CNN ML model\\n\",","    \"X.shape\"","   ]","  },","  {","   \"cell_type\": \"code\",","   \"execution_count\": 49,","   \"metadata\": {},","   \"outputs\": [","    {","     \"data\": {","      \"text/plain\": [","       \"14000\"","      ]","     },","     \"execution_count\": 49,","     \"metadata\": {},","     \"output_type\": \"execute_result\"","    }","   ],","   \"source\": [","    \"#Check the length of y\\n\",","    \"len(y)\"","   ]","  },","  {","   \"cell_type\": \"code\",","   \"execution_count\": 50,","   \"metadata\": {},","   \"outputs\": [],","   \"source\": [","    \"# To split the data into training, validating and testing datasets - 2 steps are required\\n\",","    \"# First, split the data into a temporary set (X_temp, X_test, y_temp, y_test)\\n\",","    \"X_temp, X_test, y_temp, y_test = train_test_split(X, y, test_size=0.2, random_state=42)\\n\",","    \"\\n\",","    \"# Then, split the temporary set into training and validation sets (X_train, X_val, y_train, y_val)\\n\",","    \"X_train, X_val, y_train, y_val = train_test_split(X_temp, y_temp, test_size=0.25, random_state=42)\"","   ]","  },","  {","   \"cell_type\": \"markdown\",","   \"metadata\": {},","   \"source\": [","    \"IMAGE DATASET MODEL TRIALS - K-NN\"","   ]","  },","  {","   \"cell_type\": \"code\",","   \"execution_count\": 51,","   \"metadata\": {},","   \"outputs\": [","    {","     \"data\": {","      \"text/plain\": [","       \"0.5717857142857142\"","      ]","     },","     \"execution_count\": 51,","     \"metadata\": {},","     \"output_type\": \"execute_result\"","    }","   ],","   \"source\": [","    \"# K-NN model\\n\",","    \"from sklearn.neighbors import KNeighborsClassifier\\n\",","    \"from sklearn.preprocessing import StandardScaler\\n\",","    \"from sklearn.metrics import accuracy_score\\n\",","    \"\\n\",","    \"# Flatten the data\\n\",","    \"X_train_flattened = X_train.reshape(X_train.shape[0], -1)\\n\",","    \"X_val_flattened = X_val.reshape(X_val.shape[0], -1)\\n\",","    \"X_test_flattened = X_test.reshape(X_test.shape[0], -1)\\n\",","    \"\\n\",","    \"# Standardize the data\\n\",","    \"scaler = StandardScaler()\\n\",","    \"X_train_standardized = scaler.fit_transform(X_train_flattened)\\n\",","    \"X_val_standardized = scaler.transform(X_val_flattened)\\n\",","    \"X_test_standardized = scaler.transform(X_test_flattened)\\n\",","    \"\\n\",","    \"# Initialize the K-NN classifier\\n\",","    \"knn_classifier = KNeighborsClassifier(n_neighbors=2) \\n\",","    \"\\n\",","    \"# Train the classifier\\n\",","    \"knn_classifier.fit(X_train_standardized, y_train)\\n\",","    \"\\n\",","    \"# Predict on the validation set and calculate accuracy\\n\",","    \"y_val_pred = knn_classifier.predict(X_val_standardized)\\n\",","    \"val_accuracy = accuracy_score(y_val, y_val_pred)\\n\",","    \"\\n\",","    \"val_accuracy\\n\"","   ]","  },","  {","   \"cell_type\": \"code\",","   \"execution_count\": 52,","   \"metadata\": {},","   \"outputs\": [","    {","     \"data\": {","      \"text/plain\": [","       \"3\"","      ]","     },","     \"execution_count\": 52,","     \"metadata\": {},","     \"output_type\": \"execute_result\"","    }","   ],","   \"source\": [","    \"from sklearn.model_selection import cross_val_score\\n\",","    \"\\n\",","    \"# Assuming X_train_standardized and y_train are already defined from previous steps\\n\",","    \"# This code will search for the best value of k (n_neighbors) using cross-validation\\n\",","    \"\\n\",","    \"# Define a range of potential k values\\n\",","    \"k_values = list(range(1, 21))  # This searches k from 1 to 20; you can adjust the range as needed\\n\",","    \"\\n\",","    \"# Perform cross-validation for each k value\\n\",","    \"cv_scores = []\\n\",","    \"\\n\",","    \"for k in k_values:\\n\",","    \"    knn = KNeighborsClassifier(n_neighbors=k)\\n\",","    \"    scores = cross_val_score(knn, X_train_standardized, y_train, cv=10, scoring='accuracy')  # 5-fold cross-validation\\n\",","    \"    cv_scores.append(scores.mean())\\n\",","    \"\\n\",","    \"# Determine the best k value\\n\",","    \"optimal_k = k_values[cv_scores.index(max(cv_scores))]\\n\",","    \"\\n\",","    \"optimal_k\\n\"","   ]","  },","  {","   \"cell_type\": \"code\",","   \"execution_count\": 53,","   \"metadata\": {},","   \"outputs\": [","    {","     \"data\": {","      \"text/plain\": [","       \"0.5935714285714285\"","      ]","     },","     \"execution_count\": 53,","     \"metadata\": {},","     \"output_type\": \"execute_result\"","    }","   ],","   \"source\": [","    \"\\n\",","    \"# Flatten the data\\n\",","    \"X_train_flattened = X_train.reshape(X_train.shape[0], -1)\\n\",","    \"X_val_flattened = X_val.reshape(X_val.shape[0], -1)\\n\",","    \"X_test_flattened = X_test.reshape(X_test.shape[0], -1)\\n\",","    \"\\n\",","    \"# Standardize the data\\n\",","    \"scaler = StandardScaler()\\n\",","    \"X_train_standardized = scaler.fit_transform(X_train_flattened)\\n\",","    \"X_val_standardized = scaler.transform(X_val_flattened)\\n\",","    \"X_test_standardized = scaler.transform(X_test_flattened)\\n\",","    \"\\n\",","    \"# Initialize the K-NN classifier\\n\",","    \"knn_classifier = KNeighborsClassifier(n_neighbors=3) \\n\",","    \"\\n\",","    \"# Train the classifier\\n\",","    \"knn_classifier.fit(X_train_standardized, y_train)\\n\",","    \"\\n\",","    \"# Predict on the validation set and calculate accuracy\\n\",","    \"y_val_pred = knn_classifier.predict(X_val_standardized)\\n\",","    \"val_accuracy = accuracy_score(y_val, y_val_pred)\\n\",","    \"\\n\",","    \"val_accuracy\\n\"","   ]","  }"," ],"," \"metadata\": {","  \"kernelspec\": {","   \"display_name\": \"Python 3\",","   \"language\": \"python\",","   \"name\": \"python3\"","  },","  \"language_info\": {","   \"codemirror_mode\": {","    \"name\": \"ipython\",","    \"version\": 3","   },","   \"file_extension\": \".py\",","   \"mimetype\": \"text/x-python\",","   \"name\": \"python\",","   \"nbconvert_exporter\": \"python\",","   \"pygments_lexer\": \"ipython3\",","   \"version\": \"3.11.2\"","  },","  \"orig_nbformat\": 4"," },"," \"nbformat\": 4,"," \"nbformat_minor\": 2","}"],"stylingDirectives":null,"csv":null,"csvError":null,"dependabotInfo":{"showConfigurationBanner":null,"configFilePath":null,"networkDependabotPath":"/jnliou/project4/network/updates","dismissConfigurationNoticePath":"/settings/dismiss-notice/dependabot_configuration_notice","configurationNoticeDismissed":false,"repoAlertsPath":"/jnliou/project4/security/dependabot","repoSecurityAndAnalysisPath":"/jnliou/project4/settings/security_analysis","repoOwnerIsOrg":false,"currentUserCanAdminRepo":false},"displayName":"Various_models.ipynb","displayUrl":"https://notebooks.githubusercontent.com/view/ipynb?browser=chrome\u0026bypass_fastly=true\u0026color_mode=auto\u0026commit=8a6cf7f740a15b8cc48fbc281d175954c6169ddf\u0026device=unknown_device\u0026docs_host=https%3A%2F%2Fdocs.github.com\u0026enc_url=68747470733a2f2f7261772e67697468756275736572636f6e74656e742e636f6d2f6a6e6c696f752f70726f6a656374342f386136636637663734306131356238636334386662633238316431373539353463363136396464662f566172696f75735f6d6f64656c732e6970796e62\u0026logged_in=true\u0026nwo=jnliou%2Fproject4\u0026path=Various_models.ipynb\u0026platform=mac\u0026repository_id=694359579\u0026repository_type=Repository\u0026version=118","headerInfo":{"blobSize":"144 KB","deleteInfo":{"deleteTooltip":"Delete this file"},"editInfo":{"editTooltip":"Edit this file"},"ghDesktopPath":"https://desktop.github.com","gitLfsPath":null,"onBranch":true,"shortPath":"bf1a1a4","siteNavLoginPath":"/login?return_to=https%3A%2F%2Fgithub.com%2Fjnliou%2Fproject4%2Fblob%2Fsri%2FVarious_models.ipynb","isCSV":false,"isRichtext":false,"toc":null,"lineInfo":{"truncatedLoc":"3544","truncatedSloc":"3544"},"mode":"file"},"image":false,"isCodeownersFile":null,"isPlain":false,"isValidLegacyIssueTemplate":false,"issueTemplateHelpUrl":"https://docs.github.com/articles/about-issue-and-pull-request-templates","issueTemplate":null,"discussionTemplate":null,"language":"Jupyter Notebook","languageID":185,"large":false,"loggedIn":true,"newDiscussionPath":"/jnliou/project4/discussions/new","newIssuePath":"/jnliou/project4/issues/new","planSupportInfo":{"repoIsFork":null,"repoOwnedByCurrentUser":null,"requestFullPath":"/jnliou/project4/blob/sri/Various_models.ipynb","showFreeOrgGatedFeatureMessage":null,"showPlanSupportBanner":null,"upgradeDataAttributes":null,"upgradePath":null},"publishBannersInfo":{"dismissActionNoticePath":"/settings/dismiss-notice/publish_action_from_dockerfile","dismissStackNoticePath":"/settings/dismiss-notice/publish_stack_from_file","releasePath":"/jnliou/project4/releases/new?marketplace=true","showPublishActionBanner":false,"showPublishStackBanner":false},"rawBlobUrl":"https://github.com/jnliou/project4/raw/sri/Various_models.ipynb","renderImageOrRaw":false,"richText":null,"renderedFileInfo":{"identityUUID":"79812cb4-deed-4768-a8c8-2de637712abb","renderFileType":"ipynb","size":147480},"shortPath":null,"tabSize":8,"topBannersInfo":{"overridingGlobalFundingFile":false,"globalPreferredFundingPath":null,"repoOwner":"jnliou","repoName":"project4","showInvalidCitationWarning":false,"citationHelpUrl":"https://docs.github.com/en/github/creating-cloning-and-archiving-repositories/creating-a-repository-on-github/about-citation-files","showDependabotConfigurationBanner":null,"actionsOnboardingTip":null},"truncated":false,"viewable":true,"workflowRedirectUrl":null,"symbols":{"timedOut":false,"notAnalyzed":true,"symbols":[]}},"copilotInfo":{"documentationUrl":"https://docs.github.com/copilot/overview-of-github-copilot/about-github-copilot-for-individuals","notices":{"codeViewPopover":{"dismissed":false,"dismissPath":"/settings/dismiss-notice/code_view_copilot_popover"}},"userAccess":{"accessAllowed":false,"hasSubscriptionEnded":false,"orgHasCFBAccess":false,"userHasCFIAccess":false,"userHasOrgs":false,"userIsOrgAdmin":false,"userIsOrgMember":false,"business":null,"featureRequestInfo":null}},"csrf_tokens":{"/jnliou/project4/branches":{"post":"lXLmOS7sQW07LPre8KoCCA56SXZr4L3FzdvLg1WH3sDkdI7j5JvQSx1oSWsPRbbcGle7Pu72NYFGz8PuJMVOzw"},"/repos/preferences":{"post":"srF1iJWBs9VrUf-7FuNRvqsk34NraBavpVQIQlYYK8SJkClP-gSlgjwMTBFxPA-wS3HUYxxVlt5sqZQii5cGIQ"}}},"title":"project4/Various_models.ipynb at sri · jnliou/project4","appPayload":{"helpUrl":"https://docs.github.com","findFileWorkerPath":"/assets-cdn/worker/find-file-worker-83d4418b406d.js","findInFileWorkerPath":"/assets-cdn/worker/find-in-file-worker-bcc43f789400.js","githubDevUrl":"https://github.dev/","enabled_features":{"code_nav_ui_events":false,"copilot_conversational_ux":false,"copilot_conversational_ux_streaming":false,"copilot_popover_file_editor_header":true,"copilot_smell_icebreaker_ux":false,"latest_commit_multi_author":false}}}</script>
  <div data-target="react-app.reactRoot"><style data-styled="true" data-styled-version="5.3.6">.fNPcqd{font-weight:600;font-size:32px;margin:0;font-size:14px;}/*!sc*/
.imcwCi{font-weight:600;font-size:32px;margin:0;font-size:16px;margin-left:8px;}/*!sc*/
.cgQnMS{font-weight:600;font-size:32px;margin:0;}/*!sc*/
.diwsLq{font-weight:600;font-size:32px;margin:0;font-weight:600;display:inline-block;max-width:100%;font-size:16px;}/*!sc*/
.jAEDJk{font-weight:600;font-size:32px;margin:0;font-weight:600;display:inline-block;max-width:100%;font-size:14px;}/*!sc*/
data-styled.g1[id="Heading__StyledHeading-sc-1c1dgg0-0"]{content:"fNPcqd,imcwCi,cgQnMS,diwsLq,jAEDJk,"}/*!sc*/
.fSWWem{padding:0;}/*!sc*/
.kPPmzM{max-width:100%;margin-left:auto;margin-right:auto;display:-webkit-box;display:-webkit-flex;display:-ms-flexbox;display:flex;-webkit-flex-wrap:wrap;-ms-flex-wrap:wrap;flex-wrap:wrap;}/*!sc*/
.cIAPDV{display:-webkit-box;display:-webkit-flex;display:-ms-flexbox;display:flex;-webkit-flex:1 1 100%;-ms-flex:1 1 100%;flex:1 1 100%;-webkit-flex-wrap:wrap;-ms-flex-wrap:wrap;flex-wrap:wrap;max-width:100%;}/*!sc*/
.gvCnwW{width:100%;}/*!sc*/
@media screen and (min-width:544px){.gvCnwW{width:100%;}}/*!sc*/
@media screen and (min-width:768px){.gvCnwW{width:auto;}}/*!sc*/
.ioxSsX{display:-webkit-box;display:-webkit-flex;display:-ms-flexbox;display:flex;-webkit-order:1;-ms-flex-order:1;order:1;width:100%;margin-left:0;margin-right:0;-webkit-flex-direction:column;-ms-flex-direction:column;flex-direction:column;margin-bottom:0;min-width:0;}/*!sc*/
@media screen and (min-width:544px){.ioxSsX{-webkit-flex-direction:column;-ms-flex-direction:column;flex-direction:column;}}/*!sc*/
@media screen and (min-width:768px){.ioxSsX{width:auto;margin-top:0 !important;margin-bottom:0 !important;position:-webkit-sticky;position:sticky;top:0px;max-height:var(--sticky-pane-height);-webkit-flex-direction:row-reverse;-ms-flex-direction:row-reverse;flex-direction:row-reverse;margin-right:0;}}/*!sc*/
@media screen and (min-width:769px){.ioxSsX{height:100vh;max-height:100vh !important;}}/*!sc*/
@media print,screen and (max-width:1011px) and (min-width:768px){.ioxSsX{display:none;}}/*!sc*/
.eUyHuk{margin-left:0;margin-right:0;display:none;margin-top:0;}/*!sc*/
@media screen and (min-width:768px){.eUyHuk{margin-left:0 !important;margin-right:0 !important;}}/*!sc*/
.hAeDYA{height:100%;position:relative;display:none;margin-left:0;}/*!sc*/
.dZCkhR{position:absolute;inset:0 -2px;cursor:col-resize;background-color:transparent;-webkit-transition-delay:0.1s;transition-delay:0.1s;}/*!sc*/
.dZCkhR:hover{background-color:rgba(110,118,129,0.4);}/*!sc*/
.gNdDUH{--pane-min-width:256px;--pane-max-width-diff:511px;--pane-max-width:calc(100vw - var(--pane-max-width-diff));width:100%;padding:0;}/*!sc*/
@media screen and (min-width:544px){}/*!sc*/
@media screen and (min-width:768px){.gNdDUH{width:clamp(var(--pane-min-width),var(--pane-width),var(--pane-max-width));overflow:auto;}}/*!sc*/
@media screen and (min-width:1280px){.gNdDUH{--pane-max-width-diff:959px;}}/*!sc*/
.jywUSN{max-height:100%;height:100%;display:-webkit-box;display:-webkit-flex;display:-ms-flexbox;display:flex;-webkit-flex-direction:column;-ms-flex-direction:column;flex-direction:column;}/*!sc*/
@media screen and (max-width:768px){.jywUSN{display:none;}}/*!sc*/
@media screen and (min-width:768px){.jywUSN{max-height:100vh;height:100vh;}}/*!sc*/
.hBSSUC{display:-webkit-box;display:-webkit-flex;display:-ms-flexbox;display:flex;-webkit-flex-direction:column;-ms-flex-direction:column;flex-direction:column;-webkit-align-items:center;-webkit-box-align:center;-ms-flex-align:center;align-items:center;padding-left:16px;padding-right:16px;padding-bottom:8px;padding-top:16px;}/*!sc*/
.iPurHz{display:-webkit-box;display:-webkit-flex;display:-ms-flexbox;display:flex;width:100%;margin-bottom:16px;-webkit-align-items:center;-webkit-box-align:center;-ms-flex-align:center;align-items:center;}/*!sc*/
.kkrdEu{-webkit-box-pack:center;-webkit-justify-content:center;-ms-flex-pack:center;justify-content:center;}/*!sc*/
.trpoQ{display:-webkit-box;display:-webkit-flex;display:-ms-flexbox;display:flex;pointer-events:none;}/*!sc*/
.hVHHYa{margin-left:24px;margin-right:24px;display:-webkit-box;display:-webkit-flex;display:-ms-flexbox;display:flex;width:100%;}/*!sc*/
.idZfsJ{-webkit-box-flex:1;-webkit-flex-grow:1;-ms-flex-positive:1;flex-grow:1;}/*!sc*/
.bKgizp{display:-webkit-box;display:-webkit-flex;display:-ms-flexbox;display:flex;width:100%;}/*!sc*/
.bwTunw{margin-right:4px;color:#7d8590;}/*!sc*/
.caeYDk{font-size:14px;min-width:0;overflow:hidden;text-overflow:ellipsis;white-space:nowrap;}/*!sc*/
.jahcnb{margin-left:8px;white-space:nowrap;}/*!sc*/
.jahcnb:hover button:not(:hover){border-left-color:var(--button-default-borderColor-hover,var(--color-btn-hover-border));}/*!sc*/
.ccToMy{margin-left:16px;margin-right:16px;margin-bottom:12px;}/*!sc*/
@media screen and (max-width:768px){.ccToMy{display:none;}}/*!sc*/
.cNvKlH{margin-right:-6px;}/*!sc*/
.cLfAnm{-webkit-box-flex:1;-webkit-flex-grow:1;-ms-flex-positive:1;flex-grow:1;max-height:100% !important;overflow-y:auto;-webkit-scrollbar-gutter:stable;-moz-scrollbar-gutter:stable;-ms-scrollbar-gutter:stable;scrollbar-gutter:stable;}/*!sc*/
@media screen and (max-width:768px){.cLfAnm{display:none;}}/*!sc*/
.erWCJP{padding-left:16px;padding-right:16px;padding-bottom:8px;}/*!sc*/
@media (min-height:600px) and (min-width:768px){.hwhShM{display:none;}}/*!sc*/
.cYPxpP{margin-top:8px;margin-left:16px;margin-right:16px;margin-bottom:12px;font-size:12px;-webkit-align-items:center;-webkit-box-align:center;-ms-flex-align:center;align-items:center;}/*!sc*/
@media (max-height:599px),(max-width:767px){.fBtiVT{display:none;}}/*!sc*/
.emFMJu{display:-webkit-box;display:-webkit-flex;display:-ms-flexbox;display:flex;-webkit-flex-direction:column;-ms-flex-direction:column;flex-direction:column;-webkit-order:2;-ms-flex-order:2;order:2;-webkit-flex-basis:0;-ms-flex-preferred-size:0;flex-basis:0;-webkit-box-flex:1;-webkit-flex-grow:1;-ms-flex-positive:1;flex-grow:1;-webkit-flex-shrink:1;-ms-flex-negative:1;flex-shrink:1;min-width:1px;margin-right:auto;}/*!sc*/
@media print{.emFMJu{display:-webkit-box !important;display:-webkit-flex !important;display:-ms-flexbox !important;display:flex !important;}}/*!sc*/
.hlUAHL{width:100%;max-width:100%;margin-left:auto;margin-right:auto;-webkit-box-flex:1;-webkit-flex-grow:1;-ms-flex-positive:1;flex-grow:1;padding:0;}/*!sc*/
.iStsmI{margin-left:auto;margin-right:auto;-webkit-flex-direction:column;-ms-flex-direction:column;flex-direction:column;padding-bottom:40px;max-width:100%;margin-top:0;}/*!sc*/
.eIgvIk{display:inherit;}/*!sc*/
.eVFfWF{width:100%;}/*!sc*/
.kgXdnT{padding:16px;padding-bottom:0;}/*!sc*/
.kzTa-dF{display:-webkit-box;display:-webkit-flex;display:-ms-flexbox;display:flex;-webkit-flex-direction:column;-ms-flex-direction:column;flex-direction:column;-webkit-box-pack:justify;-webkit-justify-content:space-between;-ms-flex-pack:justify;justify-content:space-between;gap:16px;width:100%;}/*!sc*/
.bbXCl{display:-webkit-box;display:-webkit-flex;display:-ms-flexbox;display:flex;-webkit-flex-direction:row;-ms-flex-direction:row;flex-direction:row;-webkit-align-items:start;-webkit-box-align:start;-ms-flex-align:start;align-items:start;-webkit-box-pack:justify;-webkit-justify-content:space-between;-ms-flex-pack:justify;justify-content:space-between;}/*!sc*/
.hGGMNu{display:-webkit-box;display:-webkit-flex;display:-ms-flexbox;display:flex;-webkit-flex-direction:row;-ms-flex-direction:row;flex-direction:row;-webkit-align-items:start;-webkit-box-align:start;-ms-flex-align:start;align-items:start;-webkit-box-pack:justify;-webkit-justify-content:space-between;-ms-flex-pack:justify;justify-content:space-between;justify-self:flex-end;}/*!sc*/
.eHRrYV{margin-left:8px;margin-right:8px;}/*!sc*/
.dKmYfk{font-size:14px;min-width:0;max-width:125px;overflow:hidden;text-overflow:ellipsis;white-space:nowrap;}/*!sc*/
.hSNzKh{justify-self:end;max-width:100%;}/*!sc*/
.eTvGbF{display:-webkit-box;display:-webkit-flex;display:-ms-flexbox;display:flex;-webkit-flex-direction:row;-ms-flex-direction:row;flex-direction:row;font-size:16px;min-width:0;-webkit-flex-shrink:1;-ms-flex-negative:1;flex-shrink:1;-webkit-flex-wrap:wrap;-ms-flex-wrap:wrap;flex-wrap:wrap;max-width:100%;-webkit-align-items:center;-webkit-box-align:center;-ms-flex-align:center;align-items:center;}/*!sc*/
.kzRgrI{max-width:100%;}/*!sc*/
.cmAPIB{max-width:100%;list-style:none;display:inline-block;}/*!sc*/
.jwXCBK{display:inline-block;max-width:100%;}/*!sc*/
.bDwCYs{padding:16px;padding-bottom:0;padding-left:16px;padding-right:16px;}/*!sc*/
.fywjmm{display:-webkit-box;display:-webkit-flex;display:-ms-flexbox;display:flex;gap:8px;-webkit-flex-direction:column;-ms-flex-direction:column;flex-direction:column;width:100%;}/*!sc*/
.dyczTK{display:-webkit-box;display:-webkit-flex;display:-ms-flexbox;display:flex;-webkit-align-items:start;-webkit-box-align:start;-ms-flex-align:start;align-items:start;-webkit-box-pack:justify;-webkit-justify-content:space-between;-ms-flex-pack:justify;justify-content:space-between;gap:8px;}/*!sc*/
.kszRgZ{-webkit-align-self:center;-ms-flex-item-align:center;align-self:center;display:-webkit-box;display:-webkit-flex;display:-ms-flexbox;display:flex;padding-right:8px;min-width:0;}/*!sc*/
.gtBUEp{min-height:32px;display:-webkit-box;display:-webkit-flex;display:-ms-flexbox;display:flex;-webkit-align-items:start;-webkit-box-align:start;-ms-flex-align:start;align-items:start;}/*!sc*/
.MERGN{margin-left:16px;margin-right:16px;}/*!sc*/
@media screen and (min-width:1440px){.MERGN{margin-left:16px;}}/*!sc*/
.cMYnca{display:-webkit-box;display:-webkit-flex;display:-ms-flexbox;display:flex;-webkit-flex-direction:column;-ms-flex-direction:column;flex-direction:column;}/*!sc*/
.brFBoI{display:-webkit-box;display:-webkit-flex;display:-ms-flexbox;display:flex;-webkit-flex-direction:column;-ms-flex-direction:column;flex-direction:column;border:1px solid;border-color:#30363d;border-radius:6px;margin-bottom:16px;}/*!sc*/
.eYedVD{display:-webkit-box;display:-webkit-flex;display:-ms-flexbox;display:flex;-webkit-flex-direction:row;-ms-flex-direction:row;flex-direction:row;-webkit-box-pack:justify;-webkit-justify-content:space-between;-ms-flex-pack:justify;justify-content:space-between;-webkit-align-items:center;-webkit-box-align:center;-ms-flex-align:center;align-items:center;gap:8px;min-width:273px;padding-right:8px;padding-left:16px;padding-top:8px;padding-bottom:8px;}/*!sc*/
.jGfYmh{display:-webkit-box;display:-webkit-flex;display:-ms-flexbox;display:flex;gap:8px;}/*!sc*/
.lhFvfi{display:-webkit-box;display:-webkit-flex;display:-ms-flexbox;display:flex;-webkit-align-items:center;-webkit-box-align:center;-ms-flex-align:center;align-items:center;}/*!sc*/
.bqgLjk{display:inherit;}/*!sc*/
@media screen and (min-width:544px){.bqgLjk{display:none;}}/*!sc*/
@media screen and (min-width:768px){.bqgLjk{display:none;}}/*!sc*/
.iJmJly{display:-webkit-box;display:-webkit-flex;display:-ms-flexbox;display:flex;-webkit-flex-direction:row;-ms-flex-direction:row;flex-direction:row;}/*!sc*/
.jACbi{width:100%;height:-webkit-fit-content;height:-moz-fit-content;height:fit-content;min-width:0;margin-right:0;}/*!sc*/
.bSdwWB{padding-left:4px;padding-bottom:16px;}/*!sc*/
.fleZSW{-webkit-align-items:center;-webkit-box-align:center;-ms-flex-align:center;align-items:center;}/*!sc*/
.fOEJrA{font-size:12px;-webkit-flex:auto;-ms-flex:auto;flex:auto;padding-right:16px;color:#7d8590;min-width:0;}/*!sc*/
.gBKNLX{top:0px;z-index:1;background:var(--color-canvas-default);position:-webkit-sticky;position:sticky;}/*!sc*/
.ePiodO{display:-webkit-box;display:-webkit-flex;display:-ms-flexbox;display:flex;-webkit-flex-direction:column;-ms-flex-direction:column;flex-direction:column;width:100%;position:absolute;}/*!sc*/
.kQJlnf{display:none;min-width:0;padding-top:8px;padding-bottom:8px;}/*!sc*/
.gJICKO{margin-right:8px;margin-left:16px;text-overflow:ellipsis;overflow:hidden;display:-webkit-box;display:-webkit-flex;display:-ms-flexbox;display:flex;-webkit-flex-direction:row;-ms-flex-direction:row;flex-direction:row;-webkit-align-items:center;-webkit-box-align:center;-ms-flex-align:center;align-items:center;-webkit-box-pack:justify;-webkit-justify-content:space-between;-ms-flex-pack:justify;justify-content:space-between;width:100%;}/*!sc*/
.iZJewz{display:-webkit-box;display:-webkit-flex;display:-ms-flexbox;display:flex;-webkit-flex-direction:row;-ms-flex-direction:row;flex-direction:row;font-size:14px;min-width:0;-webkit-flex-shrink:1;-ms-flex-negative:1;flex-shrink:1;-webkit-flex-wrap:wrap;-ms-flex-wrap:wrap;flex-wrap:wrap;max-width:100%;-webkit-align-items:center;-webkit-box-align:center;-ms-flex-align:center;align-items:center;}/*!sc*/
.bESQXL{padding-left:8px;padding-top:8px;padding-bottom:8px;display:-webkit-box;display:-webkit-flex;display:-ms-flexbox;display:flex;-webkit-flex:1;-ms-flex:1;flex:1;-webkit-align-items:center;-webkit-box-align:center;-ms-flex-align:center;align-items:center;-webkit-box-pack:justify;-webkit-justify-content:space-between;-ms-flex-pack:justify;justify-content:space-between;background-color:#161b22;border:1px solid var(--borderColor-default,var(--color-border-default));border-radius:6px 6px 0px 0px;}/*!sc*/
.bfkNRF{display:-webkit-box;display:-webkit-flex;display:-ms-flexbox;display:flex;-webkit-align-items:center;-webkit-box-align:center;-ms-flex-align:center;align-items:center;gap:8px;min-width:0;}/*!sc*/
.fXBLEV{display:block;position:relative;-webkit-box-flex:1;-webkit-flex-grow:1;-ms-flex-positive:1;flex-grow:1;margin-top:-1px;margin-bottom:-1px;--separator-color:transparent;}/*!sc*/
.fXBLEV:not(:last-child){margin-right:1px;}/*!sc*/
.fXBLEV:not(:last-child):after{background-color:var(--separator-color);content:"";position:absolute;right:-2px;top:8px;bottom:8px;width:1px;}/*!sc*/
.fXBLEV:focus-within:has(:focus-visible){--separator-color:transparent;}/*!sc*/
.fXBLEV:first-child{margin-left:-1px;}/*!sc*/
.fXBLEV:last-child{margin-right:-1px;}/*!sc*/
.gbKtit{display:block;position:relative;-webkit-box-flex:1;-webkit-flex-grow:1;-ms-flex-positive:1;flex-grow:1;margin-top:-1px;margin-bottom:-1px;--separator-color:#30363d;}/*!sc*/
.gbKtit:not(:last-child){margin-right:1px;}/*!sc*/
.gbKtit:not(:last-child):after{background-color:var(--separator-color);content:"";position:absolute;right:-2px;top:8px;bottom:8px;width:1px;}/*!sc*/
.gbKtit:focus-within:has(:focus-visible){--separator-color:transparent;}/*!sc*/
.gbKtit:first-child{margin-left:-1px;}/*!sc*/
.gbKtit:last-child{margin-right:-1px;}/*!sc*/
.iBylDf{display:-webkit-box;display:-webkit-flex;display:-ms-flexbox;display:flex;-webkit-align-items:center;-webkit-box-align:center;-ms-flex-align:center;align-items:center;gap:8px;margin-right:8px;}/*!sc*/
.kSGBPx{gap:8px;}/*!sc*/
.etfROT{border:1px solid;border-top:none;border-color:#30363d;border-radius:0px 0px 6px 6px;min-width:273px;}/*!sc*/
.eJsjkT{background-color:var(--bgColor-default,var(--color-canvas-default));border:0px;border-width:0;border-radius:0px 0px 6px 6px;padding:0;min-width:0;margin-top:46px;overflow:auto;}/*!sc*/
.aZrVR{position:fixed;top:0;right:0;height:100%;width:15px;-webkit-transition:-webkit-transform 0.3s;-webkit-transition:transform 0.3s;transition:transform 0.3s;z-index:1;}/*!sc*/
.aZrVR:hover{-webkit-transform:scaleX(1.5);-ms-transform:scaleX(1.5);transform:scaleX(1.5);}/*!sc*/
.bAzdCq{display:-webkit-box;display:-webkit-flex;display:-ms-flexbox;display:flex;-webkit-flex-direction:column;-ms-flex-direction:column;flex-direction:column;-webkit-align-items:center;-webkit-box-align:center;-ms-flex-align:center;align-items:center;padding-top:16px;padding-bottom:16px;}/*!sc*/
data-styled.g2[id="Box-sc-g0xbh4-0"]{content:"fSWWem,kPPmzM,cIAPDV,gvCnwW,ioxSsX,eUyHuk,hAeDYA,dZCkhR,gNdDUH,jywUSN,hBSSUC,iPurHz,kkrdEu,trpoQ,hVHHYa,idZfsJ,bKgizp,bwTunw,caeYDk,jahcnb,ccToMy,cNvKlH,cLfAnm,erWCJP,hwhShM,cYPxpP,fBtiVT,emFMJu,hlUAHL,iStsmI,eIgvIk,eVFfWF,kgXdnT,kzTa-dF,bbXCl,hGGMNu,eHRrYV,dKmYfk,hSNzKh,eTvGbF,kzRgrI,cmAPIB,jwXCBK,bDwCYs,fywjmm,dyczTK,kszRgZ,gtBUEp,MERGN,cMYnca,brFBoI,eYedVD,jGfYmh,lhFvfi,bqgLjk,iJmJly,jACbi,bSdwWB,fleZSW,fOEJrA,gBKNLX,ePiodO,kQJlnf,gJICKO,iZJewz,bESQXL,bfkNRF,fXBLEV,gbKtit,iBylDf,kSGBPx,etfROT,eJsjkT,aZrVR,bAzdCq,"}/*!sc*/
.rTZSs{position:absolute;width:1px;height:1px;padding:0;margin:-1px;overflow:hidden;-webkit-clip:rect(0,0,0,0);clip:rect(0,0,0,0);white-space:nowrap;border-width:0;}/*!sc*/
data-styled.g3[id="_VisuallyHidden__VisuallyHidden-sc-11jhm7a-0"]{content:"rTZSs,"}/*!sc*/
.fUpWeN{display:inline-block;overflow:hidden;text-overflow:ellipsis;vertical-align:top;white-space:nowrap;max-width:125px;max-width:100%;}/*!sc*/
data-styled.g5[id="Truncate__StyledTruncate-sc-23o1d2-0"]{content:"fUpWeN,"}/*!sc*/
.bJBoUI{color:#2f81f7;-webkit-text-decoration:none;text-decoration:none;}/*!sc*/
.bJBoUI:hover{-webkit-text-decoration:underline;text-decoration:underline;}/*!sc*/
.bJBoUI:is(button){display:inline-block;padding:0;font-size:inherit;white-space:nowrap;cursor:pointer;-webkit-user-select:none;-moz-user-select:none;-ms-user-select:none;user-select:none;background-color:transparent;border:0;-webkit-appearance:none;-moz-appearance:none;appearance:none;}/*!sc*/
.iJtJJh{color:#2f81f7;-webkit-text-decoration:none;text-decoration:none;font-weight:600;}/*!sc*/
.iJtJJh:hover{-webkit-text-decoration:underline;text-decoration:underline;}/*!sc*/
.iJtJJh:is(button){display:inline-block;padding:0;font-size:inherit;white-space:nowrap;cursor:pointer;-webkit-user-select:none;-moz-user-select:none;-ms-user-select:none;user-select:none;background-color:transparent;border:0;-webkit-appearance:none;-moz-appearance:none;appearance:none;}/*!sc*/
data-styled.g7[id="Link__StyledLink-sc-14289xe-0"]{content:"bJBoUI,iJtJJh,"}/*!sc*/
.hPEVNM{-webkit-animation:rotate-keyframes 1s linear infinite;animation:rotate-keyframes 1s linear infinite;}/*!sc*/
@-webkit-keyframes rotate-keyframes{100%{-webkit-transform:rotate(360deg);-ms-transform:rotate(360deg);transform:rotate(360deg);}}/*!sc*/
@keyframes rotate-keyframes{100%{-webkit-transform:rotate(360deg);-ms-transform:rotate(360deg);transform:rotate(360deg);}}/*!sc*/
data-styled.g24[id="Spinner__StyledSpinner-sc-1knt686-0"]{content:"hPEVNM,"}/*!sc*/
.hSXtjz{font-size:14px;line-height:20px;color:#e6edf3;vertical-align:middle;background-color:#0d1117;border:1px solid var(--control-borderColor-rest,#30363d);border-radius:6px;outline:none;box-shadow:0 0 transparent;display:-webkit-inline-box;display:-webkit-inline-flex;display:-ms-inline-flexbox;display:inline-flex;-webkit-align-items:stretch;-webkit-box-align:stretch;-ms-flex-align:stretch;align-items:stretch;min-height:32px;display:-webkit-box;display:-webkit-flex;display:-ms-flexbox;display:flex;min-width:200px;}/*!sc*/
.hSXtjz input,.hSXtjz textarea{cursor:text;}/*!sc*/
.hSXtjz select{cursor:pointer;}/*!sc*/
.hSXtjz::-webkit-input-placeholder{color:#6e7681;}/*!sc*/
.hSXtjz::-moz-placeholder{color:#6e7681;}/*!sc*/
.hSXtjz:-ms-input-placeholder{color:#6e7681;}/*!sc*/
.hSXtjz::placeholder{color:#6e7681;}/*!sc*/
.hSXtjz:focus-within{border-color:#2f81f7;outline:none;box-shadow:inset 0 0 0 1px #2f81f7;}/*!sc*/
.hSXtjz > textarea{padding:12px;}/*!sc*/
@media (min-width:768px){.hSXtjz{font-size:14px;}}/*!sc*/
data-styled.g25[id="TextInputWrapper__TextInputBaseWrapper-sc-1mqhpbi-0"]{content:"hSXtjz,"}/*!sc*/
.hZMmEi{background-repeat:no-repeat;background-position:right 8px center;padding-left:12px;padding-right:12px;display:-webkit-box;display:-webkit-flex;display:-ms-flexbox;display:flex;min-width:200px;}/*!sc*/
.hZMmEi > :not(:last-child){margin-right:8px;}/*!sc*/
.hZMmEi .TextInput-icon,.hZMmEi .TextInput-action{-webkit-align-self:center;-ms-flex-item-align:center;align-self:center;color:#7d8590;-webkit-flex-shrink:0;-ms-flex-negative:0;flex-shrink:0;}/*!sc*/
.hZMmEi > input,.hZMmEi > select{padding-left:0;padding-right:0;}/*!sc*/
data-styled.g26[id="TextInputWrapper-sc-1mqhpbi-1"]{content:"hZMmEi,"}/*!sc*/
.cmNjCr{border-radius:6px;border:1px solid;border-color:transparent;font-family:inherit;font-weight:500;font-size:14px;cursor:pointer;-webkit-appearance:none;-moz-appearance:none;appearance:none;-webkit-user-select:none;-moz-user-select:none;-ms-user-select:none;user-select:none;-webkit-text-decoration:none;text-decoration:none;text-align:center;display:-webkit-box;display:-webkit-flex;display:-ms-flexbox;display:flex;-webkit-align-items:center;-webkit-box-align:center;-ms-flex-align:center;align-items:center;-webkit-box-pack:justify;-webkit-justify-content:space-between;-ms-flex-pack:justify;justify-content:space-between;height:32px;padding:0 12px;gap:8px;min-width:-webkit-max-content;min-width:-moz-max-content;min-width:max-content;-webkit-transition:80ms cubic-bezier(0.65,0,0.35,1);transition:80ms cubic-bezier(0.65,0,0.35,1);-webkit-transition-property:color,fill,background-color,border-color;transition-property:color,fill,background-color,border-color;color:#2f81f7;background-color:transparent;box-shadow:none;}/*!sc*/
.cmNjCr:focus:not(:disabled){box-shadow:none;outline:2px solid #2f81f7;outline-offset:-2px;}/*!sc*/
.cmNjCr:focus:not(:disabled):not(:focus-visible){outline:solid 1px transparent;}/*!sc*/
.cmNjCr:focus-visible:not(:disabled){box-shadow:none;outline:2px solid #2f81f7;outline-offset:-2px;}/*!sc*/
.cmNjCr[href]{display:-webkit-inline-box;display:-webkit-inline-flex;display:-ms-inline-flexbox;display:inline-flex;}/*!sc*/
.cmNjCr[href]:hover{-webkit-text-decoration:none;text-decoration:none;}/*!sc*/
.cmNjCr:hover{-webkit-transition-duration:80ms;transition-duration:80ms;}/*!sc*/
.cmNjCr:active{-webkit-transition:none;transition:none;}/*!sc*/
.cmNjCr:disabled{cursor:not-allowed;box-shadow:none;color:#484f58;}/*!sc*/
.cmNjCr:disabled [data-component=ButtonCounter],.cmNjCr:disabled [data-component="leadingVisual"],.cmNjCr:disabled [data-component="trailingAction"]{color:inherit;}/*!sc*/
@media (forced-colors:active){.cmNjCr:focus{outline:solid 1px transparent;}}/*!sc*/
.cmNjCr [data-component=ButtonCounter]{font-size:12px;}/*!sc*/
.cmNjCr[data-component=IconButton]{display:inline-grid;padding:unset;place-content:center;width:32px;min-width:unset;}/*!sc*/
.cmNjCr[data-size="small"]{padding:0 8px;height:28px;gap:4px;font-size:12px;}/*!sc*/
.cmNjCr[data-size="small"] [data-component="text"]{line-height:calc(20 / 12);}/*!sc*/
.cmNjCr[data-size="small"] [data-component=ButtonCounter]{font-size:12px;}/*!sc*/
.cmNjCr[data-size="small"] [data-component="buttonContent"] > :not(:last-child){margin-right:4px;}/*!sc*/
.cmNjCr[data-size="small"][data-component=IconButton]{width:28px;padding:unset;}/*!sc*/
.cmNjCr[data-size="large"]{padding:0 16px;height:40px;gap:8px;}/*!sc*/
.cmNjCr[data-size="large"] [data-component="buttonContent"] > :not(:last-child){margin-right:8px;}/*!sc*/
.cmNjCr[data-size="large"][data-component=IconButton]{width:40px;padding:unset;}/*!sc*/
.cmNjCr[data-block="block"]{width:100%;}/*!sc*/
.cmNjCr [data-component="leadingVisual"]{grid-area:leadingVisual;color:#7d8590;}/*!sc*/
.cmNjCr [data-component="text"]{grid-area:text;line-height:calc(20/14);white-space:nowrap;}/*!sc*/
.cmNjCr [data-component="trailingVisual"]{grid-area:trailingVisual;}/*!sc*/
.cmNjCr [data-component="trailingAction"]{margin-right:-4px;color:#7d8590;}/*!sc*/
.cmNjCr [data-component="buttonContent"]{-webkit-flex:1 0 auto;-ms-flex:1 0 auto;flex:1 0 auto;display:grid;grid-template-areas:"leadingVisual text trailingVisual";grid-template-columns:min-content minmax(0,auto) min-content;-webkit-align-items:center;-webkit-box-align:center;-ms-flex-align:center;align-items:center;-webkit-align-content:center;-ms-flex-line-pack:center;align-content:center;}/*!sc*/
.cmNjCr [data-component="buttonContent"] > :not(:last-child){margin-right:8px;}/*!sc*/
.cmNjCr:hover:not([disabled]){background-color:#30363d;}/*!sc*/
.cmNjCr:active:not([disabled]){background-color:#161b22;}/*!sc*/
.cmNjCr[aria-expanded=true]{background-color:#161b22;}/*!sc*/
.cmNjCr[data-component="IconButton"][data-no-visuals]{color:#7d8590;}/*!sc*/
.cmNjCr[data-no-visuals]{color:#2f81f7;}/*!sc*/
.cmNjCr:has([data-component="ButtonCounter"]){color:#2f81f7;}/*!sc*/
.cmNjCr:disabled[data-no-visuals]{color:#484f58;}/*!sc*/
.cmNjCr:disabled[data-no-visuals] [data-component=ButtonCounter]{color:inherit;}/*!sc*/
.cmNjCr{color:#7d8590;padding-left:8px;padding-right:8px;display:none;}/*!sc*/
@media screen and (max-width:768px){.cmNjCr{display:block;}}/*!sc*/
.lhczWi{border-radius:6px;border:1px solid;border-color:transparent;font-family:inherit;font-weight:500;font-size:14px;cursor:pointer;-webkit-appearance:none;-moz-appearance:none;appearance:none;-webkit-user-select:none;-moz-user-select:none;-ms-user-select:none;user-select:none;-webkit-text-decoration:none;text-decoration:none;text-align:center;display:-webkit-box;display:-webkit-flex;display:-ms-flexbox;display:flex;-webkit-align-items:center;-webkit-box-align:center;-ms-flex-align:center;align-items:center;-webkit-box-pack:justify;-webkit-justify-content:space-between;-ms-flex-pack:justify;justify-content:space-between;height:32px;padding:0 12px;gap:8px;min-width:-webkit-max-content;min-width:-moz-max-content;min-width:max-content;-webkit-transition:80ms cubic-bezier(0.65,0,0.35,1);transition:80ms cubic-bezier(0.65,0,0.35,1);-webkit-transition-property:color,fill,background-color,border-color;transition-property:color,fill,background-color,border-color;color:#2f81f7;background-color:transparent;box-shadow:none;}/*!sc*/
.lhczWi:focus:not(:disabled){box-shadow:none;outline:2px solid #2f81f7;outline-offset:-2px;}/*!sc*/
.lhczWi:focus:not(:disabled):not(:focus-visible){outline:solid 1px transparent;}/*!sc*/
.lhczWi:focus-visible:not(:disabled){box-shadow:none;outline:2px solid #2f81f7;outline-offset:-2px;}/*!sc*/
.lhczWi[href]{display:-webkit-inline-box;display:-webkit-inline-flex;display:-ms-inline-flexbox;display:inline-flex;}/*!sc*/
.lhczWi[href]:hover{-webkit-text-decoration:none;text-decoration:none;}/*!sc*/
.lhczWi:hover{-webkit-transition-duration:80ms;transition-duration:80ms;}/*!sc*/
.lhczWi:active{-webkit-transition:none;transition:none;}/*!sc*/
.lhczWi:disabled{cursor:not-allowed;box-shadow:none;color:#484f58;}/*!sc*/
.lhczWi:disabled [data-component=ButtonCounter],.lhczWi:disabled [data-component="leadingVisual"],.lhczWi:disabled [data-component="trailingAction"]{color:inherit;}/*!sc*/
@media (forced-colors:active){.lhczWi:focus{outline:solid 1px transparent;}}/*!sc*/
.lhczWi [data-component=ButtonCounter]{font-size:12px;}/*!sc*/
.lhczWi[data-component=IconButton]{display:inline-grid;padding:unset;place-content:center;width:32px;min-width:unset;}/*!sc*/
.lhczWi[data-size="small"]{padding:0 8px;height:28px;gap:4px;font-size:12px;}/*!sc*/
.lhczWi[data-size="small"] [data-component="text"]{line-height:calc(20 / 12);}/*!sc*/
.lhczWi[data-size="small"] [data-component=ButtonCounter]{font-size:12px;}/*!sc*/
.lhczWi[data-size="small"] [data-component="buttonContent"] > :not(:last-child){margin-right:4px;}/*!sc*/
.lhczWi[data-size="small"][data-component=IconButton]{width:28px;padding:unset;}/*!sc*/
.lhczWi[data-size="large"]{padding:0 16px;height:40px;gap:8px;}/*!sc*/
.lhczWi[data-size="large"] [data-component="buttonContent"] > :not(:last-child){margin-right:8px;}/*!sc*/
.lhczWi[data-size="large"][data-component=IconButton]{width:40px;padding:unset;}/*!sc*/
.lhczWi[data-block="block"]{width:100%;}/*!sc*/
.lhczWi [data-component="leadingVisual"]{grid-area:leadingVisual;color:#7d8590;}/*!sc*/
.lhczWi [data-component="text"]{grid-area:text;line-height:calc(20/14);white-space:nowrap;}/*!sc*/
.lhczWi [data-component="trailingVisual"]{grid-area:trailingVisual;}/*!sc*/
.lhczWi [data-component="trailingAction"]{margin-right:-4px;color:#7d8590;}/*!sc*/
.lhczWi [data-component="buttonContent"]{-webkit-flex:1 0 auto;-ms-flex:1 0 auto;flex:1 0 auto;display:grid;grid-template-areas:"leadingVisual text trailingVisual";grid-template-columns:min-content minmax(0,auto) min-content;-webkit-align-items:center;-webkit-box-align:center;-ms-flex-align:center;align-items:center;-webkit-align-content:center;-ms-flex-line-pack:center;align-content:center;}/*!sc*/
.lhczWi [data-component="buttonContent"] > :not(:last-child){margin-right:8px;}/*!sc*/
.lhczWi:hover:not([disabled]){background-color:#30363d;}/*!sc*/
.lhczWi:active:not([disabled]){background-color:#161b22;}/*!sc*/
.lhczWi[aria-expanded=true]{background-color:#161b22;}/*!sc*/
.lhczWi[data-component="IconButton"][data-no-visuals]{color:#7d8590;}/*!sc*/
.lhczWi[data-no-visuals]{color:#2f81f7;}/*!sc*/
.lhczWi:has([data-component="ButtonCounter"]){color:#2f81f7;}/*!sc*/
.lhczWi:disabled[data-no-visuals]{color:#484f58;}/*!sc*/
.lhczWi:disabled[data-no-visuals] [data-component=ButtonCounter]{color:inherit;}/*!sc*/
.lhczWi[data-no-visuals="true"]{color:#7d8590;height:32px;position:relative;}/*!sc*/
@media screen and (max-width:768px){.lhczWi[data-no-visuals="true"]{display:none;}}/*!sc*/
.hPfySA{border-radius:6px;border:1px solid;border-color:rgba(240,246,252,0.1);font-family:inherit;font-weight:500;font-size:14px;cursor:pointer;-webkit-appearance:none;-moz-appearance:none;appearance:none;-webkit-user-select:none;-moz-user-select:none;-ms-user-select:none;user-select:none;-webkit-text-decoration:none;text-decoration:none;text-align:center;display:-webkit-box;display:-webkit-flex;display:-ms-flexbox;display:flex;-webkit-align-items:center;-webkit-box-align:center;-ms-flex-align:center;align-items:center;-webkit-box-pack:justify;-webkit-justify-content:space-between;-ms-flex-pack:justify;justify-content:space-between;height:32px;padding:0 12px;gap:8px;min-width:-webkit-max-content;min-width:-moz-max-content;min-width:max-content;-webkit-transition:80ms cubic-bezier(0.65,0,0.35,1);transition:80ms cubic-bezier(0.65,0,0.35,1);-webkit-transition-property:color,fill,background-color,border-color;transition-property:color,fill,background-color,border-color;color:#c9d1d9;background-color:#21262d;box-shadow:0 0 transparent,0 0 transparent;}/*!sc*/
.hPfySA:focus:not(:disabled){box-shadow:none;outline:2px solid #2f81f7;outline-offset:-2px;}/*!sc*/
.hPfySA:focus:not(:disabled):not(:focus-visible){outline:solid 1px transparent;}/*!sc*/
.hPfySA:focus-visible:not(:disabled){box-shadow:none;outline:2px solid #2f81f7;outline-offset:-2px;}/*!sc*/
.hPfySA[href]{display:-webkit-inline-box;display:-webkit-inline-flex;display:-ms-inline-flexbox;display:inline-flex;}/*!sc*/
.hPfySA[href]:hover{-webkit-text-decoration:none;text-decoration:none;}/*!sc*/
.hPfySA:hover{-webkit-transition-duration:80ms;transition-duration:80ms;}/*!sc*/
.hPfySA:active{-webkit-transition:none;transition:none;}/*!sc*/
.hPfySA:disabled{cursor:not-allowed;box-shadow:none;color:#484f58;}/*!sc*/
.hPfySA:disabled [data-component=ButtonCounter]{color:inherit;}/*!sc*/
@media (forced-colors:active){.hPfySA:focus{outline:solid 1px transparent;}}/*!sc*/
.hPfySA [data-component=ButtonCounter]{font-size:12px;}/*!sc*/
.hPfySA[data-component=IconButton]{display:inline-grid;padding:unset;place-content:center;width:32px;min-width:unset;}/*!sc*/
.hPfySA[data-size="small"]{padding:0 8px;height:28px;gap:4px;font-size:12px;}/*!sc*/
.hPfySA[data-size="small"] [data-component="text"]{line-height:calc(20 / 12);}/*!sc*/
.hPfySA[data-size="small"] [data-component=ButtonCounter]{font-size:12px;}/*!sc*/
.hPfySA[data-size="small"] [data-component="buttonContent"] > :not(:last-child){margin-right:4px;}/*!sc*/
.hPfySA[data-size="small"][data-component=IconButton]{width:28px;padding:unset;}/*!sc*/
.hPfySA[data-size="large"]{padding:0 16px;height:40px;gap:8px;}/*!sc*/
.hPfySA[data-size="large"] [data-component="buttonContent"] > :not(:last-child){margin-right:8px;}/*!sc*/
.hPfySA[data-size="large"][data-component=IconButton]{width:40px;padding:unset;}/*!sc*/
.hPfySA[data-block="block"]{width:100%;}/*!sc*/
.hPfySA [data-component="leadingVisual"]{grid-area:leadingVisual;}/*!sc*/
.hPfySA [data-component="text"]{grid-area:text;line-height:calc(20/14);white-space:nowrap;}/*!sc*/
.hPfySA [data-component="trailingVisual"]{grid-area:trailingVisual;}/*!sc*/
.hPfySA [data-component="trailingAction"]{margin-right:-4px;}/*!sc*/
.hPfySA [data-component="buttonContent"]{-webkit-flex:1 0 auto;-ms-flex:1 0 auto;flex:1 0 auto;display:grid;grid-template-areas:"leadingVisual text trailingVisual";grid-template-columns:min-content minmax(0,auto) min-content;-webkit-align-items:center;-webkit-box-align:center;-ms-flex-align:center;align-items:center;-webkit-align-content:center;-ms-flex-line-pack:center;align-content:center;}/*!sc*/
.hPfySA [data-component="buttonContent"] > :not(:last-child){margin-right:8px;}/*!sc*/
.hPfySA:hover:not([disabled]){background-color:#30363d;border-color:#8b949e;}/*!sc*/
.hPfySA:active:not([disabled]){background-color:hsla(212,12%,18%,1);border-color:#6e7681;}/*!sc*/
.hPfySA[aria-expanded=true]{background-color:hsla(212,12%,18%,1);border-color:#6e7681;}/*!sc*/
.hPfySA [data-component="leadingVisual"],.hPfySA [data-component="trailingVisual"],.hPfySA [data-component="trailingAction"]{color:#7d8590;}/*!sc*/
.hPfySA{display:-webkit-box;display:-webkit-flex;display:-ms-flexbox;display:flex;min-width:0;}/*!sc*/
.hPfySA svg{color:#7d8590;}/*!sc*/
.hPfySA > span{width:inherit;}/*!sc*/
.dRdQkF{border-radius:6px;border:1px solid;border-color:rgba(240,246,252,0.1);font-family:inherit;font-weight:500;font-size:14px;cursor:pointer;-webkit-appearance:none;-moz-appearance:none;appearance:none;-webkit-user-select:none;-moz-user-select:none;-ms-user-select:none;user-select:none;-webkit-text-decoration:none;text-decoration:none;text-align:center;display:-webkit-box;display:-webkit-flex;display:-ms-flexbox;display:flex;-webkit-align-items:center;-webkit-box-align:center;-ms-flex-align:center;align-items:center;-webkit-box-pack:justify;-webkit-justify-content:space-between;-ms-flex-pack:justify;justify-content:space-between;height:32px;padding:0 12px;gap:8px;min-width:-webkit-max-content;min-width:-moz-max-content;min-width:max-content;-webkit-transition:80ms cubic-bezier(0.65,0,0.35,1);transition:80ms cubic-bezier(0.65,0,0.35,1);-webkit-transition-property:color,fill,background-color,border-color;transition-property:color,fill,background-color,border-color;color:#c9d1d9;background-color:#21262d;box-shadow:0 0 transparent,0 0 transparent;}/*!sc*/
.dRdQkF:focus:not(:disabled){box-shadow:none;outline:2px solid #2f81f7;outline-offset:-2px;}/*!sc*/
.dRdQkF:focus:not(:disabled):not(:focus-visible){outline:solid 1px transparent;}/*!sc*/
.dRdQkF:focus-visible:not(:disabled){box-shadow:none;outline:2px solid #2f81f7;outline-offset:-2px;}/*!sc*/
.dRdQkF[href]{display:-webkit-inline-box;display:-webkit-inline-flex;display:-ms-inline-flexbox;display:inline-flex;}/*!sc*/
.dRdQkF[href]:hover{-webkit-text-decoration:none;text-decoration:none;}/*!sc*/
.dRdQkF:hover{-webkit-transition-duration:80ms;transition-duration:80ms;}/*!sc*/
.dRdQkF:active{-webkit-transition:none;transition:none;}/*!sc*/
.dRdQkF:disabled{cursor:not-allowed;box-shadow:none;color:#484f58;}/*!sc*/
.dRdQkF:disabled [data-component=ButtonCounter]{color:inherit;}/*!sc*/
@media (forced-colors:active){.dRdQkF:focus{outline:solid 1px transparent;}}/*!sc*/
.dRdQkF [data-component=ButtonCounter]{font-size:12px;}/*!sc*/
.dRdQkF[data-component=IconButton]{display:inline-grid;padding:unset;place-content:center;width:32px;min-width:unset;}/*!sc*/
.dRdQkF[data-size="small"]{padding:0 8px;height:28px;gap:4px;font-size:12px;}/*!sc*/
.dRdQkF[data-size="small"] [data-component="text"]{line-height:calc(20 / 12);}/*!sc*/
.dRdQkF[data-size="small"] [data-component=ButtonCounter]{font-size:12px;}/*!sc*/
.dRdQkF[data-size="small"] [data-component="buttonContent"] > :not(:last-child){margin-right:4px;}/*!sc*/
.dRdQkF[data-size="small"][data-component=IconButton]{width:28px;padding:unset;}/*!sc*/
.dRdQkF[data-size="large"]{padding:0 16px;height:40px;gap:8px;}/*!sc*/
.dRdQkF[data-size="large"] [data-component="buttonContent"] > :not(:last-child){margin-right:8px;}/*!sc*/
.dRdQkF[data-size="large"][data-component=IconButton]{width:40px;padding:unset;}/*!sc*/
.dRdQkF[data-block="block"]{width:100%;}/*!sc*/
.dRdQkF [data-component="leadingVisual"]{grid-area:leadingVisual;}/*!sc*/
.dRdQkF [data-component="text"]{grid-area:text;line-height:calc(20/14);white-space:nowrap;}/*!sc*/
.dRdQkF [data-component="trailingVisual"]{grid-area:trailingVisual;}/*!sc*/
.dRdQkF [data-component="trailingAction"]{margin-right:-4px;}/*!sc*/
.dRdQkF [data-component="buttonContent"]{-webkit-flex:1 0 auto;-ms-flex:1 0 auto;flex:1 0 auto;display:grid;grid-template-areas:"leadingVisual text trailingVisual";grid-template-columns:min-content minmax(0,auto) min-content;-webkit-align-items:center;-webkit-box-align:center;-ms-flex-align:center;align-items:center;-webkit-align-content:center;-ms-flex-line-pack:center;align-content:center;}/*!sc*/
.dRdQkF [data-component="buttonContent"] > :not(:last-child){margin-right:8px;}/*!sc*/
.dRdQkF:hover:not([disabled]){background-color:#30363d;border-color:#8b949e;}/*!sc*/
.dRdQkF:active:not([disabled]){background-color:hsla(212,12%,18%,1);border-color:#6e7681;}/*!sc*/
.dRdQkF[aria-expanded=true]{background-color:hsla(212,12%,18%,1);border-color:#6e7681;}/*!sc*/
.dRdQkF [data-component="leadingVisual"],.dRdQkF [data-component="trailingVisual"],.dRdQkF [data-component="trailingAction"]{color:#7d8590;}/*!sc*/
.dRdQkF[data-no-visuals="true"]{color:#6e7681;border-top-right-radius:0;border-bottom-right-radius:0;border-right:0;}/*!sc*/
.dsmVIn{border-radius:6px;border:1px solid;border-color:rgba(240,246,252,0.1);font-family:inherit;font-weight:500;font-size:14px;cursor:pointer;-webkit-appearance:none;-moz-appearance:none;appearance:none;-webkit-user-select:none;-moz-user-select:none;-ms-user-select:none;user-select:none;-webkit-text-decoration:none;text-decoration:none;text-align:center;display:-webkit-box;display:-webkit-flex;display:-ms-flexbox;display:flex;-webkit-align-items:center;-webkit-box-align:center;-ms-flex-align:center;align-items:center;-webkit-box-pack:justify;-webkit-justify-content:space-between;-ms-flex-pack:justify;justify-content:space-between;height:32px;padding:0 12px;gap:8px;min-width:-webkit-max-content;min-width:-moz-max-content;min-width:max-content;-webkit-transition:80ms cubic-bezier(0.65,0,0.35,1);transition:80ms cubic-bezier(0.65,0,0.35,1);-webkit-transition-property:color,fill,background-color,border-color;transition-property:color,fill,background-color,border-color;color:#c9d1d9;background-color:#21262d;box-shadow:0 0 transparent,0 0 transparent;}/*!sc*/
.dsmVIn:focus:not(:disabled){box-shadow:none;outline:2px solid #2f81f7;outline-offset:-2px;}/*!sc*/
.dsmVIn:focus:not(:disabled):not(:focus-visible){outline:solid 1px transparent;}/*!sc*/
.dsmVIn:focus-visible:not(:disabled){box-shadow:none;outline:2px solid #2f81f7;outline-offset:-2px;}/*!sc*/
.dsmVIn[href]{display:-webkit-inline-box;display:-webkit-inline-flex;display:-ms-inline-flexbox;display:inline-flex;}/*!sc*/
.dsmVIn[href]:hover{-webkit-text-decoration:none;text-decoration:none;}/*!sc*/
.dsmVIn:hover{-webkit-transition-duration:80ms;transition-duration:80ms;}/*!sc*/
.dsmVIn:active{-webkit-transition:none;transition:none;}/*!sc*/
.dsmVIn:disabled{cursor:not-allowed;box-shadow:none;color:#484f58;}/*!sc*/
.dsmVIn:disabled [data-component=ButtonCounter]{color:inherit;}/*!sc*/
@media (forced-colors:active){.dsmVIn:focus{outline:solid 1px transparent;}}/*!sc*/
.dsmVIn [data-component=ButtonCounter]{font-size:12px;}/*!sc*/
.dsmVIn[data-component=IconButton]{display:inline-grid;padding:unset;place-content:center;width:32px;min-width:unset;}/*!sc*/
.dsmVIn[data-size="small"]{padding:0 8px;height:28px;gap:4px;font-size:12px;}/*!sc*/
.dsmVIn[data-size="small"] [data-component="text"]{line-height:calc(20 / 12);}/*!sc*/
.dsmVIn[data-size="small"] [data-component=ButtonCounter]{font-size:12px;}/*!sc*/
.dsmVIn[data-size="small"] [data-component="buttonContent"] > :not(:last-child){margin-right:4px;}/*!sc*/
.dsmVIn[data-size="small"][data-component=IconButton]{width:28px;padding:unset;}/*!sc*/
.dsmVIn[data-size="large"]{padding:0 16px;height:40px;gap:8px;}/*!sc*/
.dsmVIn[data-size="large"] [data-component="buttonContent"] > :not(:last-child){margin-right:8px;}/*!sc*/
.dsmVIn[data-size="large"][data-component=IconButton]{width:40px;padding:unset;}/*!sc*/
.dsmVIn[data-block="block"]{width:100%;}/*!sc*/
.dsmVIn [data-component="leadingVisual"]{grid-area:leadingVisual;}/*!sc*/
.dsmVIn [data-component="text"]{grid-area:text;line-height:calc(20/14);white-space:nowrap;}/*!sc*/
.dsmVIn [data-component="trailingVisual"]{grid-area:trailingVisual;}/*!sc*/
.dsmVIn [data-component="trailingAction"]{margin-right:-4px;}/*!sc*/
.dsmVIn [data-component="buttonContent"]{-webkit-flex:1 0 auto;-ms-flex:1 0 auto;flex:1 0 auto;display:grid;grid-template-areas:"leadingVisual text trailingVisual";grid-template-columns:min-content minmax(0,auto) min-content;-webkit-align-items:center;-webkit-box-align:center;-ms-flex-align:center;align-items:center;-webkit-align-content:center;-ms-flex-line-pack:center;align-content:center;}/*!sc*/
.dsmVIn [data-component="buttonContent"] > :not(:last-child){margin-right:8px;}/*!sc*/
.dsmVIn:hover:not([disabled]){background-color:#30363d;border-color:#8b949e;}/*!sc*/
.dsmVIn:active:not([disabled]){background-color:hsla(212,12%,18%,1);border-color:#6e7681;}/*!sc*/
.dsmVIn[aria-expanded=true]{background-color:hsla(212,12%,18%,1);border-color:#6e7681;}/*!sc*/
.dsmVIn [data-component="leadingVisual"],.dsmVIn [data-component="trailingVisual"],.dsmVIn [data-component="trailingAction"]{color:#7d8590;}/*!sc*/
.dsmVIn[data-no-visuals="true"]{color:#6e7681;font-size:14px;font-weight:400;-webkit-flex-shrink:0;-ms-flex-negative:0;flex-shrink:0;border-top-left-radius:0;border-bottom-left-radius:0;}/*!sc*/
.ePclzw{border-radius:6px;border:1px solid;border-color:rgba(240,246,252,0.1);font-family:inherit;font-weight:500;font-size:14px;cursor:pointer;-webkit-appearance:none;-moz-appearance:none;appearance:none;-webkit-user-select:none;-moz-user-select:none;-ms-user-select:none;user-select:none;-webkit-text-decoration:none;text-decoration:none;text-align:center;display:-webkit-box;display:-webkit-flex;display:-ms-flexbox;display:flex;-webkit-align-items:center;-webkit-box-align:center;-ms-flex-align:center;align-items:center;-webkit-box-pack:justify;-webkit-justify-content:space-between;-ms-flex-pack:justify;justify-content:space-between;height:32px;padding:0 12px;gap:8px;min-width:-webkit-max-content;min-width:-moz-max-content;min-width:max-content;-webkit-transition:80ms cubic-bezier(0.65,0,0.35,1);transition:80ms cubic-bezier(0.65,0,0.35,1);-webkit-transition-property:color,fill,background-color,border-color;transition-property:color,fill,background-color,border-color;color:#c9d1d9;background-color:#21262d;box-shadow:0 0 transparent,0 0 transparent;}/*!sc*/
.ePclzw:focus:not(:disabled){box-shadow:none;outline:2px solid #2f81f7;outline-offset:-2px;}/*!sc*/
.ePclzw:focus:not(:disabled):not(:focus-visible){outline:solid 1px transparent;}/*!sc*/
.ePclzw:focus-visible:not(:disabled){box-shadow:none;outline:2px solid #2f81f7;outline-offset:-2px;}/*!sc*/
.ePclzw[href]{display:-webkit-inline-box;display:-webkit-inline-flex;display:-ms-inline-flexbox;display:inline-flex;}/*!sc*/
.ePclzw[href]:hover{-webkit-text-decoration:none;text-decoration:none;}/*!sc*/
.ePclzw:hover{-webkit-transition-duration:80ms;transition-duration:80ms;}/*!sc*/
.ePclzw:active{-webkit-transition:none;transition:none;}/*!sc*/
.ePclzw:disabled{cursor:not-allowed;box-shadow:none;color:#484f58;}/*!sc*/
.ePclzw:disabled [data-component=ButtonCounter]{color:inherit;}/*!sc*/
@media (forced-colors:active){.ePclzw:focus{outline:solid 1px transparent;}}/*!sc*/
.ePclzw [data-component=ButtonCounter]{font-size:12px;}/*!sc*/
.ePclzw[data-component=IconButton]{display:inline-grid;padding:unset;place-content:center;width:32px;min-width:unset;}/*!sc*/
.ePclzw[data-size="small"]{padding:0 8px;height:28px;gap:4px;font-size:12px;}/*!sc*/
.ePclzw[data-size="small"] [data-component="text"]{line-height:calc(20 / 12);}/*!sc*/
.ePclzw[data-size="small"] [data-component=ButtonCounter]{font-size:12px;}/*!sc*/
.ePclzw[data-size="small"] [data-component="buttonContent"] > :not(:last-child){margin-right:4px;}/*!sc*/
.ePclzw[data-size="small"][data-component=IconButton]{width:28px;padding:unset;}/*!sc*/
.ePclzw[data-size="large"]{padding:0 16px;height:40px;gap:8px;}/*!sc*/
.ePclzw[data-size="large"] [data-component="buttonContent"] > :not(:last-child){margin-right:8px;}/*!sc*/
.ePclzw[data-size="large"][data-component=IconButton]{width:40px;padding:unset;}/*!sc*/
.ePclzw[data-block="block"]{width:100%;}/*!sc*/
.ePclzw [data-component="leadingVisual"]{grid-area:leadingVisual;}/*!sc*/
.ePclzw [data-component="text"]{grid-area:text;line-height:calc(20/14);white-space:nowrap;}/*!sc*/
.ePclzw [data-component="trailingVisual"]{grid-area:trailingVisual;}/*!sc*/
.ePclzw [data-component="trailingAction"]{margin-right:-4px;}/*!sc*/
.ePclzw [data-component="buttonContent"]{-webkit-flex:1 0 auto;-ms-flex:1 0 auto;flex:1 0 auto;display:grid;grid-template-areas:"leadingVisual text trailingVisual";grid-template-columns:min-content minmax(0,auto) min-content;-webkit-align-items:center;-webkit-box-align:center;-ms-flex-align:center;align-items:center;-webkit-align-content:center;-ms-flex-line-pack:center;align-content:center;}/*!sc*/
.ePclzw [data-component="buttonContent"] > :not(:last-child){margin-right:8px;}/*!sc*/
.ePclzw:hover:not([disabled]){background-color:#30363d;border-color:#8b949e;}/*!sc*/
.ePclzw:active:not([disabled]){background-color:hsla(212,12%,18%,1);border-color:#6e7681;}/*!sc*/
.ePclzw[aria-expanded=true]{background-color:hsla(212,12%,18%,1);border-color:#6e7681;}/*!sc*/
.ePclzw [data-component="leadingVisual"],.ePclzw [data-component="trailingVisual"],.ePclzw [data-component="trailingAction"]{color:#7d8590;}/*!sc*/
.ePclzw{display:-webkit-box;display:-webkit-flex;display:-ms-flexbox;display:flex;}/*!sc*/
.ePclzw svg{color:#7d8590;}/*!sc*/
.ePclzw > span{width:inherit;}/*!sc*/
.hPOZTU{border-radius:6px;border:1px solid;border-color:rgba(240,246,252,0.1);font-family:inherit;font-weight:500;font-size:14px;cursor:pointer;-webkit-appearance:none;-moz-appearance:none;appearance:none;-webkit-user-select:none;-moz-user-select:none;-ms-user-select:none;user-select:none;-webkit-text-decoration:none;text-decoration:none;text-align:center;display:-webkit-box;display:-webkit-flex;display:-ms-flexbox;display:flex;-webkit-align-items:center;-webkit-box-align:center;-ms-flex-align:center;align-items:center;-webkit-box-pack:justify;-webkit-justify-content:space-between;-ms-flex-pack:justify;justify-content:space-between;height:32px;padding:0 12px;gap:8px;min-width:-webkit-max-content;min-width:-moz-max-content;min-width:max-content;-webkit-transition:80ms cubic-bezier(0.65,0,0.35,1);transition:80ms cubic-bezier(0.65,0,0.35,1);-webkit-transition-property:color,fill,background-color,border-color;transition-property:color,fill,background-color,border-color;color:#c9d1d9;background-color:#21262d;box-shadow:0 0 transparent,0 0 transparent;}/*!sc*/
.hPOZTU:focus:not(:disabled){box-shadow:none;outline:2px solid #2f81f7;outline-offset:-2px;}/*!sc*/
.hPOZTU:focus:not(:disabled):not(:focus-visible){outline:solid 1px transparent;}/*!sc*/
.hPOZTU:focus-visible:not(:disabled){box-shadow:none;outline:2px solid #2f81f7;outline-offset:-2px;}/*!sc*/
.hPOZTU[href]{display:-webkit-inline-box;display:-webkit-inline-flex;display:-ms-inline-flexbox;display:inline-flex;}/*!sc*/
.hPOZTU[href]:hover{-webkit-text-decoration:none;text-decoration:none;}/*!sc*/
.hPOZTU:hover{-webkit-transition-duration:80ms;transition-duration:80ms;}/*!sc*/
.hPOZTU:active{-webkit-transition:none;transition:none;}/*!sc*/
.hPOZTU:disabled{cursor:not-allowed;box-shadow:none;color:#484f58;}/*!sc*/
.hPOZTU:disabled [data-component=ButtonCounter]{color:inherit;}/*!sc*/
@media (forced-colors:active){.hPOZTU:focus{outline:solid 1px transparent;}}/*!sc*/
.hPOZTU [data-component=ButtonCounter]{font-size:12px;}/*!sc*/
.hPOZTU[data-component=IconButton]{display:inline-grid;padding:unset;place-content:center;width:32px;min-width:unset;}/*!sc*/
.hPOZTU[data-size="small"]{padding:0 8px;height:28px;gap:4px;font-size:12px;}/*!sc*/
.hPOZTU[data-size="small"] [data-component="text"]{line-height:calc(20 / 12);}/*!sc*/
.hPOZTU[data-size="small"] [data-component=ButtonCounter]{font-size:12px;}/*!sc*/
.hPOZTU[data-size="small"] [data-component="buttonContent"] > :not(:last-child){margin-right:4px;}/*!sc*/
.hPOZTU[data-size="small"][data-component=IconButton]{width:28px;padding:unset;}/*!sc*/
.hPOZTU[data-size="large"]{padding:0 16px;height:40px;gap:8px;}/*!sc*/
.hPOZTU[data-size="large"] [data-component="buttonContent"] > :not(:last-child){margin-right:8px;}/*!sc*/
.hPOZTU[data-size="large"][data-component=IconButton]{width:40px;padding:unset;}/*!sc*/
.hPOZTU[data-block="block"]{width:100%;}/*!sc*/
.hPOZTU [data-component="leadingVisual"]{grid-area:leadingVisual;}/*!sc*/
.hPOZTU [data-component="text"]{grid-area:text;line-height:calc(20/14);white-space:nowrap;}/*!sc*/
.hPOZTU [data-component="trailingVisual"]{grid-area:trailingVisual;}/*!sc*/
.hPOZTU [data-component="trailingAction"]{margin-right:-4px;}/*!sc*/
.hPOZTU [data-component="buttonContent"]{-webkit-flex:1 0 auto;-ms-flex:1 0 auto;flex:1 0 auto;display:grid;grid-template-areas:"leadingVisual text trailingVisual";grid-template-columns:min-content minmax(0,auto) min-content;-webkit-align-items:center;-webkit-box-align:center;-ms-flex-align:center;align-items:center;-webkit-align-content:center;-ms-flex-line-pack:center;align-content:center;}/*!sc*/
.hPOZTU [data-component="buttonContent"] > :not(:last-child){margin-right:8px;}/*!sc*/
.hPOZTU:hover:not([disabled]){background-color:#30363d;border-color:#8b949e;}/*!sc*/
.hPOZTU:active:not([disabled]){background-color:hsla(212,12%,18%,1);border-color:#6e7681;}/*!sc*/
.hPOZTU[aria-expanded=true]{background-color:hsla(212,12%,18%,1);border-color:#6e7681;}/*!sc*/
.hPOZTU [data-component="leadingVisual"],.hPOZTU [data-component="trailingVisual"],.hPOZTU [data-component="trailingAction"]{color:#7d8590;}/*!sc*/
.hPOZTU[data-no-visuals="true"]{border-top-left-radius:0;border-bottom-left-radius:0;display:none;}/*!sc*/
.jcILRt{border-radius:6px;border:1px solid;border-color:rgba(240,246,252,0.1);font-family:inherit;font-weight:500;font-size:14px;cursor:pointer;-webkit-appearance:none;-moz-appearance:none;appearance:none;-webkit-user-select:none;-moz-user-select:none;-ms-user-select:none;user-select:none;-webkit-text-decoration:none;text-decoration:none;text-align:center;display:-webkit-box;display:-webkit-flex;display:-ms-flexbox;display:flex;-webkit-align-items:center;-webkit-box-align:center;-ms-flex-align:center;align-items:center;-webkit-box-pack:justify;-webkit-justify-content:space-between;-ms-flex-pack:justify;justify-content:space-between;height:32px;padding:0 12px;gap:8px;min-width:-webkit-max-content;min-width:-moz-max-content;min-width:max-content;-webkit-transition:80ms cubic-bezier(0.65,0,0.35,1);transition:80ms cubic-bezier(0.65,0,0.35,1);-webkit-transition-property:color,fill,background-color,border-color;transition-property:color,fill,background-color,border-color;color:#c9d1d9;background-color:#21262d;box-shadow:0 0 transparent,0 0 transparent;}/*!sc*/
.jcILRt:focus:not(:disabled){box-shadow:none;outline:2px solid #2f81f7;outline-offset:-2px;}/*!sc*/
.jcILRt:focus:not(:disabled):not(:focus-visible){outline:solid 1px transparent;}/*!sc*/
.jcILRt:focus-visible:not(:disabled){box-shadow:none;outline:2px solid #2f81f7;outline-offset:-2px;}/*!sc*/
.jcILRt[href]{display:-webkit-inline-box;display:-webkit-inline-flex;display:-ms-inline-flexbox;display:inline-flex;}/*!sc*/
.jcILRt[href]:hover{-webkit-text-decoration:none;text-decoration:none;}/*!sc*/
.jcILRt:hover{-webkit-transition-duration:80ms;transition-duration:80ms;}/*!sc*/
.jcILRt:active{-webkit-transition:none;transition:none;}/*!sc*/
.jcILRt:disabled{cursor:not-allowed;box-shadow:none;color:#484f58;}/*!sc*/
.jcILRt:disabled [data-component=ButtonCounter]{color:inherit;}/*!sc*/
@media (forced-colors:active){.jcILRt:focus{outline:solid 1px transparent;}}/*!sc*/
.jcILRt [data-component=ButtonCounter]{font-size:12px;}/*!sc*/
.jcILRt[data-component=IconButton]{display:inline-grid;padding:unset;place-content:center;width:32px;min-width:unset;}/*!sc*/
.jcILRt[data-size="small"]{padding:0 8px;height:28px;gap:4px;font-size:12px;}/*!sc*/
.jcILRt[data-size="small"] [data-component="text"]{line-height:calc(20 / 12);}/*!sc*/
.jcILRt[data-size="small"] [data-component=ButtonCounter]{font-size:12px;}/*!sc*/
.jcILRt[data-size="small"] [data-component="buttonContent"] > :not(:last-child){margin-right:4px;}/*!sc*/
.jcILRt[data-size="small"][data-component=IconButton]{width:28px;padding:unset;}/*!sc*/
.jcILRt[data-size="large"]{padding:0 16px;height:40px;gap:8px;}/*!sc*/
.jcILRt[data-size="large"] [data-component="buttonContent"] > :not(:last-child){margin-right:8px;}/*!sc*/
.jcILRt[data-size="large"][data-component=IconButton]{width:40px;padding:unset;}/*!sc*/
.jcILRt[data-block="block"]{width:100%;}/*!sc*/
.jcILRt [data-component="leadingVisual"]{grid-area:leadingVisual;}/*!sc*/
.jcILRt [data-component="text"]{grid-area:text;line-height:calc(20/14);white-space:nowrap;}/*!sc*/
.jcILRt [data-component="trailingVisual"]{grid-area:trailingVisual;}/*!sc*/
.jcILRt [data-component="trailingAction"]{margin-right:-4px;}/*!sc*/
.jcILRt [data-component="buttonContent"]{-webkit-flex:1 0 auto;-ms-flex:1 0 auto;flex:1 0 auto;display:grid;grid-template-areas:"leadingVisual text trailingVisual";grid-template-columns:min-content minmax(0,auto) min-content;-webkit-align-items:center;-webkit-box-align:center;-ms-flex-align:center;align-items:center;-webkit-align-content:center;-ms-flex-line-pack:center;align-content:center;}/*!sc*/
.jcILRt [data-component="buttonContent"] > :not(:last-child){margin-right:8px;}/*!sc*/
.jcILRt:hover:not([disabled]){background-color:#30363d;border-color:#8b949e;}/*!sc*/
.jcILRt:active:not([disabled]){background-color:hsla(212,12%,18%,1);border-color:#6e7681;}/*!sc*/
.jcILRt[aria-expanded=true]{background-color:hsla(212,12%,18%,1);border-color:#6e7681;}/*!sc*/
.jcILRt [data-component="leadingVisual"],.jcILRt [data-component="trailingVisual"],.jcILRt [data-component="trailingAction"]{color:#7d8590;}/*!sc*/
.jcILRt[data-no-visuals="true"]{color:#7d8590;}/*!sc*/
.dzga-dt{border-radius:6px;border:1px solid;border-color:transparent;font-family:inherit;font-weight:500;font-size:14px;cursor:pointer;-webkit-appearance:none;-moz-appearance:none;appearance:none;-webkit-user-select:none;-moz-user-select:none;-ms-user-select:none;user-select:none;-webkit-text-decoration:none;text-decoration:none;text-align:center;display:-webkit-box;display:-webkit-flex;display:-ms-flexbox;display:flex;-webkit-align-items:center;-webkit-box-align:center;-ms-flex-align:center;align-items:center;-webkit-box-pack:justify;-webkit-justify-content:space-between;-ms-flex-pack:justify;justify-content:space-between;height:32px;padding:0 12px;gap:8px;min-width:-webkit-max-content;min-width:-moz-max-content;min-width:max-content;-webkit-transition:80ms cubic-bezier(0.65,0,0.35,1);transition:80ms cubic-bezier(0.65,0,0.35,1);-webkit-transition-property:color,fill,background-color,border-color;transition-property:color,fill,background-color,border-color;color:#2f81f7;background-color:transparent;box-shadow:none;}/*!sc*/
.dzga-dt:focus:not(:disabled){box-shadow:none;outline:2px solid #2f81f7;outline-offset:-2px;}/*!sc*/
.dzga-dt:focus:not(:disabled):not(:focus-visible){outline:solid 1px transparent;}/*!sc*/
.dzga-dt:focus-visible:not(:disabled){box-shadow:none;outline:2px solid #2f81f7;outline-offset:-2px;}/*!sc*/
.dzga-dt[href]{display:-webkit-inline-box;display:-webkit-inline-flex;display:-ms-inline-flexbox;display:inline-flex;}/*!sc*/
.dzga-dt[href]:hover{-webkit-text-decoration:none;text-decoration:none;}/*!sc*/
.dzga-dt:hover{-webkit-transition-duration:80ms;transition-duration:80ms;}/*!sc*/
.dzga-dt:active{-webkit-transition:none;transition:none;}/*!sc*/
.dzga-dt:disabled{cursor:not-allowed;box-shadow:none;color:#484f58;}/*!sc*/
.dzga-dt:disabled [data-component=ButtonCounter],.dzga-dt:disabled [data-component="leadingVisual"],.dzga-dt:disabled [data-component="trailingAction"]{color:inherit;}/*!sc*/
@media (forced-colors:active){.dzga-dt:focus{outline:solid 1px transparent;}}/*!sc*/
.dzga-dt [data-component=ButtonCounter]{font-size:12px;}/*!sc*/
.dzga-dt[data-component=IconButton]{display:inline-grid;padding:unset;place-content:center;width:32px;min-width:unset;}/*!sc*/
.dzga-dt[data-size="small"]{padding:0 8px;height:28px;gap:4px;font-size:12px;}/*!sc*/
.dzga-dt[data-size="small"] [data-component="text"]{line-height:calc(20 / 12);}/*!sc*/
.dzga-dt[data-size="small"] [data-component=ButtonCounter]{font-size:12px;}/*!sc*/
.dzga-dt[data-size="small"] [data-component="buttonContent"] > :not(:last-child){margin-right:4px;}/*!sc*/
.dzga-dt[data-size="small"][data-component=IconButton]{width:28px;padding:unset;}/*!sc*/
.dzga-dt[data-size="large"]{padding:0 16px;height:40px;gap:8px;}/*!sc*/
.dzga-dt[data-size="large"] [data-component="buttonContent"] > :not(:last-child){margin-right:8px;}/*!sc*/
.dzga-dt[data-size="large"][data-component=IconButton]{width:40px;padding:unset;}/*!sc*/
.dzga-dt[data-block="block"]{width:100%;}/*!sc*/
.dzga-dt [data-component="leadingVisual"]{grid-area:leadingVisual;color:#7d8590;}/*!sc*/
.dzga-dt [data-component="text"]{grid-area:text;line-height:calc(20/14);white-space:nowrap;}/*!sc*/
.dzga-dt [data-component="trailingVisual"]{grid-area:trailingVisual;}/*!sc*/
.dzga-dt [data-component="trailingAction"]{margin-right:-4px;color:#7d8590;}/*!sc*/
.dzga-dt [data-component="buttonContent"]{-webkit-flex:1 0 auto;-ms-flex:1 0 auto;flex:1 0 auto;display:grid;grid-template-areas:"leadingVisual text trailingVisual";grid-template-columns:min-content minmax(0,auto) min-content;-webkit-align-items:center;-webkit-box-align:center;-ms-flex-align:center;align-items:center;-webkit-align-content:center;-ms-flex-line-pack:center;align-content:center;}/*!sc*/
.dzga-dt [data-component="buttonContent"] > :not(:last-child){margin-right:8px;}/*!sc*/
.dzga-dt:hover:not([disabled]){background-color:#30363d;}/*!sc*/
.dzga-dt:active:not([disabled]){background-color:#161b22;}/*!sc*/
.dzga-dt[aria-expanded=true]{background-color:#161b22;}/*!sc*/
.dzga-dt[data-component="IconButton"][data-no-visuals]{color:#7d8590;}/*!sc*/
.dzga-dt[data-no-visuals]{color:#2f81f7;}/*!sc*/
.dzga-dt:has([data-component="ButtonCounter"]){color:#2f81f7;}/*!sc*/
.dzga-dt:disabled[data-no-visuals]{color:#484f58;}/*!sc*/
.dzga-dt:disabled[data-no-visuals] [data-component=ButtonCounter]{color:inherit;}/*!sc*/
.dzga-dt[data-size="small"][data-no-visuals="true"]{margin-left:8px;}/*!sc*/
.dWukOn{border-radius:6px;border:1px solid;border-color:transparent;font-family:inherit;font-weight:500;font-size:14px;cursor:pointer;-webkit-appearance:none;-moz-appearance:none;appearance:none;-webkit-user-select:none;-moz-user-select:none;-ms-user-select:none;user-select:none;-webkit-text-decoration:none;text-decoration:none;text-align:center;display:-webkit-box;display:-webkit-flex;display:-ms-flexbox;display:flex;-webkit-align-items:center;-webkit-box-align:center;-ms-flex-align:center;align-items:center;-webkit-box-pack:justify;-webkit-justify-content:space-between;-ms-flex-pack:justify;justify-content:space-between;height:32px;padding:0 12px;gap:8px;min-width:-webkit-max-content;min-width:-moz-max-content;min-width:max-content;-webkit-transition:80ms cubic-bezier(0.65,0,0.35,1);transition:80ms cubic-bezier(0.65,0,0.35,1);-webkit-transition-property:color,fill,background-color,border-color;transition-property:color,fill,background-color,border-color;color:#e6edf3;background-color:transparent;box-shadow:none;}/*!sc*/
.dWukOn:focus:not(:disabled){box-shadow:none;outline:2px solid #2f81f7;outline-offset:-2px;}/*!sc*/
.dWukOn:focus:not(:disabled):not(:focus-visible){outline:solid 1px transparent;}/*!sc*/
.dWukOn:focus-visible:not(:disabled){box-shadow:none;outline:2px solid #2f81f7;outline-offset:-2px;}/*!sc*/
.dWukOn[href]{display:-webkit-inline-box;display:-webkit-inline-flex;display:-ms-inline-flexbox;display:inline-flex;}/*!sc*/
.dWukOn[href]:hover{-webkit-text-decoration:none;text-decoration:none;}/*!sc*/
.dWukOn:hover{-webkit-transition-duration:80ms;transition-duration:80ms;}/*!sc*/
.dWukOn:active{-webkit-transition:none;transition:none;}/*!sc*/
.dWukOn:disabled{cursor:not-allowed;box-shadow:none;color:#484f58;}/*!sc*/
.dWukOn:disabled [data-component=ButtonCounter],.dWukOn:disabled [data-component="leadingVisual"],.dWukOn:disabled [data-component="trailingAction"]{color:inherit;}/*!sc*/
@media (forced-colors:active){.dWukOn:focus{outline:solid 1px transparent;}}/*!sc*/
.dWukOn [data-component=ButtonCounter]{font-size:12px;}/*!sc*/
.dWukOn[data-component=IconButton]{display:inline-grid;padding:unset;place-content:center;width:32px;min-width:unset;}/*!sc*/
.dWukOn[data-size="small"]{padding:0 8px;height:28px;gap:4px;font-size:12px;}/*!sc*/
.dWukOn[data-size="small"] [data-component="text"]{line-height:calc(20 / 12);}/*!sc*/
.dWukOn[data-size="small"] [data-component=ButtonCounter]{font-size:12px;}/*!sc*/
.dWukOn[data-size="small"] [data-component="buttonContent"] > :not(:last-child){margin-right:4px;}/*!sc*/
.dWukOn[data-size="small"][data-component=IconButton]{width:28px;padding:unset;}/*!sc*/
.dWukOn[data-size="large"]{padding:0 16px;height:40px;gap:8px;}/*!sc*/
.dWukOn[data-size="large"] [data-component="buttonContent"] > :not(:last-child){margin-right:8px;}/*!sc*/
.dWukOn[data-size="large"][data-component=IconButton]{width:40px;padding:unset;}/*!sc*/
.dWukOn[data-block="block"]{width:100%;}/*!sc*/
.dWukOn [data-component="leadingVisual"]{grid-area:leadingVisual;color:#7d8590;}/*!sc*/
.dWukOn [data-component="text"]{grid-area:text;line-height:calc(20/14);white-space:nowrap;}/*!sc*/
.dWukOn [data-component="trailingVisual"]{grid-area:trailingVisual;}/*!sc*/
.dWukOn [data-component="trailingAction"]{margin-right:-4px;color:#7d8590;}/*!sc*/
.dWukOn [data-component="buttonContent"]{-webkit-flex:1 0 auto;-ms-flex:1 0 auto;flex:1 0 auto;display:grid;grid-template-areas:"leadingVisual text trailingVisual";grid-template-columns:min-content minmax(0,auto) min-content;-webkit-align-items:center;-webkit-box-align:center;-ms-flex-align:center;align-items:center;-webkit-align-content:center;-ms-flex-line-pack:center;align-content:center;}/*!sc*/
.dWukOn [data-component="buttonContent"] > :not(:last-child){margin-right:8px;}/*!sc*/
.dWukOn:hover:not([disabled]){background-color:#30363d;-webkit-text-decoration:none;text-decoration:none;}/*!sc*/
.dWukOn:active:not([disabled]){background-color:#161b22;-webkit-text-decoration:none;text-decoration:none;}/*!sc*/
.dWukOn[aria-expanded=true]{background-color:#161b22;}/*!sc*/
.dWukOn[data-component="IconButton"][data-no-visuals]{color:#7d8590;}/*!sc*/
.dWukOn[data-no-visuals]{color:#2f81f7;}/*!sc*/
.dWukOn:has([data-component="ButtonCounter"]){color:#2f81f7;}/*!sc*/
.dWukOn:disabled[data-no-visuals]{color:#484f58;}/*!sc*/
.dWukOn:disabled[data-no-visuals] [data-component=ButtonCounter]{color:inherit;}/*!sc*/
.dWukOn:focus:not([disabled]){-webkit-text-decoration:none;text-decoration:none;}/*!sc*/
.cuVVHm{border-radius:6px;border:1px solid;border-color:transparent;font-family:inherit;font-weight:500;font-size:14px;cursor:pointer;-webkit-appearance:none;-moz-appearance:none;appearance:none;-webkit-user-select:none;-moz-user-select:none;-ms-user-select:none;user-select:none;-webkit-text-decoration:none;text-decoration:none;text-align:center;display:-webkit-box;display:-webkit-flex;display:-ms-flexbox;display:flex;-webkit-align-items:center;-webkit-box-align:center;-ms-flex-align:center;align-items:center;-webkit-box-pack:justify;-webkit-justify-content:space-between;-ms-flex-pack:justify;justify-content:space-between;height:32px;padding:0 12px;gap:8px;min-width:-webkit-max-content;min-width:-moz-max-content;min-width:max-content;-webkit-transition:80ms cubic-bezier(0.65,0,0.35,1);transition:80ms cubic-bezier(0.65,0,0.35,1);-webkit-transition-property:color,fill,background-color,border-color;transition-property:color,fill,background-color,border-color;color:#2f81f7;background-color:transparent;box-shadow:none;}/*!sc*/
.cuVVHm:focus:not(:disabled){box-shadow:none;outline:2px solid #2f81f7;outline-offset:-2px;}/*!sc*/
.cuVVHm:focus:not(:disabled):not(:focus-visible){outline:solid 1px transparent;}/*!sc*/
.cuVVHm:focus-visible:not(:disabled){box-shadow:none;outline:2px solid #2f81f7;outline-offset:-2px;}/*!sc*/
.cuVVHm[href]{display:-webkit-inline-box;display:-webkit-inline-flex;display:-ms-inline-flexbox;display:inline-flex;}/*!sc*/
.cuVVHm[href]:hover{-webkit-text-decoration:none;text-decoration:none;}/*!sc*/
.cuVVHm:hover{-webkit-transition-duration:80ms;transition-duration:80ms;}/*!sc*/
.cuVVHm:active{-webkit-transition:none;transition:none;}/*!sc*/
.cuVVHm:disabled{cursor:not-allowed;box-shadow:none;color:#484f58;}/*!sc*/
.cuVVHm:disabled [data-component=ButtonCounter],.cuVVHm:disabled [data-component="leadingVisual"],.cuVVHm:disabled [data-component="trailingAction"]{color:inherit;}/*!sc*/
@media (forced-colors:active){.cuVVHm:focus{outline:solid 1px transparent;}}/*!sc*/
.cuVVHm [data-component=ButtonCounter]{font-size:12px;}/*!sc*/
.cuVVHm[data-component=IconButton]{display:inline-grid;padding:unset;place-content:center;width:32px;min-width:unset;}/*!sc*/
.cuVVHm[data-size="small"]{padding:0 8px;height:28px;gap:4px;font-size:12px;color:#e6edf3;display:none;}/*!sc*/
.cuVVHm[data-size="small"] [data-component="text"]{line-height:calc(20 / 12);}/*!sc*/
.cuVVHm[data-size="small"] [data-component=ButtonCounter]{font-size:12px;}/*!sc*/
.cuVVHm[data-size="small"] [data-component="buttonContent"] > :not(:last-child){margin-right:4px;}/*!sc*/
.cuVVHm[data-size="small"][data-component=IconButton]{width:28px;padding:unset;}/*!sc*/
@media screen and (min-width:544px){.cuVVHm[data-size="small"]{display:none;}}/*!sc*/
@media screen and (min-width:768px){.cuVVHm[data-size="small"]{display:block;}}/*!sc*/
@media screen and (min-width:1012px){.cuVVHm[data-size="small"]{display:block;}}/*!sc*/
.cuVVHm[data-size="large"]{padding:0 16px;height:40px;gap:8px;}/*!sc*/
.cuVVHm[data-size="large"] [data-component="buttonContent"] > :not(:last-child){margin-right:8px;}/*!sc*/
.cuVVHm[data-size="large"][data-component=IconButton]{width:40px;padding:unset;}/*!sc*/
.cuVVHm[data-block="block"]{width:100%;}/*!sc*/
.cuVVHm [data-component="leadingVisual"]{grid-area:leadingVisual;color:#7d8590;}/*!sc*/
.cuVVHm [data-component="text"]{grid-area:text;line-height:calc(20/14);white-space:nowrap;}/*!sc*/
.cuVVHm [data-component="trailingVisual"]{grid-area:trailingVisual;}/*!sc*/
.cuVVHm [data-component="trailingAction"]{margin-right:-4px;color:#7d8590;}/*!sc*/
.cuVVHm [data-component="buttonContent"]{-webkit-flex:1 0 auto;-ms-flex:1 0 auto;flex:1 0 auto;display:grid;grid-template-areas:"leadingVisual text trailingVisual";grid-template-columns:min-content minmax(0,auto) min-content;-webkit-align-items:center;-webkit-box-align:center;-ms-flex-align:center;align-items:center;-webkit-align-content:center;-ms-flex-line-pack:center;align-content:center;}/*!sc*/
.cuVVHm [data-component="buttonContent"] > :not(:last-child){margin-right:8px;}/*!sc*/
.cuVVHm:hover:not([disabled]){background-color:#30363d;}/*!sc*/
.cuVVHm:active:not([disabled]){background-color:#161b22;}/*!sc*/
.cuVVHm[aria-expanded=true]{background-color:#161b22;}/*!sc*/
.cuVVHm[data-component="IconButton"][data-no-visuals]{color:#7d8590;}/*!sc*/
.cuVVHm[data-no-visuals]{color:#2f81f7;}/*!sc*/
.cuVVHm:has([data-component="ButtonCounter"]){color:#2f81f7;}/*!sc*/
.cuVVHm:disabled[data-no-visuals]{color:#484f58;}/*!sc*/
.cuVVHm:disabled[data-no-visuals] [data-component=ButtonCounter]{color:inherit;}/*!sc*/
.kGDoCG{border-radius:6px;border:1px solid;border-color:transparent;font-family:inherit;font-weight:500;font-size:14px;cursor:pointer;-webkit-appearance:none;-moz-appearance:none;appearance:none;-webkit-user-select:none;-moz-user-select:none;-ms-user-select:none;user-select:none;-webkit-text-decoration:none;text-decoration:none;text-align:center;display:-webkit-box;display:-webkit-flex;display:-ms-flexbox;display:flex;-webkit-align-items:center;-webkit-box-align:center;-ms-flex-align:center;align-items:center;-webkit-box-pack:justify;-webkit-justify-content:space-between;-ms-flex-pack:justify;justify-content:space-between;height:32px;padding:0 12px;gap:8px;min-width:-webkit-max-content;min-width:-moz-max-content;min-width:max-content;-webkit-transition:80ms cubic-bezier(0.65,0,0.35,1);transition:80ms cubic-bezier(0.65,0,0.35,1);-webkit-transition-property:color,fill,background-color,border-color;transition-property:color,fill,background-color,border-color;color:#2f81f7;background-color:transparent;box-shadow:none;}/*!sc*/
.kGDoCG:focus:not(:disabled){box-shadow:none;outline:2px solid #2f81f7;outline-offset:-2px;}/*!sc*/
.kGDoCG:focus:not(:disabled):not(:focus-visible){outline:solid 1px transparent;}/*!sc*/
.kGDoCG:focus-visible:not(:disabled){box-shadow:none;outline:2px solid #2f81f7;outline-offset:-2px;}/*!sc*/
.kGDoCG[href]{display:-webkit-inline-box;display:-webkit-inline-flex;display:-ms-inline-flexbox;display:inline-flex;}/*!sc*/
.kGDoCG[href]:hover{-webkit-text-decoration:none;text-decoration:none;}/*!sc*/
.kGDoCG:hover{-webkit-transition-duration:80ms;transition-duration:80ms;}/*!sc*/
.kGDoCG:active{-webkit-transition:none;transition:none;}/*!sc*/
.kGDoCG:disabled{cursor:not-allowed;box-shadow:none;color:#484f58;}/*!sc*/
.kGDoCG:disabled [data-component=ButtonCounter],.kGDoCG:disabled [data-component="leadingVisual"],.kGDoCG:disabled [data-component="trailingAction"]{color:inherit;}/*!sc*/
@media (forced-colors:active){.kGDoCG:focus{outline:solid 1px transparent;}}/*!sc*/
.kGDoCG [data-component=ButtonCounter]{font-size:12px;}/*!sc*/
.kGDoCG[data-component=IconButton]{display:inline-grid;padding:unset;place-content:center;width:32px;min-width:unset;}/*!sc*/
.kGDoCG[data-size="small"]{padding:0 8px;height:28px;gap:4px;font-size:12px;color:#e6edf3;margin-left:8px;}/*!sc*/
.kGDoCG[data-size="small"] [data-component="text"]{line-height:calc(20 / 12);}/*!sc*/
.kGDoCG[data-size="small"] [data-component=ButtonCounter]{font-size:12px;}/*!sc*/
.kGDoCG[data-size="small"] [data-component="buttonContent"] > :not(:last-child){margin-right:4px;}/*!sc*/
.kGDoCG[data-size="small"][data-component=IconButton]{width:28px;padding:unset;}/*!sc*/
.kGDoCG[data-size="large"]{padding:0 16px;height:40px;gap:8px;}/*!sc*/
.kGDoCG[data-size="large"] [data-component="buttonContent"] > :not(:last-child){margin-right:8px;}/*!sc*/
.kGDoCG[data-size="large"][data-component=IconButton]{width:40px;padding:unset;}/*!sc*/
.kGDoCG[data-block="block"]{width:100%;}/*!sc*/
.kGDoCG [data-component="leadingVisual"]{grid-area:leadingVisual;color:#7d8590;}/*!sc*/
.kGDoCG [data-component="text"]{grid-area:text;line-height:calc(20/14);white-space:nowrap;}/*!sc*/
.kGDoCG [data-component="trailingVisual"]{grid-area:trailingVisual;}/*!sc*/
.kGDoCG [data-component="trailingAction"]{margin-right:-4px;color:#7d8590;}/*!sc*/
.kGDoCG [data-component="buttonContent"]{-webkit-flex:1 0 auto;-ms-flex:1 0 auto;flex:1 0 auto;display:grid;grid-template-areas:"leadingVisual text trailingVisual";grid-template-columns:min-content minmax(0,auto) min-content;-webkit-align-items:center;-webkit-box-align:center;-ms-flex-align:center;align-items:center;-webkit-align-content:center;-ms-flex-line-pack:center;align-content:center;}/*!sc*/
.kGDoCG [data-component="buttonContent"] > :not(:last-child){margin-right:8px;}/*!sc*/
.kGDoCG:hover:not([disabled]){background-color:#30363d;}/*!sc*/
.kGDoCG:active:not([disabled]){background-color:#161b22;}/*!sc*/
.kGDoCG[aria-expanded=true]{background-color:#161b22;}/*!sc*/
.kGDoCG[data-component="IconButton"][data-no-visuals]{color:#7d8590;}/*!sc*/
.kGDoCG[data-no-visuals]{color:#2f81f7;}/*!sc*/
.kGDoCG:has([data-component="ButtonCounter"]){color:#2f81f7;}/*!sc*/
.kGDoCG:disabled[data-no-visuals]{color:#484f58;}/*!sc*/
.kGDoCG:disabled[data-no-visuals] [data-component=ButtonCounter]{color:inherit;}/*!sc*/
.hHvcfT{border-radius:6px;border:1px solid;border-color:rgba(240,246,252,0.1);font-family:inherit;font-weight:500;font-size:14px;cursor:pointer;-webkit-appearance:none;-moz-appearance:none;appearance:none;-webkit-user-select:none;-moz-user-select:none;-ms-user-select:none;user-select:none;-webkit-text-decoration:none;text-decoration:none;text-align:center;display:-webkit-box;display:-webkit-flex;display:-ms-flexbox;display:flex;-webkit-align-items:center;-webkit-box-align:center;-ms-flex-align:center;align-items:center;-webkit-box-pack:justify;-webkit-justify-content:space-between;-ms-flex-pack:justify;justify-content:space-between;height:32px;padding:0 12px;gap:8px;min-width:-webkit-max-content;min-width:-moz-max-content;min-width:max-content;-webkit-transition:80ms cubic-bezier(0.65,0,0.35,1);transition:80ms cubic-bezier(0.65,0,0.35,1);-webkit-transition-property:color,fill,background-color,border-color;transition-property:color,fill,background-color,border-color;color:#c9d1d9;background-color:#21262d;box-shadow:0 0 transparent,0 0 transparent;padding-left:8px;padding-right:8px;}/*!sc*/
.hHvcfT:focus:not(:disabled){box-shadow:none;outline:2px solid #2f81f7;outline-offset:-2px;}/*!sc*/
.hHvcfT:focus:not(:disabled):not(:focus-visible){outline:solid 1px transparent;}/*!sc*/
.hHvcfT:focus-visible:not(:disabled){box-shadow:none;outline:2px solid #2f81f7;outline-offset:-2px;}/*!sc*/
.hHvcfT[href]{display:-webkit-inline-box;display:-webkit-inline-flex;display:-ms-inline-flexbox;display:inline-flex;}/*!sc*/
.hHvcfT[href]:hover{-webkit-text-decoration:none;text-decoration:none;}/*!sc*/
.hHvcfT:hover{-webkit-transition-duration:80ms;transition-duration:80ms;}/*!sc*/
.hHvcfT:active{-webkit-transition:none;transition:none;}/*!sc*/
.hHvcfT:disabled{cursor:not-allowed;box-shadow:none;color:#484f58;}/*!sc*/
.hHvcfT:disabled [data-component=ButtonCounter]{color:inherit;}/*!sc*/
@media (forced-colors:active){.hHvcfT:focus{outline:solid 1px transparent;}}/*!sc*/
.hHvcfT [data-component=ButtonCounter]{font-size:12px;}/*!sc*/
.hHvcfT[data-component=IconButton]{display:inline-grid;padding:unset;place-content:center;width:32px;min-width:unset;}/*!sc*/
.hHvcfT[data-size="small"]{padding:0 8px;height:28px;gap:4px;font-size:12px;}/*!sc*/
.hHvcfT[data-size="small"] [data-component="text"]{line-height:calc(20 / 12);}/*!sc*/
.hHvcfT[data-size="small"] [data-component=ButtonCounter]{font-size:12px;}/*!sc*/
.hHvcfT[data-size="small"] [data-component="buttonContent"] > :not(:last-child){margin-right:4px;}/*!sc*/
.hHvcfT[data-size="small"][data-component=IconButton]{width:28px;padding:unset;}/*!sc*/
.hHvcfT[data-size="large"]{padding:0 16px;height:40px;gap:8px;}/*!sc*/
.hHvcfT[data-size="large"] [data-component="buttonContent"] > :not(:last-child){margin-right:8px;}/*!sc*/
.hHvcfT[data-size="large"][data-component=IconButton]{width:40px;padding:unset;}/*!sc*/
.hHvcfT[data-block="block"]{width:100%;}/*!sc*/
.hHvcfT [data-component="leadingVisual"]{grid-area:leadingVisual;}/*!sc*/
.hHvcfT [data-component="text"]{grid-area:text;line-height:calc(20/14);white-space:nowrap;}/*!sc*/
.hHvcfT [data-component="trailingVisual"]{grid-area:trailingVisual;}/*!sc*/
.hHvcfT [data-component="trailingAction"]{margin-right:-4px;}/*!sc*/
.hHvcfT [data-component="buttonContent"]{-webkit-flex:1 0 auto;-ms-flex:1 0 auto;flex:1 0 auto;display:grid;grid-template-areas:"leadingVisual text trailingVisual";grid-template-columns:min-content minmax(0,auto) min-content;-webkit-align-items:center;-webkit-box-align:center;-ms-flex-align:center;align-items:center;-webkit-align-content:center;-ms-flex-line-pack:center;align-content:center;}/*!sc*/
.hHvcfT [data-component="buttonContent"] > :not(:last-child){margin-right:8px;}/*!sc*/
.hHvcfT:hover:not([disabled]){background-color:#30363d;border-color:#8b949e;}/*!sc*/
.hHvcfT:active:not([disabled]){background-color:hsla(212,12%,18%,1);border-color:#6e7681;}/*!sc*/
.hHvcfT[aria-expanded=true]{background-color:hsla(212,12%,18%,1);border-color:#6e7681;}/*!sc*/
.hHvcfT [data-component="leadingVisual"],.hHvcfT [data-component="trailingVisual"],.hHvcfT [data-component="trailingAction"]{color:#7d8590;}/*!sc*/
.hHvcfT linkButtonSx:hover:not([disabled]){-webkit-text-decoration:none;text-decoration:none;}/*!sc*/
.hHvcfT linkButtonSx:focus:not([disabled]){-webkit-text-decoration:none;text-decoration:none;}/*!sc*/
.hHvcfT linkButtonSx:active:not([disabled]){-webkit-text-decoration:none;text-decoration:none;}/*!sc*/
.kCdBku{border-radius:6px;border:1px solid;border-color:rgba(240,246,252,0.1);font-family:inherit;font-weight:500;font-size:14px;cursor:pointer;-webkit-appearance:none;-moz-appearance:none;appearance:none;-webkit-user-select:none;-moz-user-select:none;-ms-user-select:none;user-select:none;-webkit-text-decoration:none;text-decoration:none;text-align:center;display:-webkit-box;display:-webkit-flex;display:-ms-flexbox;display:flex;-webkit-align-items:center;-webkit-box-align:center;-ms-flex-align:center;align-items:center;-webkit-box-pack:justify;-webkit-justify-content:space-between;-ms-flex-pack:justify;justify-content:space-between;height:32px;padding:0 12px;gap:8px;min-width:-webkit-max-content;min-width:-moz-max-content;min-width:max-content;-webkit-transition:80ms cubic-bezier(0.65,0,0.35,1);transition:80ms cubic-bezier(0.65,0,0.35,1);-webkit-transition-property:color,fill,background-color,border-color;transition-property:color,fill,background-color,border-color;color:#c9d1d9;background-color:#21262d;box-shadow:0 0 transparent,0 0 transparent;}/*!sc*/
.kCdBku:focus:not(:disabled){box-shadow:none;outline:2px solid #2f81f7;outline-offset:-2px;}/*!sc*/
.kCdBku:focus:not(:disabled):not(:focus-visible){outline:solid 1px transparent;}/*!sc*/
.kCdBku:focus-visible:not(:disabled){box-shadow:none;outline:2px solid #2f81f7;outline-offset:-2px;}/*!sc*/
.kCdBku[href]{display:-webkit-inline-box;display:-webkit-inline-flex;display:-ms-inline-flexbox;display:inline-flex;}/*!sc*/
.kCdBku[href]:hover{-webkit-text-decoration:none;text-decoration:none;}/*!sc*/
.kCdBku:hover{-webkit-transition-duration:80ms;transition-duration:80ms;}/*!sc*/
.kCdBku:active{-webkit-transition:none;transition:none;}/*!sc*/
.kCdBku:disabled{cursor:not-allowed;box-shadow:none;color:#484f58;}/*!sc*/
.kCdBku:disabled [data-component=ButtonCounter]{color:inherit;}/*!sc*/
@media (forced-colors:active){.kCdBku:focus{outline:solid 1px transparent;}}/*!sc*/
.kCdBku [data-component=ButtonCounter]{font-size:12px;}/*!sc*/
.kCdBku[data-component=IconButton]{display:inline-grid;padding:unset;place-content:center;width:32px;min-width:unset;}/*!sc*/
.kCdBku[data-size="small"]{padding:0 8px;height:28px;gap:4px;font-size:12px;}/*!sc*/
.kCdBku[data-size="small"] [data-component="text"]{line-height:calc(20 / 12);}/*!sc*/
.kCdBku[data-size="small"] [data-component=ButtonCounter]{font-size:12px;}/*!sc*/
.kCdBku[data-size="small"] [data-component="buttonContent"] > :not(:last-child){margin-right:4px;}/*!sc*/
.kCdBku[data-size="small"][data-component=IconButton]{width:28px;padding:unset;}/*!sc*/
.kCdBku[data-size="large"]{padding:0 16px;height:40px;gap:8px;}/*!sc*/
.kCdBku[data-size="large"] [data-component="buttonContent"] > :not(:last-child){margin-right:8px;}/*!sc*/
.kCdBku[data-size="large"][data-component=IconButton]{width:40px;padding:unset;}/*!sc*/
.kCdBku[data-block="block"]{width:100%;}/*!sc*/
.kCdBku [data-component="leadingVisual"]{grid-area:leadingVisual;}/*!sc*/
.kCdBku [data-component="text"]{grid-area:text;line-height:calc(20/14);white-space:nowrap;}/*!sc*/
.kCdBku [data-component="trailingVisual"]{grid-area:trailingVisual;}/*!sc*/
.kCdBku [data-component="trailingAction"]{margin-right:-4px;}/*!sc*/
.kCdBku [data-component="buttonContent"]{-webkit-flex:1 0 auto;-ms-flex:1 0 auto;flex:1 0 auto;display:grid;grid-template-areas:"leadingVisual text trailingVisual";grid-template-columns:min-content minmax(0,auto) min-content;-webkit-align-items:center;-webkit-box-align:center;-ms-flex-align:center;align-items:center;-webkit-align-content:center;-ms-flex-line-pack:center;align-content:center;}/*!sc*/
.kCdBku [data-component="buttonContent"] > :not(:last-child){margin-right:8px;}/*!sc*/
.kCdBku:hover:not([disabled]){background-color:#30363d;border-color:#8b949e;}/*!sc*/
.kCdBku:active:not([disabled]){background-color:hsla(212,12%,18%,1);border-color:#6e7681;}/*!sc*/
.kCdBku[aria-expanded=true]{background-color:hsla(212,12%,18%,1);border-color:#6e7681;}/*!sc*/
.kCdBku [data-component="leadingVisual"],.kCdBku [data-component="trailingVisual"],.kCdBku [data-component="trailingAction"]{color:#7d8590;}/*!sc*/
.jcdBXR{border-radius:6px;border:1px solid;border-color:rgba(240,246,252,0.1);font-family:inherit;font-weight:500;font-size:14px;cursor:pointer;-webkit-appearance:none;-moz-appearance:none;appearance:none;-webkit-user-select:none;-moz-user-select:none;-ms-user-select:none;user-select:none;-webkit-text-decoration:none;text-decoration:none;text-align:center;display:-webkit-box;display:-webkit-flex;display:-ms-flexbox;display:flex;-webkit-align-items:center;-webkit-box-align:center;-ms-flex-align:center;align-items:center;-webkit-box-pack:justify;-webkit-justify-content:space-between;-ms-flex-pack:justify;justify-content:space-between;height:32px;padding:0 12px;gap:8px;min-width:-webkit-max-content;min-width:-moz-max-content;min-width:max-content;-webkit-transition:80ms cubic-bezier(0.65,0,0.35,1);transition:80ms cubic-bezier(0.65,0,0.35,1);-webkit-transition-property:color,fill,background-color,border-color;transition-property:color,fill,background-color,border-color;color:#c9d1d9;background-color:#21262d;box-shadow:0 0 transparent,0 0 transparent;}/*!sc*/
.jcdBXR:focus:not(:disabled){box-shadow:none;outline:2px solid #2f81f7;outline-offset:-2px;}/*!sc*/
.jcdBXR:focus:not(:disabled):not(:focus-visible){outline:solid 1px transparent;}/*!sc*/
.jcdBXR:focus-visible:not(:disabled){box-shadow:none;outline:2px solid #2f81f7;outline-offset:-2px;}/*!sc*/
.jcdBXR[href]{display:-webkit-inline-box;display:-webkit-inline-flex;display:-ms-inline-flexbox;display:inline-flex;}/*!sc*/
.jcdBXR[href]:hover{-webkit-text-decoration:none;text-decoration:none;}/*!sc*/
.jcdBXR:hover{-webkit-transition-duration:80ms;transition-duration:80ms;}/*!sc*/
.jcdBXR:active{-webkit-transition:none;transition:none;}/*!sc*/
.jcdBXR:disabled{cursor:not-allowed;box-shadow:none;color:#484f58;}/*!sc*/
.jcdBXR:disabled [data-component=ButtonCounter]{color:inherit;}/*!sc*/
@media (forced-colors:active){.jcdBXR:focus{outline:solid 1px transparent;}}/*!sc*/
.jcdBXR [data-component=ButtonCounter]{font-size:12px;}/*!sc*/
.jcdBXR[data-component=IconButton]{display:inline-grid;padding:unset;place-content:center;width:32px;min-width:unset;}/*!sc*/
.jcdBXR[data-size="small"]{padding:0 8px;height:28px;gap:4px;font-size:12px;}/*!sc*/
.jcdBXR[data-size="small"] [data-component="text"]{line-height:calc(20 / 12);}/*!sc*/
.jcdBXR[data-size="small"] [data-component=ButtonCounter]{font-size:12px;}/*!sc*/
.jcdBXR[data-size="small"] [data-component="buttonContent"] > :not(:last-child){margin-right:4px;}/*!sc*/
.jcdBXR[data-size="small"][data-component=IconButton]{width:28px;padding:unset;}/*!sc*/
.jcdBXR[data-size="large"]{padding:0 16px;height:40px;gap:8px;}/*!sc*/
.jcdBXR[data-size="large"] [data-component="buttonContent"] > :not(:last-child){margin-right:8px;}/*!sc*/
.jcdBXR[data-size="large"][data-component=IconButton]{width:40px;padding:unset;}/*!sc*/
.jcdBXR[data-block="block"]{width:100%;}/*!sc*/
.jcdBXR [data-component="leadingVisual"]{grid-area:leadingVisual;}/*!sc*/
.jcdBXR [data-component="text"]{grid-area:text;line-height:calc(20/14);white-space:nowrap;}/*!sc*/
.jcdBXR [data-component="trailingVisual"]{grid-area:trailingVisual;}/*!sc*/
.jcdBXR [data-component="trailingAction"]{margin-right:-4px;}/*!sc*/
.jcdBXR [data-component="buttonContent"]{-webkit-flex:1 0 auto;-ms-flex:1 0 auto;flex:1 0 auto;display:grid;grid-template-areas:"leadingVisual text trailingVisual";grid-template-columns:min-content minmax(0,auto) min-content;-webkit-align-items:center;-webkit-box-align:center;-ms-flex-align:center;align-items:center;-webkit-align-content:center;-ms-flex-line-pack:center;align-content:center;}/*!sc*/
.jcdBXR [data-component="buttonContent"] > :not(:last-child){margin-right:8px;}/*!sc*/
.jcdBXR:hover:not([disabled]){background-color:#30363d;border-color:#8b949e;}/*!sc*/
.jcdBXR:active:not([disabled]){background-color:hsla(212,12%,18%,1);border-color:#6e7681;}/*!sc*/
.jcdBXR[aria-expanded=true]{background-color:hsla(212,12%,18%,1);border-color:#6e7681;}/*!sc*/
.jcdBXR [data-component="leadingVisual"],.jcdBXR [data-component="trailingVisual"],.jcdBXR [data-component="trailingAction"]{color:#7d8590;}/*!sc*/
.jcdBXR[data-size="small"][data-no-visuals="true"]{border-top-left-radius:0;border-bottom-left-radius:0;}/*!sc*/
.bpoOwX{border-radius:6px;border:1px solid;border-color:rgba(240,246,252,0.1);font-family:inherit;font-weight:500;font-size:14px;cursor:pointer;-webkit-appearance:none;-moz-appearance:none;appearance:none;-webkit-user-select:none;-moz-user-select:none;-ms-user-select:none;user-select:none;-webkit-text-decoration:none;text-decoration:none;text-align:center;display:-webkit-box;display:-webkit-flex;display:-ms-flexbox;display:flex;-webkit-align-items:center;-webkit-box-align:center;-ms-flex-align:center;align-items:center;-webkit-box-pack:justify;-webkit-justify-content:space-between;-ms-flex-pack:justify;justify-content:space-between;height:32px;padding:0 12px;gap:8px;min-width:-webkit-max-content;min-width:-moz-max-content;min-width:max-content;-webkit-transition:80ms cubic-bezier(0.65,0,0.35,1);transition:80ms cubic-bezier(0.65,0,0.35,1);-webkit-transition-property:color,fill,background-color,border-color;transition-property:color,fill,background-color,border-color;color:#c9d1d9;background-color:#21262d;box-shadow:0 0 transparent,0 0 transparent;}/*!sc*/
.bpoOwX:focus:not(:disabled){box-shadow:none;outline:2px solid #2f81f7;outline-offset:-2px;}/*!sc*/
.bpoOwX:focus:not(:disabled):not(:focus-visible){outline:solid 1px transparent;}/*!sc*/
.bpoOwX:focus-visible:not(:disabled){box-shadow:none;outline:2px solid #2f81f7;outline-offset:-2px;}/*!sc*/
.bpoOwX[href]{display:-webkit-inline-box;display:-webkit-inline-flex;display:-ms-inline-flexbox;display:inline-flex;}/*!sc*/
.bpoOwX[href]:hover{-webkit-text-decoration:none;text-decoration:none;}/*!sc*/
.bpoOwX:hover{-webkit-transition-duration:80ms;transition-duration:80ms;}/*!sc*/
.bpoOwX:active{-webkit-transition:none;transition:none;}/*!sc*/
.bpoOwX:disabled{cursor:not-allowed;box-shadow:none;color:#484f58;}/*!sc*/
.bpoOwX:disabled [data-component=ButtonCounter]{color:inherit;}/*!sc*/
@media (forced-colors:active){.bpoOwX:focus{outline:solid 1px transparent;}}/*!sc*/
.bpoOwX [data-component=ButtonCounter]{font-size:12px;}/*!sc*/
.bpoOwX[data-component=IconButton]{display:inline-grid;padding:unset;place-content:center;width:32px;min-width:unset;}/*!sc*/
.bpoOwX[data-size="small"]{padding:0 8px;height:28px;gap:4px;font-size:12px;}/*!sc*/
.bpoOwX[data-size="small"] [data-component="text"]{line-height:calc(20 / 12);}/*!sc*/
.bpoOwX[data-size="small"] [data-component=ButtonCounter]{font-size:12px;}/*!sc*/
.bpoOwX[data-size="small"] [data-component="buttonContent"] > :not(:last-child){margin-right:4px;}/*!sc*/
.bpoOwX[data-size="small"][data-component=IconButton]{width:28px;padding:unset;}/*!sc*/
.bpoOwX[data-size="large"]{padding:0 16px;height:40px;gap:8px;}/*!sc*/
.bpoOwX[data-size="large"] [data-component="buttonContent"] > :not(:last-child){margin-right:8px;}/*!sc*/
.bpoOwX[data-size="large"][data-component=IconButton]{width:40px;padding:unset;}/*!sc*/
.bpoOwX[data-block="block"]{width:100%;}/*!sc*/
.bpoOwX [data-component="leadingVisual"]{grid-area:leadingVisual;}/*!sc*/
.bpoOwX [data-component="text"]{grid-area:text;line-height:calc(20/14);white-space:nowrap;}/*!sc*/
.bpoOwX [data-component="trailingVisual"]{grid-area:trailingVisual;}/*!sc*/
.bpoOwX [data-component="trailingAction"]{margin-right:-4px;}/*!sc*/
.bpoOwX [data-component="buttonContent"]{-webkit-flex:1 0 auto;-ms-flex:1 0 auto;flex:1 0 auto;display:grid;grid-template-areas:"leadingVisual text trailingVisual";grid-template-columns:min-content minmax(0,auto) min-content;-webkit-align-items:center;-webkit-box-align:center;-ms-flex-align:center;align-items:center;-webkit-align-content:center;-ms-flex-line-pack:center;align-content:center;}/*!sc*/
.bpoOwX [data-component="buttonContent"] > :not(:last-child){margin-right:8px;}/*!sc*/
.bpoOwX:hover:not([disabled]){background-color:#30363d;border-color:#8b949e;}/*!sc*/
.bpoOwX:active:not([disabled]){background-color:hsla(212,12%,18%,1);border-color:#6e7681;}/*!sc*/
.bpoOwX[aria-expanded=true]{background-color:hsla(212,12%,18%,1);border-color:#6e7681;}/*!sc*/
.bpoOwX [data-component="leadingVisual"],.bpoOwX [data-component="trailingVisual"],.bpoOwX [data-component="trailingAction"]{color:#7d8590;}/*!sc*/
.bpoOwX[data-size="small"][data-no-visuals="true"]{border-top-right-radius:0;border-bottom-right-radius:0;border-right-width:0;}/*!sc*/
.bpoOwX[data-size="small"][data-no-visuals="true"]:hover:not([disabled]){-webkit-text-decoration:none;text-decoration:none;}/*!sc*/
.bpoOwX[data-size="small"][data-no-visuals="true"]:focus:not([disabled]){-webkit-text-decoration:none;text-decoration:none;}/*!sc*/
.bpoOwX[data-size="small"][data-no-visuals="true"]:active:not([disabled]){-webkit-text-decoration:none;text-decoration:none;}/*!sc*/
.jYfgHQ{border-radius:6px;border:1px solid;border-color:transparent;font-family:inherit;font-weight:500;font-size:14px;cursor:pointer;-webkit-appearance:none;-moz-appearance:none;appearance:none;-webkit-user-select:none;-moz-user-select:none;-ms-user-select:none;user-select:none;-webkit-text-decoration:none;text-decoration:none;text-align:center;display:-webkit-box;display:-webkit-flex;display:-ms-flexbox;display:flex;-webkit-align-items:center;-webkit-box-align:center;-ms-flex-align:center;align-items:center;-webkit-box-pack:justify;-webkit-justify-content:space-between;-ms-flex-pack:justify;justify-content:space-between;height:32px;padding:0 12px;gap:8px;min-width:-webkit-max-content;min-width:-moz-max-content;min-width:max-content;-webkit-transition:80ms cubic-bezier(0.65,0,0.35,1);transition:80ms cubic-bezier(0.65,0,0.35,1);-webkit-transition-property:color,fill,background-color,border-color;transition-property:color,fill,background-color,border-color;color:#2f81f7;background-color:transparent;box-shadow:none;}/*!sc*/
.jYfgHQ:focus:not(:disabled){box-shadow:none;outline:2px solid #2f81f7;outline-offset:-2px;}/*!sc*/
.jYfgHQ:focus:not(:disabled):not(:focus-visible){outline:solid 1px transparent;}/*!sc*/
.jYfgHQ:focus-visible:not(:disabled){box-shadow:none;outline:2px solid #2f81f7;outline-offset:-2px;}/*!sc*/
.jYfgHQ[href]{display:-webkit-inline-box;display:-webkit-inline-flex;display:-ms-inline-flexbox;display:inline-flex;}/*!sc*/
.jYfgHQ[href]:hover{-webkit-text-decoration:none;text-decoration:none;}/*!sc*/
.jYfgHQ:hover{-webkit-transition-duration:80ms;transition-duration:80ms;}/*!sc*/
.jYfgHQ:active{-webkit-transition:none;transition:none;}/*!sc*/
.jYfgHQ:disabled{cursor:not-allowed;box-shadow:none;color:#484f58;}/*!sc*/
.jYfgHQ:disabled [data-component=ButtonCounter],.jYfgHQ:disabled [data-component="leadingVisual"],.jYfgHQ:disabled [data-component="trailingAction"]{color:inherit;}/*!sc*/
@media (forced-colors:active){.jYfgHQ:focus{outline:solid 1px transparent;}}/*!sc*/
.jYfgHQ [data-component=ButtonCounter]{font-size:12px;}/*!sc*/
.jYfgHQ[data-component=IconButton]{display:inline-grid;padding:unset;place-content:center;width:32px;min-width:unset;}/*!sc*/
.jYfgHQ[data-size="small"]{padding:0 8px;height:28px;gap:4px;font-size:12px;}/*!sc*/
.jYfgHQ[data-size="small"] [data-component="text"]{line-height:calc(20 / 12);}/*!sc*/
.jYfgHQ[data-size="small"] [data-component=ButtonCounter]{font-size:12px;}/*!sc*/
.jYfgHQ[data-size="small"] [data-component="buttonContent"] > :not(:last-child){margin-right:4px;}/*!sc*/
.jYfgHQ[data-size="small"][data-component=IconButton]{width:28px;padding:unset;}/*!sc*/
.jYfgHQ[data-size="large"]{padding:0 16px;height:40px;gap:8px;}/*!sc*/
.jYfgHQ[data-size="large"] [data-component="buttonContent"] > :not(:last-child){margin-right:8px;}/*!sc*/
.jYfgHQ[data-size="large"][data-component=IconButton]{width:40px;padding:unset;}/*!sc*/
.jYfgHQ[data-block="block"]{width:100%;}/*!sc*/
.jYfgHQ [data-component="leadingVisual"]{grid-area:leadingVisual;color:#7d8590;}/*!sc*/
.jYfgHQ [data-component="text"]{grid-area:text;line-height:calc(20/14);white-space:nowrap;}/*!sc*/
.jYfgHQ [data-component="trailingVisual"]{grid-area:trailingVisual;}/*!sc*/
.jYfgHQ [data-component="trailingAction"]{margin-right:-4px;color:#7d8590;}/*!sc*/
.jYfgHQ [data-component="buttonContent"]{-webkit-flex:1 0 auto;-ms-flex:1 0 auto;flex:1 0 auto;display:grid;grid-template-areas:"leadingVisual text trailingVisual";grid-template-columns:min-content minmax(0,auto) min-content;-webkit-align-items:center;-webkit-box-align:center;-ms-flex-align:center;align-items:center;-webkit-align-content:center;-ms-flex-line-pack:center;align-content:center;}/*!sc*/
.jYfgHQ [data-component="buttonContent"] > :not(:last-child){margin-right:8px;}/*!sc*/
.jYfgHQ:hover:not([disabled]){background-color:#30363d;}/*!sc*/
.jYfgHQ:active:not([disabled]){background-color:#161b22;}/*!sc*/
.jYfgHQ[aria-expanded=true]{background-color:#161b22;}/*!sc*/
.jYfgHQ[data-component="IconButton"][data-no-visuals]{color:#7d8590;}/*!sc*/
.jYfgHQ[data-no-visuals]{color:#2f81f7;}/*!sc*/
.jYfgHQ:has([data-component="ButtonCounter"]){color:#2f81f7;}/*!sc*/
.jYfgHQ:disabled[data-no-visuals]{color:#484f58;}/*!sc*/
.jYfgHQ:disabled[data-no-visuals] [data-component=ButtonCounter]{color:inherit;}/*!sc*/
.jYfgHQ[data-size="small"][data-no-visuals="true"]{color:#7d8590;}/*!sc*/
data-styled.g27[id="types__StyledButton-sc-ws60qy-0"]{content:"cmNjCr,lhczWi,hPfySA,dRdQkF,dsmVIn,ePclzw,hPOZTU,jcILRt,dzga-dt,dWukOn,cuVVHm,kGDoCG,hHvcfT,kCdBku,jcdBXR,bpoOwX,jYfgHQ,"}/*!sc*/
.fCnxTL{position:relative;display:inline-block;}/*!sc*/
.fCnxTL::before{position:absolute;z-index:1000001;display:none;width:0px;height:0px;color:#6e7681;pointer-events:none;content:'';border:6px solid transparent;opacity:0;}/*!sc*/
.fCnxTL::after{position:absolute;z-index:1000000;display:none;padding:0.5em 0.75em;font:normal normal 11px/1.5 -apple-system,BlinkMacSystemFont,"Segoe UI","Noto Sans",Helvetica,Arial,sans-serif,"Apple Color Emoji","Segoe UI Emoji";-webkit-font-smoothing:subpixel-antialiased;color:#ffffff;text-align:center;-webkit-text-decoration:none;text-decoration:none;text-shadow:none;text-transform:none;-webkit-letter-spacing:normal;-moz-letter-spacing:normal;-ms-letter-spacing:normal;letter-spacing:normal;word-wrap:break-word;white-space:pre;pointer-events:none;content:attr(aria-label);background:#6e7681;border-radius:3px;opacity:0;}/*!sc*/
@-webkit-keyframes tooltip-appear{from{opacity:0;}to{opacity:1;}}/*!sc*/
@keyframes tooltip-appear{from{opacity:0;}to{opacity:1;}}/*!sc*/
.fCnxTL:hover::before,.fCnxTL:active::before,.fCnxTL:focus::before,.fCnxTL:focus-within::before,.fCnxTL:hover::after,.fCnxTL:active::after,.fCnxTL:focus::after,.fCnxTL:focus-within::after{display:inline-block;-webkit-text-decoration:none;text-decoration:none;-webkit-animation-name:tooltip-appear;animation-name:tooltip-appear;-webkit-animation-duration:0.1s;animation-duration:0.1s;-webkit-animation-fill-mode:forwards;animation-fill-mode:forwards;-webkit-animation-timing-function:ease-in;animation-timing-function:ease-in;-webkit-animation-delay:0.4s;animation-delay:0.4s;}/*!sc*/
.fCnxTL.tooltipped-no-delay:hover::before,.fCnxTL.tooltipped-no-delay:active::before,.fCnxTL.tooltipped-no-delay:focus::before,.fCnxTL.tooltipped-no-delay:focus-within::before,.fCnxTL.tooltipped-no-delay:hover::after,.fCnxTL.tooltipped-no-delay:active::after,.fCnxTL.tooltipped-no-delay:focus::after,.fCnxTL.tooltipped-no-delay:focus-within::after{-webkit-animation-delay:0s;animation-delay:0s;}/*!sc*/
.fCnxTL.tooltipped-multiline:hover::after,.fCnxTL.tooltipped-multiline:active::after,.fCnxTL.tooltipped-multiline:focus::after,.fCnxTL.tooltipped-multiline:focus-within::after{display:table-cell;}/*!sc*/
.fCnxTL.tooltipped-s::after,.fCnxTL.tooltipped-se::after,.fCnxTL.tooltipped-sw::after{top:100%;right:50%;margin-top:6px;}/*!sc*/
.fCnxTL.tooltipped-s::before,.fCnxTL.tooltipped-se::before,.fCnxTL.tooltipped-sw::before{top:auto;right:50%;bottom:-7px;margin-right:-6px;border-bottom-color:#6e7681;}/*!sc*/
.fCnxTL.tooltipped-se::after{right:auto;left:50%;margin-left:-16px;}/*!sc*/
.fCnxTL.tooltipped-sw::after{margin-right:-16px;}/*!sc*/
.fCnxTL.tooltipped-n::after,.fCnxTL.tooltipped-ne::after,.fCnxTL.tooltipped-nw::after{right:50%;bottom:100%;margin-bottom:6px;}/*!sc*/
.fCnxTL.tooltipped-n::before,.fCnxTL.tooltipped-ne::before,.fCnxTL.tooltipped-nw::before{top:-7px;right:50%;bottom:auto;margin-right:-6px;border-top-color:#6e7681;}/*!sc*/
.fCnxTL.tooltipped-ne::after{right:auto;left:50%;margin-left:-16px;}/*!sc*/
.fCnxTL.tooltipped-nw::after{margin-right:-16px;}/*!sc*/
.fCnxTL.tooltipped-s::after,.fCnxTL.tooltipped-n::after{-webkit-transform:translateX(50%);-ms-transform:translateX(50%);transform:translateX(50%);}/*!sc*/
.fCnxTL.tooltipped-w::after{right:100%;bottom:50%;margin-right:6px;-webkit-transform:translateY(50%);-ms-transform:translateY(50%);transform:translateY(50%);}/*!sc*/
.fCnxTL.tooltipped-w::before{top:50%;bottom:50%;left:-7px;margin-top:-6px;border-left-color:#6e7681;}/*!sc*/
.fCnxTL.tooltipped-e::after{bottom:50%;left:100%;margin-left:6px;-webkit-transform:translateY(50%);-ms-transform:translateY(50%);transform:translateY(50%);}/*!sc*/
.fCnxTL.tooltipped-e::before{top:50%;right:-7px;bottom:50%;margin-top:-6px;border-right-color:#6e7681;}/*!sc*/
.fCnxTL.tooltipped-multiline::after{width:-webkit-max-content;width:-moz-max-content;width:max-content;max-width:250px;word-wrap:break-word;white-space:pre-line;border-collapse:separate;}/*!sc*/
.fCnxTL.tooltipped-multiline.tooltipped-s::after,.fCnxTL.tooltipped-multiline.tooltipped-n::after{right:auto;left:50%;-webkit-transform:translateX(-50%);-ms-transform:translateX(-50%);transform:translateX(-50%);}/*!sc*/
.fCnxTL.tooltipped-multiline.tooltipped-w::after,.fCnxTL.tooltipped-multiline.tooltipped-e::after{right:100%;}/*!sc*/
.fCnxTL.tooltipped-align-right-2::after{right:0;margin-right:0;}/*!sc*/
.fCnxTL.tooltipped-align-right-2::before{right:15px;}/*!sc*/
.fCnxTL.tooltipped-align-left-2::after{left:0;margin-left:0;}/*!sc*/
.fCnxTL.tooltipped-align-left-2::before{left:10px;}/*!sc*/
data-styled.g28[id="Tooltip__TooltipBase-sc-uha8qm-0"]{content:"fCnxTL,"}/*!sc*/
.cDLBls{border:0;font-size:inherit;font-family:inherit;background-color:transparent;-webkit-appearance:none;color:inherit;width:100%;}/*!sc*/
.cDLBls:focus{outline:0;}/*!sc*/
data-styled.g29[id="UnstyledTextInput-sc-14ypya-0"]{content:"cDLBls,"}/*!sc*/
.bOMzPg{min-width:0;}/*!sc*/
.fWVgeN{padding-left:4px;padding-right:4px;font-weight:400;color:#7d8590;font-size:16px;}/*!sc*/
.hfRvxg{color:#e6edf3;}/*!sc*/
.iqTHmv{padding-left:4px;padding-right:4px;font-weight:400;color:#7d8590;font-size:14px;}/*!sc*/
data-styled.g35[id="Text-sc-17v1xeu-0"]{content:"bOMzPg,fWVgeN,hfRvxg,gPDEWA,iqTHmv,"}/*!sc*/
.cjbBGq{display:-webkit-inline-box;display:-webkit-inline-flex;display:-ms-inline-flexbox;display:inline-flex;vertical-align:middle;isolation:isolate;}/*!sc*/
.cjbBGq.cjbBGq > *{margin-inline-end:-1px;position:relative;border-radius:0;}/*!sc*/
.cjbBGq.cjbBGq > *:first-child{border-top-left-radius:6px;border-bottom-left-radius:6px;}/*!sc*/
.cjbBGq.cjbBGq > *:last-child{border-top-right-radius:6px;border-bottom-right-radius:6px;}/*!sc*/
.cjbBGq.cjbBGq > *:focus,.cjbBGq.cjbBGq > *:active,.cjbBGq.cjbBGq > *:hover{z-index:1;}/*!sc*/
data-styled.g84[id="ButtonGroup-sc-1gxhls1-0"]{content:"cjbBGq,"}/*!sc*/
.gKuCoB{--segmented-control-button-inner-padding:12px;--segmented-control-button-bg-inset:4px;--segmented-control-outer-radius:6px;background-color:transparent;border-color:transparent;border-radius:var(--segmented-control-outer-radius);border-width:0;color:currentColor;cursor:pointer;font-family:inherit;font-size:inherit;font-weight:600;padding:0;height:100%;width:100%;}/*!sc*/
.gKuCoB .segmentedControl-content{-webkit-align-items:center;-webkit-box-align:center;-ms-flex-align:center;align-items:center;background-color:#0d1117;border-color:#6e7681;border-style:solid;border-width:1px;border-radius:var(--segmented-control-outer-radius);display:-webkit-box;display:-webkit-flex;display:-ms-flexbox;display:flex;height:100%;-webkit-box-pack:center;-webkit-justify-content:center;-ms-flex-pack:center;justify-content:center;padding-left:var(--segmented-control-button-inner-padding);padding-right:var(--segmented-control-button-inner-padding);}/*!sc*/
.gKuCoB svg{fill:#7d8590;}/*!sc*/
.gKuCoB:focus:focus-visible:not(:last-child):after{width:0;}/*!sc*/
.gKuCoB .segmentedControl-text:after{content:"Preview";display:block;font-weight:600;height:0;overflow:hidden;pointer-events:none;-webkit-user-select:none;-moz-user-select:none;-ms-user-select:none;user-select:none;visibility:hidden;}/*!sc*/
@media (pointer:coarse){.gKuCoB:before{content:"";position:absolute;left:0;right:0;-webkit-transform:translateY(-50%);-ms-transform:translateY(-50%);transform:translateY(-50%);top:50%;min-height:44px;}}/*!sc*/
.fCAAcl{--segmented-control-button-inner-padding:12px;--segmented-control-button-bg-inset:4px;--segmented-control-outer-radius:6px;background-color:transparent;border-color:transparent;border-radius:var(--segmented-control-outer-radius);border-width:0;color:currentColor;cursor:pointer;font-family:inherit;font-size:inherit;font-weight:400;padding:var(--segmented-control-button-bg-inset);height:100%;width:100%;}/*!sc*/
.fCAAcl .segmentedControl-content{-webkit-align-items:center;-webkit-box-align:center;-ms-flex-align:center;align-items:center;background-color:transparent;border-color:transparent;border-style:solid;border-width:1px;border-radius:calc(var(--segmented-control-outer-radius) - var(--segmented-control-button-bg-inset) / 2);display:-webkit-box;display:-webkit-flex;display:-ms-flexbox;display:flex;height:100%;-webkit-box-pack:center;-webkit-justify-content:center;-ms-flex-pack:center;justify-content:center;padding-left:calc(var(--segmented-control-button-inner-padding) - var(--segmented-control-button-bg-inset));padding-right:calc(var(--segmented-control-button-inner-padding) - var(--segmented-control-button-bg-inset));}/*!sc*/
.fCAAcl svg{fill:#7d8590;}/*!sc*/
.fCAAcl:hover .segmentedControl-content{background-color:#30363d;}/*!sc*/
.fCAAcl:active .segmentedControl-content{background-color:#21262d;}/*!sc*/
.fCAAcl:focus:focus-visible:not(:last-child):after{width:0;}/*!sc*/
.fCAAcl .segmentedControl-text:after{content:"Code";display:block;font-weight:600;height:0;overflow:hidden;pointer-events:none;-webkit-user-select:none;-moz-user-select:none;-ms-user-select:none;user-select:none;visibility:hidden;}/*!sc*/
@media (pointer:coarse){.fCAAcl:before{content:"";position:absolute;left:0;right:0;-webkit-transform:translateY(-50%);-ms-transform:translateY(-50%);transform:translateY(-50%);top:50%;min-height:44px;}}/*!sc*/
.dAXkSP{--segmented-control-button-inner-padding:12px;--segmented-control-button-bg-inset:4px;--segmented-control-outer-radius:6px;background-color:transparent;border-color:transparent;border-radius:var(--segmented-control-outer-radius);border-width:0;color:currentColor;cursor:pointer;font-family:inherit;font-size:inherit;font-weight:400;padding:var(--segmented-control-button-bg-inset);height:100%;width:100%;}/*!sc*/
.dAXkSP .segmentedControl-content{-webkit-align-items:center;-webkit-box-align:center;-ms-flex-align:center;align-items:center;background-color:transparent;border-color:transparent;border-style:solid;border-width:1px;border-radius:calc(var(--segmented-control-outer-radius) - var(--segmented-control-button-bg-inset) / 2);display:-webkit-box;display:-webkit-flex;display:-ms-flexbox;display:flex;height:100%;-webkit-box-pack:center;-webkit-justify-content:center;-ms-flex-pack:center;justify-content:center;padding-left:calc(var(--segmented-control-button-inner-padding) - var(--segmented-control-button-bg-inset));padding-right:calc(var(--segmented-control-button-inner-padding) - var(--segmented-control-button-bg-inset));}/*!sc*/
.dAXkSP svg{fill:#7d8590;}/*!sc*/
.dAXkSP:hover .segmentedControl-content{background-color:#30363d;}/*!sc*/
.dAXkSP:active .segmentedControl-content{background-color:#21262d;}/*!sc*/
.dAXkSP:focus:focus-visible:not(:last-child):after{width:0;}/*!sc*/
.dAXkSP .segmentedControl-text:after{content:"Blame";display:block;font-weight:600;height:0;overflow:hidden;pointer-events:none;-webkit-user-select:none;-moz-user-select:none;-ms-user-select:none;user-select:none;visibility:hidden;}/*!sc*/
@media (pointer:coarse){.dAXkSP:before{content:"";position:absolute;left:0;right:0;-webkit-transform:translateY(-50%);-ms-transform:translateY(-50%);transform:translateY(-50%);top:50%;min-height:44px;}}/*!sc*/
data-styled.g91[id="SegmentedControlButton__SegmentedControlButtonStyled-sc-8lkgxl-0"]{content:"gKuCoB,fCAAcl,dAXkSP,"}/*!sc*/
.ivYJSK{background-color:rgba(110,118,129,0.1);border-radius:6px;display:-webkit-inline-box;display:-webkit-inline-flex;display:-ms-inline-flexbox;display:inline-flex;font-size:14px;height:28px;margin:0;padding:0;}/*!sc*/
data-styled.g93[id="SegmentedControl__SegmentedControlList-sc-1rzig82-0"]{content:"ivYJSK,"}/*!sc*/
body[data-page-layout-dragging="true"]{cursor:col-resize;}/*!sc*/
body[data-page-layout-dragging="true"] *{-webkit-user-select:none;-moz-user-select:none;-ms-user-select:none;user-select:none;}/*!sc*/
data-styled.g97[id="sc-global-gbKrvU1"]{content:"sc-global-gbKrvU1,"}/*!sc*/
.hLwWNO{list-style:none;padding:0;margin:0;}/*!sc*/
.hLwWNO .PRIVATE_TreeView-item{outline:none;}/*!sc*/
.hLwWNO .PRIVATE_TreeView-item:focus-visible > div,.hLwWNO .PRIVATE_TreeView-item.focus-visible > div{box-shadow:inset 0 0 0 2px #2f81f7;}/*!sc*/
@media (forced-colors:active){.hLwWNO .PRIVATE_TreeView-item:focus-visible > div,.hLwWNO .PRIVATE_TreeView-item.focus-visible > div{outline:2px solid HighlightText;outline-offset:-2;}}/*!sc*/
.hLwWNO .PRIVATE_TreeView-item-container{--level:1;--toggle-width:1rem;position:relative;display:grid;grid-template-columns:calc(calc(var(--level) - 1) * (var(--toggle-width) / 2)) var(--toggle-width) 1fr;grid-template-areas:'spacer toggle content';width:100%;min-height:2rem;font-size:14px;color:#e6edf3;border-radius:6px;cursor:pointer;}/*!sc*/
.hLwWNO .PRIVATE_TreeView-item-container:hover{background-color:rgba(177,186,196,0.12);}/*!sc*/
@media (forced-colors:active){.hLwWNO .PRIVATE_TreeView-item-container:hover{outline:2px solid transparent;outline-offset:-2px;}}/*!sc*/
@media (pointer:coarse){.hLwWNO .PRIVATE_TreeView-item-container{--toggle-width:1.5rem;min-height:2.75rem;}}/*!sc*/
.hLwWNO .PRIVATE_TreeView-item-container:has(.PRIVATE_TreeView-item-skeleton):hover{background-color:transparent;cursor:default;}/*!sc*/
@media (forced-colors:active){.hLwWNO .PRIVATE_TreeView-item-container:has(.PRIVATE_TreeView-item-skeleton):hover{outline:none;}}/*!sc*/
.hLwWNO[data-omit-spacer='true'] .PRIVATE_TreeView-item-container{grid-template-columns:0 0 1fr;}/*!sc*/
.hLwWNO .PRIVATE_TreeView-item[aria-current='true'] > .PRIVATE_TreeView-item-container{background-color:rgba(177,186,196,0.08);}/*!sc*/
.hLwWNO .PRIVATE_TreeView-item[aria-current='true'] > .PRIVATE_TreeView-item-container::after{content:'';position:absolute;top:calc(50% - 0.75rem);left:-8px;width:0.25rem;height:1.5rem;background-color:#2f81f7;border-radius:6px;}/*!sc*/
@media (forced-colors:active){.hLwWNO .PRIVATE_TreeView-item[aria-current='true'] > .PRIVATE_TreeView-item-container::after{background-color:HighlightText;}}/*!sc*/
.hLwWNO .PRIVATE_TreeView-item-toggle{grid-area:toggle;display:-webkit-box;display:-webkit-flex;display:-ms-flexbox;display:flex;-webkit-align-items:center;-webkit-box-align:center;-ms-flex-align:center;align-items:center;-webkit-box-pack:center;-webkit-justify-content:center;-ms-flex-pack:center;justify-content:center;height:100%;color:#7d8590;}/*!sc*/
.hLwWNO .PRIVATE_TreeView-item-toggle--hover:hover{background-color:rgba(177,186,196,0.12);}/*!sc*/
.hLwWNO .PRIVATE_TreeView-item-toggle--end{border-top-left-radius:6px;border-bottom-left-radius:6px;}/*!sc*/
.hLwWNO .PRIVATE_TreeView-item-content{grid-area:content;display:-webkit-box;display:-webkit-flex;display:-ms-flexbox;display:flex;-webkit-align-items:center;-webkit-box-align:center;-ms-flex-align:center;align-items:center;height:100%;padding:0 8px;gap:8px;}/*!sc*/
.hLwWNO .PRIVATE_TreeView-item-content-text{-webkit-flex:1 1 auto;-ms-flex:1 1 auto;flex:1 1 auto;width:0;overflow:hidden;white-space:nowrap;text-overflow:ellipsis;}/*!sc*/
.hLwWNO .PRIVATE_TreeView-item-visual{display:-webkit-box;display:-webkit-flex;display:-ms-flexbox;display:flex;color:#7d8590;}/*!sc*/
.hLwWNO .PRIVATE_TreeView-item-level-line{width:100%;height:100%;border-right:1px solid;border-color:rgba(240,246,252,0.1);}/*!sc*/
@media (hover:hover){.hLwWNO .PRIVATE_TreeView-item-level-line{border-color:transparent;}.hLwWNO:hover .PRIVATE_TreeView-item-level-line,.hLwWNO:focus-within .PRIVATE_TreeView-item-level-line{border-color:rgba(240,246,252,0.1);}}/*!sc*/
.hLwWNO .PRIVATE_TreeView-directory-icon{display:grid;color:#7d8590;}/*!sc*/
.hLwWNO .PRIVATE_VisuallyHidden{position:absolute;width:1px;height:1px;padding:0;margin:-1px;overflow:hidden;-webkit-clip:rect(0,0,0,0);clip:rect(0,0,0,0);white-space:nowrap;border-width:0;}/*!sc*/
data-styled.g104[id="TreeView__UlBox-sc-4ex6b6-0"]{content:"hLwWNO,"}/*!sc*/
</style><meta data-hydrostats="publish"/> <!-- --> <!-- --> <!-- --> <button hidden="" data-testid="header-permalink-button" data-hotkey-scope="read-only-cursor-text-area"></button><button hidden=""></button><div class="Box-sc-g0xbh4-0"><div style="--sticky-pane-height:100vh" class="Box-sc-g0xbh4-0 fSWWem"><div class="Box-sc-g0xbh4-0 kPPmzM"><div class="Box-sc-g0xbh4-0 cIAPDV"><div tabindex="0" class="Box-sc-g0xbh4-0 gvCnwW"><div class="Box-sc-g0xbh4-0 ioxSsX"><div class="Box-sc-g0xbh4-0 eUyHuk"></div><div class="Box-sc-g0xbh4-0 hAeDYA"><div role="separator" class="Box-sc-g0xbh4-0 dZCkhR"></div></div><div style="--pane-width:320px" class="Box-sc-g0xbh4-0 gNdDUH"><span class="_VisuallyHidden__VisuallyHidden-sc-11jhm7a-0 rTZSs"><form><label for=":Rdjal5:-width-input">Pane width</label><p id=":Rdjal5:-input-hint">Use a value between <!-- -->0<!-- -->% and <!-- -->0<!-- -->%</p><input id=":Rdjal5:-width-input" aria-describedby=":Rdjal5:-input-hint" name="pane-width" inputMode="numeric" pattern="[0-9]*" autoCorrect="off" autoComplete="off" type="text" value=""/><button type="submit">Change width</button></form></span><div class="Box-sc-g0xbh4-0 react-tree-pane-contents"><div id="repos-file-tree" class="Box-sc-g0xbh4-0 jywUSN"><div class="Box-sc-g0xbh4-0 hBSSUC"><div class="Box-sc-g0xbh4-0 iPurHz"><h2 class="Heading__StyledHeading-sc-1c1dgg0-0 fNPcqd"><button type="button" aria-label="Expand side panel" data-testid="expand-file-tree-button-mobile" class="types__StyledButton-sc-ws60qy-0 cmNjCr"><span data-component="buttonContent" class="Box-sc-g0xbh4-0 kkrdEu"><span data-component="leadingVisual" class="Box-sc-g0xbh4-0 trpoQ"><svg aria-hidden="true" focusable="false" role="img" class="octicon octicon-arrow-left" viewBox="0 0 16 16" width="16" height="16" fill="currentColor" style="display:inline-block;user-select:none;vertical-align:text-bottom;overflow:visible"><path d="M7.78 12.53a.75.75 0 0 1-1.06 0L2.47 8.28a.75.75 0 0 1 0-1.06l4.25-4.25a.751.751 0 0 1 1.042.018.751.751 0 0 1 .018 1.042L4.81 7h7.44a.75.75 0 0 1 0 1.5H4.81l2.97 2.97a.75.75 0 0 1 0 1.06Z"></path></svg></span><span data-component="text">Files</span></span></button><button data-component="IconButton" type="button" data-testid="collapse-file-tree-button" aria-label="Side panel" aria-expanded="true" aria-controls="repos-file-tree" class="types__StyledButton-sc-ws60qy-0 lhczWi" data-no-visuals="true"><svg aria-hidden="true" focusable="false" role="img" class="octicon octicon-sidebar-expand" viewBox="0 0 16 16" width="16" height="16" fill="currentColor" style="display:inline-block;user-select:none;vertical-align:text-bottom;overflow:visible"><path d="m4.177 7.823 2.396-2.396A.25.25 0 0 1 7 5.604v4.792a.25.25 0 0 1-.427.177L4.177 8.177a.25.25 0 0 1 0-.354Z"></path><path d="M0 1.75C0 .784.784 0 1.75 0h12.5C15.216 0 16 .784 16 1.75v12.5A1.75 1.75 0 0 1 14.25 16H1.75A1.75 1.75 0 0 1 0 14.25Zm1.75-.25a.25.25 0 0 0-.25.25v12.5c0 .138.112.25.25.25H9.5v-13Zm12.5 13a.25.25 0 0 0 .25-.25V1.75a.25.25 0 0 0-.25-.25H11v13Z"></path></svg></button><button hidden="" data-testid="" data-hotkey-scope="read-only-cursor-text-area"></button></h2><h2 class="Heading__StyledHeading-sc-1c1dgg0-0 imcwCi">Files</h2></div><div class="Box-sc-g0xbh4-0 hVHHYa"><div class="Box-sc-g0xbh4-0 idZfsJ"><button type="button" id="branch-picker-repos-header-ref-selector" aria-haspopup="true" tabindex="0" aria-label="sri branch" data-testid="anchor-button" class="types__StyledButton-sc-ws60qy-0 hPfySA react-repos-tree-pane-ref-selector width-full ref-selector-class"><span data-component="buttonContent" class="Box-sc-g0xbh4-0 kkrdEu"><span data-component="text"><div class="Box-sc-g0xbh4-0 bKgizp"><div class="Box-sc-g0xbh4-0 bwTunw"><svg aria-hidden="true" focusable="false" role="img" class="octicon octicon-git-branch" viewBox="0 0 16 16" width="16" height="16" fill="currentColor" style="display:inline-block;user-select:none;vertical-align:text-bottom;overflow:visible"><path d="M9.5 3.25a2.25 2.25 0 1 1 3 2.122V6A2.5 2.5 0 0 1 10 8.5H6a1 1 0 0 0-1 1v1.128a2.251 2.251 0 1 1-1.5 0V5.372a2.25 2.25 0 1 1 1.5 0v1.836A2.493 2.493 0 0 1 6 7h4a1 1 0 0 0 1-1v-.628A2.25 2.25 0 0 1 9.5 3.25Zm-6 0a.75.75 0 1 0 1.5 0 .75.75 0 0 0-1.5 0Zm8.25-.75a.75.75 0 1 0 0 1.5.75.75 0 0 0 0-1.5ZM4.25 12a.75.75 0 1 0 0 1.5.75.75 0 0 0 0-1.5Z"></path></svg></div><div class="Box-sc-g0xbh4-0 caeYDk"><span class="Text-sc-17v1xeu-0 bOMzPg"> <!-- -->sri</span></div></div></span><span data-component="trailingVisual" class="Box-sc-g0xbh4-0 trpoQ"><svg aria-hidden="true" focusable="false" role="img" class="octicon octicon-triangle-down" viewBox="0 0 16 16" width="16" height="16" fill="currentColor" style="display:inline-block;user-select:none;vertical-align:text-bottom;overflow:visible"><path d="m4.427 7.427 3.396 3.396a.25.25 0 0 0 .354 0l3.396-3.396A.25.25 0 0 0 11.396 7H4.604a.25.25 0 0 0-.177.427Z"></path></svg></span></span></button><button hidden="" data-hotkey-scope="read-only-cursor-text-area"></button></div><div class="Box-sc-g0xbh4-0 jahcnb"><span role="tooltip" aria-label="Add file" class="Tooltip__TooltipBase-sc-uha8qm-0 fCnxTL tooltipped-s"><a sx="[object Object]" data-component="IconButton" type="button" aria-label="Add file" data-no-visuals="true" class="types__StyledButton-sc-ws60qy-0 dRdQkF" href="/jnliou/project4/new/sri"><svg aria-hidden="true" focusable="false" role="img" class="octicon octicon-plus" viewBox="0 0 16 16" width="16" height="16" fill="currentColor" style="display:inline-block;user-select:none;vertical-align:text-bottom;overflow:visible"><path d="M7.75 2a.75.75 0 0 1 .75.75V7h4.25a.75.75 0 0 1 0 1.5H8.5v4.25a.75.75 0 0 1-1.5 0V8.5H2.75a.75.75 0 0 1 0-1.5H7V2.75A.75.75 0 0 1 7.75 2Z"></path></svg></a></span><button data-component="IconButton" type="button" aria-label="Search this repository" data-no-visuals="true" class="types__StyledButton-sc-ws60qy-0 dsmVIn"><svg aria-hidden="true" focusable="false" role="img" class="octicon octicon-search" viewBox="0 0 16 16" width="16" height="16" fill="currentColor" style="display:inline-block;user-select:none;vertical-align:text-bottom;overflow:visible"><path d="M10.68 11.74a6 6 0 0 1-7.922-8.982 6 6 0 0 1 8.982 7.922l3.04 3.04a.749.749 0 0 1-.326 1.275.749.749 0 0 1-.734-.215ZM11.5 7a4.499 4.499 0 1 0-8.997 0A4.499 4.499 0 0 0 11.5 7Z"></path></svg></button><button hidden="" data-testid="" data-hotkey-scope="read-only-cursor-text-area"></button></div></div></div><div class="Box-sc-g0xbh4-0 ccToMy"><button hidden="" data-testid="" data-hotkey-scope="read-only-cursor-text-area"></button><button hidden=""></button><span class="TextInputWrapper__TextInputBaseWrapper-sc-1mqhpbi-0 TextInputWrapper-sc-1mqhpbi-1 hSXtjz hZMmEi TextInput-wrapper" aria-busy="false"><span class="TextInput-icon"><svg aria-hidden="true" focusable="false" role="img" class="octicon octicon-search" viewBox="0 0 16 16" width="16" height="16" fill="currentColor" style="display:inline-block;user-select:none;vertical-align:text-bottom;overflow:visible"><path d="M10.68 11.74a6 6 0 0 1-7.922-8.982 6 6 0 0 1 8.982 7.922l3.04 3.04a.749.749 0 0 1-.326 1.275.749.749 0 0 1-.734-.215ZM11.5 7a4.499 4.499 0 1 0-8.997 0A4.499 4.499 0 0 0 11.5 7Z"></path></svg></span><input type="text" aria-label="Go to file" role="combobox" aria-controls="file-results-list" aria-expanded="false" aria-haspopup="dialog" autoCorrect="off" spellcheck="false" placeholder="Go to file" data-component="input" class="UnstyledTextInput-sc-14ypya-0 cDLBls" value=""/><span class="TextInput-icon"><div class="Box-sc-g0xbh4-0 cNvKlH"><kbd>t</kbd></div></span></span></div><div class="Box-sc-g0xbh4-0 cLfAnm"><div class="react-tree-show-tree-items"><div data-testid="repos-file-tree-container" class="Box-sc-g0xbh4-0 erWCJP"><nav aria-label="File Tree Navigation"><span role="status" aria-live="polite" aria-atomic="true" class="_VisuallyHidden__VisuallyHidden-sc-11jhm7a-0 rTZSs"></span><ul role="tree" aria-label="Files" class="TreeView__UlBox-sc-4ex6b6-0 hLwWNO"><li class="PRIVATE_TreeView-item" tabindex="0" id="CNN_model.h5-item" role="treeitem" aria-labelledby=":Rqcndjal5:" aria-describedby=":Rqcndjal5H1: :Rqcndjal5H2:" aria-level="1" aria-selected="false"><div class="PRIVATE_TreeView-item-container" style="--level:1;content-visibility:auto;contain-intrinsic-size:auto 2rem"><div style="grid-area:spacer;display:flex"><div style="width:100%;display:flex"></div></div><div id=":Rqcndjal5:" class="PRIVATE_TreeView-item-content"><div class="PRIVATE_VisuallyHidden" aria-hidden="true" id=":Rqcndjal5H1:"></div><div class="PRIVATE_TreeView-item-visual" aria-hidden="true"><svg aria-hidden="true" focusable="false" role="img" class="octicon octicon-file" viewBox="0 0 16 16" width="16" height="16" fill="currentColor" style="display:inline-block;user-select:none;vertical-align:text-bottom;overflow:visible"><path d="M2 1.75C2 .784 2.784 0 3.75 0h6.586c.464 0 .909.184 1.237.513l2.914 2.914c.329.328.513.773.513 1.237v9.586A1.75 1.75 0 0 1 13.25 16h-9.5A1.75 1.75 0 0 1 2 14.25Zm1.75-.25a.25.25 0 0 0-.25.25v12.5c0 .138.112.25.25.25h9.5a.25.25 0 0 0 .25-.25V6h-2.75A1.75 1.75 0 0 1 9 4.25V1.5Zm6.75.062V4.25c0 .138.112.25.25.25h2.688l-.011-.013-2.914-2.914-.013-.011Z"></path></svg></div><span class="PRIVATE_TreeView-item-content-text"><span>CNN_model.h5</span></span></div></div></li><li class="PRIVATE_TreeView-item" tabindex="0" id="README.md-item" role="treeitem" aria-labelledby=":R1acndjal5:" aria-describedby=":R1acndjal5H1: :R1acndjal5H2:" aria-level="1" aria-selected="false"><div class="PRIVATE_TreeView-item-container" style="--level:1;content-visibility:auto;contain-intrinsic-size:auto 2rem"><div style="grid-area:spacer;display:flex"><div style="width:100%;display:flex"></div></div><div id=":R1acndjal5:" class="PRIVATE_TreeView-item-content"><div class="PRIVATE_VisuallyHidden" aria-hidden="true" id=":R1acndjal5H1:"></div><div class="PRIVATE_TreeView-item-visual" aria-hidden="true"><svg aria-hidden="true" focusable="false" role="img" class="octicon octicon-file" viewBox="0 0 16 16" width="16" height="16" fill="currentColor" style="display:inline-block;user-select:none;vertical-align:text-bottom;overflow:visible"><path d="M2 1.75C2 .784 2.784 0 3.75 0h6.586c.464 0 .909.184 1.237.513l2.914 2.914c.329.328.513.773.513 1.237v9.586A1.75 1.75 0 0 1 13.25 16h-9.5A1.75 1.75 0 0 1 2 14.25Zm1.75-.25a.25.25 0 0 0-.25.25v12.5c0 .138.112.25.25.25h9.5a.25.25 0 0 0 .25-.25V6h-2.75A1.75 1.75 0 0 1 9 4.25V1.5Zm6.75.062V4.25c0 .138.112.25.25.25h2.688l-.011-.013-2.914-2.914-.013-.011Z"></path></svg></div><span class="PRIVATE_TreeView-item-content-text"><span>README.md</span></span></div></div></li><li class="PRIVATE_TreeView-item" tabindex="0" id="Various_models.ipynb-item" role="treeitem" aria-labelledby=":R1qcndjal5:" aria-describedby=":R1qcndjal5H1: :R1qcndjal5H2:" aria-level="1" aria-current="true" aria-selected="false"><div class="PRIVATE_TreeView-item-container" style="--level:1"><div style="grid-area:spacer;display:flex"><div style="width:100%;display:flex"></div></div><div id=":R1qcndjal5:" class="PRIVATE_TreeView-item-content"><div class="PRIVATE_VisuallyHidden" aria-hidden="true" id=":R1qcndjal5H1:"></div><div class="PRIVATE_TreeView-item-visual" aria-hidden="true"><svg aria-hidden="true" focusable="false" role="img" class="octicon octicon-file" viewBox="0 0 16 16" width="16" height="16" fill="currentColor" style="display:inline-block;user-select:none;vertical-align:text-bottom;overflow:visible"><path d="M2 1.75C2 .784 2.784 0 3.75 0h6.586c.464 0 .909.184 1.237.513l2.914 2.914c.329.328.513.773.513 1.237v9.586A1.75 1.75 0 0 1 13.25 16h-9.5A1.75 1.75 0 0 1 2 14.25Zm1.75-.25a.25.25 0 0 0-.25.25v12.5c0 .138.112.25.25.25h9.5a.25.25 0 0 0 .25-.25V6h-2.75A1.75 1.75 0 0 1 9 4.25V1.5Zm6.75.062V4.25c0 .138.112.25.25.25h2.688l-.011-.013-2.914-2.914-.013-.011Z"></path></svg></div><span class="PRIVATE_TreeView-item-content-text"><span>Various_models.ipynb</span></span></div></div></li><li class="PRIVATE_TreeView-item" tabindex="0" id="data_preprocess (1).ipynb-item" role="treeitem" aria-labelledby=":R2acndjal5:" aria-describedby=":R2acndjal5H1: :R2acndjal5H2:" aria-level="1" aria-selected="false"><div class="PRIVATE_TreeView-item-container" style="--level:1;content-visibility:auto;contain-intrinsic-size:auto 2rem"><div style="grid-area:spacer;display:flex"><div style="width:100%;display:flex"></div></div><div id=":R2acndjal5:" class="PRIVATE_TreeView-item-content"><div class="PRIVATE_VisuallyHidden" aria-hidden="true" id=":R2acndjal5H1:"></div><div class="PRIVATE_TreeView-item-visual" aria-hidden="true"><svg aria-hidden="true" focusable="false" role="img" class="octicon octicon-file" viewBox="0 0 16 16" width="16" height="16" fill="currentColor" style="display:inline-block;user-select:none;vertical-align:text-bottom;overflow:visible"><path d="M2 1.75C2 .784 2.784 0 3.75 0h6.586c.464 0 .909.184 1.237.513l2.914 2.914c.329.328.513.773.513 1.237v9.586A1.75 1.75 0 0 1 13.25 16h-9.5A1.75 1.75 0 0 1 2 14.25Zm1.75-.25a.25.25 0 0 0-.25.25v12.5c0 .138.112.25.25.25h9.5a.25.25 0 0 0 .25-.25V6h-2.75A1.75 1.75 0 0 1 9 4.25V1.5Zm6.75.062V4.25c0 .138.112.25.25.25h2.688l-.011-.013-2.914-2.914-.013-.011Z"></path></svg></div><span class="PRIVATE_TreeView-item-content-text"><span>data_preprocess (1).ipynb</span></span></div></div></li><li class="PRIVATE_TreeView-item" tabindex="0" id="random_forest_model.h5-item" role="treeitem" aria-labelledby=":R2qcndjal5:" aria-describedby=":R2qcndjal5H1: :R2qcndjal5H2:" aria-level="1" aria-selected="false"><div class="PRIVATE_TreeView-item-container" style="--level:1;content-visibility:auto;contain-intrinsic-size:auto 2rem"><div style="grid-area:spacer;display:flex"><div style="width:100%;display:flex"></div></div><div id=":R2qcndjal5:" class="PRIVATE_TreeView-item-content"><div class="PRIVATE_VisuallyHidden" aria-hidden="true" id=":R2qcndjal5H1:"></div><div class="PRIVATE_TreeView-item-visual" aria-hidden="true"><svg aria-hidden="true" focusable="false" role="img" class="octicon octicon-file" viewBox="0 0 16 16" width="16" height="16" fill="currentColor" style="display:inline-block;user-select:none;vertical-align:text-bottom;overflow:visible"><path d="M2 1.75C2 .784 2.784 0 3.75 0h6.586c.464 0 .909.184 1.237.513l2.914 2.914c.329.328.513.773.513 1.237v9.586A1.75 1.75 0 0 1 13.25 16h-9.5A1.75 1.75 0 0 1 2 14.25Zm1.75-.25a.25.25 0 0 0-.25.25v12.5c0 .138.112.25.25.25h9.5a.25.25 0 0 0 .25-.25V6h-2.75A1.75 1.75 0 0 1 9 4.25V1.5Zm6.75.062V4.25c0 .138.112.25.25.25h2.688l-.011-.013-2.914-2.914-.013-.011Z"></path></svg></div><span class="PRIVATE_TreeView-item-content-text"><span>random_forest_model.h5</span></span></div></div></li><li class="PRIVATE_TreeView-item" tabindex="0" id="sri-ML final.ipynb-item" role="treeitem" aria-labelledby=":R3acndjal5:" aria-describedby=":R3acndjal5H1: :R3acndjal5H2:" aria-level="1" aria-selected="false"><div class="PRIVATE_TreeView-item-container" style="--level:1;content-visibility:auto;contain-intrinsic-size:auto 2rem"><div style="grid-area:spacer;display:flex"><div style="width:100%;display:flex"></div></div><div id=":R3acndjal5:" class="PRIVATE_TreeView-item-content"><div class="PRIVATE_VisuallyHidden" aria-hidden="true" id=":R3acndjal5H1:"></div><div class="PRIVATE_TreeView-item-visual" aria-hidden="true"><svg aria-hidden="true" focusable="false" role="img" class="octicon octicon-file" viewBox="0 0 16 16" width="16" height="16" fill="currentColor" style="display:inline-block;user-select:none;vertical-align:text-bottom;overflow:visible"><path d="M2 1.75C2 .784 2.784 0 3.75 0h6.586c.464 0 .909.184 1.237.513l2.914 2.914c.329.328.513.773.513 1.237v9.586A1.75 1.75 0 0 1 13.25 16h-9.5A1.75 1.75 0 0 1 2 14.25Zm1.75-.25a.25.25 0 0 0-.25.25v12.5c0 .138.112.25.25.25h9.5a.25.25 0 0 0 .25-.25V6h-2.75A1.75 1.75 0 0 1 9 4.25V1.5Zm6.75.062V4.25c0 .138.112.25.25.25h2.688l-.011-.013-2.914-2.914-.013-.011Z"></path></svg></div><span class="PRIVATE_TreeView-item-content-text"><span>sri-ML final.ipynb</span></span></div></div></li></ul></nav></div></div><div class="Box-sc-g0xbh4-0 hwhShM"><div class="Box-sc-g0xbh4-0 cYPxpP"><a href="https://docs.github.com/repositories/working-with-files/using-files/navigating-code-on-github" target="_blank" class="Link__StyledLink-sc-14289xe-0 bJBoUI">Documentation</a> • <a href="https://github.com/orgs/community/discussions/54546" target="_blank" class="Link__StyledLink-sc-14289xe-0 bJBoUI">Share feedback</a></div></div></div><div class="Box-sc-g0xbh4-0 fBtiVT"><div class="Box-sc-g0xbh4-0 cYPxpP"><a href="https://docs.github.com/repositories/working-with-files/using-files/navigating-code-on-github" target="_blank" class="Link__StyledLink-sc-14289xe-0 bJBoUI">Documentation</a> • <a href="https://github.com/orgs/community/discussions/54546" target="_blank" class="Link__StyledLink-sc-14289xe-0 bJBoUI">Share feedback</a></div></div></div></div></div></div></div><main class="Box-sc-g0xbh4-0 emFMJu"><div class="Box-sc-g0xbh4-0"></div><div class="Box-sc-g0xbh4-0 hlUAHL"><div data-selector="repos-split-pane-content" tabindex="0" class="Box-sc-g0xbh4-0 iStsmI"><div class="Box-sc-g0xbh4-0 eIgvIk"><div class="Box-sc-g0xbh4-0 eVFfWF container"><div class="Box-sc-g0xbh4-0 kgXdnT react-code-view-header--narrow"><div class="Box-sc-g0xbh4-0 kzTa-dF"><div class="Box-sc-g0xbh4-0 bbXCl"><h2 class="Heading__StyledHeading-sc-1c1dgg0-0 fNPcqd"><button type="button" aria-label="Expand side panel" data-testid="expand-file-tree-button-mobile" class="types__StyledButton-sc-ws60qy-0 cmNjCr"><span data-component="buttonContent" class="Box-sc-g0xbh4-0 kkrdEu"><span data-component="leadingVisual" class="Box-sc-g0xbh4-0 trpoQ"><svg aria-hidden="true" focusable="false" role="img" class="octicon octicon-arrow-left" viewBox="0 0 16 16" width="16" height="16" fill="currentColor" style="display:inline-block;user-select:none;vertical-align:text-bottom;overflow:visible"><path d="M7.78 12.53a.75.75 0 0 1-1.06 0L2.47 8.28a.75.75 0 0 1 0-1.06l4.25-4.25a.751.751 0 0 1 1.042.018.751.751 0 0 1 .018 1.042L4.81 7h7.44a.75.75 0 0 1 0 1.5H4.81l2.97 2.97a.75.75 0 0 1 0 1.06Z"></path></svg></span><span data-component="text">Files</span></span></button><button data-component="IconButton" type="button" data-testid="collapse-file-tree-button" aria-label="Side panel" aria-expanded="true" aria-controls="repos-file-tree" class="types__StyledButton-sc-ws60qy-0 lhczWi" data-no-visuals="true"><svg aria-hidden="true" focusable="false" role="img" class="octicon octicon-sidebar-expand" viewBox="0 0 16 16" width="16" height="16" fill="currentColor" style="display:inline-block;user-select:none;vertical-align:text-bottom;overflow:visible"><path d="m4.177 7.823 2.396-2.396A.25.25 0 0 1 7 5.604v4.792a.25.25 0 0 1-.427.177L4.177 8.177a.25.25 0 0 1 0-.354Z"></path><path d="M0 1.75C0 .784.784 0 1.75 0h12.5C15.216 0 16 .784 16 1.75v12.5A1.75 1.75 0 0 1 14.25 16H1.75A1.75 1.75 0 0 1 0 14.25Zm1.75-.25a.25.25 0 0 0-.25.25v12.5c0 .138.112.25.25.25H9.5v-13Zm12.5 13a.25.25 0 0 0 .25-.25V1.75a.25.25 0 0 0-.25-.25H11v13Z"></path></svg></button><button hidden="" data-testid="" data-hotkey-scope="read-only-cursor-text-area"></button></h2><div class="Box-sc-g0xbh4-0 hGGMNu"><div class="Box-sc-g0xbh4-0 eHRrYV"><button type="button" id="branch-picker-repos-header-ref-selector-narrow" aria-haspopup="true" tabindex="0" aria-label="sri branch" data-testid="anchor-button" class="types__StyledButton-sc-ws60qy-0 ePclzw ref-selector-class"><span data-component="buttonContent" class="Box-sc-g0xbh4-0 kkrdEu"><span data-component="text"><div class="Box-sc-g0xbh4-0 bKgizp"><div class="Box-sc-g0xbh4-0 bwTunw"><svg aria-hidden="true" focusable="false" role="img" class="octicon octicon-git-branch" viewBox="0 0 16 16" width="16" height="16" fill="currentColor" style="display:inline-block;user-select:none;vertical-align:text-bottom;overflow:visible"><path d="M9.5 3.25a2.25 2.25 0 1 1 3 2.122V6A2.5 2.5 0 0 1 10 8.5H6a1 1 0 0 0-1 1v1.128a2.251 2.251 0 1 1-1.5 0V5.372a2.25 2.25 0 1 1 1.5 0v1.836A2.493 2.493 0 0 1 6 7h4a1 1 0 0 0 1-1v-.628A2.25 2.25 0 0 1 9.5 3.25Zm-6 0a.75.75 0 1 0 1.5 0 .75.75 0 0 0-1.5 0Zm8.25-.75a.75.75 0 1 0 0 1.5.75.75 0 0 0 0-1.5ZM4.25 12a.75.75 0 1 0 0 1.5.75.75 0 0 0 0-1.5Z"></path></svg></div><div class="Box-sc-g0xbh4-0 dKmYfk"><span class="Text-sc-17v1xeu-0 bOMzPg"> <!-- -->sri</span></div></div></span><span data-component="trailingVisual" class="Box-sc-g0xbh4-0 trpoQ"><svg aria-hidden="true" focusable="false" role="img" class="octicon octicon-triangle-down" viewBox="0 0 16 16" width="16" height="16" fill="currentColor" style="display:inline-block;user-select:none;vertical-align:text-bottom;overflow:visible"><path d="m4.427 7.427 3.396 3.396a.25.25 0 0 0 .354 0l3.396-3.396A.25.25 0 0 0 11.396 7H4.604a.25.25 0 0 0-.177.427Z"></path></svg></span></span></button><button hidden="" data-hotkey-scope="read-only-cursor-text-area"></button></div> <button type="button" data-no-visuals="true" class="types__StyledButton-sc-ws60qy-0 hPOZTU"><span data-component="buttonContent" class="Box-sc-g0xbh4-0 kkrdEu"><span data-component="text">Blame</span></span></button><button hidden="" data-testid="" data-hotkey-scope="read-only-cursor-text-area"></button><button data-component="IconButton" type="button" aria-label="More file actions" class="types__StyledButton-sc-ws60qy-0 jcILRt js-blob-dropdown-click" title="More file actions" data-testid="more-file-actions-button" id=":R9aaqjal5:" aria-haspopup="true" tabindex="0" data-no-visuals="true"><svg aria-hidden="true" focusable="false" role="img" class="octicon octicon-kebab-horizontal" viewBox="0 0 16 16" width="16" height="16" fill="currentColor" style="display:inline-block;user-select:none;vertical-align:text-bottom;overflow:visible"><path d="M8 9a1.5 1.5 0 1 0 0-3 1.5 1.5 0 0 0 0 3ZM1.5 9a1.5 1.5 0 1 0 0-3 1.5 1.5 0 0 0 0 3Zm13 0a1.5 1.5 0 1 0 0-3 1.5 1.5 0 0 0 0 3Z"></path></svg></button> </div></div><div class="Box-sc-g0xbh4-0 hSNzKh"><div class="Box-sc-g0xbh4-0 eTvGbF"><nav data-testid="breadcrumbs" aria-labelledby="repos-header-breadcrumb-mobile-heading" id="repos-header-breadcrumb-mobile" class="Box-sc-g0xbh4-0 kzRgrI"><h2 class="Heading__StyledHeading-sc-1c1dgg0-0 cgQnMS sr-only" data-testid="screen-reader-heading" id="repos-header-breadcrumb-mobile-heading">Breadcrumbs</h2><ol class="Box-sc-g0xbh4-0 cmAPIB"><li class="Box-sc-g0xbh4-0 jwXCBK"><a sx="[object Object]" data-testid="breadcrumbs-repo-link" class="Link__StyledLink-sc-14289xe-0 iJtJJh" href="/jnliou/project4/tree/sri">project4</a></li></ol></nav><div data-testid="breadcrumbs-filename" class="Box-sc-g0xbh4-0 jwXCBK"><span aria-hidden="true" class="Text-sc-17v1xeu-0 fWVgeN">/</span><h1 tabindex="-1" id="file-name-id-mobile" class="Heading__StyledHeading-sc-1c1dgg0-0 diwsLq">Various_models.ipynb</h1></div><button data-component="IconButton" type="button" aria-label="Copy path" data-testid="breadcrumb-copy-path-button" data-size="small" data-no-visuals="true" class="types__StyledButton-sc-ws60qy-0 dzga-dt"><svg aria-hidden="true" focusable="false" role="img" class="octicon octicon-copy" viewBox="0 0 16 16" width="16" height="16" fill="currentColor" style="display:inline-block;user-select:none;vertical-align:text-bottom;overflow:visible"><path d="M0 6.75C0 5.784.784 5 1.75 5h1.5a.75.75 0 0 1 0 1.5h-1.5a.25.25 0 0 0-.25.25v7.5c0 .138.112.25.25.25h7.5a.25.25 0 0 0 .25-.25v-1.5a.75.75 0 0 1 1.5 0v1.5A1.75 1.75 0 0 1 9.25 16h-7.5A1.75 1.75 0 0 1 0 14.25Z"></path><path d="M5 1.75C5 .784 5.784 0 6.75 0h7.5C15.216 0 16 .784 16 1.75v7.5A1.75 1.75 0 0 1 14.25 11h-7.5A1.75 1.75 0 0 1 5 9.25Zm1.75-.25a.25.25 0 0 0-.25.25v7.5c0 .138.112.25.25.25h7.5a.25.25 0 0 0 .25-.25v-7.5a.25.25 0 0 0-.25-.25Z"></path></svg></button></div></div></div></div><div id="StickyHeader" class="Box-sc-g0xbh4-0 bDwCYs react-code-view-header--wide"><div class="Box-sc-g0xbh4-0 fywjmm"><div class="Box-sc-g0xbh4-0 dyczTK"><div class="Box-sc-g0xbh4-0 kszRgZ"><div class="Box-sc-g0xbh4-0 eTvGbF"><nav data-testid="breadcrumbs" aria-labelledby="repos-header-breadcrumb-wide-heading" id="repos-header-breadcrumb-wide" class="Box-sc-g0xbh4-0 kzRgrI"><h2 class="Heading__StyledHeading-sc-1c1dgg0-0 cgQnMS sr-only" data-testid="screen-reader-heading" id="repos-header-breadcrumb-wide-heading">Breadcrumbs</h2><ol class="Box-sc-g0xbh4-0 cmAPIB"><li class="Box-sc-g0xbh4-0 jwXCBK"><a sx="[object Object]" data-testid="breadcrumbs-repo-link" class="Link__StyledLink-sc-14289xe-0 iJtJJh" href="/jnliou/project4/tree/sri">project4</a></li></ol></nav><div data-testid="breadcrumbs-filename" class="Box-sc-g0xbh4-0 jwXCBK"><span aria-hidden="true" class="Text-sc-17v1xeu-0 fWVgeN">/</span><h1 tabindex="-1" id="file-name-id-wide" class="Heading__StyledHeading-sc-1c1dgg0-0 diwsLq">Various_models.ipynb</h1></div><button data-component="IconButton" type="button" aria-label="Copy path" data-testid="breadcrumb-copy-path-button" data-size="small" data-no-visuals="true" class="types__StyledButton-sc-ws60qy-0 dzga-dt"><svg aria-hidden="true" focusable="false" role="img" class="octicon octicon-copy" viewBox="0 0 16 16" width="16" height="16" fill="currentColor" style="display:inline-block;user-select:none;vertical-align:text-bottom;overflow:visible"><path d="M0 6.75C0 5.784.784 5 1.75 5h1.5a.75.75 0 0 1 0 1.5h-1.5a.25.25 0 0 0-.25.25v7.5c0 .138.112.25.25.25h7.5a.25.25 0 0 0 .25-.25v-1.5a.75.75 0 0 1 1.5 0v1.5A1.75 1.75 0 0 1 9.25 16h-7.5A1.75 1.75 0 0 1 0 14.25Z"></path><path d="M5 1.75C5 .784 5.784 0 6.75 0h7.5C15.216 0 16 .784 16 1.75v7.5A1.75 1.75 0 0 1 14.25 11h-7.5A1.75 1.75 0 0 1 5 9.25Zm1.75-.25a.25.25 0 0 0-.25.25v7.5c0 .138.112.25.25.25h7.5a.25.25 0 0 0 .25-.25v-7.5a.25.25 0 0 0-.25-.25Z"></path></svg></button></div></div><div class="Box-sc-g0xbh4-0 gtBUEp"><div class="d-flex gap-2"> <button type="button" data-no-visuals="true" class="types__StyledButton-sc-ws60qy-0 hPOZTU"><span data-component="buttonContent" class="Box-sc-g0xbh4-0 kkrdEu"><span data-component="text">Blame</span></span></button><button hidden="" data-testid="" data-hotkey-scope="read-only-cursor-text-area"></button><button data-component="IconButton" type="button" aria-label="More file actions" class="types__StyledButton-sc-ws60qy-0 jcILRt js-blob-dropdown-click" title="More file actions" data-testid="more-file-actions-button" id=":R9pkqjal5:" aria-haspopup="true" tabindex="0" data-no-visuals="true"><svg aria-hidden="true" focusable="false" role="img" class="octicon octicon-kebab-horizontal" viewBox="0 0 16 16" width="16" height="16" fill="currentColor" style="display:inline-block;user-select:none;vertical-align:text-bottom;overflow:visible"><path d="M8 9a1.5 1.5 0 1 0 0-3 1.5 1.5 0 0 0 0 3ZM1.5 9a1.5 1.5 0 1 0 0-3 1.5 1.5 0 0 0 0 3Zm13 0a1.5 1.5 0 1 0 0-3 1.5 1.5 0 0 0 0 3Z"></path></svg></button> </div></div></div></div></div></div></div><div class="Box-sc-g0xbh4-0 MERGN react-code-view-bottom-padding"> <div class="Box-sc-g0xbh4-0 cMYnca"></div><div class="Box-sc-g0xbh4-0"></div> <!-- --> <!-- --> </div><div class="Box-sc-g0xbh4-0 MERGN"> <!-- --> <!-- --> <div class="Box-sc-g0xbh4-0 brFBoI"><div class="Box-sc-g0xbh4-0 eYedVD"><h2 class="Heading__StyledHeading-sc-1c1dgg0-0 cgQnMS sr-only" data-testid="screen-reader-heading">Latest commit</h2><div style="width:120px" class="Skeleton Skeleton--text" data-testid="loading"> </div><div class="Box-sc-g0xbh4-0 jGfYmh"><div data-testid="latest-commit-details" class="Box-sc-g0xbh4-0 lhFvfi"></div><h2 class="Heading__StyledHeading-sc-1c1dgg0-0 cgQnMS sr-only" data-testid="screen-reader-heading">History</h2><a aria-label="Commit history" class="types__StyledButton-sc-ws60qy-0 dWukOn react-last-commit-history-group" href="/jnliou/project4/commits/sri/Various_models.ipynb" data-size="small"><span data-component="buttonContent" class="Box-sc-g0xbh4-0 kkrdEu"><span data-component="leadingVisual" class="Box-sc-g0xbh4-0 trpoQ"><svg aria-hidden="true" focusable="false" role="img" class="octicon octicon-history" viewBox="0 0 16 16" width="16" height="16" fill="currentColor" style="display:inline-block;user-select:none;vertical-align:text-bottom;overflow:visible"><path d="m.427 1.927 1.215 1.215a8.002 8.002 0 1 1-1.6 5.685.75.75 0 1 1 1.493-.154 6.5 6.5 0 1 0 1.18-4.458l1.358 1.358A.25.25 0 0 1 3.896 6H.25A.25.25 0 0 1 0 5.75V2.104a.25.25 0 0 1 .427-.177ZM7.75 4a.75.75 0 0 1 .75.75v2.992l2.028.812a.75.75 0 0 1-.557 1.392l-2.5-1A.751.751 0 0 1 7 8.25v-3.5A.75.75 0 0 1 7.75 4Z"></path></svg></span><span data-component="text"><span class="Text-sc-17v1xeu-0 hfRvxg">History</span></span></span></a><div class="Box-sc-g0xbh4-0 bqgLjk"></div><span role="tooltip" aria-label="Commit history" class="Tooltip__TooltipBase-sc-uha8qm-0 fCnxTL tooltipped-n"><a aria-label="Commit history" class="types__StyledButton-sc-ws60qy-0 dWukOn react-last-commit-history-icon" href="/jnliou/project4/commits/sri/Various_models.ipynb"><span data-component="buttonContent" class="Box-sc-g0xbh4-0 kkrdEu"><span data-component="leadingVisual" class="Box-sc-g0xbh4-0 trpoQ"><svg aria-hidden="true" focusable="false" role="img" class="octicon octicon-history" viewBox="0 0 16 16" width="16" height="16" fill="currentColor" style="display:inline-block;user-select:none;vertical-align:text-bottom;overflow:visible"><path d="m.427 1.927 1.215 1.215a8.002 8.002 0 1 1-1.6 5.685.75.75 0 1 1 1.493-.154 6.5 6.5 0 1 0 1.18-4.458l1.358 1.358A.25.25 0 0 1 3.896 6H.25A.25.25 0 0 1 0 5.75V2.104a.25.25 0 0 1 .427-.177ZM7.75 4a.75.75 0 0 1 .75.75v2.992l2.028.812a.75.75 0 0 1-.557 1.392l-2.5-1A.751.751 0 0 1 7 8.25v-3.5A.75.75 0 0 1 7.75 4Z"></path></svg></span></span></a></span></div></div></div><div class="Box-sc-g0xbh4-0 iJmJly"><div class="Box-sc-g0xbh4-0 jACbi container"><div class="Box-sc-g0xbh4-0 bSdwWB react-code-size-details-banner"><div class="Box-sc-g0xbh4-0 fleZSW react-code-size-details-banner"><div class="Box-sc-g0xbh4-0 fOEJrA text-mono"><div title="144 KB" data-testid="blob-size" class="Truncate__StyledTruncate-sc-23o1d2-0 fUpWeN"><span class="Text-sc-17v1xeu-0 gPDEWA">3544 lines (3544 loc) · 144 KB</span></div></div></div><div class="Box-sc-g0xbh4-0 react-code-size-details-banner"><button type="button" id=":R2bqlajal5:" aria-haspopup="true" tabindex="0" data-testid="copilot-popover-button" data-size="small" class="types__StyledButton-sc-ws60qy-0 cuVVHm"><span data-component="buttonContent" class="Box-sc-g0xbh4-0 kkrdEu"><span data-component="leadingVisual" class="Box-sc-g0xbh4-0 trpoQ"><svg aria-hidden="true" focusable="false" role="img" class="octicon octicon-copilot" viewBox="0 0 16 16" width="16" height="16" fill="currentColor" style="display:inline-block;user-select:none;vertical-align:text-bottom;overflow:visible"><path d="M6.25 9a.75.75 0 0 1 .75.75v1.5a.75.75 0 0 1-1.5 0v-1.5A.75.75 0 0 1 6.25 9Zm4.25.75a.75.75 0 0 0-1.5 0v1.5a.75.75 0 0 0 1.5 0v-1.5Z"></path><path d="M7.86 1.77c.05.053.097.107.14.164.043-.057.09-.111.14-.164.681-.731 1.737-.9 2.943-.765 1.23.136 2.145.527 2.724 1.26.566.716.693 1.614.693 2.485 0 .572-.053 1.147-.254 1.655l.168.838.066.033A2.75 2.75 0 0 1 16 9.736V11c0 .24-.086.438-.156.567-.073.131-.16.253-.259.366-.18.21-.404.413-.605.58a10.19 10.19 0 0 1-.792.597l-.015.01-.006.004-.028.018a8.849 8.849 0 0 1-.456.281c-.307.177-.749.41-1.296.642C11.296 14.528 9.756 15 8 15c-1.756 0-3.296-.472-4.387-.935a12.28 12.28 0 0 1-1.296-.641 8.849 8.849 0 0 1-.456-.281l-.028-.02-.006-.003-.015-.01a10.593 10.593 0 0 1-.792-.596 5.264 5.264 0 0 1-.605-.58 2.133 2.133 0 0 1-.259-.367A1.189 1.189 0 0 1 0 11V9.736a2.75 2.75 0 0 1 1.52-2.46l.067-.033.167-.838C1.553 5.897 1.5 5.322 1.5 4.75c0-.87.127-1.77.693-2.485.579-.733 1.494-1.124 2.724-1.26 1.206-.134 2.262.034 2.944.765ZM3 7.824v4.261c.02.013.043.025.065.038.264.152.65.356 1.134.562.972.412 2.307.815 3.801.815 1.494 0 2.83-.403 3.8-.815.412-.174.813-.375 1.2-.6v-4.26l-.023-.116c-.49.21-1.075.291-1.727.291-1.146 0-2.06-.328-2.71-.991A3.233 3.233 0 0 1 8 6.266c-.144.269-.321.52-.54.743C6.81 7.672 5.896 8 4.75 8c-.652 0-1.236-.082-1.726-.291L3 7.824Zm6.237-5.031c-.204.218-.359.678-.242 1.614.091.726.303 1.23.618 1.553.299.304.784.54 1.638.54.922 0 1.28-.199 1.442-.38.179-.2.308-.578.308-1.37 0-.765-.123-1.242-.37-1.555-.233-.296-.693-.586-1.713-.7-1.044-.116-1.488.091-1.681.298Zm-2.472 0c-.193-.207-.637-.414-1.681-.298-1.02.114-1.48.404-1.713.7-.247.313-.37.79-.37 1.555 0 .792.129 1.17.308 1.37.162.181.52.38 1.442.38.854 0 1.339-.236 1.638-.54.315-.323.527-.827.618-1.553.117-.936-.038-1.396-.242-1.614Z"></path></svg></span><span data-component="text">Code 55% faster with GitHub Copilot</span></span></button></div></div><div class="Box-sc-g0xbh4-0 gBKNLX react-blob-view-header-sticky" id="repos-sticky-header"><div class="Box-sc-g0xbh4-0 ePiodO"><div class="Box-sc-g0xbh4-0 react-blob-sticky-header"><div class="Box-sc-g0xbh4-0 kQJlnf"><div class="Box-sc-g0xbh4-0 gJICKO"><div class="Box-sc-g0xbh4-0 iZJewz"><nav data-testid="breadcrumbs" aria-labelledby="sticky-breadcrumb-heading" id="sticky-breadcrumb" class="Box-sc-g0xbh4-0 kzRgrI"><h2 class="Heading__StyledHeading-sc-1c1dgg0-0 cgQnMS sr-only" data-testid="screen-reader-heading" id="sticky-breadcrumb-heading">Breadcrumbs</h2><ol class="Box-sc-g0xbh4-0 cmAPIB"><li class="Box-sc-g0xbh4-0 jwXCBK"><a sx="[object Object]" data-testid="breadcrumbs-repo-link" class="Link__StyledLink-sc-14289xe-0 iJtJJh" href="/jnliou/project4/tree/sri">project4</a></li></ol></nav><div data-testid="breadcrumbs-filename" class="Box-sc-g0xbh4-0 jwXCBK"><span aria-hidden="true" class="Text-sc-17v1xeu-0 iqTHmv">/</span><h1 tabindex="-1" id="sticky-file-name-id" class="Heading__StyledHeading-sc-1c1dgg0-0 jAEDJk">Various_models.ipynb</h1></div></div><button type="button" data-size="small" class="types__StyledButton-sc-ws60qy-0 kGDoCG"><span data-component="buttonContent" class="Box-sc-g0xbh4-0 kkrdEu"><span data-component="leadingVisual" class="Box-sc-g0xbh4-0 trpoQ"><svg aria-hidden="true" focusable="false" role="img" class="octicon octicon-arrow-up" viewBox="0 0 16 16" width="16" height="16" fill="currentColor" style="display:inline-block;user-select:none;vertical-align:text-bottom;overflow:visible"><path d="M3.47 7.78a.75.75 0 0 1 0-1.06l4.25-4.25a.75.75 0 0 1 1.06 0l4.25 4.25a.751.751 0 0 1-.018 1.042.751.751 0 0 1-1.042.018L9 4.81v7.44a.75.75 0 0 1-1.5 0V4.81L4.53 7.78a.75.75 0 0 1-1.06 0Z"></path></svg></span><span data-component="text">Top</span></span></button></div></div></div><div class="Box-sc-g0xbh4-0 bESQXL"><h2 class="Heading__StyledHeading-sc-1c1dgg0-0 cgQnMS sr-only" data-testid="screen-reader-heading">File metadata and controls</h2><div class="Box-sc-g0xbh4-0 bfkNRF"><ul aria-label="File view" class="SegmentedControl__SegmentedControlList-sc-1rzig82-0 ivYJSK"><li class="Box-sc-g0xbh4-0 fXBLEV"><button aria-current="true" class="SegmentedControlButton__SegmentedControlButtonStyled-sc-8lkgxl-0 gKuCoB"><span class="segmentedControl-content"><div class="Box-sc-g0xbh4-0 segmentedControl-text">Preview</div></span></button></li><li class="Box-sc-g0xbh4-0 gbKtit"><button aria-current="false" class="SegmentedControlButton__SegmentedControlButtonStyled-sc-8lkgxl-0 fCAAcl"><span class="segmentedControl-content"><div class="Box-sc-g0xbh4-0 segmentedControl-text">Code</div></span></button></li><li class="Box-sc-g0xbh4-0 gbKtit"><button aria-current="false" class="SegmentedControlButton__SegmentedControlButtonStyled-sc-8lkgxl-0 dAXkSP"><span class="segmentedControl-content"><div class="Box-sc-g0xbh4-0 segmentedControl-text">Blame</div></span></button></li></ul><button hidden="" data-testid="" data-hotkey-scope="read-only-cursor-text-area"></button><button hidden="" data-testid="" data-hotkey-scope="read-only-cursor-text-area"></button><button hidden="" data-testid="" data-hotkey-scope="read-only-cursor-text-area"></button><div class="Box-sc-g0xbh4-0 fleZSW react-code-size-details-in-header"><div class="Box-sc-g0xbh4-0 fOEJrA text-mono"><div title="144 KB" data-testid="blob-size" class="Truncate__StyledTruncate-sc-23o1d2-0 fUpWeN"><span class="Text-sc-17v1xeu-0 gPDEWA">3544 lines (3544 loc) · 144 KB</span></div></div></div><div class="Box-sc-g0xbh4-0 react-code-size-details-in-header"><button type="button" id=":R79jqlajal5:" aria-haspopup="true" tabindex="0" data-testid="copilot-popover-button" data-size="small" class="types__StyledButton-sc-ws60qy-0 cuVVHm"><span data-component="buttonContent" class="Box-sc-g0xbh4-0 kkrdEu"><span data-component="leadingVisual" class="Box-sc-g0xbh4-0 trpoQ"><svg aria-hidden="true" focusable="false" role="img" class="octicon octicon-copilot" viewBox="0 0 16 16" width="16" height="16" fill="currentColor" style="display:inline-block;user-select:none;vertical-align:text-bottom;overflow:visible"><path d="M6.25 9a.75.75 0 0 1 .75.75v1.5a.75.75 0 0 1-1.5 0v-1.5A.75.75 0 0 1 6.25 9Zm4.25.75a.75.75 0 0 0-1.5 0v1.5a.75.75 0 0 0 1.5 0v-1.5Z"></path><path d="M7.86 1.77c.05.053.097.107.14.164.043-.057.09-.111.14-.164.681-.731 1.737-.9 2.943-.765 1.23.136 2.145.527 2.724 1.26.566.716.693 1.614.693 2.485 0 .572-.053 1.147-.254 1.655l.168.838.066.033A2.75 2.75 0 0 1 16 9.736V11c0 .24-.086.438-.156.567-.073.131-.16.253-.259.366-.18.21-.404.413-.605.58a10.19 10.19 0 0 1-.792.597l-.015.01-.006.004-.028.018a8.849 8.849 0 0 1-.456.281c-.307.177-.749.41-1.296.642C11.296 14.528 9.756 15 8 15c-1.756 0-3.296-.472-4.387-.935a12.28 12.28 0 0 1-1.296-.641 8.849 8.849 0 0 1-.456-.281l-.028-.02-.006-.003-.015-.01a10.593 10.593 0 0 1-.792-.596 5.264 5.264 0 0 1-.605-.58 2.133 2.133 0 0 1-.259-.367A1.189 1.189 0 0 1 0 11V9.736a2.75 2.75 0 0 1 1.52-2.46l.067-.033.167-.838C1.553 5.897 1.5 5.322 1.5 4.75c0-.87.127-1.77.693-2.485.579-.733 1.494-1.124 2.724-1.26 1.206-.134 2.262.034 2.944.765ZM3 7.824v4.261c.02.013.043.025.065.038.264.152.65.356 1.134.562.972.412 2.307.815 3.801.815 1.494 0 2.83-.403 3.8-.815.412-.174.813-.375 1.2-.6v-4.26l-.023-.116c-.49.21-1.075.291-1.727.291-1.146 0-2.06-.328-2.71-.991A3.233 3.233 0 0 1 8 6.266c-.144.269-.321.52-.54.743C6.81 7.672 5.896 8 4.75 8c-.652 0-1.236-.082-1.726-.291L3 7.824Zm6.237-5.031c-.204.218-.359.678-.242 1.614.091.726.303 1.23.618 1.553.299.304.784.54 1.638.54.922 0 1.28-.199 1.442-.38.179-.2.308-.578.308-1.37 0-.765-.123-1.242-.37-1.555-.233-.296-.693-.586-1.713-.7-1.044-.116-1.488.091-1.681.298Zm-2.472 0c-.193-.207-.637-.414-1.681-.298-1.02.114-1.48.404-1.713.7-.247.313-.37.79-.37 1.555 0 .792.129 1.17.308 1.37.162.181.52.38 1.442.38.854 0 1.339-.236 1.638-.54.315-.323.527-.827.618-1.553.117-.936-.038-1.396-.242-1.614Z"></path></svg></span><span data-component="text">Code 55% faster with GitHub Copilot</span></span></button></div></div><div class="Box-sc-g0xbh4-0 iBylDf"><div class="Box-sc-g0xbh4-0 kSGBPx react-blob-header-edit-and-raw-actions"><div class="ButtonGroup-sc-1gxhls1-0 cjbBGq"><a href="https://github.com/jnliou/project4/raw/sri/Various_models.ipynb" data-testid="raw-button" data-size="small" data-no-visuals="true" class="types__StyledButton-sc-ws60qy-0 hHvcfT"><span data-component="buttonContent" class="Box-sc-g0xbh4-0 kkrdEu"><span data-component="text">Raw</span></span></a><button data-component="IconButton" type="button" aria-label="Copy raw content" data-testid="copy-raw-button" data-size="small" data-no-visuals="true" class="types__StyledButton-sc-ws60qy-0 kCdBku"><svg aria-hidden="true" focusable="false" role="img" class="octicon octicon-copy" viewBox="0 0 16 16" width="16" height="16" fill="currentColor" style="display:inline-block;user-select:none;vertical-align:text-bottom;overflow:visible"><path d="M0 6.75C0 5.784.784 5 1.75 5h1.5a.75.75 0 0 1 0 1.5h-1.5a.25.25 0 0 0-.25.25v7.5c0 .138.112.25.25.25h7.5a.25.25 0 0 0 .25-.25v-1.5a.75.75 0 0 1 1.5 0v1.5A1.75 1.75 0 0 1 9.25 16h-7.5A1.75 1.75 0 0 1 0 14.25Z"></path><path d="M5 1.75C5 .784 5.784 0 6.75 0h7.5C15.216 0 16 .784 16 1.75v7.5A1.75 1.75 0 0 1 14.25 11h-7.5A1.75 1.75 0 0 1 5 9.25Zm1.75-.25a.25.25 0 0 0-.25.25v7.5c0 .138.112.25.25.25h7.5a.25.25 0 0 0 .25-.25v-7.5a.25.25 0 0 0-.25-.25Z"></path></svg></button><span role="tooltip" aria-label="Download raw file" class="Tooltip__TooltipBase-sc-uha8qm-0 fCnxTL tooltipped-n"><button data-component="IconButton" type="button" aria-label="Download raw content" data-testid="download-raw-button" data-size="small" data-no-visuals="true" class="types__StyledButton-sc-ws60qy-0 jcdBXR"><svg aria-hidden="true" focusable="false" role="img" class="octicon octicon-download" viewBox="0 0 16 16" width="16" height="16" fill="currentColor" style="display:inline-block;user-select:none;vertical-align:text-bottom;overflow:visible"><path d="M2.75 14A1.75 1.75 0 0 1 1 12.25v-2.5a.75.75 0 0 1 1.5 0v2.5c0 .138.112.25.25.25h10.5a.25.25 0 0 0 .25-.25v-2.5a.75.75 0 0 1 1.5 0v2.5A1.75 1.75 0 0 1 13.25 14Z"></path><path d="M7.25 7.689V2a.75.75 0 0 1 1.5 0v5.689l1.97-1.969a.749.749 0 1 1 1.06 1.06l-3.25 3.25a.749.749 0 0 1-1.06 0L4.22 6.78a.749.749 0 1 1 1.06-1.06l1.97 1.969Z"></path></svg></button></span></div><button hidden="" data-testid="raw-button-shortcut" data-hotkey-scope="read-only-cursor-text-area"></button><button hidden="" data-testid="copy-raw-button-shortcut" data-hotkey-scope="read-only-cursor-text-area"></button><button hidden="" data-testid="download-raw-button-shortcut" data-hotkey-scope="read-only-cursor-text-area"></button><a class="Link__StyledLink-sc-14289xe-0 bJBoUI js-github-dev-shortcut d-none" href="https://github.dev/"></a><button hidden="" data-testid="" data-hotkey-scope="read-only-cursor-text-area"></button><a class="Link__StyledLink-sc-14289xe-0 bJBoUI js-github-dev-new-tab-shortcut d-none" href="https://github.dev/" target="_blank"></a><button hidden="" data-testid="" data-hotkey-scope="read-only-cursor-text-area"></button><div class="ButtonGroup-sc-1gxhls1-0 cjbBGq"><span role="tooltip" aria-label="Edit this file" class="Tooltip__TooltipBase-sc-uha8qm-0 fCnxTL tooltipped-nw"><a sx="[object Object]" data-component="IconButton" type="button" aria-label="Edit file" data-testid="edit-button" data-size="small" data-no-visuals="true" class="types__StyledButton-sc-ws60qy-0 bpoOwX" href="/jnliou/project4/edit/sri/Various_models.ipynb"><svg aria-hidden="true" focusable="false" role="img" class="octicon octicon-pencil" viewBox="0 0 16 16" width="16" height="16" fill="currentColor" style="display:inline-block;user-select:none;vertical-align:text-bottom;overflow:visible"><path d="M11.013 1.427a1.75 1.75 0 0 1 2.474 0l1.086 1.086a1.75 1.75 0 0 1 0 2.474l-8.61 8.61c-.21.21-.47.364-.756.445l-3.251.93a.75.75 0 0 1-.927-.928l.929-3.25c.081-.286.235-.547.445-.758l8.61-8.61Zm.176 4.823L9.75 4.81l-6.286 6.287a.253.253 0 0 0-.064.108l-.558 1.953 1.953-.558a.253.253 0 0 0 .108-.064Zm1.238-3.763a.25.25 0 0 0-.354 0L10.811 3.75l1.439 1.44 1.263-1.263a.25.25 0 0 0 0-.354Z"></path></svg></a></span><button data-component="IconButton" type="button" aria-label="More edit options" data-testid="more-edit-button" id=":Rl7pjqlajal5:" aria-haspopup="true" tabindex="0" data-size="small" data-no-visuals="true" class="types__StyledButton-sc-ws60qy-0 kCdBku"><svg aria-hidden="true" focusable="false" role="img" class="octicon octicon-triangle-down" viewBox="0 0 16 16" width="16" height="16" fill="currentColor" style="display:inline-block;user-select:none;vertical-align:text-bottom;overflow:visible"><path d="m4.427 7.427 3.396 3.396a.25.25 0 0 0 .354 0l3.396-3.396A.25.25 0 0 0 11.396 7H4.604a.25.25 0 0 0-.177.427Z"></path></svg></button></div><button hidden="" data-testid="" data-hotkey="e,E" data-hotkey-scope="read-only-cursor-text-area"></button></div><div class="Box-sc-g0xbh4-0 react-blob-header-edit-and-raw-actions-combined"><button data-component="IconButton" type="button" aria-label="Edit and raw actions" class="types__StyledButton-sc-ws60qy-0 jYfgHQ js-blob-dropdown-click" title="More file actions" data-testid="more-file-actions-button" id=":R1dpjqlajal5:" aria-haspopup="true" tabindex="0" data-size="small" data-no-visuals="true"><svg aria-hidden="true" focusable="false" role="img" class="octicon octicon-kebab-horizontal" viewBox="0 0 16 16" width="16" height="16" fill="currentColor" style="display:inline-block;user-select:none;vertical-align:text-bottom;overflow:visible"><path d="M8 9a1.5 1.5 0 1 0 0-3 1.5 1.5 0 0 0 0 3ZM1.5 9a1.5 1.5 0 1 0 0-3 1.5 1.5 0 0 0 0 3Zm13 0a1.5 1.5 0 1 0 0-3 1.5 1.5 0 0 0 0 3Z"></path></svg></button></div></div></div></div><div class="Box-sc-g0xbh4-0"></div></div><div class="Box-sc-g0xbh4-0 etfROT"><section aria-labelledby="file-name-id-wide file-name-id-mobile" class="Box-sc-g0xbh4-0 eJsjkT"><!--$!--><template></template><div data-testid="suspense-spinner" class="Box-sc-g0xbh4-0 bAzdCq"><svg height="32px" width="32px" viewBox="0 0 16 16" fill="none" aria-label="Loading" class="Spinner__StyledSpinner-sc-1knt686-0 hPEVNM"><circle cx="8" cy="8" r="7" stroke="currentColor" stroke-opacity="0.25" stroke-width="2" vector-effect="non-scaling-stroke"></circle><path d="M15 8a7.002 7.002 0 00-7-7" stroke="currentColor" stroke-width="2" stroke-linecap="round" vector-effect="non-scaling-stroke"></path></svg></div><!--/$--></section></div></div></div> <!-- --> <!-- --> </div></div></div><div class="Box-sc-g0xbh4-0"></div></main></div></div></div><div id="find-result-marks-container" class="Box-sc-g0xbh4-0 aZrVR"></div><button hidden="" data-testid="" data-hotkey-scope="read-only-cursor-text-area"></button><button hidden=""></button></div> <!-- --> <!-- --> <!-- --> <script type="application/json" id="__PRIMER_DATA__">{"resolvedServerColorMode":"night"}</script></div>
</react-app>
</turbo-frame>



  </div>

</turbo-frame>

    </main>
  </div>

  </div>

          <footer class="footer width-full container-xl p-responsive" role="contentinfo">
  <h2 class='sr-only'>Footer</h2>

  <div class="position-relative d-flex flex-items-center pb-2 f6 color-fg-muted border-top color-border-muted flex-column-reverse flex-lg-row flex-wrap flex-lg-nowrap mt-6 pt-6">
    <div class="list-style-none d-flex flex-wrap col-0 col-lg-2 flex-justify-start flex-lg-justify-between mb-2 mb-lg-0">
      <div class="mt-2 mt-lg-0 d-flex flex-items-center">
        <a aria-label="Homepage" title="GitHub" class="footer-octicon mr-2" href="https://github.com">
          <svg aria-hidden="true" height="24" viewBox="0 0 16 16" version="1.1" width="24" data-view-component="true" class="octicon octicon-mark-github">
    <path d="M8 0c4.42 0 8 3.58 8 8a8.013 8.013 0 0 1-5.45 7.59c-.4.08-.55-.17-.55-.38 0-.27.01-1.13.01-2.2 0-.75-.25-1.23-.54-1.48 1.78-.2 3.65-.88 3.65-3.95 0-.88-.31-1.59-.82-2.15.08-.2.36-1.02-.08-2.12 0 0-.67-.22-2.2.82-.64-.18-1.32-.27-2-.27-.68 0-1.36.09-2 .27-1.53-1.03-2.2-.82-2.2-.82-.44 1.1-.16 1.92-.08 2.12-.51.56-.82 1.28-.82 2.15 0 3.06 1.86 3.75 3.64 3.95-.23.2-.44.55-.51 1.07-.46.21-1.61.55-2.33-.66-.15-.24-.6-.83-1.23-.82-.67.01-.27.38.01.53.34.19.73.9.82 1.13.16.45.68 1.31 2.69.94 0 .67.01 1.3.01 1.49 0 .21-.15.45-.55.38A7.995 7.995 0 0 1 0 8c0-4.42 3.58-8 8-8Z"></path>
</svg>
</a>        <span>
        &copy; 2023 GitHub, Inc.
        </span>
      </div>
    </div>

    <nav aria-label='Footer' class="col-12 col-lg-8">
      <h3 class='sr-only' id='sr-footer-heading'>Footer navigation</h3>
      <ul class="list-style-none d-flex flex-wrap col-12 flex-justify-center flex-lg-justify-between mb-2 mb-lg-0" aria-labelledby='sr-footer-heading'>
          <li class="mr-3 mr-lg-0"><a href="https://docs.github.com/site-policy/github-terms/github-terms-of-service" data-analytics-event="{&quot;category&quot;:&quot;Footer&quot;,&quot;action&quot;:&quot;go to terms&quot;,&quot;label&quot;:&quot;text:terms&quot;}">Terms</a></li>
          <li class="mr-3 mr-lg-0"><a href="https://docs.github.com/site-policy/privacy-policies/github-privacy-statement" data-analytics-event="{&quot;category&quot;:&quot;Footer&quot;,&quot;action&quot;:&quot;go to privacy&quot;,&quot;label&quot;:&quot;text:privacy&quot;}">Privacy</a></li>
          <li class="mr-3 mr-lg-0"><a data-analytics-event="{&quot;category&quot;:&quot;Footer&quot;,&quot;action&quot;:&quot;go to security&quot;,&quot;label&quot;:&quot;text:security&quot;}" href="https://github.com/security">Security</a></li>
          <li class="mr-3 mr-lg-0"><a href="https://www.githubstatus.com/" data-analytics-event="{&quot;category&quot;:&quot;Footer&quot;,&quot;action&quot;:&quot;go to status&quot;,&quot;label&quot;:&quot;text:status&quot;}">Status</a></li>
          <li class="mr-3 mr-lg-0"><a data-ga-click="Footer, go to help, text:Docs" href="https://docs.github.com">Docs</a></li>
          <li class="mr-3 mr-lg-0"><a href="https://support.github.com?tags=dotcom-footer" data-analytics-event="{&quot;category&quot;:&quot;Footer&quot;,&quot;action&quot;:&quot;go to contact&quot;,&quot;label&quot;:&quot;text:contact&quot;}">Contact GitHub</a></li>
          <li class="mr-3 mr-lg-0"><a href="https://github.com/pricing" data-analytics-event="{&quot;category&quot;:&quot;Footer&quot;,&quot;action&quot;:&quot;go to Pricing&quot;,&quot;label&quot;:&quot;text:Pricing&quot;}">Pricing</a></li>
        <li class="mr-3 mr-lg-0"><a href="https://docs.github.com" data-analytics-event="{&quot;category&quot;:&quot;Footer&quot;,&quot;action&quot;:&quot;go to api&quot;,&quot;label&quot;:&quot;text:api&quot;}">API</a></li>
        <li class="mr-3 mr-lg-0"><a href="https://services.github.com" data-analytics-event="{&quot;category&quot;:&quot;Footer&quot;,&quot;action&quot;:&quot;go to training&quot;,&quot;label&quot;:&quot;text:training&quot;}">Training</a></li>
          <li class="mr-3 mr-lg-0"><a href="https://github.blog" data-analytics-event="{&quot;category&quot;:&quot;Footer&quot;,&quot;action&quot;:&quot;go to blog&quot;,&quot;label&quot;:&quot;text:blog&quot;}">Blog</a></li>
          <li><a data-ga-click="Footer, go to about, text:about" href="https://github.com/about">About</a></li>
      </ul>
    </nav>
  </div>

  <div class="d-flex flex-justify-center pb-6">
    <span class="f6 color-fg-muted"></span>
  </div>
</footer>




  <div id="ajax-error-message" class="ajax-error-message flash flash-error" hidden>
    <svg aria-hidden="true" height="16" viewBox="0 0 16 16" version="1.1" width="16" data-view-component="true" class="octicon octicon-alert">
    <path d="M6.457 1.047c.659-1.234 2.427-1.234 3.086 0l6.082 11.378A1.75 1.75 0 0 1 14.082 15H1.918a1.75 1.75 0 0 1-1.543-2.575Zm1.763.707a.25.25 0 0 0-.44 0L1.698 13.132a.25.25 0 0 0 .22.368h12.164a.25.25 0 0 0 .22-.368Zm.53 3.996v2.5a.75.75 0 0 1-1.5 0v-2.5a.75.75 0 0 1 1.5 0ZM9 11a1 1 0 1 1-2 0 1 1 0 0 1 2 0Z"></path>
</svg>
    <button type="button" class="flash-close js-ajax-error-dismiss" aria-label="Dismiss error">
      <svg aria-hidden="true" height="16" viewBox="0 0 16 16" version="1.1" width="16" data-view-component="true" class="octicon octicon-x">
    <path d="M3.72 3.72a.75.75 0 0 1 1.06 0L8 6.94l3.22-3.22a.749.749 0 0 1 1.275.326.749.749 0 0 1-.215.734L9.06 8l3.22 3.22a.749.749 0 0 1-.326 1.275.749.749 0 0 1-.734-.215L8 9.06l-3.22 3.22a.751.751 0 0 1-1.042-.018.751.751 0 0 1-.018-1.042L6.94 8 3.72 4.78a.75.75 0 0 1 0-1.06Z"></path>
</svg>
    </button>
    You can’t perform that action at this time.
  </div>

    <template id="site-details-dialog">
  <details class="details-reset details-overlay details-overlay-dark lh-default color-fg-default hx_rsm" open>
    <summary role="button" aria-label="Close dialog"></summary>
    <details-dialog class="Box Box--overlay d-flex flex-column anim-fade-in fast hx_rsm-dialog hx_rsm-modal">
      <button class="Box-btn-octicon m-0 btn-octicon position-absolute right-0 top-0" type="button" aria-label="Close dialog" data-close-dialog>
        <svg aria-hidden="true" height="16" viewBox="0 0 16 16" version="1.1" width="16" data-view-component="true" class="octicon octicon-x">
    <path d="M3.72 3.72a.75.75 0 0 1 1.06 0L8 6.94l3.22-3.22a.749.749 0 0 1 1.275.326.749.749 0 0 1-.215.734L9.06 8l3.22 3.22a.749.749 0 0 1-.326 1.275.749.749 0 0 1-.734-.215L8 9.06l-3.22 3.22a.751.751 0 0 1-1.042-.018.751.751 0 0 1-.018-1.042L6.94 8 3.72 4.78a.75.75 0 0 1 0-1.06Z"></path>
</svg>
      </button>
      <div class="octocat-spinner my-6 js-details-dialog-spinner"></div>
    </details-dialog>
  </details>
</template>

    <div class="Popover js-hovercard-content position-absolute" style="display: none; outline: none;" tabindex="0">
  <div class="Popover-message Popover-message--bottom-left Popover-message--large Box color-shadow-large" style="width:360px;">
  </div>
</div>

    <template id="snippet-clipboard-copy-button">
  <div class="zeroclipboard-container position-absolute right-0 top-0">
    <clipboard-copy aria-label="Copy" class="ClipboardButton btn js-clipboard-copy m-2 p-0 tooltipped-no-delay" data-copy-feedback="Copied!" data-tooltip-direction="w">
      <svg aria-hidden="true" height="16" viewBox="0 0 16 16" version="1.1" width="16" data-view-component="true" class="octicon octicon-copy js-clipboard-copy-icon m-2">
    <path d="M0 6.75C0 5.784.784 5 1.75 5h1.5a.75.75 0 0 1 0 1.5h-1.5a.25.25 0 0 0-.25.25v7.5c0 .138.112.25.25.25h7.5a.25.25 0 0 0 .25-.25v-1.5a.75.75 0 0 1 1.5 0v1.5A1.75 1.75 0 0 1 9.25 16h-7.5A1.75 1.75 0 0 1 0 14.25Z"></path><path d="M5 1.75C5 .784 5.784 0 6.75 0h7.5C15.216 0 16 .784 16 1.75v7.5A1.75 1.75 0 0 1 14.25 11h-7.5A1.75 1.75 0 0 1 5 9.25Zm1.75-.25a.25.25 0 0 0-.25.25v7.5c0 .138.112.25.25.25h7.5a.25.25 0 0 0 .25-.25v-7.5a.25.25 0 0 0-.25-.25Z"></path>
</svg>
      <svg aria-hidden="true" height="16" viewBox="0 0 16 16" version="1.1" width="16" data-view-component="true" class="octicon octicon-check js-clipboard-check-icon color-fg-success d-none m-2">
    <path d="M13.78 4.22a.75.75 0 0 1 0 1.06l-7.25 7.25a.75.75 0 0 1-1.06 0L2.22 9.28a.751.751 0 0 1 .018-1.042.751.751 0 0 1 1.042-.018L6 10.94l6.72-6.72a.75.75 0 0 1 1.06 0Z"></path>
</svg>
    </clipboard-copy>
  </div>
</template>
<template id="snippet-clipboard-copy-button-unpositioned">
  <div class="zeroclipboard-container">
    <clipboard-copy aria-label="Copy" class="ClipboardButton btn btn-invisible js-clipboard-copy m-2 p-0 tooltipped-no-delay d-flex flex-justify-center flex-items-center" data-copy-feedback="Copied!" data-tooltip-direction="w">
      <svg aria-hidden="true" height="16" viewBox="0 0 16 16" version="1.1" width="16" data-view-component="true" class="octicon octicon-copy js-clipboard-copy-icon">
    <path d="M0 6.75C0 5.784.784 5 1.75 5h1.5a.75.75 0 0 1 0 1.5h-1.5a.25.25 0 0 0-.25.25v7.5c0 .138.112.25.25.25h7.5a.25.25 0 0 0 .25-.25v-1.5a.75.75 0 0 1 1.5 0v1.5A1.75 1.75 0 0 1 9.25 16h-7.5A1.75 1.75 0 0 1 0 14.25Z"></path><path d="M5 1.75C5 .784 5.784 0 6.75 0h7.5C15.216 0 16 .784 16 1.75v7.5A1.75 1.75 0 0 1 14.25 11h-7.5A1.75 1.75 0 0 1 5 9.25Zm1.75-.25a.25.25 0 0 0-.25.25v7.5c0 .138.112.25.25.25h7.5a.25.25 0 0 0 .25-.25v-7.5a.25.25 0 0 0-.25-.25Z"></path>
</svg>
      <svg aria-hidden="true" height="16" viewBox="0 0 16 16" version="1.1" width="16" data-view-component="true" class="octicon octicon-check js-clipboard-check-icon color-fg-success d-none">
    <path d="M13.78 4.22a.75.75 0 0 1 0 1.06l-7.25 7.25a.75.75 0 0 1-1.06 0L2.22 9.28a.751.751 0 0 1 .018-1.042.751.751 0 0 1 1.042-.018L6 10.94l6.72-6.72a.75.75 0 0 1 1.06 0Z"></path>
</svg>
    </clipboard-copy>
  </div>
</template>


    <style>
      .user-mention[href$="/srinivasj1987"] {
        color: var(--color-user-mention-fg);
        background-color: var(--color-user-mention-bg);
        border-radius: 2px;
        margin-left: -2px;
        margin-right: -2px;
        padding: 0 2px;
      }
    </style>


    </div>

    <div id="js-global-screen-reader-notice" class="sr-only" aria-live="polite" ></div>
  </body>
</html>

